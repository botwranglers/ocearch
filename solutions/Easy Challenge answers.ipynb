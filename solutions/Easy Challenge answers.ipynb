{
 "cells": [
  {
   "cell_type": "markdown",
   "metadata": {},
   "source": [
    "### Challenge questions\n",
    "\n",
    "Easy questions:\n",
    "\n",
    " 1. How many total pings are in the Ocearch data?\n",
    " 2. How many unique species of sharks are in the data set?\n",
    " 3. What is the name of the heaviest shark, how heavy is it?\n",
    " 4. What is the name of the longest shark, how long is it?\n",
    " 5. When and where was the very first ping?\n"
   ]
  },
  {
   "cell_type": "markdown",
   "metadata": {},
   "source": [
    "### Answers"
   ]
  },
  {
   "cell_type": "code",
   "execution_count": 1,
   "metadata": {
    "ExecuteTime": {
     "end_time": "2019-02-17T19:52:54.683992Z",
     "start_time": "2019-02-17T19:52:54.181155Z"
    }
   },
   "outputs": [
    {
     "data": {
      "text/html": [
       "<div>\n",
       "<style scoped>\n",
       "    .dataframe tbody tr th:only-of-type {\n",
       "        vertical-align: middle;\n",
       "    }\n",
       "\n",
       "    .dataframe tbody tr th {\n",
       "        vertical-align: top;\n",
       "    }\n",
       "\n",
       "    .dataframe thead th {\n",
       "        text-align: right;\n",
       "    }\n",
       "</style>\n",
       "<table border=\"1\" class=\"dataframe\">\n",
       "  <thead>\n",
       "    <tr style=\"text-align: right;\">\n",
       "      <th></th>\n",
       "      <th>active</th>\n",
       "      <th>datetime</th>\n",
       "      <th>id</th>\n",
       "      <th>latitude</th>\n",
       "      <th>longitude</th>\n",
       "      <th>name</th>\n",
       "      <th>gender</th>\n",
       "      <th>species</th>\n",
       "      <th>weight</th>\n",
       "      <th>length</th>\n",
       "      <th>tagDate</th>\n",
       "      <th>dist_total</th>\n",
       "    </tr>\n",
       "  </thead>\n",
       "  <tbody>\n",
       "    <tr>\n",
       "      <th>0</th>\n",
       "      <td>1</td>\n",
       "      <td>2014-07-06 04:57:28</td>\n",
       "      <td>3</td>\n",
       "      <td>-34.606610</td>\n",
       "      <td>21.152440</td>\n",
       "      <td>Oprah</td>\n",
       "      <td>Female</td>\n",
       "      <td>White Shark (Carcharodon carcharias)</td>\n",
       "      <td>686.0</td>\n",
       "      <td>118.0</td>\n",
       "      <td>7 March 2012</td>\n",
       "      <td>2816.662</td>\n",
       "    </tr>\n",
       "    <tr>\n",
       "      <th>1</th>\n",
       "      <td>1</td>\n",
       "      <td>2014-06-23 02:40:09</td>\n",
       "      <td>3</td>\n",
       "      <td>-34.787520</td>\n",
       "      <td>19.424790</td>\n",
       "      <td>Oprah</td>\n",
       "      <td>Female</td>\n",
       "      <td>White Shark (Carcharodon carcharias)</td>\n",
       "      <td>686.0</td>\n",
       "      <td>118.0</td>\n",
       "      <td>7 March 2012</td>\n",
       "      <td>2816.662</td>\n",
       "    </tr>\n",
       "    <tr>\n",
       "      <th>2</th>\n",
       "      <td>1</td>\n",
       "      <td>2014-06-15 13:15:44</td>\n",
       "      <td>3</td>\n",
       "      <td>-34.424870</td>\n",
       "      <td>21.097540</td>\n",
       "      <td>Oprah</td>\n",
       "      <td>Female</td>\n",
       "      <td>White Shark (Carcharodon carcharias)</td>\n",
       "      <td>686.0</td>\n",
       "      <td>118.0</td>\n",
       "      <td>7 March 2012</td>\n",
       "      <td>2816.662</td>\n",
       "    </tr>\n",
       "    <tr>\n",
       "      <th>3</th>\n",
       "      <td>1</td>\n",
       "      <td>2014-06-03 02:23:57</td>\n",
       "      <td>3</td>\n",
       "      <td>-34.704323</td>\n",
       "      <td>20.210134</td>\n",
       "      <td>Oprah</td>\n",
       "      <td>Female</td>\n",
       "      <td>White Shark (Carcharodon carcharias)</td>\n",
       "      <td>686.0</td>\n",
       "      <td>118.0</td>\n",
       "      <td>7 March 2012</td>\n",
       "      <td>2816.662</td>\n",
       "    </tr>\n",
       "    <tr>\n",
       "      <th>4</th>\n",
       "      <td>1</td>\n",
       "      <td>2014-05-28 19:53:57</td>\n",
       "      <td>3</td>\n",
       "      <td>-34.655560</td>\n",
       "      <td>19.374590</td>\n",
       "      <td>Oprah</td>\n",
       "      <td>Female</td>\n",
       "      <td>White Shark (Carcharodon carcharias)</td>\n",
       "      <td>686.0</td>\n",
       "      <td>118.0</td>\n",
       "      <td>7 March 2012</td>\n",
       "      <td>2816.662</td>\n",
       "    </tr>\n",
       "  </tbody>\n",
       "</table>\n",
       "</div>"
      ],
      "text/plain": [
       "   active             datetime  id   latitude  longitude   name  gender  \\\n",
       "0       1  2014-07-06 04:57:28   3 -34.606610  21.152440  Oprah  Female   \n",
       "1       1  2014-06-23 02:40:09   3 -34.787520  19.424790  Oprah  Female   \n",
       "2       1  2014-06-15 13:15:44   3 -34.424870  21.097540  Oprah  Female   \n",
       "3       1  2014-06-03 02:23:57   3 -34.704323  20.210134  Oprah  Female   \n",
       "4       1  2014-05-28 19:53:57   3 -34.655560  19.374590  Oprah  Female   \n",
       "\n",
       "                                species  weight  length       tagDate  \\\n",
       "0  White Shark (Carcharodon carcharias)   686.0   118.0  7 March 2012   \n",
       "1  White Shark (Carcharodon carcharias)   686.0   118.0  7 March 2012   \n",
       "2  White Shark (Carcharodon carcharias)   686.0   118.0  7 March 2012   \n",
       "3  White Shark (Carcharodon carcharias)   686.0   118.0  7 March 2012   \n",
       "4  White Shark (Carcharodon carcharias)   686.0   118.0  7 March 2012   \n",
       "\n",
       "   dist_total  \n",
       "0    2816.662  \n",
       "1    2816.662  \n",
       "2    2816.662  \n",
       "3    2816.662  \n",
       "4    2816.662  "
      ]
     },
     "execution_count": 1,
     "metadata": {},
     "output_type": "execute_result"
    }
   ],
   "source": [
    "import pandas as pd\n",
    "df = pd.read_csv('../data/sharks_cleaned.csv')\n",
    "df.head()"
   ]
  },
  {
   "cell_type": "markdown",
   "metadata": {},
   "source": [
    "#### Total ping count"
   ]
  },
  {
   "cell_type": "code",
   "execution_count": 2,
   "metadata": {
    "ExecuteTime": {
     "end_time": "2019-02-17T19:52:54.689990Z",
     "start_time": "2019-02-17T19:52:54.684992Z"
    }
   },
   "outputs": [
    {
     "data": {
      "text/plain": [
       "65793"
      ]
     },
     "execution_count": 2,
     "metadata": {},
     "output_type": "execute_result"
    }
   ],
   "source": [
    "len(df)"
   ]
  },
  {
   "cell_type": "markdown",
   "metadata": {},
   "source": [
    "#### Unique species"
   ]
  },
  {
   "cell_type": "code",
   "execution_count": 3,
   "metadata": {
    "ExecuteTime": {
     "end_time": "2019-02-17T19:52:54.783976Z",
     "start_time": "2019-02-17T19:52:54.691989Z"
    }
   },
   "outputs": [
    {
     "data": {
      "text/plain": [
       "9"
      ]
     },
     "execution_count": 3,
     "metadata": {},
     "output_type": "execute_result"
    }
   ],
   "source": [
    "df.species.nunique()"
   ]
  },
  {
   "cell_type": "code",
   "execution_count": 4,
   "metadata": {
    "ExecuteTime": {
     "end_time": "2019-02-17T19:52:54.880928Z",
     "start_time": "2019-02-17T19:52:54.784960Z"
    }
   },
   "outputs": [
    {
     "data": {
      "text/plain": [
       "species\n",
       "Whale Shark (Rhincodon Typus)              3\n",
       "Bull Shark (Carcharhinus leucas)           4\n",
       "Silky Shark (Carcharhinus falciformis)     4\n",
       "Blacktip Shark (Carcharhinus limbatus)     9\n",
       "Hammerhead Shark (Sphyrna)                18\n",
       "Mako Shark (Isurus oxyrinchus)            18\n",
       "Blue Shark (Prionace glauca)              27\n",
       "White Shark (Carcharodon carcharias)      74\n",
       "Tiger Shark  (Galeocerdo cuvier)          82\n",
       "Name: id, dtype: int64"
      ]
     },
     "execution_count": 4,
     "metadata": {},
     "output_type": "execute_result"
    }
   ],
   "source": [
    "df.groupby('species').id.nunique().sort_values()"
   ]
  },
  {
   "cell_type": "markdown",
   "metadata": {},
   "source": [
    "#### Heaviest shark"
   ]
  },
  {
   "cell_type": "code",
   "execution_count": 5,
   "metadata": {
    "ExecuteTime": {
     "end_time": "2019-02-17T19:52:54.949906Z",
     "start_time": "2019-02-17T19:52:54.881929Z"
    }
   },
   "outputs": [
    {
     "data": {
      "text/plain": [
       "active                                    1\n",
       "datetime                2016-10-24 03:12:24\n",
       "id                                      233\n",
       "latitude                            38.5389\n",
       "longitude                          -68.8206\n",
       "name                         Rocky Mazzanti\n",
       "gender                               Female\n",
       "species       Whale Shark (Rhincodon Typus)\n",
       "weight                                25000\n",
       "length                                  300\n",
       "tagDate                      24 August 2016\n",
       "dist_total                          1753.52\n",
       "Name: 56469, dtype: object"
      ]
     },
     "execution_count": 5,
     "metadata": {},
     "output_type": "execute_result"
    }
   ],
   "source": [
    "df[df.weight == df.weight.max()].iloc[0]"
   ]
  },
  {
   "cell_type": "markdown",
   "metadata": {},
   "source": [
    "#### First ping"
   ]
  },
  {
   "cell_type": "code",
   "execution_count": 6,
   "metadata": {
    "ExecuteTime": {
     "end_time": "2019-02-17T19:52:55.068876Z",
     "start_time": "2019-02-17T19:52:54.950908Z"
    }
   },
   "outputs": [
    {
     "data": {
      "text/plain": [
       "active                                           1\n",
       "datetime                       2012-03-09 15:35:31\n",
       "id                                               3\n",
       "latitude                                   -34.132\n",
       "longitude                                   22.123\n",
       "name                                         Oprah\n",
       "gender                                      Female\n",
       "species       White Shark (Carcharodon carcharias)\n",
       "weight                                         686\n",
       "length                                         118\n",
       "tagDate                               7 March 2012\n",
       "dist_total                                 2816.66\n",
       "Name: 519, dtype: object"
      ]
     },
     "execution_count": 6,
     "metadata": {},
     "output_type": "execute_result"
    }
   ],
   "source": [
    "df.sort_values('datetime').iloc[0]"
   ]
  },
  {
   "cell_type": "markdown",
   "metadata": {},
   "source": [
    "#### Distance travelled"
   ]
  },
  {
   "cell_type": "code",
   "execution_count": 7,
   "metadata": {
    "ExecuteTime": {
     "end_time": "2019-02-17T19:52:55.111853Z",
     "start_time": "2019-02-17T19:52:55.069867Z"
    }
   },
   "outputs": [
    {
     "data": {
      "text/plain": [
       "count    65785.000000\n",
       "mean     12569.310280\n",
       "std      12755.008316\n",
       "min          8.127000\n",
       "25%       3048.274000\n",
       "50%       8177.352000\n",
       "75%      17811.853000\n",
       "max      46553.182000\n",
       "Name: dist_total, dtype: float64"
      ]
     },
     "execution_count": 7,
     "metadata": {},
     "output_type": "execute_result"
    }
   ],
   "source": [
    "df.dist_total[df.dist_total > 0].describe()"
   ]
  },
  {
   "cell_type": "code",
   "execution_count": null,
   "metadata": {},
   "outputs": [],
   "source": []
  }
 ],
 "metadata": {
  "kernelspec": {
   "display_name": "Python3.6",
   "language": "python",
   "name": "py36"
  },
  "language_info": {
   "codemirror_mode": {
    "name": "ipython",
    "version": 3
   },
   "file_extension": ".py",
   "mimetype": "text/x-python",
   "name": "python",
   "nbconvert_exporter": "python",
   "pygments_lexer": "ipython3",
   "version": "3.6.2"
  },
  "toc": {
   "base_numbering": 1,
   "nav_menu": {},
   "number_sections": true,
   "sideBar": true,
   "skip_h1_title": false,
   "title_cell": "Table of Contents",
   "title_sidebar": "Contents",
   "toc_cell": false,
   "toc_position": {},
   "toc_section_display": true,
   "toc_window_display": true
  }
 },
 "nbformat": 4,
 "nbformat_minor": 2
}
