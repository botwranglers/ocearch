{
 "cells": [
  {
   "cell_type": "markdown",
   "metadata": {},
   "source": [
    "### Challenge questions\n",
    "\n",
    "Easy questions:\n",
    "\n",
    " 1. How many total pings are in the Ocearch shark data?\n",
    " 2. How many unique species of sharks are in the data set?\n",
    " 3. What is the name, weight, and species of the heaviest shark(s)?\n",
    " 4. When and where was the very first ping?\n",
    " 5. Excluding results with 0 distance traveled: what's the minimum, average, and maximum travel distances?\n",
    "  "
   ]
  },
  {
   "cell_type": "markdown",
   "metadata": {},
   "source": [
    "### Load data"
   ]
  },
  {
   "cell_type": "code",
   "execution_count": 1,
   "metadata": {
    "ExecuteTime": {
     "end_time": "2019-02-23T02:43:05.212027Z",
     "start_time": "2019-02-23T02:43:04.606225Z"
    }
   },
   "outputs": [
    {
     "data": {
      "text/plain": [
       "(65793, 12)"
      ]
     },
     "execution_count": 1,
     "metadata": {},
     "output_type": "execute_result"
    }
   ],
   "source": [
    "import pandas as pd\n",
    "df = pd.read_csv('../data/sharks_cleaned.csv')\n",
    "df.shape"
   ]
  },
  {
   "cell_type": "markdown",
   "metadata": {},
   "source": [
    "### Explore data"
   ]
  },
  {
   "cell_type": "code",
   "execution_count": 2,
   "metadata": {
    "ExecuteTime": {
     "end_time": "2019-02-23T02:43:05.227032Z",
     "start_time": "2019-02-23T02:43:05.214028Z"
    }
   },
   "outputs": [
    {
     "data": {
      "text/html": [
       "<div>\n",
       "<style scoped>\n",
       "    .dataframe tbody tr th:only-of-type {\n",
       "        vertical-align: middle;\n",
       "    }\n",
       "\n",
       "    .dataframe tbody tr th {\n",
       "        vertical-align: top;\n",
       "    }\n",
       "\n",
       "    .dataframe thead th {\n",
       "        text-align: right;\n",
       "    }\n",
       "</style>\n",
       "<table border=\"1\" class=\"dataframe\">\n",
       "  <thead>\n",
       "    <tr style=\"text-align: right;\">\n",
       "      <th></th>\n",
       "      <th>active</th>\n",
       "      <th>datetime</th>\n",
       "      <th>id</th>\n",
       "      <th>latitude</th>\n",
       "      <th>longitude</th>\n",
       "      <th>name</th>\n",
       "      <th>gender</th>\n",
       "      <th>species</th>\n",
       "      <th>weight</th>\n",
       "      <th>length</th>\n",
       "      <th>tagDate</th>\n",
       "      <th>dist_total</th>\n",
       "    </tr>\n",
       "  </thead>\n",
       "  <tbody>\n",
       "    <tr>\n",
       "      <th>0</th>\n",
       "      <td>1</td>\n",
       "      <td>2014-07-06 04:57:28</td>\n",
       "      <td>3</td>\n",
       "      <td>-34.606610</td>\n",
       "      <td>21.152440</td>\n",
       "      <td>Oprah</td>\n",
       "      <td>Female</td>\n",
       "      <td>White Shark (Carcharodon carcharias)</td>\n",
       "      <td>686.0</td>\n",
       "      <td>118.0</td>\n",
       "      <td>7 March 2012</td>\n",
       "      <td>2816.662</td>\n",
       "    </tr>\n",
       "    <tr>\n",
       "      <th>1</th>\n",
       "      <td>1</td>\n",
       "      <td>2014-06-23 02:40:09</td>\n",
       "      <td>3</td>\n",
       "      <td>-34.787520</td>\n",
       "      <td>19.424790</td>\n",
       "      <td>Oprah</td>\n",
       "      <td>Female</td>\n",
       "      <td>White Shark (Carcharodon carcharias)</td>\n",
       "      <td>686.0</td>\n",
       "      <td>118.0</td>\n",
       "      <td>7 March 2012</td>\n",
       "      <td>2816.662</td>\n",
       "    </tr>\n",
       "    <tr>\n",
       "      <th>2</th>\n",
       "      <td>1</td>\n",
       "      <td>2014-06-15 13:15:44</td>\n",
       "      <td>3</td>\n",
       "      <td>-34.424870</td>\n",
       "      <td>21.097540</td>\n",
       "      <td>Oprah</td>\n",
       "      <td>Female</td>\n",
       "      <td>White Shark (Carcharodon carcharias)</td>\n",
       "      <td>686.0</td>\n",
       "      <td>118.0</td>\n",
       "      <td>7 March 2012</td>\n",
       "      <td>2816.662</td>\n",
       "    </tr>\n",
       "    <tr>\n",
       "      <th>3</th>\n",
       "      <td>1</td>\n",
       "      <td>2014-06-03 02:23:57</td>\n",
       "      <td>3</td>\n",
       "      <td>-34.704323</td>\n",
       "      <td>20.210134</td>\n",
       "      <td>Oprah</td>\n",
       "      <td>Female</td>\n",
       "      <td>White Shark (Carcharodon carcharias)</td>\n",
       "      <td>686.0</td>\n",
       "      <td>118.0</td>\n",
       "      <td>7 March 2012</td>\n",
       "      <td>2816.662</td>\n",
       "    </tr>\n",
       "    <tr>\n",
       "      <th>4</th>\n",
       "      <td>1</td>\n",
       "      <td>2014-05-28 19:53:57</td>\n",
       "      <td>3</td>\n",
       "      <td>-34.655560</td>\n",
       "      <td>19.374590</td>\n",
       "      <td>Oprah</td>\n",
       "      <td>Female</td>\n",
       "      <td>White Shark (Carcharodon carcharias)</td>\n",
       "      <td>686.0</td>\n",
       "      <td>118.0</td>\n",
       "      <td>7 March 2012</td>\n",
       "      <td>2816.662</td>\n",
       "    </tr>\n",
       "  </tbody>\n",
       "</table>\n",
       "</div>"
      ],
      "text/plain": [
       "   active             datetime  id   latitude  longitude   name  gender  \\\n",
       "0       1  2014-07-06 04:57:28   3 -34.606610  21.152440  Oprah  Female   \n",
       "1       1  2014-06-23 02:40:09   3 -34.787520  19.424790  Oprah  Female   \n",
       "2       1  2014-06-15 13:15:44   3 -34.424870  21.097540  Oprah  Female   \n",
       "3       1  2014-06-03 02:23:57   3 -34.704323  20.210134  Oprah  Female   \n",
       "4       1  2014-05-28 19:53:57   3 -34.655560  19.374590  Oprah  Female   \n",
       "\n",
       "                                species  weight  length       tagDate  \\\n",
       "0  White Shark (Carcharodon carcharias)   686.0   118.0  7 March 2012   \n",
       "1  White Shark (Carcharodon carcharias)   686.0   118.0  7 March 2012   \n",
       "2  White Shark (Carcharodon carcharias)   686.0   118.0  7 March 2012   \n",
       "3  White Shark (Carcharodon carcharias)   686.0   118.0  7 March 2012   \n",
       "4  White Shark (Carcharodon carcharias)   686.0   118.0  7 March 2012   \n",
       "\n",
       "   dist_total  \n",
       "0    2816.662  \n",
       "1    2816.662  \n",
       "2    2816.662  \n",
       "3    2816.662  \n",
       "4    2816.662  "
      ]
     },
     "execution_count": 2,
     "metadata": {},
     "output_type": "execute_result"
    }
   ],
   "source": [
    "df.head()"
   ]
  },
  {
   "cell_type": "code",
   "execution_count": null,
   "metadata": {},
   "outputs": [],
   "source": []
  },
  {
   "cell_type": "markdown",
   "metadata": {},
   "source": [
    "### Challenge Questions"
   ]
  },
  {
   "cell_type": "markdown",
   "metadata": {},
   "source": [
    "#### Easy Questions\n",
    " 1. How many total pings are in the Ocearch shark data?\n",
    " 2. How many unique species of sharks are in the data set?\n",
    " 3. What is the name, weight, and species of the heaviest shark(s)?\n",
    " 4. When and where was the very first ping?\n",
    " 5. Excluding results with 0 distance traveled: what's the minimum, average, and maximum travel distances?"
   ]
  },
  {
   "cell_type": "markdown",
   "metadata": {},
   "source": [
    "##### Total pings\n",
    "How many total pings are in the Ocearch shark data?"
   ]
  },
  {
   "cell_type": "code",
   "execution_count": 3,
   "metadata": {
    "ExecuteTime": {
     "end_time": "2019-02-23T02:43:05.315150Z",
     "start_time": "2019-02-23T02:43:05.228036Z"
    }
   },
   "outputs": [
    {
     "data": {
      "text/plain": [
       "65793"
      ]
     },
     "execution_count": 3,
     "metadata": {},
     "output_type": "execute_result"
    }
   ],
   "source": [
    "len(df)"
   ]
  },
  {
   "cell_type": "markdown",
   "metadata": {},
   "source": [
    "##### Unique species\n",
    "How many unique species of sharks are in the data set?"
   ]
  },
  {
   "cell_type": "code",
   "execution_count": 4,
   "metadata": {
    "ExecuteTime": {
     "end_time": "2019-02-23T02:43:05.425206Z",
     "start_time": "2019-02-23T02:43:05.317165Z"
    }
   },
   "outputs": [
    {
     "data": {
      "text/plain": [
       "9"
      ]
     },
     "execution_count": 4,
     "metadata": {},
     "output_type": "execute_result"
    }
   ],
   "source": [
    "df.species.nunique()"
   ]
  },
  {
   "cell_type": "markdown",
   "metadata": {},
   "source": [
    "##### Heaviest shark(s)\n",
    "What is the name, weight, and species of the heaviest shark(s)?"
   ]
  },
  {
   "cell_type": "code",
   "execution_count": 5,
   "metadata": {
    "ExecuteTime": {
     "end_time": "2019-02-23T02:43:05.531381Z",
     "start_time": "2019-02-23T02:43:05.426194Z"
    }
   },
   "outputs": [
    {
     "data": {
      "text/plain": [
       "25000.0"
      ]
     },
     "execution_count": 5,
     "metadata": {},
     "output_type": "execute_result"
    }
   ],
   "source": [
    "max_weight = df.weight.max()\n",
    "max_weight"
   ]
  },
  {
   "cell_type": "code",
   "execution_count": 6,
   "metadata": {
    "ExecuteTime": {
     "end_time": "2019-02-23T02:43:05.660408Z",
     "start_time": "2019-02-23T02:43:05.533379Z"
    }
   },
   "outputs": [
    {
     "data": {
      "text/html": [
       "<div>\n",
       "<style scoped>\n",
       "    .dataframe tbody tr th:only-of-type {\n",
       "        vertical-align: middle;\n",
       "    }\n",
       "\n",
       "    .dataframe tbody tr th {\n",
       "        vertical-align: top;\n",
       "    }\n",
       "\n",
       "    .dataframe thead th {\n",
       "        text-align: right;\n",
       "    }\n",
       "</style>\n",
       "<table border=\"1\" class=\"dataframe\">\n",
       "  <thead>\n",
       "    <tr style=\"text-align: right;\">\n",
       "      <th></th>\n",
       "      <th>active</th>\n",
       "      <th>datetime</th>\n",
       "      <th>id</th>\n",
       "      <th>latitude</th>\n",
       "      <th>longitude</th>\n",
       "      <th>name</th>\n",
       "      <th>gender</th>\n",
       "      <th>species</th>\n",
       "      <th>weight</th>\n",
       "      <th>length</th>\n",
       "      <th>tagDate</th>\n",
       "      <th>dist_total</th>\n",
       "    </tr>\n",
       "  </thead>\n",
       "  <tbody>\n",
       "    <tr>\n",
       "      <th>56469</th>\n",
       "      <td>1</td>\n",
       "      <td>2016-10-24 03:12:24</td>\n",
       "      <td>233</td>\n",
       "      <td>38.53890</td>\n",
       "      <td>-68.82060</td>\n",
       "      <td>Rocky Mazzanti</td>\n",
       "      <td>Female</td>\n",
       "      <td>Whale Shark (Rhincodon Typus)</td>\n",
       "      <td>25000.0</td>\n",
       "      <td>300.0</td>\n",
       "      <td>24 August 2016</td>\n",
       "      <td>1753.524</td>\n",
       "    </tr>\n",
       "    <tr>\n",
       "      <th>59292</th>\n",
       "      <td>1</td>\n",
       "      <td>2017-11-01 00:11:15</td>\n",
       "      <td>253</td>\n",
       "      <td>40.97405</td>\n",
       "      <td>-69.55461</td>\n",
       "      <td>Canyon</td>\n",
       "      <td>Male</td>\n",
       "      <td>Whale Shark (Rhincodon Typus)</td>\n",
       "      <td>25000.0</td>\n",
       "      <td>360.0</td>\n",
       "      <td>9 August 2017</td>\n",
       "      <td>2093.576</td>\n",
       "    </tr>\n",
       "  </tbody>\n",
       "</table>\n",
       "</div>"
      ],
      "text/plain": [
       "       active             datetime   id  latitude  longitude            name  \\\n",
       "56469       1  2016-10-24 03:12:24  233  38.53890  -68.82060  Rocky Mazzanti   \n",
       "59292       1  2017-11-01 00:11:15  253  40.97405  -69.55461          Canyon   \n",
       "\n",
       "       gender                        species   weight  length         tagDate  \\\n",
       "56469  Female  Whale Shark (Rhincodon Typus)  25000.0   300.0  24 August 2016   \n",
       "59292    Male  Whale Shark (Rhincodon Typus)  25000.0   360.0   9 August 2017   \n",
       "\n",
       "       dist_total  \n",
       "56469    1753.524  \n",
       "59292    2093.576  "
      ]
     },
     "execution_count": 6,
     "metadata": {},
     "output_type": "execute_result"
    }
   ],
   "source": [
    "heavy_sharks = df[df.weight == df.weight.max()]\n",
    "heavy_sharks.drop_duplicates('name')"
   ]
  },
  {
   "cell_type": "markdown",
   "metadata": {},
   "source": [
    "##### First ping\n",
    "When and where was the very first ping?"
   ]
  },
  {
   "cell_type": "code",
   "execution_count": 7,
   "metadata": {
    "ExecuteTime": {
     "end_time": "2019-02-23T02:43:05.791489Z",
     "start_time": "2019-02-23T02:43:05.662404Z"
    }
   },
   "outputs": [
    {
     "data": {
      "text/html": [
       "<div>\n",
       "<style scoped>\n",
       "    .dataframe tbody tr th:only-of-type {\n",
       "        vertical-align: middle;\n",
       "    }\n",
       "\n",
       "    .dataframe tbody tr th {\n",
       "        vertical-align: top;\n",
       "    }\n",
       "\n",
       "    .dataframe thead th {\n",
       "        text-align: right;\n",
       "    }\n",
       "</style>\n",
       "<table border=\"1\" class=\"dataframe\">\n",
       "  <thead>\n",
       "    <tr style=\"text-align: right;\">\n",
       "      <th></th>\n",
       "      <th>name</th>\n",
       "      <th>datetime</th>\n",
       "      <th>latitude</th>\n",
       "      <th>longitude</th>\n",
       "    </tr>\n",
       "  </thead>\n",
       "  <tbody>\n",
       "    <tr>\n",
       "      <th>519</th>\n",
       "      <td>Oprah</td>\n",
       "      <td>2012-03-09 15:35:31</td>\n",
       "      <td>-34.132</td>\n",
       "      <td>22.123</td>\n",
       "    </tr>\n",
       "    <tr>\n",
       "      <th>518</th>\n",
       "      <td>Oprah</td>\n",
       "      <td>2012-03-09 21:30:24</td>\n",
       "      <td>-34.160</td>\n",
       "      <td>22.180</td>\n",
       "    </tr>\n",
       "    <tr>\n",
       "      <th>517</th>\n",
       "      <td>Oprah</td>\n",
       "      <td>2012-03-09 21:42:45</td>\n",
       "      <td>-34.158</td>\n",
       "      <td>22.182</td>\n",
       "    </tr>\n",
       "    <tr>\n",
       "      <th>516</th>\n",
       "      <td>Oprah</td>\n",
       "      <td>2012-03-10 01:53:02</td>\n",
       "      <td>-34.165</td>\n",
       "      <td>22.179</td>\n",
       "    </tr>\n",
       "    <tr>\n",
       "      <th>752</th>\n",
       "      <td>Albertina</td>\n",
       "      <td>2012-03-10 08:23:50</td>\n",
       "      <td>-34.179</td>\n",
       "      <td>22.417</td>\n",
       "    </tr>\n",
       "  </tbody>\n",
       "</table>\n",
       "</div>"
      ],
      "text/plain": [
       "           name             datetime  latitude  longitude\n",
       "519       Oprah  2012-03-09 15:35:31   -34.132     22.123\n",
       "518       Oprah  2012-03-09 21:30:24   -34.160     22.180\n",
       "517       Oprah  2012-03-09 21:42:45   -34.158     22.182\n",
       "516       Oprah  2012-03-10 01:53:02   -34.165     22.179\n",
       "752  Albertina   2012-03-10 08:23:50   -34.179     22.417"
      ]
     },
     "execution_count": 7,
     "metadata": {},
     "output_type": "execute_result"
    }
   ],
   "source": [
    "first_pings = df.sort_values('datetime').head(5)\n",
    "first_pings[['name', 'datetime', 'latitude', 'longitude']]"
   ]
  },
  {
   "cell_type": "markdown",
   "metadata": {},
   "source": [
    "##### Distance travelled\n",
    "Excluding results with 0 distance traveled: what's the minimum, average, and maximum travel distances?"
   ]
  },
  {
   "cell_type": "code",
   "execution_count": 8,
   "metadata": {
    "ExecuteTime": {
     "end_time": "2019-02-23T02:43:05.852515Z",
     "start_time": "2019-02-23T02:43:05.792475Z"
    }
   },
   "outputs": [
    {
     "data": {
      "text/plain": [
       "count    65785.000000\n",
       "mean     12569.310280\n",
       "std      12755.008316\n",
       "min          8.127000\n",
       "25%       3048.274000\n",
       "50%       8177.352000\n",
       "75%      17811.853000\n",
       "max      46553.182000\n",
       "Name: dist_total, dtype: float64"
      ]
     },
     "execution_count": 8,
     "metadata": {},
     "output_type": "execute_result"
    }
   ],
   "source": [
    "df.dist_total[df.dist_total > 0].describe()"
   ]
  },
  {
   "cell_type": "code",
   "execution_count": null,
   "metadata": {},
   "outputs": [],
   "source": []
  }
 ],
 "metadata": {
  "kernelspec": {
   "display_name": "Python3.6",
   "language": "python",
   "name": "py36"
  },
  "language_info": {
   "codemirror_mode": {
    "name": "ipython",
    "version": 3
   },
   "file_extension": ".py",
   "mimetype": "text/x-python",
   "name": "python",
   "nbconvert_exporter": "python",
   "pygments_lexer": "ipython3",
   "version": "3.7.2"
  },
  "toc": {
   "base_numbering": 1,
   "nav_menu": {},
   "number_sections": true,
   "sideBar": true,
   "skip_h1_title": false,
   "title_cell": "Table of Contents",
   "title_sidebar": "Contents",
   "toc_cell": false,
   "toc_position": {
    "height": "calc(100% - 180px)",
    "left": "10px",
    "top": "150px",
    "width": "256px"
   },
   "toc_section_display": true,
   "toc_window_display": true
  }
 },
 "nbformat": 4,
 "nbformat_minor": 2
}
