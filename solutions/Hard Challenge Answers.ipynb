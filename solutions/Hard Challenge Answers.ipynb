{
 "cells": [
  {
   "cell_type": "markdown",
   "metadata": {},
   "source": [
    "### Challenge questions\n",
    "\n",
    "Easy questions:\n",
    "\n",
    " 1. How many total pings are in the Ocearch shark data?\n",
    " 2. How many unique species of sharks are in the data set?\n",
    " 3. What is the name, weight, and species of the heaviest shark(s)?\n",
    " 4. When and where was the very first ping?\n",
    " 5. Excluding results with 0 distance traveled: what's the minimum, average, and maximum travel distances?\n",
    " \n",
    "Intermediate questions:\n",
    "\n",
    " 1. Which shark had the most pings?\n",
    " 2. Which shark has been pinging the longest, and how long has that been?\n",
    " 3. Which shark species has the most individual sharks tagged?\n",
    " 4. What is the average length and weight of each shark species?\n",
    " 5. Which shark has the biggest geographic box (largest distance from min lat/lon to max lat/lon, not dist_traveled)?\n",
    " \n",
    "Hard questions:\n"
   ]
  },
  {
   "cell_type": "markdown",
   "metadata": {},
   "source": [
    "### Answers"
   ]
  },
  {
   "cell_type": "markdown",
   "metadata": {},
   "source": [
    "#### Load data"
   ]
  },
  {
   "cell_type": "code",
   "execution_count": 29,
   "metadata": {
    "ExecuteTime": {
     "end_time": "2019-02-20T18:44:06.654687Z",
     "start_time": "2019-02-20T18:44:03.489708Z"
    }
   },
   "outputs": [
    {
     "data": {
      "text/plain": [
       "<Response [200]>"
      ]
     },
     "execution_count": 29,
     "metadata": {},
     "output_type": "execute_result"
    }
   ],
   "source": [
    "import requests\n",
    "url = 'http://www.ocearch.org/tracker/ajax/filter-sharks'\n",
    "\n",
    "resp = requests.get(url)\n",
    "resp"
   ]
  },
  {
   "cell_type": "markdown",
   "metadata": {},
   "source": [
    "#### Explore data"
   ]
  },
  {
   "cell_type": "code",
   "execution_count": 30,
   "metadata": {
    "ExecuteTime": {
     "end_time": "2019-02-20T18:44:06.805632Z",
     "start_time": "2019-02-20T18:44:06.655698Z"
    }
   },
   "outputs": [
    {
     "data": {
      "text/plain": [
       "'[{\"id\":3,\"name\":\"Oprah\",\"tagIdNumber\":\"117480\",\"species\":\"White Shark (Carcharodon carcharias)\",\"gender\":\"Female\",\"stageOfLife\":\"Sub-Adult\",\"length\":\"9 ft 10 in.\",\"weight\":\"686 lb\",\"tagDate\":\"7 March '"
      ]
     },
     "execution_count": 30,
     "metadata": {},
     "output_type": "execute_result"
    }
   ],
   "source": [
    "resp.text[:200]"
   ]
  },
  {
   "cell_type": "code",
   "execution_count": 31,
   "metadata": {
    "ExecuteTime": {
     "end_time": "2019-02-20T18:44:07.062549Z",
     "start_time": "2019-02-20T18:44:06.806633Z"
    }
   },
   "outputs": [
    {
     "name": "stdout",
     "output_type": "stream",
     "text": [
      "active 1\n",
      "cnt_inactive_pings 0\n",
      "description <p>Oprah was named by expedition leader Chris Fischer. Fischer named her after Oprah Winfrey, one of America&#39;s great philanthropists who has done much with education in Africa.</p>\r\n",
      "\n",
      "dist_24_hours 0.000\n",
      "dist_72_hours 0.000\n",
      "dist_total 2816.662\n",
      "gender Female\n",
      "id 3\n",
      "images [{'id': '218', 'filename': 'Screen Shot 2013-06-20 at 11.15.57 AM.png', 'encrypted_name': '4ffefafc2f699e5837c56cb2043b9798', 'description': None, 'is_primary': True}, {'id': '188', 'filename': 'Scree\n",
      "isMobile False\n",
      "is_alive 1\n",
      "last_updated 1531850549\n",
      "latestPing 1404703826\n",
      "length 9 ft 10 in.\n",
      "name Oprah\n",
      "pingAge sharkmore30\n",
      "pingCriteria {'interval': '30 year'}\n",
      "pings [{'active': '1', 'id': '36902', 'datetime': '6 July 2014 1:57:28 PM', 'tz_datetime': '6 July 2014 1:57:28 PM +0900', 'latitude': '-34.60661', 'longitude': '21.15244'}, {'active': '1', 'id': '36666', '\n",
      "platform None\n",
      "profile_url http://dev.ocearch.org/profile/oprah/\n",
      "species White Shark (Carcharodon carcharias)\n",
      "species_icons {'web': {'blue': '', 'red': ''}, 'mobile': {'blue': 'http://dev.ocearch.org/tracker/images/mobile/blue.png', 'red': 'http://dev.ocearch.org/tracker/images/mobile/red.png'}}\n",
      "species_id 1\n",
      "stageOfLife Sub-Adult\n",
      "tagDate 7 March 2012\n",
      "tagIdNumber 117480\n",
      "tagLocation Mossel Bay, South Africa\n",
      "videos []\n",
      "weight 686 lb\n",
      "zping 7 July 2014 12:30:26 PM +0900\n"
     ]
    }
   ],
   "source": [
    "for k, v in sorted(resp.json()[0].items()):\n",
    "    print(k, str(v)[:200])"
   ]
  },
  {
   "cell_type": "markdown",
   "metadata": {},
   "source": [
    "#### Data Wrangling"
   ]
  },
  {
   "cell_type": "markdown",
   "metadata": {},
   "source": [
    "##### Turn json into dataframe"
   ]
  },
  {
   "cell_type": "code",
   "execution_count": 32,
   "metadata": {
    "ExecuteTime": {
     "end_time": "2019-02-20T18:44:07.366452Z",
     "start_time": "2019-02-20T18:44:07.063549Z"
    }
   },
   "outputs": [
    {
     "data": {
      "text/html": [
       "<div>\n",
       "<style scoped>\n",
       "    .dataframe tbody tr th:only-of-type {\n",
       "        vertical-align: middle;\n",
       "    }\n",
       "\n",
       "    .dataframe tbody tr th {\n",
       "        vertical-align: top;\n",
       "    }\n",
       "\n",
       "    .dataframe thead th {\n",
       "        text-align: right;\n",
       "    }\n",
       "</style>\n",
       "<table border=\"1\" class=\"dataframe\">\n",
       "  <thead>\n",
       "    <tr style=\"text-align: right;\">\n",
       "      <th></th>\n",
       "      <th>id</th>\n",
       "      <th>name</th>\n",
       "      <th>gender</th>\n",
       "      <th>species</th>\n",
       "      <th>weight</th>\n",
       "      <th>length</th>\n",
       "      <th>tagDate</th>\n",
       "      <th>dist_total</th>\n",
       "    </tr>\n",
       "  </thead>\n",
       "  <tbody>\n",
       "    <tr>\n",
       "      <th>0</th>\n",
       "      <td>3</td>\n",
       "      <td>Oprah</td>\n",
       "      <td>Female</td>\n",
       "      <td>White Shark (Carcharodon carcharias)</td>\n",
       "      <td>686 lb</td>\n",
       "      <td>9 ft 10 in.</td>\n",
       "      <td>7 March 2012</td>\n",
       "      <td>2816.662</td>\n",
       "    </tr>\n",
       "    <tr>\n",
       "      <th>1</th>\n",
       "      <td>4</td>\n",
       "      <td>Albertina</td>\n",
       "      <td>Female</td>\n",
       "      <td>White Shark (Carcharodon carcharias)</td>\n",
       "      <td>1110 lb</td>\n",
       "      <td>11 ft 6 in.</td>\n",
       "      <td>8 March 2012</td>\n",
       "      <td>1830.593</td>\n",
       "    </tr>\n",
       "    <tr>\n",
       "      <th>2</th>\n",
       "      <td>5</td>\n",
       "      <td>Helen</td>\n",
       "      <td>Female</td>\n",
       "      <td>White Shark (Carcharodon carcharias)</td>\n",
       "      <td>765 lb</td>\n",
       "      <td>10 ft 2 in.</td>\n",
       "      <td>8 March 2012</td>\n",
       "      <td>4436.661</td>\n",
       "    </tr>\n",
       "    <tr>\n",
       "      <th>3</th>\n",
       "      <td>6</td>\n",
       "      <td>Brenda</td>\n",
       "      <td>Female</td>\n",
       "      <td>White Shark (Carcharodon carcharias)</td>\n",
       "      <td>1310 lb</td>\n",
       "      <td>12 ft 2 in.</td>\n",
       "      <td>8 March 2012</td>\n",
       "      <td>2966.902</td>\n",
       "    </tr>\n",
       "    <tr>\n",
       "      <th>4</th>\n",
       "      <td>7</td>\n",
       "      <td>Madiba</td>\n",
       "      <td>Male</td>\n",
       "      <td>White Shark (Carcharodon carcharias)</td>\n",
       "      <td>659 lb</td>\n",
       "      <td>9 ft 8 in.</td>\n",
       "      <td>8 March 2012</td>\n",
       "      <td>3537.423</td>\n",
       "    </tr>\n",
       "  </tbody>\n",
       "</table>\n",
       "</div>"
      ],
      "text/plain": [
       "   id        name  gender                               species   weight  \\\n",
       "0   3       Oprah  Female  White Shark (Carcharodon carcharias)   686 lb   \n",
       "1   4  Albertina   Female  White Shark (Carcharodon carcharias)  1110 lb   \n",
       "2   5      Helen   Female  White Shark (Carcharodon carcharias)   765 lb   \n",
       "3   6     Brenda   Female  White Shark (Carcharodon carcharias)  1310 lb   \n",
       "4   7      Madiba    Male  White Shark (Carcharodon carcharias)   659 lb   \n",
       "\n",
       "          length       tagDate dist_total  \n",
       "0    9 ft 10 in.  7 March 2012   2816.662  \n",
       "1   11 ft 6 in.   8 March 2012   1830.593  \n",
       "2    10 ft 2 in.  8 March 2012   4436.661  \n",
       "3  12 ft 2 in.    8 March 2012   2966.902  \n",
       "4    9 ft 8 in.   8 March 2012   3537.423  "
      ]
     },
     "execution_count": 32,
     "metadata": {},
     "output_type": "execute_result"
    }
   ],
   "source": [
    "import pandas as pd\n",
    "df = pd.DataFrame(resp.json())\n",
    "columns = ['id', 'name', 'gender', 'species', 'weight', 'length', 'tagDate', 'dist_total']\n",
    "df[columns].head()"
   ]
  },
  {
   "cell_type": "code",
   "execution_count": 33,
   "metadata": {
    "ExecuteTime": {
     "end_time": "2019-02-20T18:44:07.498408Z",
     "start_time": "2019-02-20T18:44:07.368452Z"
    }
   },
   "outputs": [
    {
     "data": {
      "text/plain": [
       "(275, 30)"
      ]
     },
     "execution_count": 33,
     "metadata": {},
     "output_type": "execute_result"
    }
   ],
   "source": [
    "df.shape"
   ]
  },
  {
   "cell_type": "markdown",
   "metadata": {},
   "source": [
    "##### Filter out non-shark data"
   ]
  },
  {
   "cell_type": "code",
   "execution_count": 34,
   "metadata": {
    "ExecuteTime": {
     "end_time": "2019-02-20T18:44:07.585379Z",
     "start_time": "2019-02-20T18:44:07.499407Z"
    }
   },
   "outputs": [
    {
     "data": {
      "text/plain": [
       "Tiger Shark  (Galeocerdo cuvier)                   82\n",
       "White Shark (Carcharodon carcharias)               74\n",
       "Blue Shark (Prionace glauca)                       27\n",
       "Mako Shark (Isurus oxyrinchus)                     18\n",
       "Hammerhead Shark (Sphyrna)                         18\n",
       "Olive Ridley Turtle (Lepidochelys olivacea)        16\n",
       "Blacktip Shark (Carcharhinus limbatus)              9\n",
       "Loggerhead Sea Turtle (Caretta caretta)             9\n",
       "Bull Shark (Carcharhinus leucas)                    4\n",
       "Silky Shark (Carcharhinus falciformis)              4\n",
       "Guadalupe Fur Seals (Arctocephalus townsendi)       4\n",
       "Whale Shark (Rhincodon Typus)                       3\n",
       "American alligator (Alligator mississippiensis)     2\n",
       " Harbor Seal (Phoca vitulina)                       1\n",
       "Pilot Whale (Globicephala)                          1\n",
       "Dolphin (Delphinus capensis)                        1\n",
       "Green Sea Turtle (Chelonia mydas)                   1\n",
       "Ship (Motor Vessel)                                 1\n",
       "Name: species, dtype: int64"
      ]
     },
     "execution_count": 34,
     "metadata": {},
     "output_type": "execute_result"
    }
   ],
   "source": [
    "df.species.value_counts()"
   ]
  },
  {
   "cell_type": "code",
   "execution_count": 35,
   "metadata": {
    "ExecuteTime": {
     "end_time": "2019-02-20T18:44:07.678355Z",
     "start_time": "2019-02-20T18:44:07.586379Z"
    }
   },
   "outputs": [
    {
     "data": {
      "text/plain": [
       "(239, 30)"
      ]
     },
     "execution_count": 35,
     "metadata": {},
     "output_type": "execute_result"
    }
   ],
   "source": [
    "df = df[df.species.fillna('').str.contains('shark', case=False)]\n",
    "df.shape"
   ]
  },
  {
   "cell_type": "markdown",
   "metadata": {},
   "source": [
    "##### Extract ping data"
   ]
  },
  {
   "cell_type": "code",
   "execution_count": 36,
   "metadata": {
    "ExecuteTime": {
     "end_time": "2019-02-20T18:44:08.091215Z",
     "start_time": "2019-02-20T18:44:07.680350Z"
    }
   },
   "outputs": [
    {
     "data": {
      "text/plain": [
       "239"
      ]
     },
     "execution_count": 36,
     "metadata": {},
     "output_type": "execute_result"
    }
   ],
   "source": [
    "ping_frames = []\n",
    "for row in df.itertuples():\n",
    "    ping_frame = pd.DataFrame(row.pings)\n",
    "    ping_frame['id'] = row.id\n",
    "    ping_frames.append(ping_frame)\n",
    "    \n",
    "len(ping_frames)"
   ]
  },
  {
   "cell_type": "markdown",
   "metadata": {},
   "source": [
    "##### Merge ping data back into dataframe"
   ]
  },
  {
   "cell_type": "code",
   "execution_count": 37,
   "metadata": {
    "ExecuteTime": {
     "end_time": "2019-02-20T18:44:08.180188Z",
     "start_time": "2019-02-20T18:44:08.092216Z"
    }
   },
   "outputs": [
    {
     "data": {
      "text/plain": [
       "(65867, 6)"
      ]
     },
     "execution_count": 37,
     "metadata": {},
     "output_type": "execute_result"
    }
   ],
   "source": [
    "pings = pd.concat(ping_frames)\n",
    "pings.shape"
   ]
  },
  {
   "cell_type": "code",
   "execution_count": 38,
   "metadata": {
    "ExecuteTime": {
     "end_time": "2019-02-20T18:44:08.271173Z",
     "start_time": "2019-02-20T18:44:08.181186Z"
    }
   },
   "outputs": [
    {
     "data": {
      "text/plain": [
       "(65867, 13)"
      ]
     },
     "execution_count": 38,
     "metadata": {},
     "output_type": "execute_result"
    }
   ],
   "source": [
    "joined = pings.merge(df[columns], on='id')\n",
    "joined.shape"
   ]
  },
  {
   "cell_type": "code",
   "execution_count": 39,
   "metadata": {
    "ExecuteTime": {
     "end_time": "2019-02-20T18:44:08.463095Z",
     "start_time": "2019-02-20T18:44:08.272156Z"
    }
   },
   "outputs": [
    {
     "data": {
      "text/html": [
       "<div>\n",
       "<style scoped>\n",
       "    .dataframe tbody tr th:only-of-type {\n",
       "        vertical-align: middle;\n",
       "    }\n",
       "\n",
       "    .dataframe tbody tr th {\n",
       "        vertical-align: top;\n",
       "    }\n",
       "\n",
       "    .dataframe thead th {\n",
       "        text-align: right;\n",
       "    }\n",
       "</style>\n",
       "<table border=\"1\" class=\"dataframe\">\n",
       "  <thead>\n",
       "    <tr style=\"text-align: right;\">\n",
       "      <th></th>\n",
       "      <th>active</th>\n",
       "      <th>datetime</th>\n",
       "      <th>id</th>\n",
       "      <th>latitude</th>\n",
       "      <th>longitude</th>\n",
       "      <th>tz_datetime</th>\n",
       "      <th>name</th>\n",
       "      <th>gender</th>\n",
       "      <th>species</th>\n",
       "      <th>weight</th>\n",
       "      <th>length</th>\n",
       "      <th>tagDate</th>\n",
       "      <th>dist_total</th>\n",
       "    </tr>\n",
       "  </thead>\n",
       "  <tbody>\n",
       "    <tr>\n",
       "      <th>0</th>\n",
       "      <td>1</td>\n",
       "      <td>6 July 2014 1:57:28 PM</td>\n",
       "      <td>3</td>\n",
       "      <td>-34.60661</td>\n",
       "      <td>21.15244</td>\n",
       "      <td>6 July 2014 1:57:28 PM +0900</td>\n",
       "      <td>Oprah</td>\n",
       "      <td>Female</td>\n",
       "      <td>White Shark (Carcharodon carcharias)</td>\n",
       "      <td>686 lb</td>\n",
       "      <td>9 ft 10 in.</td>\n",
       "      <td>7 March 2012</td>\n",
       "      <td>2816.662</td>\n",
       "    </tr>\n",
       "    <tr>\n",
       "      <th>1</th>\n",
       "      <td>1</td>\n",
       "      <td>23 June 2014 11:40:09 AM</td>\n",
       "      <td>3</td>\n",
       "      <td>-34.78752</td>\n",
       "      <td>19.42479</td>\n",
       "      <td>23 June 2014 11:40:09 AM +0900</td>\n",
       "      <td>Oprah</td>\n",
       "      <td>Female</td>\n",
       "      <td>White Shark (Carcharodon carcharias)</td>\n",
       "      <td>686 lb</td>\n",
       "      <td>9 ft 10 in.</td>\n",
       "      <td>7 March 2012</td>\n",
       "      <td>2816.662</td>\n",
       "    </tr>\n",
       "    <tr>\n",
       "      <th>2</th>\n",
       "      <td>1</td>\n",
       "      <td>15 June 2014 10:15:44 PM</td>\n",
       "      <td>3</td>\n",
       "      <td>-34.42487</td>\n",
       "      <td>21.09754</td>\n",
       "      <td>15 June 2014 10:15:44 PM +0900</td>\n",
       "      <td>Oprah</td>\n",
       "      <td>Female</td>\n",
       "      <td>White Shark (Carcharodon carcharias)</td>\n",
       "      <td>686 lb</td>\n",
       "      <td>9 ft 10 in.</td>\n",
       "      <td>7 March 2012</td>\n",
       "      <td>2816.662</td>\n",
       "    </tr>\n",
       "    <tr>\n",
       "      <th>3</th>\n",
       "      <td>1</td>\n",
       "      <td>3 June 2014 11:23:57 AM</td>\n",
       "      <td>3</td>\n",
       "      <td>-34.70432271674724</td>\n",
       "      <td>20.21013441406251</td>\n",
       "      <td>3 June 2014 11:23:57 AM +0900</td>\n",
       "      <td>Oprah</td>\n",
       "      <td>Female</td>\n",
       "      <td>White Shark (Carcharodon carcharias)</td>\n",
       "      <td>686 lb</td>\n",
       "      <td>9 ft 10 in.</td>\n",
       "      <td>7 March 2012</td>\n",
       "      <td>2816.662</td>\n",
       "    </tr>\n",
       "    <tr>\n",
       "      <th>4</th>\n",
       "      <td>1</td>\n",
       "      <td>29 May 2014 4:53:57 AM</td>\n",
       "      <td>3</td>\n",
       "      <td>-34.65556</td>\n",
       "      <td>19.37459</td>\n",
       "      <td>29 May 2014 4:53:57 AM +0900</td>\n",
       "      <td>Oprah</td>\n",
       "      <td>Female</td>\n",
       "      <td>White Shark (Carcharodon carcharias)</td>\n",
       "      <td>686 lb</td>\n",
       "      <td>9 ft 10 in.</td>\n",
       "      <td>7 March 2012</td>\n",
       "      <td>2816.662</td>\n",
       "    </tr>\n",
       "  </tbody>\n",
       "</table>\n",
       "</div>"
      ],
      "text/plain": [
       "  active                  datetime  id            latitude          longitude  \\\n",
       "0      1    6 July 2014 1:57:28 PM   3           -34.60661           21.15244   \n",
       "1      1  23 June 2014 11:40:09 AM   3           -34.78752           19.42479   \n",
       "2      1  15 June 2014 10:15:44 PM   3           -34.42487           21.09754   \n",
       "3      1   3 June 2014 11:23:57 AM   3  -34.70432271674724  20.21013441406251   \n",
       "4      1    29 May 2014 4:53:57 AM   3           -34.65556           19.37459   \n",
       "\n",
       "                      tz_datetime   name  gender  \\\n",
       "0    6 July 2014 1:57:28 PM +0900  Oprah  Female   \n",
       "1  23 June 2014 11:40:09 AM +0900  Oprah  Female   \n",
       "2  15 June 2014 10:15:44 PM +0900  Oprah  Female   \n",
       "3   3 June 2014 11:23:57 AM +0900  Oprah  Female   \n",
       "4    29 May 2014 4:53:57 AM +0900  Oprah  Female   \n",
       "\n",
       "                                species  weight       length       tagDate  \\\n",
       "0  White Shark (Carcharodon carcharias)  686 lb  9 ft 10 in.  7 March 2012   \n",
       "1  White Shark (Carcharodon carcharias)  686 lb  9 ft 10 in.  7 March 2012   \n",
       "2  White Shark (Carcharodon carcharias)  686 lb  9 ft 10 in.  7 March 2012   \n",
       "3  White Shark (Carcharodon carcharias)  686 lb  9 ft 10 in.  7 March 2012   \n",
       "4  White Shark (Carcharodon carcharias)  686 lb  9 ft 10 in.  7 March 2012   \n",
       "\n",
       "  dist_total  \n",
       "0   2816.662  \n",
       "1   2816.662  \n",
       "2   2816.662  \n",
       "3   2816.662  \n",
       "4   2816.662  "
      ]
     },
     "execution_count": 39,
     "metadata": {},
     "output_type": "execute_result"
    }
   ],
   "source": [
    "joined.head()"
   ]
  },
  {
   "cell_type": "markdown",
   "metadata": {},
   "source": [
    "##### Clean data"
   ]
  },
  {
   "cell_type": "code",
   "execution_count": 41,
   "metadata": {
    "ExecuteTime": {
     "end_time": "2019-02-20T18:44:20.002355Z",
     "start_time": "2019-02-20T18:44:19.998356Z"
    }
   },
   "outputs": [
    {
     "data": {
      "text/plain": [
       "(65867, 13)"
      ]
     },
     "execution_count": 41,
     "metadata": {},
     "output_type": "execute_result"
    }
   ],
   "source": [
    "df = joined # don't need a reference to the original resp.json() df anymore\n",
    "df.shape"
   ]
  },
  {
   "cell_type": "code",
   "execution_count": 42,
   "metadata": {
    "ExecuteTime": {
     "end_time": "2019-02-20T18:44:41.550379Z",
     "start_time": "2019-02-20T18:44:20.775103Z"
    }
   },
   "outputs": [
    {
     "data": {
      "text/html": [
       "<div>\n",
       "<style scoped>\n",
       "    .dataframe tbody tr th:only-of-type {\n",
       "        vertical-align: middle;\n",
       "    }\n",
       "\n",
       "    .dataframe tbody tr th {\n",
       "        vertical-align: top;\n",
       "    }\n",
       "\n",
       "    .dataframe thead th {\n",
       "        text-align: right;\n",
       "    }\n",
       "</style>\n",
       "<table border=\"1\" class=\"dataframe\">\n",
       "  <thead>\n",
       "    <tr style=\"text-align: right;\">\n",
       "      <th></th>\n",
       "      <th>active</th>\n",
       "      <th>datetime</th>\n",
       "      <th>id</th>\n",
       "      <th>latitude</th>\n",
       "      <th>longitude</th>\n",
       "      <th>name</th>\n",
       "      <th>gender</th>\n",
       "      <th>species</th>\n",
       "      <th>weight</th>\n",
       "      <th>length</th>\n",
       "      <th>tagDate</th>\n",
       "      <th>dist_total</th>\n",
       "    </tr>\n",
       "  </thead>\n",
       "  <tbody>\n",
       "    <tr>\n",
       "      <th>0</th>\n",
       "      <td>1</td>\n",
       "      <td>2014-07-06 13:57:28+09:00</td>\n",
       "      <td>3</td>\n",
       "      <td>-34.606610</td>\n",
       "      <td>21.152440</td>\n",
       "      <td>Oprah</td>\n",
       "      <td>Female</td>\n",
       "      <td>White Shark (Carcharodon carcharias)</td>\n",
       "      <td>686.0</td>\n",
       "      <td>118.0</td>\n",
       "      <td>7 March 2012</td>\n",
       "      <td>2816.662</td>\n",
       "    </tr>\n",
       "    <tr>\n",
       "      <th>1</th>\n",
       "      <td>1</td>\n",
       "      <td>2014-06-23 11:40:09+09:00</td>\n",
       "      <td>3</td>\n",
       "      <td>-34.787520</td>\n",
       "      <td>19.424790</td>\n",
       "      <td>Oprah</td>\n",
       "      <td>Female</td>\n",
       "      <td>White Shark (Carcharodon carcharias)</td>\n",
       "      <td>686.0</td>\n",
       "      <td>118.0</td>\n",
       "      <td>7 March 2012</td>\n",
       "      <td>2816.662</td>\n",
       "    </tr>\n",
       "    <tr>\n",
       "      <th>2</th>\n",
       "      <td>1</td>\n",
       "      <td>2014-06-15 22:15:44+09:00</td>\n",
       "      <td>3</td>\n",
       "      <td>-34.424870</td>\n",
       "      <td>21.097540</td>\n",
       "      <td>Oprah</td>\n",
       "      <td>Female</td>\n",
       "      <td>White Shark (Carcharodon carcharias)</td>\n",
       "      <td>686.0</td>\n",
       "      <td>118.0</td>\n",
       "      <td>7 March 2012</td>\n",
       "      <td>2816.662</td>\n",
       "    </tr>\n",
       "    <tr>\n",
       "      <th>3</th>\n",
       "      <td>1</td>\n",
       "      <td>2014-06-03 11:23:57+09:00</td>\n",
       "      <td>3</td>\n",
       "      <td>-34.704323</td>\n",
       "      <td>20.210134</td>\n",
       "      <td>Oprah</td>\n",
       "      <td>Female</td>\n",
       "      <td>White Shark (Carcharodon carcharias)</td>\n",
       "      <td>686.0</td>\n",
       "      <td>118.0</td>\n",
       "      <td>7 March 2012</td>\n",
       "      <td>2816.662</td>\n",
       "    </tr>\n",
       "    <tr>\n",
       "      <th>4</th>\n",
       "      <td>1</td>\n",
       "      <td>2014-05-29 04:53:57+09:00</td>\n",
       "      <td>3</td>\n",
       "      <td>-34.655560</td>\n",
       "      <td>19.374590</td>\n",
       "      <td>Oprah</td>\n",
       "      <td>Female</td>\n",
       "      <td>White Shark (Carcharodon carcharias)</td>\n",
       "      <td>686.0</td>\n",
       "      <td>118.0</td>\n",
       "      <td>7 March 2012</td>\n",
       "      <td>2816.662</td>\n",
       "    </tr>\n",
       "  </tbody>\n",
       "</table>\n",
       "</div>"
      ],
      "text/plain": [
       "  active                  datetime  id   latitude  longitude   name  gender  \\\n",
       "0      1 2014-07-06 13:57:28+09:00   3 -34.606610  21.152440  Oprah  Female   \n",
       "1      1 2014-06-23 11:40:09+09:00   3 -34.787520  19.424790  Oprah  Female   \n",
       "2      1 2014-06-15 22:15:44+09:00   3 -34.424870  21.097540  Oprah  Female   \n",
       "3      1 2014-06-03 11:23:57+09:00   3 -34.704323  20.210134  Oprah  Female   \n",
       "4      1 2014-05-29 04:53:57+09:00   3 -34.655560  19.374590  Oprah  Female   \n",
       "\n",
       "                                species  weight  length       tagDate  \\\n",
       "0  White Shark (Carcharodon carcharias)   686.0   118.0  7 March 2012   \n",
       "1  White Shark (Carcharodon carcharias)   686.0   118.0  7 March 2012   \n",
       "2  White Shark (Carcharodon carcharias)   686.0   118.0  7 March 2012   \n",
       "3  White Shark (Carcharodon carcharias)   686.0   118.0  7 March 2012   \n",
       "4  White Shark (Carcharodon carcharias)   686.0   118.0  7 March 2012   \n",
       "\n",
       "   dist_total  \n",
       "0    2816.662  \n",
       "1    2816.662  \n",
       "2    2816.662  \n",
       "3    2816.662  \n",
       "4    2816.662  "
      ]
     },
     "execution_count": 42,
     "metadata": {},
     "output_type": "execute_result"
    }
   ],
   "source": [
    "def clean_weight(value):\n",
    "    if not value:\n",
    "        return value\n",
    "    # most values are like \"123 lb\"\n",
    "    value = str(value)\n",
    "    for character in 'lbs,+':\n",
    "        value = value.replace(character, '')\n",
    "    return float(value)\n",
    "\n",
    "def clean_length(value):\n",
    "    if not value:\n",
    "        return value\n",
    "    # most length values are like '3 ft 4 in.'\n",
    "    value = str(value)\n",
    "    total = 0\n",
    "    if 'ft' in value:\n",
    "        ft, inches = value.split('ft')\n",
    "        total += int(ft.strip()) * 12\n",
    "    else:\n",
    "        inches = value\n",
    "    if inches.strip():\n",
    "        total += float(inches.strip().split()[0])\n",
    "    return total\n",
    "\n",
    "df['weight'] = df.weight.apply(clean_weight)\n",
    "df['length'] = df.length.apply(clean_length)\n",
    "df['datetime'] = pd.to_datetime(df.tz_datetime)\n",
    "\n",
    "numeric_cols = ['latitude', 'longitude', 'dist_total']\n",
    "df[numeric_cols] = df[numeric_cols].apply(pd.to_numeric, axis=1)\n",
    "df = df.drop(columns=['tz_datetime'])\n",
    "df.head()"
   ]
  },
  {
   "cell_type": "markdown",
   "metadata": {},
   "source": [
    "#### Easy answers\n",
    "\n",
    " 1. How many total pings are in the Ocearch shark data?\n",
    " 2. How many unique species of sharks are in the data set?\n",
    " 3. What is the name, weight, and species of the heaviest shark?\n",
    " 4. When and where was the very first ping?\n",
    " 5. Excluding results with 0 distance traveled: what's the minimum, average, and maximum travel distances?\n"
   ]
  },
  {
   "cell_type": "code",
   "execution_count": 43,
   "metadata": {
    "ExecuteTime": {
     "end_time": "2019-02-20T18:44:46.993605Z",
     "start_time": "2019-02-20T18:44:46.990606Z"
    }
   },
   "outputs": [
    {
     "data": {
      "text/plain": [
       "65867"
      ]
     },
     "execution_count": 43,
     "metadata": {},
     "output_type": "execute_result"
    }
   ],
   "source": [
    "# total ping count\n",
    "len(df)"
   ]
  },
  {
   "cell_type": "code",
   "execution_count": 44,
   "metadata": {
    "ExecuteTime": {
     "end_time": "2019-02-20T18:44:47.159549Z",
     "start_time": "2019-02-20T18:44:47.149552Z"
    }
   },
   "outputs": [
    {
     "data": {
      "text/plain": [
       "9"
      ]
     },
     "execution_count": 44,
     "metadata": {},
     "output_type": "execute_result"
    }
   ],
   "source": [
    "# unique species\n",
    "df.species.nunique()"
   ]
  },
  {
   "cell_type": "code",
   "execution_count": 45,
   "metadata": {
    "ExecuteTime": {
     "end_time": "2019-02-20T18:44:47.321498Z",
     "start_time": "2019-02-20T18:44:47.310517Z"
    }
   },
   "outputs": [
    {
     "data": {
      "text/html": [
       "<div>\n",
       "<style scoped>\n",
       "    .dataframe tbody tr th:only-of-type {\n",
       "        vertical-align: middle;\n",
       "    }\n",
       "\n",
       "    .dataframe tbody tr th {\n",
       "        vertical-align: top;\n",
       "    }\n",
       "\n",
       "    .dataframe thead th {\n",
       "        text-align: right;\n",
       "    }\n",
       "</style>\n",
       "<table border=\"1\" class=\"dataframe\">\n",
       "  <thead>\n",
       "    <tr style=\"text-align: right;\">\n",
       "      <th></th>\n",
       "      <th>name</th>\n",
       "      <th>weight</th>\n",
       "      <th>species</th>\n",
       "    </tr>\n",
       "  </thead>\n",
       "  <tbody>\n",
       "    <tr>\n",
       "      <th>56484</th>\n",
       "      <td>Rocky Mazzanti</td>\n",
       "      <td>25000.0</td>\n",
       "      <td>Whale Shark (Rhincodon Typus)</td>\n",
       "    </tr>\n",
       "    <tr>\n",
       "      <th>59316</th>\n",
       "      <td>Canyon</td>\n",
       "      <td>25000.0</td>\n",
       "      <td>Whale Shark (Rhincodon Typus)</td>\n",
       "    </tr>\n",
       "  </tbody>\n",
       "</table>\n",
       "</div>"
      ],
      "text/plain": [
       "                 name   weight                        species\n",
       "56484  Rocky Mazzanti  25000.0  Whale Shark (Rhincodon Typus)\n",
       "59316          Canyon  25000.0  Whale Shark (Rhincodon Typus)"
      ]
     },
     "execution_count": 45,
     "metadata": {},
     "output_type": "execute_result"
    }
   ],
   "source": [
    "# heaviest shark(s)\n",
    "df[df.weight == df.weight.max()][['name', 'weight', 'species']].drop_duplicates('name')"
   ]
  },
  {
   "cell_type": "code",
   "execution_count": 46,
   "metadata": {
    "ExecuteTime": {
     "end_time": "2019-02-20T18:44:47.662388Z",
     "start_time": "2019-02-20T18:44:47.477446Z"
    }
   },
   "outputs": [
    {
     "data": {
      "text/plain": [
       "active                                           1\n",
       "datetime                 2012-03-10 00:35:31+09:00\n",
       "id                                               3\n",
       "latitude                                   -34.132\n",
       "longitude                                   22.123\n",
       "name                                         Oprah\n",
       "gender                                      Female\n",
       "species       White Shark (Carcharodon carcharias)\n",
       "weight                                         686\n",
       "length                                         118\n",
       "tagDate                               7 March 2012\n",
       "dist_total                                 2816.66\n",
       "Name: 519, dtype: object"
      ]
     },
     "execution_count": 46,
     "metadata": {},
     "output_type": "execute_result"
    }
   ],
   "source": [
    "# first ping\n",
    "df.sort_values('datetime').iloc[0]"
   ]
  },
  {
   "cell_type": "code",
   "execution_count": 48,
   "metadata": {
    "ExecuteTime": {
     "end_time": "2019-02-20T18:44:51.890016Z",
     "start_time": "2019-02-20T18:44:51.878020Z"
    }
   },
   "outputs": [
    {
     "data": {
      "text/plain": [
       "count    65859.000000\n",
       "mean     12571.443642\n",
       "std      12751.389357\n",
       "min          8.127000\n",
       "25%       3048.274000\n",
       "50%       8177.352000\n",
       "75%      17811.853000\n",
       "max      46553.182000\n",
       "Name: dist_total, dtype: float64"
      ]
     },
     "execution_count": 48,
     "metadata": {},
     "output_type": "execute_result"
    }
   ],
   "source": [
    "# max distance travelled\n",
    "df.dist_total[df.dist_total > 0].describe()"
   ]
  },
  {
   "cell_type": "markdown",
   "metadata": {},
   "source": [
    "#### Intermediate answers\n",
    "\n",
    "Intermediate questions:\n",
    "\n",
    " 1. Which shark had the most pings?\n",
    " 2. Which shark has been pinging the longest, and how long has that been?\n",
    " 3. Which shark species has the most individual sharks tagged?\n",
    " 4. What is the average length and weight of each shark species?\n",
    " 5. Which shark has the biggest geographic box (largest distance from min lat/lon to max lat/lon, not dist_traveled)?"
   ]
  },
  {
   "cell_type": "markdown",
   "metadata": {},
   "source": [
    "##### Most pings\n",
    "Which shark had the most pings?"
   ]
  },
  {
   "cell_type": "code",
   "execution_count": 49,
   "metadata": {
    "ExecuteTime": {
     "end_time": "2019-02-20T18:44:54.206266Z",
     "start_time": "2019-02-20T18:44:54.174277Z"
    }
   },
   "outputs": [
    {
     "data": {
      "text/html": [
       "<div>\n",
       "<style scoped>\n",
       "    .dataframe tbody tr th:only-of-type {\n",
       "        vertical-align: middle;\n",
       "    }\n",
       "\n",
       "    .dataframe tbody tr th {\n",
       "        vertical-align: top;\n",
       "    }\n",
       "\n",
       "    .dataframe thead th {\n",
       "        text-align: right;\n",
       "    }\n",
       "</style>\n",
       "<table border=\"1\" class=\"dataframe\">\n",
       "  <thead>\n",
       "    <tr style=\"text-align: right;\">\n",
       "      <th></th>\n",
       "      <th>id</th>\n",
       "      <th>ping_count</th>\n",
       "      <th>name</th>\n",
       "      <th>species</th>\n",
       "      <th>first_ping</th>\n",
       "      <th>last_ping</th>\n",
       "    </tr>\n",
       "  </thead>\n",
       "  <tbody>\n",
       "    <tr>\n",
       "      <th>35</th>\n",
       "      <td>41</td>\n",
       "      <td>3240</td>\n",
       "      <td>Mary Lee</td>\n",
       "      <td>White Shark (Carcharodon carcharias)</td>\n",
       "      <td>2012-09-18 18:34:28+09:00</td>\n",
       "      <td>2017-06-17 19:54:32+09:00</td>\n",
       "    </tr>\n",
       "    <tr>\n",
       "      <th>36</th>\n",
       "      <td>56</td>\n",
       "      <td>2946</td>\n",
       "      <td>Lydia</td>\n",
       "      <td>White Shark (Carcharodon carcharias)</td>\n",
       "      <td>2013-03-03 17:03:13+09:00</td>\n",
       "      <td>2017-03-15 11:31:34+09:00</td>\n",
       "    </tr>\n",
       "    <tr>\n",
       "      <th>154</th>\n",
       "      <td>202</td>\n",
       "      <td>2366</td>\n",
       "      <td>Oscar</td>\n",
       "      <td>Mako Shark (Isurus oxyrinchus)</td>\n",
       "      <td>2016-07-09 09:14:38+09:00</td>\n",
       "      <td>2019-01-30 05:32:35+09:00</td>\n",
       "    </tr>\n",
       "    <tr>\n",
       "      <th>40</th>\n",
       "      <td>60</td>\n",
       "      <td>2134</td>\n",
       "      <td>April</td>\n",
       "      <td>Mako Shark (Isurus oxyrinchus)</td>\n",
       "      <td>2013-07-29 02:00:04+09:00</td>\n",
       "      <td>2014-06-17 20:17:03+09:00</td>\n",
       "    </tr>\n",
       "    <tr>\n",
       "      <th>26</th>\n",
       "      <td>32</td>\n",
       "      <td>1851</td>\n",
       "      <td>Lisha</td>\n",
       "      <td>White Shark (Carcharodon carcharias)</td>\n",
       "      <td>2012-05-15 00:43:21+09:00</td>\n",
       "      <td>2014-04-03 21:48:57+09:00</td>\n",
       "    </tr>\n",
       "  </tbody>\n",
       "</table>\n",
       "</div>"
      ],
      "text/plain": [
       "      id  ping_count      name                               species  \\\n",
       "35    41        3240  Mary Lee  White Shark (Carcharodon carcharias)   \n",
       "36    56        2946     Lydia  White Shark (Carcharodon carcharias)   \n",
       "154  202        2366     Oscar        Mako Shark (Isurus oxyrinchus)   \n",
       "40    60        2134     April        Mako Shark (Isurus oxyrinchus)   \n",
       "26    32        1851     Lisha  White Shark (Carcharodon carcharias)   \n",
       "\n",
       "                   first_ping                 last_ping  \n",
       "35  2012-09-18 18:34:28+09:00 2017-06-17 19:54:32+09:00  \n",
       "36  2013-03-03 17:03:13+09:00 2017-03-15 11:31:34+09:00  \n",
       "154 2016-07-09 09:14:38+09:00 2019-01-30 05:32:35+09:00  \n",
       "40  2013-07-29 02:00:04+09:00 2014-06-17 20:17:03+09:00  \n",
       "26  2012-05-15 00:43:21+09:00 2014-04-03 21:48:57+09:00  "
      ]
     },
     "execution_count": 49,
     "metadata": {},
     "output_type": "execute_result"
    }
   ],
   "source": [
    "groups = df.groupby('id')\n",
    "sizes = groups.size()\n",
    "names = groups.name.first()\n",
    "species = groups.species.first()\n",
    "first_ping = groups.datetime.min()\n",
    "last_ping = groups.datetime.max()\n",
    "combined = pd.concat([sizes, names, species, first_ping, last_ping], axis=1).reset_index()\n",
    "combined.columns = ['id', 'ping_count', 'name', 'species', 'first_ping', 'last_ping']\n",
    "combined.sort_values('ping_count', ascending=False).head()"
   ]
  },
  {
   "cell_type": "markdown",
   "metadata": {},
   "source": [
    "##### Longest duration pinger\n",
    "Which shark has been pinging the longest, and how long has that been?"
   ]
  },
  {
   "cell_type": "code",
   "execution_count": 50,
   "metadata": {
    "ExecuteTime": {
     "end_time": "2019-02-20T18:44:55.154958Z",
     "start_time": "2019-02-20T18:44:55.140962Z"
    }
   },
   "outputs": [
    {
     "data": {
      "text/html": [
       "<div>\n",
       "<style scoped>\n",
       "    .dataframe tbody tr th:only-of-type {\n",
       "        vertical-align: middle;\n",
       "    }\n",
       "\n",
       "    .dataframe tbody tr th {\n",
       "        vertical-align: top;\n",
       "    }\n",
       "\n",
       "    .dataframe thead th {\n",
       "        text-align: right;\n",
       "    }\n",
       "</style>\n",
       "<table border=\"1\" class=\"dataframe\">\n",
       "  <thead>\n",
       "    <tr style=\"text-align: right;\">\n",
       "      <th></th>\n",
       "      <th>id</th>\n",
       "      <th>ping_count</th>\n",
       "      <th>name</th>\n",
       "      <th>species</th>\n",
       "      <th>first_ping</th>\n",
       "      <th>last_ping</th>\n",
       "      <th>duration</th>\n",
       "    </tr>\n",
       "  </thead>\n",
       "  <tbody>\n",
       "    <tr>\n",
       "      <th>45</th>\n",
       "      <td>65</td>\n",
       "      <td>1816</td>\n",
       "      <td>Katharine</td>\n",
       "      <td>White Shark (Carcharodon carcharias)</td>\n",
       "      <td>2013-08-21 13:42:26+09:00</td>\n",
       "      <td>2019-01-15 08:49:00+09:00</td>\n",
       "      <td>1972 days 19:06:34</td>\n",
       "    </tr>\n",
       "    <tr>\n",
       "      <th>2</th>\n",
       "      <td>5</td>\n",
       "      <td>204</td>\n",
       "      <td>Helen</td>\n",
       "      <td>White Shark (Carcharodon carcharias)</td>\n",
       "      <td>2012-03-11 00:15:10+09:00</td>\n",
       "      <td>2017-01-05 14:22:39+09:00</td>\n",
       "      <td>1761 days 14:07:29</td>\n",
       "    </tr>\n",
       "    <tr>\n",
       "      <th>35</th>\n",
       "      <td>41</td>\n",
       "      <td>3240</td>\n",
       "      <td>Mary Lee</td>\n",
       "      <td>White Shark (Carcharodon carcharias)</td>\n",
       "      <td>2012-09-18 18:34:28+09:00</td>\n",
       "      <td>2017-06-17 19:54:32+09:00</td>\n",
       "      <td>1733 days 01:20:04</td>\n",
       "    </tr>\n",
       "    <tr>\n",
       "      <th>36</th>\n",
       "      <td>56</td>\n",
       "      <td>2946</td>\n",
       "      <td>Lydia</td>\n",
       "      <td>White Shark (Carcharodon carcharias)</td>\n",
       "      <td>2013-03-03 17:03:13+09:00</td>\n",
       "      <td>2017-03-15 11:31:34+09:00</td>\n",
       "      <td>1472 days 18:28:21</td>\n",
       "    </tr>\n",
       "    <tr>\n",
       "      <th>19</th>\n",
       "      <td>25</td>\n",
       "      <td>1578</td>\n",
       "      <td>Cyndi</td>\n",
       "      <td>White Shark (Carcharodon carcharias)</td>\n",
       "      <td>2012-04-15 00:50:25+09:00</td>\n",
       "      <td>2015-09-22 00:00:43+09:00</td>\n",
       "      <td>1254 days 23:10:18</td>\n",
       "    </tr>\n",
       "  </tbody>\n",
       "</table>\n",
       "</div>"
      ],
      "text/plain": [
       "    id  ping_count       name                               species  \\\n",
       "45  65        1816  Katharine  White Shark (Carcharodon carcharias)   \n",
       "2    5         204     Helen   White Shark (Carcharodon carcharias)   \n",
       "35  41        3240   Mary Lee  White Shark (Carcharodon carcharias)   \n",
       "36  56        2946      Lydia  White Shark (Carcharodon carcharias)   \n",
       "19  25        1578      Cyndi  White Shark (Carcharodon carcharias)   \n",
       "\n",
       "                  first_ping                 last_ping           duration  \n",
       "45 2013-08-21 13:42:26+09:00 2019-01-15 08:49:00+09:00 1972 days 19:06:34  \n",
       "2  2012-03-11 00:15:10+09:00 2017-01-05 14:22:39+09:00 1761 days 14:07:29  \n",
       "35 2012-09-18 18:34:28+09:00 2017-06-17 19:54:32+09:00 1733 days 01:20:04  \n",
       "36 2013-03-03 17:03:13+09:00 2017-03-15 11:31:34+09:00 1472 days 18:28:21  \n",
       "19 2012-04-15 00:50:25+09:00 2015-09-22 00:00:43+09:00 1254 days 23:10:18  "
      ]
     },
     "execution_count": 50,
     "metadata": {},
     "output_type": "execute_result"
    }
   ],
   "source": [
    "combined['duration'] = combined.last_ping - combined.first_ping\n",
    "combined.sort_values('duration', ascending=False).head()"
   ]
  },
  {
   "cell_type": "markdown",
   "metadata": {},
   "source": [
    "##### Individual count by species\n",
    "Which shark species has the most individual sharks tagged?"
   ]
  },
  {
   "cell_type": "code",
   "execution_count": 51,
   "metadata": {
    "ExecuteTime": {
     "end_time": "2019-02-20T18:44:55.694785Z",
     "start_time": "2019-02-20T18:44:55.678787Z"
    }
   },
   "outputs": [
    {
     "data": {
      "text/plain": [
       "species\n",
       "Tiger Shark  (Galeocerdo cuvier)        82\n",
       "White Shark (Carcharodon carcharias)    74\n",
       "Blue Shark (Prionace glauca)            27\n",
       "Mako Shark (Isurus oxyrinchus)          18\n",
       "Hammerhead Shark (Sphyrna)              18\n",
       "Name: id, dtype: int64"
      ]
     },
     "execution_count": 51,
     "metadata": {},
     "output_type": "execute_result"
    }
   ],
   "source": [
    "df.groupby('species').id.nunique().sort_values(ascending=False).head()"
   ]
  },
  {
   "cell_type": "markdown",
   "metadata": {},
   "source": [
    "##### Average length/weight by species\n",
    "What is the average length and weight of each shark species?"
   ]
  },
  {
   "cell_type": "code",
   "execution_count": 52,
   "metadata": {
    "ExecuteTime": {
     "end_time": "2019-02-20T18:44:56.560503Z",
     "start_time": "2019-02-20T18:44:56.541509Z"
    }
   },
   "outputs": [
    {
     "data": {
      "text/html": [
       "<div>\n",
       "<style scoped>\n",
       "    .dataframe tbody tr th:only-of-type {\n",
       "        vertical-align: middle;\n",
       "    }\n",
       "\n",
       "    .dataframe tbody tr th {\n",
       "        vertical-align: top;\n",
       "    }\n",
       "\n",
       "    .dataframe thead th {\n",
       "        text-align: right;\n",
       "    }\n",
       "</style>\n",
       "<table border=\"1\" class=\"dataframe\">\n",
       "  <thead>\n",
       "    <tr style=\"text-align: right;\">\n",
       "      <th></th>\n",
       "      <th>weight</th>\n",
       "      <th>length</th>\n",
       "      <th>id</th>\n",
       "    </tr>\n",
       "    <tr>\n",
       "      <th>species</th>\n",
       "      <th></th>\n",
       "      <th></th>\n",
       "      <th></th>\n",
       "    </tr>\n",
       "  </thead>\n",
       "  <tbody>\n",
       "    <tr>\n",
       "      <th>Whale Shark (Rhincodon Typus)</th>\n",
       "      <td>25000.000000</td>\n",
       "      <td>327.906977</td>\n",
       "      <td>3</td>\n",
       "    </tr>\n",
       "    <tr>\n",
       "      <th>Bull Shark (Carcharhinus leucas)</th>\n",
       "      <td>290.400000</td>\n",
       "      <td>89.781022</td>\n",
       "      <td>4</td>\n",
       "    </tr>\n",
       "    <tr>\n",
       "      <th>Silky Shark (Carcharhinus falciformis)</th>\n",
       "      <td>132.881671</td>\n",
       "      <td>76.965197</td>\n",
       "      <td>4</td>\n",
       "    </tr>\n",
       "    <tr>\n",
       "      <th>Blacktip Shark (Carcharhinus limbatus)</th>\n",
       "      <td>138.378910</td>\n",
       "      <td>80.316209</td>\n",
       "      <td>9</td>\n",
       "    </tr>\n",
       "    <tr>\n",
       "      <th>Hammerhead Shark (Sphyrna)</th>\n",
       "      <td>126.547227</td>\n",
       "      <td>93.813280</td>\n",
       "      <td>18</td>\n",
       "    </tr>\n",
       "    <tr>\n",
       "      <th>Mako Shark (Isurus oxyrinchus)</th>\n",
       "      <td>240.823046</td>\n",
       "      <td>82.472374</td>\n",
       "      <td>18</td>\n",
       "    </tr>\n",
       "    <tr>\n",
       "      <th>Blue Shark (Prionace glauca)</th>\n",
       "      <td>243.634091</td>\n",
       "      <td>106.028852</td>\n",
       "      <td>27</td>\n",
       "    </tr>\n",
       "    <tr>\n",
       "      <th>White Shark (Carcharodon carcharias)</th>\n",
       "      <td>1554.997406</td>\n",
       "      <td>147.128146</td>\n",
       "      <td>74</td>\n",
       "    </tr>\n",
       "    <tr>\n",
       "      <th>Tiger Shark  (Galeocerdo cuvier)</th>\n",
       "      <td>468.066552</td>\n",
       "      <td>119.180099</td>\n",
       "      <td>82</td>\n",
       "    </tr>\n",
       "  </tbody>\n",
       "</table>\n",
       "</div>"
      ],
      "text/plain": [
       "                                              weight      length  id\n",
       "species                                                             \n",
       "Whale Shark (Rhincodon Typus)           25000.000000  327.906977   3\n",
       "Bull Shark (Carcharhinus leucas)          290.400000   89.781022   4\n",
       "Silky Shark (Carcharhinus falciformis)    132.881671   76.965197   4\n",
       "Blacktip Shark (Carcharhinus limbatus)    138.378910   80.316209   9\n",
       "Hammerhead Shark (Sphyrna)                126.547227   93.813280  18\n",
       "Mako Shark (Isurus oxyrinchus)            240.823046   82.472374  18\n",
       "Blue Shark (Prionace glauca)              243.634091  106.028852  27\n",
       "White Shark (Carcharodon carcharias)     1554.997406  147.128146  74\n",
       "Tiger Shark  (Galeocerdo cuvier)          468.066552  119.180099  82"
      ]
     },
     "execution_count": 52,
     "metadata": {},
     "output_type": "execute_result"
    }
   ],
   "source": [
    "df.groupby('species').agg({'weight' : 'mean', 'length' : 'mean', 'id' : 'nunique'}).sort_values('id')"
   ]
  },
  {
   "cell_type": "markdown",
   "metadata": {},
   "source": [
    "##### Biggest geographic box\n",
    "Which shark has the biggest geographic box (largest area calculated from min lat/lon to max lat/lon, not dist_traveled)?"
   ]
  },
  {
   "cell_type": "code",
   "execution_count": 53,
   "metadata": {
    "ExecuteTime": {
     "end_time": "2019-02-20T18:44:57.336266Z",
     "start_time": "2019-02-20T18:44:57.310260Z"
    }
   },
   "outputs": [
    {
     "data": {
      "text/html": [
       "<div>\n",
       "<style scoped>\n",
       "    .dataframe tbody tr th:only-of-type {\n",
       "        vertical-align: middle;\n",
       "    }\n",
       "\n",
       "    .dataframe tbody tr th {\n",
       "        vertical-align: top;\n",
       "    }\n",
       "\n",
       "    .dataframe thead th {\n",
       "        text-align: right;\n",
       "    }\n",
       "</style>\n",
       "<table border=\"1\" class=\"dataframe\">\n",
       "  <thead>\n",
       "    <tr style=\"text-align: right;\">\n",
       "      <th></th>\n",
       "      <th>id</th>\n",
       "      <th>min_lat</th>\n",
       "      <th>min_lon</th>\n",
       "      <th>max_lat</th>\n",
       "      <th>max_lon</th>\n",
       "      <th>name</th>\n",
       "      <th>species</th>\n",
       "    </tr>\n",
       "  </thead>\n",
       "  <tbody>\n",
       "    <tr>\n",
       "      <th>0</th>\n",
       "      <td>3</td>\n",
       "      <td>-34.88268</td>\n",
       "      <td>19.374590</td>\n",
       "      <td>-34.05394</td>\n",
       "      <td>22.64236</td>\n",
       "      <td>Oprah</td>\n",
       "      <td>White Shark (Carcharodon carcharias)</td>\n",
       "    </tr>\n",
       "    <tr>\n",
       "      <th>1</th>\n",
       "      <td>4</td>\n",
       "      <td>-36.70300</td>\n",
       "      <td>20.535038</td>\n",
       "      <td>-34.06300</td>\n",
       "      <td>22.74626</td>\n",
       "      <td>Albertina</td>\n",
       "      <td>White Shark (Carcharodon carcharias)</td>\n",
       "    </tr>\n",
       "    <tr>\n",
       "      <th>2</th>\n",
       "      <td>5</td>\n",
       "      <td>-37.23623</td>\n",
       "      <td>18.536350</td>\n",
       "      <td>-19.50057</td>\n",
       "      <td>37.84922</td>\n",
       "      <td>Helen</td>\n",
       "      <td>White Shark (Carcharodon carcharias)</td>\n",
       "    </tr>\n",
       "    <tr>\n",
       "      <th>3</th>\n",
       "      <td>6</td>\n",
       "      <td>-34.98600</td>\n",
       "      <td>19.061580</td>\n",
       "      <td>-24.77363</td>\n",
       "      <td>34.84301</td>\n",
       "      <td>Brenda</td>\n",
       "      <td>White Shark (Carcharodon carcharias)</td>\n",
       "    </tr>\n",
       "    <tr>\n",
       "      <th>4</th>\n",
       "      <td>7</td>\n",
       "      <td>-35.46100</td>\n",
       "      <td>17.916810</td>\n",
       "      <td>-32.74300</td>\n",
       "      <td>27.97646</td>\n",
       "      <td>Madiba</td>\n",
       "      <td>White Shark (Carcharodon carcharias)</td>\n",
       "    </tr>\n",
       "  </tbody>\n",
       "</table>\n",
       "</div>"
      ],
      "text/plain": [
       "   id   min_lat    min_lon   max_lat   max_lon        name  \\\n",
       "0   3 -34.88268  19.374590 -34.05394  22.64236       Oprah   \n",
       "1   4 -36.70300  20.535038 -34.06300  22.74626  Albertina    \n",
       "2   5 -37.23623  18.536350 -19.50057  37.84922      Helen    \n",
       "3   6 -34.98600  19.061580 -24.77363  34.84301     Brenda    \n",
       "4   7 -35.46100  17.916810 -32.74300  27.97646      Madiba   \n",
       "\n",
       "                                species  \n",
       "0  White Shark (Carcharodon carcharias)  \n",
       "1  White Shark (Carcharodon carcharias)  \n",
       "2  White Shark (Carcharodon carcharias)  \n",
       "3  White Shark (Carcharodon carcharias)  \n",
       "4  White Shark (Carcharodon carcharias)  "
      ]
     },
     "execution_count": 53,
     "metadata": {},
     "output_type": "execute_result"
    }
   ],
   "source": [
    "groups = df.groupby('id')\n",
    "combined = pd.concat([groups.latitude.min(), \n",
    "                      groups.longitude.min(), \n",
    "                      groups.latitude.max(), \n",
    "                      groups.longitude.max(), \n",
    "                      groups.name.first(), \n",
    "                      groups.species.first()], axis=1).reset_index()\n",
    "combined.columns = ['id', 'min_lat', 'min_lon', 'max_lat', 'max_lon', 'name', 'species']\n",
    "combined.head()"
   ]
  },
  {
   "cell_type": "code",
   "execution_count": 54,
   "metadata": {
    "ExecuteTime": {
     "end_time": "2019-02-20T18:44:57.672141Z",
     "start_time": "2019-02-20T18:44:57.656148Z"
    }
   },
   "outputs": [
    {
     "data": {
      "text/html": [
       "<div>\n",
       "<style scoped>\n",
       "    .dataframe tbody tr th:only-of-type {\n",
       "        vertical-align: middle;\n",
       "    }\n",
       "\n",
       "    .dataframe tbody tr th {\n",
       "        vertical-align: top;\n",
       "    }\n",
       "\n",
       "    .dataframe thead th {\n",
       "        text-align: right;\n",
       "    }\n",
       "</style>\n",
       "<table border=\"1\" class=\"dataframe\">\n",
       "  <thead>\n",
       "    <tr style=\"text-align: right;\">\n",
       "      <th></th>\n",
       "      <th>id</th>\n",
       "      <th>min_lat</th>\n",
       "      <th>min_lon</th>\n",
       "      <th>max_lat</th>\n",
       "      <th>max_lon</th>\n",
       "      <th>name</th>\n",
       "      <th>species</th>\n",
       "      <th>lat_diff</th>\n",
       "      <th>lon_diff</th>\n",
       "      <th>area</th>\n",
       "    </tr>\n",
       "  </thead>\n",
       "  <tbody>\n",
       "    <tr>\n",
       "      <th>29</th>\n",
       "      <td>35</td>\n",
       "      <td>-41.37174</td>\n",
       "      <td>18.51500</td>\n",
       "      <td>-6.15888</td>\n",
       "      <td>71.09830</td>\n",
       "      <td>Kathryn</td>\n",
       "      <td>White Shark (Carcharodon carcharias)</td>\n",
       "      <td>35.21286</td>\n",
       "      <td>52.58330</td>\n",
       "      <td>1851.608381</td>\n",
       "    </tr>\n",
       "    <tr>\n",
       "      <th>36</th>\n",
       "      <td>56</td>\n",
       "      <td>23.53902</td>\n",
       "      <td>-81.38180</td>\n",
       "      <td>53.65843</td>\n",
       "      <td>-27.48272</td>\n",
       "      <td>Lydia</td>\n",
       "      <td>White Shark (Carcharodon carcharias)</td>\n",
       "      <td>30.11941</td>\n",
       "      <td>53.89908</td>\n",
       "      <td>1623.408489</td>\n",
       "    </tr>\n",
       "    <tr>\n",
       "      <th>24</th>\n",
       "      <td>30</td>\n",
       "      <td>-43.21756</td>\n",
       "      <td>8.06196</td>\n",
       "      <td>-19.11709</td>\n",
       "      <td>66.72966</td>\n",
       "      <td>Vindication</td>\n",
       "      <td>White Shark (Carcharodon carcharias)</td>\n",
       "      <td>24.10047</td>\n",
       "      <td>58.66770</td>\n",
       "      <td>1413.919144</td>\n",
       "    </tr>\n",
       "    <tr>\n",
       "      <th>19</th>\n",
       "      <td>25</td>\n",
       "      <td>-45.61157</td>\n",
       "      <td>18.23305</td>\n",
       "      <td>-14.95129</td>\n",
       "      <td>61.87323</td>\n",
       "      <td>Cyndi</td>\n",
       "      <td>White Shark (Carcharodon carcharias)</td>\n",
       "      <td>30.66028</td>\n",
       "      <td>43.64018</td>\n",
       "      <td>1338.020138</td>\n",
       "    </tr>\n",
       "    <tr>\n",
       "      <th>30</th>\n",
       "      <td>36</td>\n",
       "      <td>-38.82461</td>\n",
       "      <td>17.47565</td>\n",
       "      <td>-10.52038</td>\n",
       "      <td>62.65514</td>\n",
       "      <td>Success</td>\n",
       "      <td>White Shark (Carcharodon carcharias)</td>\n",
       "      <td>28.30423</td>\n",
       "      <td>45.17949</td>\n",
       "      <td>1278.770676</td>\n",
       "    </tr>\n",
       "  </tbody>\n",
       "</table>\n",
       "</div>"
      ],
      "text/plain": [
       "    id   min_lat   min_lon   max_lat   max_lon         name  \\\n",
       "29  35 -41.37174  18.51500  -6.15888  71.09830      Kathryn   \n",
       "36  56  23.53902 -81.38180  53.65843 -27.48272        Lydia   \n",
       "24  30 -43.21756   8.06196 -19.11709  66.72966  Vindication   \n",
       "19  25 -45.61157  18.23305 -14.95129  61.87323        Cyndi   \n",
       "30  36 -38.82461  17.47565 -10.52038  62.65514      Success   \n",
       "\n",
       "                                 species  lat_diff  lon_diff         area  \n",
       "29  White Shark (Carcharodon carcharias)  35.21286  52.58330  1851.608381  \n",
       "36  White Shark (Carcharodon carcharias)  30.11941  53.89908  1623.408489  \n",
       "24  White Shark (Carcharodon carcharias)  24.10047  58.66770  1413.919144  \n",
       "19  White Shark (Carcharodon carcharias)  30.66028  43.64018  1338.020138  \n",
       "30  White Shark (Carcharodon carcharias)  28.30423  45.17949  1278.770676  "
      ]
     },
     "execution_count": 54,
     "metadata": {},
     "output_type": "execute_result"
    }
   ],
   "source": [
    "combined['lat_diff'] = combined.max_lat - combined.min_lat\n",
    "combined['lon_diff'] = combined.max_lon - combined.min_lon\n",
    "combined['area'] = combined['lat_diff'] * combined['lon_diff']\n",
    "combined.sort_values('area', ascending=False).head()"
   ]
  },
  {
   "cell_type": "markdown",
   "metadata": {},
   "source": [
    "#### Hard answers\n",
    "\n"
   ]
  },
  {
   "cell_type": "markdown",
   "metadata": {},
   "source": [
    "##### "
   ]
  },
  {
   "cell_type": "code",
   "execution_count": 58,
   "metadata": {
    "ExecuteTime": {
     "end_time": "2019-02-20T18:45:25.213213Z",
     "start_time": "2019-02-20T18:45:17.311791Z"
    }
   },
   "outputs": [
    {
     "data": {
      "text/html": [
       "<div>\n",
       "<style scoped>\n",
       "    .dataframe tbody tr th:only-of-type {\n",
       "        vertical-align: middle;\n",
       "    }\n",
       "\n",
       "    .dataframe tbody tr th {\n",
       "        vertical-align: top;\n",
       "    }\n",
       "\n",
       "    .dataframe thead th {\n",
       "        text-align: right;\n",
       "    }\n",
       "</style>\n",
       "<table border=\"1\" class=\"dataframe\">\n",
       "  <thead>\n",
       "    <tr style=\"text-align: right;\">\n",
       "      <th></th>\n",
       "      <th>active</th>\n",
       "      <th>datetime</th>\n",
       "      <th>id</th>\n",
       "      <th>latitude</th>\n",
       "      <th>longitude</th>\n",
       "      <th>name</th>\n",
       "      <th>gender</th>\n",
       "      <th>species</th>\n",
       "      <th>weight</th>\n",
       "      <th>length</th>\n",
       "      <th>tagDate</th>\n",
       "      <th>dist_total</th>\n",
       "      <th>geometry</th>\n",
       "    </tr>\n",
       "  </thead>\n",
       "  <tbody>\n",
       "    <tr>\n",
       "      <th>0</th>\n",
       "      <td>1</td>\n",
       "      <td>2014-07-06 13:57:28+09:00</td>\n",
       "      <td>3</td>\n",
       "      <td>-34.606610</td>\n",
       "      <td>21.152440</td>\n",
       "      <td>Oprah</td>\n",
       "      <td>Female</td>\n",
       "      <td>White Shark (Carcharodon carcharias)</td>\n",
       "      <td>686.0</td>\n",
       "      <td>118.0</td>\n",
       "      <td>7 March 2012</td>\n",
       "      <td>2816.662</td>\n",
       "      <td>POINT (-34.60661 21.15244)</td>\n",
       "    </tr>\n",
       "    <tr>\n",
       "      <th>1</th>\n",
       "      <td>1</td>\n",
       "      <td>2014-06-23 11:40:09+09:00</td>\n",
       "      <td>3</td>\n",
       "      <td>-34.787520</td>\n",
       "      <td>19.424790</td>\n",
       "      <td>Oprah</td>\n",
       "      <td>Female</td>\n",
       "      <td>White Shark (Carcharodon carcharias)</td>\n",
       "      <td>686.0</td>\n",
       "      <td>118.0</td>\n",
       "      <td>7 March 2012</td>\n",
       "      <td>2816.662</td>\n",
       "      <td>POINT (-34.78752 19.42479)</td>\n",
       "    </tr>\n",
       "    <tr>\n",
       "      <th>2</th>\n",
       "      <td>1</td>\n",
       "      <td>2014-06-15 22:15:44+09:00</td>\n",
       "      <td>3</td>\n",
       "      <td>-34.424870</td>\n",
       "      <td>21.097540</td>\n",
       "      <td>Oprah</td>\n",
       "      <td>Female</td>\n",
       "      <td>White Shark (Carcharodon carcharias)</td>\n",
       "      <td>686.0</td>\n",
       "      <td>118.0</td>\n",
       "      <td>7 March 2012</td>\n",
       "      <td>2816.662</td>\n",
       "      <td>POINT (-34.42487 21.09754)</td>\n",
       "    </tr>\n",
       "    <tr>\n",
       "      <th>3</th>\n",
       "      <td>1</td>\n",
       "      <td>2014-06-03 11:23:57+09:00</td>\n",
       "      <td>3</td>\n",
       "      <td>-34.704323</td>\n",
       "      <td>20.210134</td>\n",
       "      <td>Oprah</td>\n",
       "      <td>Female</td>\n",
       "      <td>White Shark (Carcharodon carcharias)</td>\n",
       "      <td>686.0</td>\n",
       "      <td>118.0</td>\n",
       "      <td>7 March 2012</td>\n",
       "      <td>2816.662</td>\n",
       "      <td>POINT (-34.70432271674724 20.21013441406251)</td>\n",
       "    </tr>\n",
       "    <tr>\n",
       "      <th>4</th>\n",
       "      <td>1</td>\n",
       "      <td>2014-05-29 04:53:57+09:00</td>\n",
       "      <td>3</td>\n",
       "      <td>-34.655560</td>\n",
       "      <td>19.374590</td>\n",
       "      <td>Oprah</td>\n",
       "      <td>Female</td>\n",
       "      <td>White Shark (Carcharodon carcharias)</td>\n",
       "      <td>686.0</td>\n",
       "      <td>118.0</td>\n",
       "      <td>7 March 2012</td>\n",
       "      <td>2816.662</td>\n",
       "      <td>POINT (-34.65555999999999 19.37459)</td>\n",
       "    </tr>\n",
       "  </tbody>\n",
       "</table>\n",
       "</div>"
      ],
      "text/plain": [
       "  active                  datetime  id   latitude  longitude   name  gender  \\\n",
       "0      1 2014-07-06 13:57:28+09:00   3 -34.606610  21.152440  Oprah  Female   \n",
       "1      1 2014-06-23 11:40:09+09:00   3 -34.787520  19.424790  Oprah  Female   \n",
       "2      1 2014-06-15 22:15:44+09:00   3 -34.424870  21.097540  Oprah  Female   \n",
       "3      1 2014-06-03 11:23:57+09:00   3 -34.704323  20.210134  Oprah  Female   \n",
       "4      1 2014-05-29 04:53:57+09:00   3 -34.655560  19.374590  Oprah  Female   \n",
       "\n",
       "                                species  weight  length       tagDate  \\\n",
       "0  White Shark (Carcharodon carcharias)   686.0   118.0  7 March 2012   \n",
       "1  White Shark (Carcharodon carcharias)   686.0   118.0  7 March 2012   \n",
       "2  White Shark (Carcharodon carcharias)   686.0   118.0  7 March 2012   \n",
       "3  White Shark (Carcharodon carcharias)   686.0   118.0  7 March 2012   \n",
       "4  White Shark (Carcharodon carcharias)   686.0   118.0  7 March 2012   \n",
       "\n",
       "   dist_total                                      geometry  \n",
       "0    2816.662                    POINT (-34.60661 21.15244)  \n",
       "1    2816.662                    POINT (-34.78752 19.42479)  \n",
       "2    2816.662                    POINT (-34.42487 21.09754)  \n",
       "3    2816.662  POINT (-34.70432271674724 20.21013441406251)  \n",
       "4    2816.662           POINT (-34.65555999999999 19.37459)  "
      ]
     },
     "execution_count": 58,
     "metadata": {},
     "output_type": "execute_result"
    }
   ],
   "source": [
    "import geopandas\n",
    "from shapely.geometry import Point\n",
    "\n",
    "df['geometry'] = df.apply(lambda row: Point(row.latitude, row.longitude), axis=1)\n",
    "df.head()"
   ]
  },
  {
   "cell_type": "code",
   "execution_count": 59,
   "metadata": {
    "ExecuteTime": {
     "end_time": "2019-02-20T18:46:22.455666Z",
     "start_time": "2019-02-20T18:46:22.446657Z"
    }
   },
   "outputs": [
    {
     "data": {
      "text/plain": [
       "(345, 13)"
      ]
     },
     "execution_count": 59,
     "metadata": {},
     "output_type": "execute_result"
    }
   ],
   "source": [
    "gpd = geopandas.GeoDataFrame(df.query(\"name == 'Emma'\"))\n",
    "gpd.shape"
   ]
  },
  {
   "cell_type": "code",
   "execution_count": 60,
   "metadata": {
    "ExecuteTime": {
     "end_time": "2019-02-20T18:46:22.661589Z",
     "start_time": "2019-02-20T18:46:22.629598Z"
    }
   },
   "outputs": [
    {
     "ename": "ModuleNotFoundError",
     "evalue": "No module named 'matplotlib'",
     "output_type": "error",
     "traceback": [
      "\u001b[1;31m---------------------------------------------------------------------------\u001b[0m",
      "\u001b[1;31mModuleNotFoundError\u001b[0m                       Traceback (most recent call last)",
      "\u001b[1;32m<ipython-input-60-bb9dda663bfc>\u001b[0m in \u001b[0;36m<module>\u001b[1;34m()\u001b[0m\n\u001b[1;32m----> 1\u001b[1;33m \u001b[0mgpd\u001b[0m\u001b[1;33m.\u001b[0m\u001b[0mplot\u001b[0m\u001b[1;33m(\u001b[0m\u001b[1;33m)\u001b[0m\u001b[1;33m\u001b[0m\u001b[1;33m\u001b[0m\u001b[0m\n\u001b[0m",
      "\u001b[1;32m~\\Anaconda2\\envs\\py36\\lib\\site-packages\\geopandas\\geodataframe.py\u001b[0m in \u001b[0;36mplot\u001b[1;34m(self, *args, **kwargs)\u001b[0m\n\u001b[0;32m    532\u001b[0m         \u001b[1;32mfrom\u001b[0m \u001b[0mthere\u001b[0m\u001b[1;33m.\u001b[0m\u001b[1;33m\u001b[0m\u001b[1;33m\u001b[0m\u001b[0m\n\u001b[0;32m    533\u001b[0m         \"\"\"\n\u001b[1;32m--> 534\u001b[1;33m         \u001b[1;32mreturn\u001b[0m \u001b[0mplot_dataframe\u001b[0m\u001b[1;33m(\u001b[0m\u001b[0mself\u001b[0m\u001b[1;33m,\u001b[0m \u001b[1;33m*\u001b[0m\u001b[0margs\u001b[0m\u001b[1;33m,\u001b[0m \u001b[1;33m**\u001b[0m\u001b[0mkwargs\u001b[0m\u001b[1;33m)\u001b[0m\u001b[1;33m\u001b[0m\u001b[1;33m\u001b[0m\u001b[0m\n\u001b[0m\u001b[0;32m    535\u001b[0m \u001b[1;33m\u001b[0m\u001b[0m\n\u001b[0;32m    536\u001b[0m     \u001b[0mplot\u001b[0m\u001b[1;33m.\u001b[0m\u001b[0m__doc__\u001b[0m \u001b[1;33m=\u001b[0m \u001b[0mplot_dataframe\u001b[0m\u001b[1;33m.\u001b[0m\u001b[0m__doc__\u001b[0m\u001b[1;33m\u001b[0m\u001b[1;33m\u001b[0m\u001b[0m\n",
      "\u001b[1;32m~\\Anaconda2\\envs\\py36\\lib\\site-packages\\geopandas\\plotting.py\u001b[0m in \u001b[0;36mplot_dataframe\u001b[1;34m(df, column, cmap, color, ax, categorical, legend, scheme, k, vmin, vmax, markersize, figsize, legend_kwds, **style_kwds)\u001b[0m\n\u001b[0;32m    394\u001b[0m         \u001b[0mcolumn\u001b[0m \u001b[1;33m=\u001b[0m \u001b[1;32mNone\u001b[0m\u001b[1;33m\u001b[0m\u001b[1;33m\u001b[0m\u001b[0m\n\u001b[0;32m    395\u001b[0m \u001b[1;33m\u001b[0m\u001b[0m\n\u001b[1;32m--> 396\u001b[1;33m     \u001b[1;32mimport\u001b[0m \u001b[0mmatplotlib\u001b[0m\u001b[1;33m\u001b[0m\u001b[1;33m\u001b[0m\u001b[0m\n\u001b[0m\u001b[0;32m    397\u001b[0m     \u001b[1;32mimport\u001b[0m \u001b[0mmatplotlib\u001b[0m\u001b[1;33m.\u001b[0m\u001b[0mpyplot\u001b[0m \u001b[1;32mas\u001b[0m \u001b[0mplt\u001b[0m\u001b[1;33m\u001b[0m\u001b[1;33m\u001b[0m\u001b[0m\n\u001b[0;32m    398\u001b[0m \u001b[1;33m\u001b[0m\u001b[0m\n",
      "\u001b[1;31mModuleNotFoundError\u001b[0m: No module named 'matplotlib'"
     ]
    }
   ],
   "source": [
    "gpd.plot()"
   ]
  },
  {
   "cell_type": "code",
   "execution_count": null,
   "metadata": {
    "ExecuteTime": {
     "end_time": "2019-02-20T18:43:21.050467Z",
     "start_time": "2019-02-20T18:43:20.909Z"
    }
   },
   "outputs": [],
   "source": [
    "df.head()"
   ]
  },
  {
   "cell_type": "code",
   "execution_count": null,
   "metadata": {
    "ExecuteTime": {
     "end_time": "2019-02-20T18:43:21.051466Z",
     "start_time": "2019-02-20T18:43:20.911Z"
    }
   },
   "outputs": [],
   "source": [
    "emma = df.query('name == \"Emma\"')\n",
    "emma.shape"
   ]
  },
  {
   "cell_type": "code",
   "execution_count": null,
   "metadata": {
    "ExecuteTime": {
     "end_time": "2019-02-20T18:43:21.052466Z",
     "start_time": "2019-02-20T18:43:20.914Z"
    }
   },
   "outputs": [],
   "source": [
    "emma.head()"
   ]
  },
  {
   "cell_type": "code",
   "execution_count": null,
   "metadata": {},
   "outputs": [],
   "source": []
  },
  {
   "cell_type": "code",
   "execution_count": null,
   "metadata": {
    "ExecuteTime": {
     "end_time": "2019-02-20T18:43:21.053465Z",
     "start_time": "2019-02-20T18:43:20.918Z"
    }
   },
   "outputs": [],
   "source": [
    "import geopandas"
   ]
  },
  {
   "cell_type": "code",
   "execution_count": null,
   "metadata": {
    "ExecuteTime": {
     "end_time": "2019-02-20T18:43:21.054500Z",
     "start_time": "2019-02-20T18:43:20.922Z"
    }
   },
   "outputs": [],
   "source": [
    "emma"
   ]
  }
 ],
 "metadata": {
  "kernelspec": {
   "display_name": "Python3.6",
   "language": "python",
   "name": "py36"
  },
  "language_info": {
   "codemirror_mode": {
    "name": "ipython",
    "version": 3
   },
   "file_extension": ".py",
   "mimetype": "text/x-python",
   "name": "python",
   "nbconvert_exporter": "python",
   "pygments_lexer": "ipython3",
   "version": "3.6.8"
  },
  "toc": {
   "base_numbering": 1,
   "nav_menu": {},
   "number_sections": true,
   "sideBar": true,
   "skip_h1_title": false,
   "title_cell": "Table of Contents",
   "title_sidebar": "Contents",
   "toc_cell": false,
   "toc_position": {},
   "toc_section_display": true,
   "toc_window_display": true
  }
 },
 "nbformat": 4,
 "nbformat_minor": 2
}
