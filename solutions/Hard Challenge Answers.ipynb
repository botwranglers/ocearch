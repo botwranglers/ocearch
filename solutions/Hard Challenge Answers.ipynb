{
 "cells": [
  {
   "cell_type": "markdown",
   "metadata": {},
   "source": [
    "### Challenge questions\n",
    "\n",
    "Easy questions:\n",
    "\n",
    " 1. How many total pings are in the Ocearch shark data?\n",
    " 2. How many unique species of sharks are in the data set?\n",
    " 3. What is the name, weight, and species of the heaviest shark(s)?\n",
    " 4. When and where was the very first ping?\n",
    " 5. Excluding results with 0 distance traveled: what's the minimum, average, and maximum travel distances?\n",
    " \n",
    "Intermediate questions:\n",
    "\n",
    " 1. Which shark had the most pings?\n",
    " 2. Which shark has been pinging the longest, and how long has that been?\n",
    " 3. Which shark species has the most individual sharks tagged?\n",
    " 4. What is the average length and weight of each shark species?\n",
    " 5. Which shark has the biggest geographic box (largest distance from min lat/lon to max lat/lon, not dist_traveled)?\n",
    " \n",
    "Hard questions:\n",
    " 1. Use folium to plot the first ping, last ping, and a line connecting each ping for the Tiger shark Emma.  Make the first ping marker a 'play' icon, and last ping icon a 'stop' icon.\n",
    " 2. Resample Emma data to have a daily lat/lon average, and interpolate missing results.  Plot a marker for each day, and color them blue for hard data, green for interpolated lat/lons\n",
    " 3. Resample all shark data for daily lat/lon averages, and interpolate missing results\n",
    " 4. Calculate distance between Emma and other sharks on a daily basis\n",
    " 5. Identify the shark that has the shortest average distance to Emma per day (minimum 50 days of pings with Emma)\n",
    " 6. Plot Emma and her closest buddy: interpolated results for each in green, Emma as circle icons and her buddy as square icons"
   ]
  },
  {
   "cell_type": "markdown",
   "metadata": {},
   "source": [
    "### Load data"
   ]
  },
  {
   "cell_type": "markdown",
   "metadata": {},
   "source": [
    "#### Query Ocearch API"
   ]
  },
  {
   "cell_type": "code",
   "execution_count": 1,
   "metadata": {
    "ExecuteTime": {
     "end_time": "2019-02-23T02:33:00.784133Z",
     "start_time": "2019-02-23T02:32:56.020412Z"
    }
   },
   "outputs": [
    {
     "data": {
      "text/plain": [
       "<Response [200]>"
      ]
     },
     "execution_count": 1,
     "metadata": {},
     "output_type": "execute_result"
    }
   ],
   "source": [
    "import requests\n",
    "url = 'http://www.ocearch.org/tracker/ajax/filter-sharks'\n",
    "\n",
    "resp = requests.get(url)\n",
    "resp"
   ]
  },
  {
   "cell_type": "markdown",
   "metadata": {},
   "source": [
    "##### Turn json into dataframe"
   ]
  },
  {
   "cell_type": "code",
   "execution_count": 2,
   "metadata": {
    "ExecuteTime": {
     "end_time": "2019-02-23T02:33:01.333957Z",
     "start_time": "2019-02-23T02:33:00.786132Z"
    }
   },
   "outputs": [
    {
     "data": {
      "text/html": [
       "<div>\n",
       "<style scoped>\n",
       "    .dataframe tbody tr th:only-of-type {\n",
       "        vertical-align: middle;\n",
       "    }\n",
       "\n",
       "    .dataframe tbody tr th {\n",
       "        vertical-align: top;\n",
       "    }\n",
       "\n",
       "    .dataframe thead th {\n",
       "        text-align: right;\n",
       "    }\n",
       "</style>\n",
       "<table border=\"1\" class=\"dataframe\">\n",
       "  <thead>\n",
       "    <tr style=\"text-align: right;\">\n",
       "      <th></th>\n",
       "      <th>id</th>\n",
       "      <th>name</th>\n",
       "      <th>gender</th>\n",
       "      <th>species</th>\n",
       "      <th>weight</th>\n",
       "      <th>length</th>\n",
       "      <th>tagDate</th>\n",
       "      <th>dist_total</th>\n",
       "    </tr>\n",
       "  </thead>\n",
       "  <tbody>\n",
       "    <tr>\n",
       "      <th>0</th>\n",
       "      <td>3</td>\n",
       "      <td>Oprah</td>\n",
       "      <td>Female</td>\n",
       "      <td>White Shark (Carcharodon carcharias)</td>\n",
       "      <td>686 lb</td>\n",
       "      <td>9 ft 10 in.</td>\n",
       "      <td>7 March 2012</td>\n",
       "      <td>2816.662</td>\n",
       "    </tr>\n",
       "    <tr>\n",
       "      <th>1</th>\n",
       "      <td>4</td>\n",
       "      <td>Albertina</td>\n",
       "      <td>Female</td>\n",
       "      <td>White Shark (Carcharodon carcharias)</td>\n",
       "      <td>1110 lb</td>\n",
       "      <td>11 ft 6 in.</td>\n",
       "      <td>8 March 2012</td>\n",
       "      <td>1830.593</td>\n",
       "    </tr>\n",
       "    <tr>\n",
       "      <th>2</th>\n",
       "      <td>5</td>\n",
       "      <td>Helen</td>\n",
       "      <td>Female</td>\n",
       "      <td>White Shark (Carcharodon carcharias)</td>\n",
       "      <td>765 lb</td>\n",
       "      <td>10 ft 2 in.</td>\n",
       "      <td>8 March 2012</td>\n",
       "      <td>4436.661</td>\n",
       "    </tr>\n",
       "    <tr>\n",
       "      <th>3</th>\n",
       "      <td>6</td>\n",
       "      <td>Brenda</td>\n",
       "      <td>Female</td>\n",
       "      <td>White Shark (Carcharodon carcharias)</td>\n",
       "      <td>1310 lb</td>\n",
       "      <td>12 ft 2 in.</td>\n",
       "      <td>8 March 2012</td>\n",
       "      <td>2966.902</td>\n",
       "    </tr>\n",
       "    <tr>\n",
       "      <th>4</th>\n",
       "      <td>7</td>\n",
       "      <td>Madiba</td>\n",
       "      <td>Male</td>\n",
       "      <td>White Shark (Carcharodon carcharias)</td>\n",
       "      <td>659 lb</td>\n",
       "      <td>9 ft 8 in.</td>\n",
       "      <td>8 March 2012</td>\n",
       "      <td>3537.423</td>\n",
       "    </tr>\n",
       "  </tbody>\n",
       "</table>\n",
       "</div>"
      ],
      "text/plain": [
       "   id        name  gender                               species   weight  \\\n",
       "0   3       Oprah  Female  White Shark (Carcharodon carcharias)   686 lb   \n",
       "1   4  Albertina   Female  White Shark (Carcharodon carcharias)  1110 lb   \n",
       "2   5      Helen   Female  White Shark (Carcharodon carcharias)   765 lb   \n",
       "3   6     Brenda   Female  White Shark (Carcharodon carcharias)  1310 lb   \n",
       "4   7      Madiba    Male  White Shark (Carcharodon carcharias)   659 lb   \n",
       "\n",
       "          length       tagDate dist_total  \n",
       "0    9 ft 10 in.  7 March 2012   2816.662  \n",
       "1   11 ft 6 in.   8 March 2012   1830.593  \n",
       "2    10 ft 2 in.  8 March 2012   4436.661  \n",
       "3  12 ft 2 in.    8 March 2012   2966.902  \n",
       "4    9 ft 8 in.   8 March 2012   3537.423  "
      ]
     },
     "execution_count": 2,
     "metadata": {},
     "output_type": "execute_result"
    }
   ],
   "source": [
    "import pandas as pd\n",
    "df = pd.DataFrame(resp.json())\n",
    "columns = ['id', 'name', 'gender', 'species', 'weight', 'length', 'tagDate', 'dist_total']\n",
    "df[columns].head()"
   ]
  },
  {
   "cell_type": "code",
   "execution_count": 3,
   "metadata": {
    "ExecuteTime": {
     "end_time": "2019-02-23T02:33:01.337954Z",
     "start_time": "2019-02-23T02:33:01.334957Z"
    }
   },
   "outputs": [
    {
     "data": {
      "text/plain": [
       "(275, 30)"
      ]
     },
     "execution_count": 3,
     "metadata": {},
     "output_type": "execute_result"
    }
   ],
   "source": [
    "df.shape"
   ]
  },
  {
   "cell_type": "markdown",
   "metadata": {},
   "source": [
    "##### Filter out non-shark data"
   ]
  },
  {
   "cell_type": "code",
   "execution_count": 4,
   "metadata": {
    "ExecuteTime": {
     "end_time": "2019-02-23T02:33:01.467622Z",
     "start_time": "2019-02-23T02:33:01.340938Z"
    }
   },
   "outputs": [
    {
     "data": {
      "text/plain": [
       "Tiger Shark  (Galeocerdo cuvier)                   82\n",
       "White Shark (Carcharodon carcharias)               74\n",
       "Blue Shark (Prionace glauca)                       27\n",
       "Hammerhead Shark (Sphyrna)                         18\n",
       "Mako Shark (Isurus oxyrinchus)                     18\n",
       "Olive Ridley Turtle (Lepidochelys olivacea)        16\n",
       "Blacktip Shark (Carcharhinus limbatus)              9\n",
       "Loggerhead Sea Turtle (Caretta caretta)             9\n",
       "Bull Shark (Carcharhinus leucas)                    4\n",
       "Guadalupe Fur Seals (Arctocephalus townsendi)       4\n",
       "Silky Shark (Carcharhinus falciformis)              4\n",
       "Whale Shark (Rhincodon Typus)                       3\n",
       "American alligator (Alligator mississippiensis)     2\n",
       "Green Sea Turtle (Chelonia mydas)                   1\n",
       "Ship (Motor Vessel)                                 1\n",
       " Harbor Seal (Phoca vitulina)                       1\n",
       "Dolphin (Delphinus capensis)                        1\n",
       "Pilot Whale (Globicephala)                          1\n",
       "Name: species, dtype: int64"
      ]
     },
     "execution_count": 4,
     "metadata": {},
     "output_type": "execute_result"
    }
   ],
   "source": [
    "df.species.value_counts()"
   ]
  },
  {
   "cell_type": "code",
   "execution_count": 5,
   "metadata": {
    "ExecuteTime": {
     "end_time": "2019-02-23T02:33:01.576489Z",
     "start_time": "2019-02-23T02:33:01.480592Z"
    }
   },
   "outputs": [
    {
     "data": {
      "text/plain": [
       "(239, 30)"
      ]
     },
     "execution_count": 5,
     "metadata": {},
     "output_type": "execute_result"
    }
   ],
   "source": [
    "df = df[df.species.fillna('').str.contains('shark', case=False)]\n",
    "df.shape"
   ]
  },
  {
   "cell_type": "markdown",
   "metadata": {},
   "source": [
    "##### Extract ping data"
   ]
  },
  {
   "cell_type": "code",
   "execution_count": 6,
   "metadata": {
    "ExecuteTime": {
     "end_time": "2019-02-23T02:33:01.999229Z",
     "start_time": "2019-02-23T02:33:01.577489Z"
    }
   },
   "outputs": [
    {
     "data": {
      "text/plain": [
       "239"
      ]
     },
     "execution_count": 6,
     "metadata": {},
     "output_type": "execute_result"
    }
   ],
   "source": [
    "ping_frames = []\n",
    "for row in df.itertuples():\n",
    "    ping_frame = pd.DataFrame(row.pings)\n",
    "    ping_frame['id'] = row.id\n",
    "    ping_frames.append(ping_frame)\n",
    "    \n",
    "len(ping_frames)"
   ]
  },
  {
   "cell_type": "markdown",
   "metadata": {},
   "source": [
    "##### Merge shark/ping data"
   ]
  },
  {
   "cell_type": "code",
   "execution_count": 7,
   "metadata": {
    "ExecuteTime": {
     "end_time": "2019-02-23T02:33:02.094197Z",
     "start_time": "2019-02-23T02:33:02.000243Z"
    }
   },
   "outputs": [
    {
     "data": {
      "text/plain": [
       "(65938, 6)"
      ]
     },
     "execution_count": 7,
     "metadata": {},
     "output_type": "execute_result"
    }
   ],
   "source": [
    "pings = pd.concat(ping_frames)\n",
    "pings.shape"
   ]
  },
  {
   "cell_type": "code",
   "execution_count": 8,
   "metadata": {
    "ExecuteTime": {
     "end_time": "2019-02-23T02:33:02.210514Z",
     "start_time": "2019-02-23T02:33:02.095196Z"
    }
   },
   "outputs": [
    {
     "data": {
      "text/plain": [
       "(65938, 13)"
      ]
     },
     "execution_count": 8,
     "metadata": {},
     "output_type": "execute_result"
    }
   ],
   "source": [
    "joined = pings.merge(df[columns], on='id')\n",
    "joined.shape"
   ]
  },
  {
   "cell_type": "code",
   "execution_count": 9,
   "metadata": {
    "ExecuteTime": {
     "end_time": "2019-02-23T02:33:02.320668Z",
     "start_time": "2019-02-23T02:33:02.212513Z"
    }
   },
   "outputs": [
    {
     "data": {
      "text/html": [
       "<div>\n",
       "<style scoped>\n",
       "    .dataframe tbody tr th:only-of-type {\n",
       "        vertical-align: middle;\n",
       "    }\n",
       "\n",
       "    .dataframe tbody tr th {\n",
       "        vertical-align: top;\n",
       "    }\n",
       "\n",
       "    .dataframe thead th {\n",
       "        text-align: right;\n",
       "    }\n",
       "</style>\n",
       "<table border=\"1\" class=\"dataframe\">\n",
       "  <thead>\n",
       "    <tr style=\"text-align: right;\">\n",
       "      <th></th>\n",
       "      <th>active</th>\n",
       "      <th>datetime</th>\n",
       "      <th>id</th>\n",
       "      <th>latitude</th>\n",
       "      <th>longitude</th>\n",
       "      <th>tz_datetime</th>\n",
       "      <th>name</th>\n",
       "      <th>gender</th>\n",
       "      <th>species</th>\n",
       "      <th>weight</th>\n",
       "      <th>length</th>\n",
       "      <th>tagDate</th>\n",
       "      <th>dist_total</th>\n",
       "    </tr>\n",
       "  </thead>\n",
       "  <tbody>\n",
       "    <tr>\n",
       "      <th>0</th>\n",
       "      <td>1</td>\n",
       "      <td>6 July 2014 1:57:28 PM</td>\n",
       "      <td>3</td>\n",
       "      <td>-34.60661</td>\n",
       "      <td>21.15244</td>\n",
       "      <td>6 July 2014 1:57:28 PM +0900</td>\n",
       "      <td>Oprah</td>\n",
       "      <td>Female</td>\n",
       "      <td>White Shark (Carcharodon carcharias)</td>\n",
       "      <td>686 lb</td>\n",
       "      <td>9 ft 10 in.</td>\n",
       "      <td>7 March 2012</td>\n",
       "      <td>2816.662</td>\n",
       "    </tr>\n",
       "    <tr>\n",
       "      <th>1</th>\n",
       "      <td>1</td>\n",
       "      <td>23 June 2014 11:40:09 AM</td>\n",
       "      <td>3</td>\n",
       "      <td>-34.78752</td>\n",
       "      <td>19.42479</td>\n",
       "      <td>23 June 2014 11:40:09 AM +0900</td>\n",
       "      <td>Oprah</td>\n",
       "      <td>Female</td>\n",
       "      <td>White Shark (Carcharodon carcharias)</td>\n",
       "      <td>686 lb</td>\n",
       "      <td>9 ft 10 in.</td>\n",
       "      <td>7 March 2012</td>\n",
       "      <td>2816.662</td>\n",
       "    </tr>\n",
       "    <tr>\n",
       "      <th>2</th>\n",
       "      <td>1</td>\n",
       "      <td>15 June 2014 10:15:44 PM</td>\n",
       "      <td>3</td>\n",
       "      <td>-34.42487</td>\n",
       "      <td>21.09754</td>\n",
       "      <td>15 June 2014 10:15:44 PM +0900</td>\n",
       "      <td>Oprah</td>\n",
       "      <td>Female</td>\n",
       "      <td>White Shark (Carcharodon carcharias)</td>\n",
       "      <td>686 lb</td>\n",
       "      <td>9 ft 10 in.</td>\n",
       "      <td>7 March 2012</td>\n",
       "      <td>2816.662</td>\n",
       "    </tr>\n",
       "    <tr>\n",
       "      <th>3</th>\n",
       "      <td>1</td>\n",
       "      <td>3 June 2014 11:23:57 AM</td>\n",
       "      <td>3</td>\n",
       "      <td>-34.70432271674724</td>\n",
       "      <td>20.21013441406251</td>\n",
       "      <td>3 June 2014 11:23:57 AM +0900</td>\n",
       "      <td>Oprah</td>\n",
       "      <td>Female</td>\n",
       "      <td>White Shark (Carcharodon carcharias)</td>\n",
       "      <td>686 lb</td>\n",
       "      <td>9 ft 10 in.</td>\n",
       "      <td>7 March 2012</td>\n",
       "      <td>2816.662</td>\n",
       "    </tr>\n",
       "    <tr>\n",
       "      <th>4</th>\n",
       "      <td>1</td>\n",
       "      <td>29 May 2014 4:53:57 AM</td>\n",
       "      <td>3</td>\n",
       "      <td>-34.65556</td>\n",
       "      <td>19.37459</td>\n",
       "      <td>29 May 2014 4:53:57 AM +0900</td>\n",
       "      <td>Oprah</td>\n",
       "      <td>Female</td>\n",
       "      <td>White Shark (Carcharodon carcharias)</td>\n",
       "      <td>686 lb</td>\n",
       "      <td>9 ft 10 in.</td>\n",
       "      <td>7 March 2012</td>\n",
       "      <td>2816.662</td>\n",
       "    </tr>\n",
       "  </tbody>\n",
       "</table>\n",
       "</div>"
      ],
      "text/plain": [
       "  active                  datetime  id            latitude          longitude  \\\n",
       "0      1    6 July 2014 1:57:28 PM   3           -34.60661           21.15244   \n",
       "1      1  23 June 2014 11:40:09 AM   3           -34.78752           19.42479   \n",
       "2      1  15 June 2014 10:15:44 PM   3           -34.42487           21.09754   \n",
       "3      1   3 June 2014 11:23:57 AM   3  -34.70432271674724  20.21013441406251   \n",
       "4      1    29 May 2014 4:53:57 AM   3           -34.65556           19.37459   \n",
       "\n",
       "                      tz_datetime   name  gender  \\\n",
       "0    6 July 2014 1:57:28 PM +0900  Oprah  Female   \n",
       "1  23 June 2014 11:40:09 AM +0900  Oprah  Female   \n",
       "2  15 June 2014 10:15:44 PM +0900  Oprah  Female   \n",
       "3   3 June 2014 11:23:57 AM +0900  Oprah  Female   \n",
       "4    29 May 2014 4:53:57 AM +0900  Oprah  Female   \n",
       "\n",
       "                                species  weight       length       tagDate  \\\n",
       "0  White Shark (Carcharodon carcharias)  686 lb  9 ft 10 in.  7 March 2012   \n",
       "1  White Shark (Carcharodon carcharias)  686 lb  9 ft 10 in.  7 March 2012   \n",
       "2  White Shark (Carcharodon carcharias)  686 lb  9 ft 10 in.  7 March 2012   \n",
       "3  White Shark (Carcharodon carcharias)  686 lb  9 ft 10 in.  7 March 2012   \n",
       "4  White Shark (Carcharodon carcharias)  686 lb  9 ft 10 in.  7 March 2012   \n",
       "\n",
       "  dist_total  \n",
       "0   2816.662  \n",
       "1   2816.662  \n",
       "2   2816.662  \n",
       "3   2816.662  \n",
       "4   2816.662  "
      ]
     },
     "execution_count": 9,
     "metadata": {},
     "output_type": "execute_result"
    }
   ],
   "source": [
    "joined.head()"
   ]
  },
  {
   "cell_type": "markdown",
   "metadata": {},
   "source": [
    "##### Clean data"
   ]
  },
  {
   "cell_type": "code",
   "execution_count": 10,
   "metadata": {
    "ExecuteTime": {
     "end_time": "2019-02-23T02:33:02.464179Z",
     "start_time": "2019-02-23T02:33:02.323688Z"
    }
   },
   "outputs": [
    {
     "data": {
      "text/plain": [
       "(65938, 13)"
      ]
     },
     "execution_count": 10,
     "metadata": {},
     "output_type": "execute_result"
    }
   ],
   "source": [
    "df = joined # don't need a reference to the original resp.json() df anymore\n",
    "df.shape"
   ]
  },
  {
   "cell_type": "code",
   "execution_count": 11,
   "metadata": {
    "ExecuteTime": {
     "end_time": "2019-02-23T02:33:20.575268Z",
     "start_time": "2019-02-23T02:33:02.467180Z"
    },
    "scrolled": true
   },
   "outputs": [
    {
     "data": {
      "text/html": [
       "<div>\n",
       "<style scoped>\n",
       "    .dataframe tbody tr th:only-of-type {\n",
       "        vertical-align: middle;\n",
       "    }\n",
       "\n",
       "    .dataframe tbody tr th {\n",
       "        vertical-align: top;\n",
       "    }\n",
       "\n",
       "    .dataframe thead th {\n",
       "        text-align: right;\n",
       "    }\n",
       "</style>\n",
       "<table border=\"1\" class=\"dataframe\">\n",
       "  <thead>\n",
       "    <tr style=\"text-align: right;\">\n",
       "      <th></th>\n",
       "      <th>active</th>\n",
       "      <th>datetime</th>\n",
       "      <th>id</th>\n",
       "      <th>latitude</th>\n",
       "      <th>longitude</th>\n",
       "      <th>name</th>\n",
       "      <th>gender</th>\n",
       "      <th>species</th>\n",
       "      <th>weight</th>\n",
       "      <th>length</th>\n",
       "      <th>tagDate</th>\n",
       "      <th>dist_total</th>\n",
       "    </tr>\n",
       "  </thead>\n",
       "  <tbody>\n",
       "    <tr>\n",
       "      <th>0</th>\n",
       "      <td>1</td>\n",
       "      <td>2014-07-06 13:57:28+09:00</td>\n",
       "      <td>3</td>\n",
       "      <td>-34.606610</td>\n",
       "      <td>21.152440</td>\n",
       "      <td>Oprah</td>\n",
       "      <td>Female</td>\n",
       "      <td>White Shark (Carcharodon carcharias)</td>\n",
       "      <td>686.0</td>\n",
       "      <td>118.0</td>\n",
       "      <td>7 March 2012</td>\n",
       "      <td>2816.662</td>\n",
       "    </tr>\n",
       "    <tr>\n",
       "      <th>1</th>\n",
       "      <td>1</td>\n",
       "      <td>2014-06-23 11:40:09+09:00</td>\n",
       "      <td>3</td>\n",
       "      <td>-34.787520</td>\n",
       "      <td>19.424790</td>\n",
       "      <td>Oprah</td>\n",
       "      <td>Female</td>\n",
       "      <td>White Shark (Carcharodon carcharias)</td>\n",
       "      <td>686.0</td>\n",
       "      <td>118.0</td>\n",
       "      <td>7 March 2012</td>\n",
       "      <td>2816.662</td>\n",
       "    </tr>\n",
       "    <tr>\n",
       "      <th>2</th>\n",
       "      <td>1</td>\n",
       "      <td>2014-06-15 22:15:44+09:00</td>\n",
       "      <td>3</td>\n",
       "      <td>-34.424870</td>\n",
       "      <td>21.097540</td>\n",
       "      <td>Oprah</td>\n",
       "      <td>Female</td>\n",
       "      <td>White Shark (Carcharodon carcharias)</td>\n",
       "      <td>686.0</td>\n",
       "      <td>118.0</td>\n",
       "      <td>7 March 2012</td>\n",
       "      <td>2816.662</td>\n",
       "    </tr>\n",
       "    <tr>\n",
       "      <th>3</th>\n",
       "      <td>1</td>\n",
       "      <td>2014-06-03 11:23:57+09:00</td>\n",
       "      <td>3</td>\n",
       "      <td>-34.704323</td>\n",
       "      <td>20.210134</td>\n",
       "      <td>Oprah</td>\n",
       "      <td>Female</td>\n",
       "      <td>White Shark (Carcharodon carcharias)</td>\n",
       "      <td>686.0</td>\n",
       "      <td>118.0</td>\n",
       "      <td>7 March 2012</td>\n",
       "      <td>2816.662</td>\n",
       "    </tr>\n",
       "    <tr>\n",
       "      <th>4</th>\n",
       "      <td>1</td>\n",
       "      <td>2014-05-29 04:53:57+09:00</td>\n",
       "      <td>3</td>\n",
       "      <td>-34.655560</td>\n",
       "      <td>19.374590</td>\n",
       "      <td>Oprah</td>\n",
       "      <td>Female</td>\n",
       "      <td>White Shark (Carcharodon carcharias)</td>\n",
       "      <td>686.0</td>\n",
       "      <td>118.0</td>\n",
       "      <td>7 March 2012</td>\n",
       "      <td>2816.662</td>\n",
       "    </tr>\n",
       "  </tbody>\n",
       "</table>\n",
       "</div>"
      ],
      "text/plain": [
       "  active                  datetime  id   latitude  longitude   name  gender  \\\n",
       "0      1 2014-07-06 13:57:28+09:00   3 -34.606610  21.152440  Oprah  Female   \n",
       "1      1 2014-06-23 11:40:09+09:00   3 -34.787520  19.424790  Oprah  Female   \n",
       "2      1 2014-06-15 22:15:44+09:00   3 -34.424870  21.097540  Oprah  Female   \n",
       "3      1 2014-06-03 11:23:57+09:00   3 -34.704323  20.210134  Oprah  Female   \n",
       "4      1 2014-05-29 04:53:57+09:00   3 -34.655560  19.374590  Oprah  Female   \n",
       "\n",
       "                                species  weight  length       tagDate  \\\n",
       "0  White Shark (Carcharodon carcharias)   686.0   118.0  7 March 2012   \n",
       "1  White Shark (Carcharodon carcharias)   686.0   118.0  7 March 2012   \n",
       "2  White Shark (Carcharodon carcharias)   686.0   118.0  7 March 2012   \n",
       "3  White Shark (Carcharodon carcharias)   686.0   118.0  7 March 2012   \n",
       "4  White Shark (Carcharodon carcharias)   686.0   118.0  7 March 2012   \n",
       "\n",
       "   dist_total  \n",
       "0    2816.662  \n",
       "1    2816.662  \n",
       "2    2816.662  \n",
       "3    2816.662  \n",
       "4    2816.662  "
      ]
     },
     "execution_count": 11,
     "metadata": {},
     "output_type": "execute_result"
    }
   ],
   "source": [
    "def clean_weight(value):\n",
    "    if not value:\n",
    "        return value\n",
    "    # most values are like \"123 lb\"\n",
    "    value = str(value)\n",
    "    for character in 'lbs,+':\n",
    "        value = value.replace(character, '')\n",
    "    return float(value)\n",
    "\n",
    "def clean_length(value):\n",
    "    if not value:\n",
    "        return value\n",
    "    # most length values are like '3 ft 4 in.'\n",
    "    value = str(value)\n",
    "    total = 0\n",
    "    if 'ft' in value:\n",
    "        ft, inches = value.split('ft')\n",
    "        total += int(ft.strip()) * 12\n",
    "    else:\n",
    "        inches = value\n",
    "    if inches.strip():\n",
    "        total += float(inches.strip().split()[0])\n",
    "    return total\n",
    "\n",
    "df['weight'] = df.weight.apply(clean_weight)\n",
    "df['length'] = df.length.apply(clean_length)\n",
    "df['datetime'] = pd.to_datetime(df.tz_datetime)\n",
    "\n",
    "numeric_cols = ['latitude', 'longitude', 'dist_total', 'weight', 'length']\n",
    "df[numeric_cols] = df[numeric_cols].apply(pd.to_numeric, axis=1)\n",
    "df = df.drop(columns=['tz_datetime'])\n",
    "df.head()"
   ]
  },
  {
   "cell_type": "code",
   "execution_count": null,
   "metadata": {},
   "outputs": [],
   "source": []
  },
  {
   "cell_type": "markdown",
   "metadata": {},
   "source": [
    "### Explore data"
   ]
  },
  {
   "cell_type": "code",
   "execution_count": 12,
   "metadata": {
    "ExecuteTime": {
     "end_time": "2019-02-23T02:33:20.593265Z",
     "start_time": "2019-02-23T02:33:20.576254Z"
    }
   },
   "outputs": [
    {
     "data": {
      "text/plain": [
       "name\n",
       "AB          1\n",
       "ANZAC       1\n",
       "Adelaide    1\n",
       "Al          1\n",
       "Albert      1\n",
       "Name: id, dtype: int64"
      ]
     },
     "execution_count": 12,
     "metadata": {},
     "output_type": "execute_result"
    }
   ],
   "source": [
    "# are all the names unique?\n",
    "counts = df.groupby('name').id.nunique()\n",
    "counts.head()"
   ]
  },
  {
   "cell_type": "code",
   "execution_count": 13,
   "metadata": {
    "ExecuteTime": {
     "end_time": "2019-02-23T02:33:20.739837Z",
     "start_time": "2019-02-23T02:33:20.594262Z"
    }
   },
   "outputs": [
    {
     "data": {
      "text/plain": [
       "Series([], Name: id, dtype: int64)"
      ]
     },
     "execution_count": 13,
     "metadata": {},
     "output_type": "execute_result"
    }
   ],
   "source": [
    "counts[counts > 1]"
   ]
  },
  {
   "cell_type": "markdown",
   "metadata": {},
   "source": [
    "### Challenge Questions"
   ]
  },
  {
   "cell_type": "markdown",
   "metadata": {},
   "source": [
    "#### Easy Questions\n",
    " 1. How many total pings are in the Ocearch shark data?\n",
    " 2. How many unique species of sharks are in the data set?\n",
    " 3. What is the name, weight, and species of the heaviest shark(s)?\n",
    " 4. When and where was the very first ping?\n",
    " 5. Excluding results with 0 distance traveled: what's the minimum, average, and maximum travel distances?"
   ]
  },
  {
   "cell_type": "markdown",
   "metadata": {},
   "source": [
    "##### Total pings\n",
    "How many total pings are in the Ocearch shark data?"
   ]
  },
  {
   "cell_type": "code",
   "execution_count": 14,
   "metadata": {
    "ExecuteTime": {
     "end_time": "2019-02-23T02:33:20.857761Z",
     "start_time": "2019-02-23T02:33:20.744835Z"
    }
   },
   "outputs": [
    {
     "data": {
      "text/plain": [
       "65938"
      ]
     },
     "execution_count": 14,
     "metadata": {},
     "output_type": "execute_result"
    }
   ],
   "source": [
    "len(df)"
   ]
  },
  {
   "cell_type": "markdown",
   "metadata": {},
   "source": [
    "##### Unique species\n",
    "How many unique species of sharks are in the data set?"
   ]
  },
  {
   "cell_type": "code",
   "execution_count": 15,
   "metadata": {
    "ExecuteTime": {
     "end_time": "2019-02-23T02:33:20.985760Z",
     "start_time": "2019-02-23T02:33:20.862738Z"
    }
   },
   "outputs": [
    {
     "data": {
      "text/plain": [
       "9"
      ]
     },
     "execution_count": 15,
     "metadata": {},
     "output_type": "execute_result"
    }
   ],
   "source": [
    "df.species.nunique()"
   ]
  },
  {
   "cell_type": "markdown",
   "metadata": {},
   "source": [
    "##### Heaviest shark(s)\n",
    "What is the name, weight, and species of the heaviest shark(s)?"
   ]
  },
  {
   "cell_type": "code",
   "execution_count": 16,
   "metadata": {
    "ExecuteTime": {
     "end_time": "2019-02-23T02:33:21.107187Z",
     "start_time": "2019-02-23T02:33:20.986759Z"
    }
   },
   "outputs": [
    {
     "data": {
      "text/plain": [
       "25000.0"
      ]
     },
     "execution_count": 16,
     "metadata": {},
     "output_type": "execute_result"
    }
   ],
   "source": [
    "max_weight = df.weight.max()\n",
    "max_weight"
   ]
  },
  {
   "cell_type": "code",
   "execution_count": 17,
   "metadata": {
    "ExecuteTime": {
     "end_time": "2019-02-23T02:33:21.362030Z",
     "start_time": "2019-02-23T02:33:21.110203Z"
    }
   },
   "outputs": [
    {
     "data": {
      "text/html": [
       "<div>\n",
       "<style scoped>\n",
       "    .dataframe tbody tr th:only-of-type {\n",
       "        vertical-align: middle;\n",
       "    }\n",
       "\n",
       "    .dataframe tbody tr th {\n",
       "        vertical-align: top;\n",
       "    }\n",
       "\n",
       "    .dataframe thead th {\n",
       "        text-align: right;\n",
       "    }\n",
       "</style>\n",
       "<table border=\"1\" class=\"dataframe\">\n",
       "  <thead>\n",
       "    <tr style=\"text-align: right;\">\n",
       "      <th></th>\n",
       "      <th>active</th>\n",
       "      <th>datetime</th>\n",
       "      <th>id</th>\n",
       "      <th>latitude</th>\n",
       "      <th>longitude</th>\n",
       "      <th>name</th>\n",
       "      <th>gender</th>\n",
       "      <th>species</th>\n",
       "      <th>weight</th>\n",
       "      <th>length</th>\n",
       "      <th>tagDate</th>\n",
       "      <th>dist_total</th>\n",
       "    </tr>\n",
       "  </thead>\n",
       "  <tbody>\n",
       "    <tr>\n",
       "      <th>56499</th>\n",
       "      <td>1</td>\n",
       "      <td>2016-10-24 12:12:24+09:00</td>\n",
       "      <td>233</td>\n",
       "      <td>38.53890</td>\n",
       "      <td>-68.82060</td>\n",
       "      <td>Rocky Mazzanti</td>\n",
       "      <td>Female</td>\n",
       "      <td>Whale Shark (Rhincodon Typus)</td>\n",
       "      <td>25000.0</td>\n",
       "      <td>300.0</td>\n",
       "      <td>24 August 2016</td>\n",
       "      <td>1753.524</td>\n",
       "    </tr>\n",
       "    <tr>\n",
       "      <th>59342</th>\n",
       "      <td>1</td>\n",
       "      <td>2017-11-01 09:11:15+09:00</td>\n",
       "      <td>253</td>\n",
       "      <td>40.97405</td>\n",
       "      <td>-69.55461</td>\n",
       "      <td>Canyon</td>\n",
       "      <td>Male</td>\n",
       "      <td>Whale Shark (Rhincodon Typus)</td>\n",
       "      <td>25000.0</td>\n",
       "      <td>360.0</td>\n",
       "      <td>9 August 2017</td>\n",
       "      <td>2093.576</td>\n",
       "    </tr>\n",
       "  </tbody>\n",
       "</table>\n",
       "</div>"
      ],
      "text/plain": [
       "      active                  datetime   id  latitude  longitude  \\\n",
       "56499      1 2016-10-24 12:12:24+09:00  233  38.53890  -68.82060   \n",
       "59342      1 2017-11-01 09:11:15+09:00  253  40.97405  -69.55461   \n",
       "\n",
       "                 name  gender                        species   weight  length  \\\n",
       "56499  Rocky Mazzanti  Female  Whale Shark (Rhincodon Typus)  25000.0   300.0   \n",
       "59342          Canyon    Male  Whale Shark (Rhincodon Typus)  25000.0   360.0   \n",
       "\n",
       "              tagDate  dist_total  \n",
       "56499  24 August 2016    1753.524  \n",
       "59342   9 August 2017    2093.576  "
      ]
     },
     "execution_count": 17,
     "metadata": {},
     "output_type": "execute_result"
    }
   ],
   "source": [
    "heavy_sharks = df[df.weight == df.weight.max()]\n",
    "heavy_sharks.drop_duplicates('name')"
   ]
  },
  {
   "cell_type": "markdown",
   "metadata": {},
   "source": [
    "##### First ping\n",
    "When and where was the very first ping?"
   ]
  },
  {
   "cell_type": "code",
   "execution_count": 18,
   "metadata": {
    "ExecuteTime": {
     "end_time": "2019-02-23T02:33:21.622987Z",
     "start_time": "2019-02-23T02:33:21.372026Z"
    }
   },
   "outputs": [
    {
     "data": {
      "text/html": [
       "<div>\n",
       "<style scoped>\n",
       "    .dataframe tbody tr th:only-of-type {\n",
       "        vertical-align: middle;\n",
       "    }\n",
       "\n",
       "    .dataframe tbody tr th {\n",
       "        vertical-align: top;\n",
       "    }\n",
       "\n",
       "    .dataframe thead th {\n",
       "        text-align: right;\n",
       "    }\n",
       "</style>\n",
       "<table border=\"1\" class=\"dataframe\">\n",
       "  <thead>\n",
       "    <tr style=\"text-align: right;\">\n",
       "      <th></th>\n",
       "      <th>name</th>\n",
       "      <th>datetime</th>\n",
       "      <th>latitude</th>\n",
       "      <th>longitude</th>\n",
       "    </tr>\n",
       "  </thead>\n",
       "  <tbody>\n",
       "    <tr>\n",
       "      <th>519</th>\n",
       "      <td>Oprah</td>\n",
       "      <td>2012-03-10 00:35:31+09:00</td>\n",
       "      <td>-34.132</td>\n",
       "      <td>22.123</td>\n",
       "    </tr>\n",
       "    <tr>\n",
       "      <th>518</th>\n",
       "      <td>Oprah</td>\n",
       "      <td>2012-03-10 06:30:24+09:00</td>\n",
       "      <td>-34.160</td>\n",
       "      <td>22.180</td>\n",
       "    </tr>\n",
       "    <tr>\n",
       "      <th>517</th>\n",
       "      <td>Oprah</td>\n",
       "      <td>2012-03-10 06:42:45+09:00</td>\n",
       "      <td>-34.158</td>\n",
       "      <td>22.182</td>\n",
       "    </tr>\n",
       "    <tr>\n",
       "      <th>516</th>\n",
       "      <td>Oprah</td>\n",
       "      <td>2012-03-10 10:53:02+09:00</td>\n",
       "      <td>-34.165</td>\n",
       "      <td>22.179</td>\n",
       "    </tr>\n",
       "    <tr>\n",
       "      <th>752</th>\n",
       "      <td>Albertina</td>\n",
       "      <td>2012-03-10 17:23:50+09:00</td>\n",
       "      <td>-34.179</td>\n",
       "      <td>22.417</td>\n",
       "    </tr>\n",
       "  </tbody>\n",
       "</table>\n",
       "</div>"
      ],
      "text/plain": [
       "           name                  datetime  latitude  longitude\n",
       "519       Oprah 2012-03-10 00:35:31+09:00   -34.132     22.123\n",
       "518       Oprah 2012-03-10 06:30:24+09:00   -34.160     22.180\n",
       "517       Oprah 2012-03-10 06:42:45+09:00   -34.158     22.182\n",
       "516       Oprah 2012-03-10 10:53:02+09:00   -34.165     22.179\n",
       "752  Albertina  2012-03-10 17:23:50+09:00   -34.179     22.417"
      ]
     },
     "execution_count": 18,
     "metadata": {},
     "output_type": "execute_result"
    }
   ],
   "source": [
    "first_pings = df.sort_values('datetime').head(5)\n",
    "first_pings[['name', 'datetime', 'latitude', 'longitude']]"
   ]
  },
  {
   "cell_type": "markdown",
   "metadata": {},
   "source": [
    "##### Distance travelled\n",
    "Excluding results with 0 distance traveled: what's the minimum, average, and maximum travel distances?"
   ]
  },
  {
   "cell_type": "code",
   "execution_count": 19,
   "metadata": {
    "ExecuteTime": {
     "end_time": "2019-02-23T02:33:21.637981Z",
     "start_time": "2019-02-23T02:33:21.624986Z"
    }
   },
   "outputs": [
    {
     "data": {
      "text/plain": [
       "count    65930.000000\n",
       "mean     12574.930868\n",
       "std      12749.650916\n",
       "min          8.127000\n",
       "25%       3048.274000\n",
       "50%       8177.352000\n",
       "75%      17811.853000\n",
       "max      46553.182000\n",
       "Name: dist_total, dtype: float64"
      ]
     },
     "execution_count": 19,
     "metadata": {},
     "output_type": "execute_result"
    }
   ],
   "source": [
    "df.dist_total[df.dist_total > 0].describe()"
   ]
  },
  {
   "cell_type": "markdown",
   "metadata": {},
   "source": [
    "#### Intermediate questions\n",
    "\n",
    " 1. Which shark had the most pings?\n",
    " 2. Which shark has been pinging the longest, and how long has that been?\n",
    " 3. Which shark species has the most individual sharks tagged?\n",
    " 4. What is the average length and weight of each shark species?\n",
    " 5. Which shark has the biggest geographic box (largest distance from min lat/lon to max lat/lon, not dist_traveled)?"
   ]
  },
  {
   "cell_type": "markdown",
   "metadata": {},
   "source": [
    "##### Most pings\n",
    "Which shark had the most pings?"
   ]
  },
  {
   "cell_type": "code",
   "execution_count": 20,
   "metadata": {
    "ExecuteTime": {
     "end_time": "2019-02-23T02:33:21.838513Z",
     "start_time": "2019-02-23T02:33:21.638982Z"
    }
   },
   "outputs": [
    {
     "data": {
      "text/html": [
       "<div>\n",
       "<style scoped>\n",
       "    .dataframe tbody tr th:only-of-type {\n",
       "        vertical-align: middle;\n",
       "    }\n",
       "\n",
       "    .dataframe tbody tr th {\n",
       "        vertical-align: top;\n",
       "    }\n",
       "\n",
       "    .dataframe thead th {\n",
       "        text-align: right;\n",
       "    }\n",
       "</style>\n",
       "<table border=\"1\" class=\"dataframe\">\n",
       "  <thead>\n",
       "    <tr style=\"text-align: right;\">\n",
       "      <th></th>\n",
       "      <th>id</th>\n",
       "      <th>ping_count</th>\n",
       "      <th>name</th>\n",
       "      <th>species</th>\n",
       "      <th>first_ping</th>\n",
       "      <th>last_ping</th>\n",
       "    </tr>\n",
       "  </thead>\n",
       "  <tbody>\n",
       "    <tr>\n",
       "      <th>35</th>\n",
       "      <td>41</td>\n",
       "      <td>3240</td>\n",
       "      <td>Mary Lee</td>\n",
       "      <td>White Shark (Carcharodon carcharias)</td>\n",
       "      <td>2012-09-18 18:34:28+09:00</td>\n",
       "      <td>2017-06-17 19:54:32+09:00</td>\n",
       "    </tr>\n",
       "    <tr>\n",
       "      <th>36</th>\n",
       "      <td>56</td>\n",
       "      <td>2946</td>\n",
       "      <td>Lydia</td>\n",
       "      <td>White Shark (Carcharodon carcharias)</td>\n",
       "      <td>2013-03-03 17:03:13+09:00</td>\n",
       "      <td>2017-03-15 11:31:34+09:00</td>\n",
       "    </tr>\n",
       "    <tr>\n",
       "      <th>154</th>\n",
       "      <td>202</td>\n",
       "      <td>2366</td>\n",
       "      <td>Oscar</td>\n",
       "      <td>Mako Shark (Isurus oxyrinchus)</td>\n",
       "      <td>2016-07-09 09:14:38+09:00</td>\n",
       "      <td>2019-01-30 05:32:35+09:00</td>\n",
       "    </tr>\n",
       "    <tr>\n",
       "      <th>40</th>\n",
       "      <td>60</td>\n",
       "      <td>2134</td>\n",
       "      <td>April</td>\n",
       "      <td>Mako Shark (Isurus oxyrinchus)</td>\n",
       "      <td>2013-07-29 02:00:04+09:00</td>\n",
       "      <td>2014-06-17 20:17:03+09:00</td>\n",
       "    </tr>\n",
       "    <tr>\n",
       "      <th>26</th>\n",
       "      <td>32</td>\n",
       "      <td>1851</td>\n",
       "      <td>Lisha</td>\n",
       "      <td>White Shark (Carcharodon carcharias)</td>\n",
       "      <td>2012-05-15 00:43:21+09:00</td>\n",
       "      <td>2014-04-03 21:48:57+09:00</td>\n",
       "    </tr>\n",
       "  </tbody>\n",
       "</table>\n",
       "</div>"
      ],
      "text/plain": [
       "      id  ping_count      name                               species  \\\n",
       "35    41        3240  Mary Lee  White Shark (Carcharodon carcharias)   \n",
       "36    56        2946     Lydia  White Shark (Carcharodon carcharias)   \n",
       "154  202        2366     Oscar        Mako Shark (Isurus oxyrinchus)   \n",
       "40    60        2134     April        Mako Shark (Isurus oxyrinchus)   \n",
       "26    32        1851     Lisha  White Shark (Carcharodon carcharias)   \n",
       "\n",
       "                   first_ping                 last_ping  \n",
       "35  2012-09-18 18:34:28+09:00 2017-06-17 19:54:32+09:00  \n",
       "36  2013-03-03 17:03:13+09:00 2017-03-15 11:31:34+09:00  \n",
       "154 2016-07-09 09:14:38+09:00 2019-01-30 05:32:35+09:00  \n",
       "40  2013-07-29 02:00:04+09:00 2014-06-17 20:17:03+09:00  \n",
       "26  2012-05-15 00:43:21+09:00 2014-04-03 21:48:57+09:00  "
      ]
     },
     "execution_count": 20,
     "metadata": {},
     "output_type": "execute_result"
    }
   ],
   "source": [
    "groups = df.groupby('id')\n",
    "sizes = groups.size()\n",
    "names = groups.name.first()\n",
    "species = groups.species.first()\n",
    "first_ping = groups.datetime.min()\n",
    "last_ping = groups.datetime.max()\n",
    "combined = pd.concat([sizes, names, species, first_ping, last_ping], axis=1).reset_index()\n",
    "combined.columns = ['id', 'ping_count', 'name', 'species', 'first_ping', 'last_ping']\n",
    "combined.sort_values('ping_count', ascending=False).head()"
   ]
  },
  {
   "cell_type": "markdown",
   "metadata": {},
   "source": [
    "##### Longest duration pinger\n",
    "Which shark has been pinging the longest, and how long has that been?"
   ]
  },
  {
   "cell_type": "code",
   "execution_count": 21,
   "metadata": {
    "ExecuteTime": {
     "end_time": "2019-02-23T02:33:21.901753Z",
     "start_time": "2019-02-23T02:33:21.839513Z"
    }
   },
   "outputs": [
    {
     "data": {
      "text/html": [
       "<div>\n",
       "<style scoped>\n",
       "    .dataframe tbody tr th:only-of-type {\n",
       "        vertical-align: middle;\n",
       "    }\n",
       "\n",
       "    .dataframe tbody tr th {\n",
       "        vertical-align: top;\n",
       "    }\n",
       "\n",
       "    .dataframe thead th {\n",
       "        text-align: right;\n",
       "    }\n",
       "</style>\n",
       "<table border=\"1\" class=\"dataframe\">\n",
       "  <thead>\n",
       "    <tr style=\"text-align: right;\">\n",
       "      <th></th>\n",
       "      <th>id</th>\n",
       "      <th>ping_count</th>\n",
       "      <th>name</th>\n",
       "      <th>species</th>\n",
       "      <th>first_ping</th>\n",
       "      <th>last_ping</th>\n",
       "      <th>duration</th>\n",
       "    </tr>\n",
       "  </thead>\n",
       "  <tbody>\n",
       "    <tr>\n",
       "      <th>45</th>\n",
       "      <td>65</td>\n",
       "      <td>1816</td>\n",
       "      <td>Katharine</td>\n",
       "      <td>White Shark (Carcharodon carcharias)</td>\n",
       "      <td>2013-08-21 13:42:26+09:00</td>\n",
       "      <td>2019-01-15 08:49:00+09:00</td>\n",
       "      <td>1972 days 19:06:34</td>\n",
       "    </tr>\n",
       "    <tr>\n",
       "      <th>2</th>\n",
       "      <td>5</td>\n",
       "      <td>204</td>\n",
       "      <td>Helen</td>\n",
       "      <td>White Shark (Carcharodon carcharias)</td>\n",
       "      <td>2012-03-11 00:15:10+09:00</td>\n",
       "      <td>2017-01-05 14:22:39+09:00</td>\n",
       "      <td>1761 days 14:07:29</td>\n",
       "    </tr>\n",
       "    <tr>\n",
       "      <th>35</th>\n",
       "      <td>41</td>\n",
       "      <td>3240</td>\n",
       "      <td>Mary Lee</td>\n",
       "      <td>White Shark (Carcharodon carcharias)</td>\n",
       "      <td>2012-09-18 18:34:28+09:00</td>\n",
       "      <td>2017-06-17 19:54:32+09:00</td>\n",
       "      <td>1733 days 01:20:04</td>\n",
       "    </tr>\n",
       "    <tr>\n",
       "      <th>36</th>\n",
       "      <td>56</td>\n",
       "      <td>2946</td>\n",
       "      <td>Lydia</td>\n",
       "      <td>White Shark (Carcharodon carcharias)</td>\n",
       "      <td>2013-03-03 17:03:13+09:00</td>\n",
       "      <td>2017-03-15 11:31:34+09:00</td>\n",
       "      <td>1472 days 18:28:21</td>\n",
       "    </tr>\n",
       "    <tr>\n",
       "      <th>19</th>\n",
       "      <td>25</td>\n",
       "      <td>1578</td>\n",
       "      <td>Cyndi</td>\n",
       "      <td>White Shark (Carcharodon carcharias)</td>\n",
       "      <td>2012-04-15 00:50:25+09:00</td>\n",
       "      <td>2015-09-22 00:00:43+09:00</td>\n",
       "      <td>1254 days 23:10:18</td>\n",
       "    </tr>\n",
       "  </tbody>\n",
       "</table>\n",
       "</div>"
      ],
      "text/plain": [
       "    id  ping_count       name                               species  \\\n",
       "45  65        1816  Katharine  White Shark (Carcharodon carcharias)   \n",
       "2    5         204     Helen   White Shark (Carcharodon carcharias)   \n",
       "35  41        3240   Mary Lee  White Shark (Carcharodon carcharias)   \n",
       "36  56        2946      Lydia  White Shark (Carcharodon carcharias)   \n",
       "19  25        1578      Cyndi  White Shark (Carcharodon carcharias)   \n",
       "\n",
       "                  first_ping                 last_ping           duration  \n",
       "45 2013-08-21 13:42:26+09:00 2019-01-15 08:49:00+09:00 1972 days 19:06:34  \n",
       "2  2012-03-11 00:15:10+09:00 2017-01-05 14:22:39+09:00 1761 days 14:07:29  \n",
       "35 2012-09-18 18:34:28+09:00 2017-06-17 19:54:32+09:00 1733 days 01:20:04  \n",
       "36 2013-03-03 17:03:13+09:00 2017-03-15 11:31:34+09:00 1472 days 18:28:21  \n",
       "19 2012-04-15 00:50:25+09:00 2015-09-22 00:00:43+09:00 1254 days 23:10:18  "
      ]
     },
     "execution_count": 21,
     "metadata": {},
     "output_type": "execute_result"
    }
   ],
   "source": [
    "combined['duration'] = combined.last_ping - combined.first_ping\n",
    "combined.sort_values('duration', ascending=False).head()"
   ]
  },
  {
   "cell_type": "markdown",
   "metadata": {},
   "source": [
    "##### Individual count by species\n",
    "Which shark species has the most individual sharks tagged?"
   ]
  },
  {
   "cell_type": "code",
   "execution_count": 22,
   "metadata": {
    "ExecuteTime": {
     "end_time": "2019-02-23T02:33:22.063151Z",
     "start_time": "2019-02-23T02:33:21.902750Z"
    }
   },
   "outputs": [
    {
     "data": {
      "text/plain": [
       "species\n",
       "Tiger Shark  (Galeocerdo cuvier)        82\n",
       "White Shark (Carcharodon carcharias)    74\n",
       "Blue Shark (Prionace glauca)            27\n",
       "Mako Shark (Isurus oxyrinchus)          18\n",
       "Hammerhead Shark (Sphyrna)              18\n",
       "Name: id, dtype: int64"
      ]
     },
     "execution_count": 22,
     "metadata": {},
     "output_type": "execute_result"
    }
   ],
   "source": [
    "df.groupby('species').id.nunique().sort_values(ascending=False).head()"
   ]
  },
  {
   "cell_type": "markdown",
   "metadata": {},
   "source": [
    "##### Average length/weight by species\n",
    "What is the average length and weight of each shark species?"
   ]
  },
  {
   "cell_type": "code",
   "execution_count": 23,
   "metadata": {
    "ExecuteTime": {
     "end_time": "2019-02-23T02:33:22.164115Z",
     "start_time": "2019-02-23T02:33:22.065137Z"
    }
   },
   "outputs": [
    {
     "data": {
      "text/html": [
       "<div>\n",
       "<style scoped>\n",
       "    .dataframe tbody tr th:only-of-type {\n",
       "        vertical-align: middle;\n",
       "    }\n",
       "\n",
       "    .dataframe tbody tr th {\n",
       "        vertical-align: top;\n",
       "    }\n",
       "\n",
       "    .dataframe thead th {\n",
       "        text-align: right;\n",
       "    }\n",
       "</style>\n",
       "<table border=\"1\" class=\"dataframe\">\n",
       "  <thead>\n",
       "    <tr style=\"text-align: right;\">\n",
       "      <th></th>\n",
       "      <th>weight</th>\n",
       "      <th>length</th>\n",
       "      <th>shark_count</th>\n",
       "    </tr>\n",
       "    <tr>\n",
       "      <th>species</th>\n",
       "      <th></th>\n",
       "      <th></th>\n",
       "      <th></th>\n",
       "    </tr>\n",
       "  </thead>\n",
       "  <tbody>\n",
       "    <tr>\n",
       "      <th>Tiger Shark  (Galeocerdo cuvier)</th>\n",
       "      <td>467.614831</td>\n",
       "      <td>119.147305</td>\n",
       "      <td>82</td>\n",
       "    </tr>\n",
       "    <tr>\n",
       "      <th>White Shark (Carcharodon carcharias)</th>\n",
       "      <td>1554.920832</td>\n",
       "      <td>147.124877</td>\n",
       "      <td>74</td>\n",
       "    </tr>\n",
       "    <tr>\n",
       "      <th>Blue Shark (Prionace glauca)</th>\n",
       "      <td>243.634091</td>\n",
       "      <td>106.028852</td>\n",
       "      <td>27</td>\n",
       "    </tr>\n",
       "    <tr>\n",
       "      <th>Hammerhead Shark (Sphyrna)</th>\n",
       "      <td>126.592041</td>\n",
       "      <td>93.813838</td>\n",
       "      <td>18</td>\n",
       "    </tr>\n",
       "    <tr>\n",
       "      <th>Mako Shark (Isurus oxyrinchus)</th>\n",
       "      <td>241.199527</td>\n",
       "      <td>82.496546</td>\n",
       "      <td>18</td>\n",
       "    </tr>\n",
       "    <tr>\n",
       "      <th>Blacktip Shark (Carcharhinus limbatus)</th>\n",
       "      <td>138.378910</td>\n",
       "      <td>80.316209</td>\n",
       "      <td>9</td>\n",
       "    </tr>\n",
       "    <tr>\n",
       "      <th>Bull Shark (Carcharhinus leucas)</th>\n",
       "      <td>290.400000</td>\n",
       "      <td>89.781022</td>\n",
       "      <td>4</td>\n",
       "    </tr>\n",
       "    <tr>\n",
       "      <th>Silky Shark (Carcharhinus falciformis)</th>\n",
       "      <td>132.881671</td>\n",
       "      <td>76.965197</td>\n",
       "      <td>4</td>\n",
       "    </tr>\n",
       "    <tr>\n",
       "      <th>Whale Shark (Rhincodon Typus)</th>\n",
       "      <td>25000.000000</td>\n",
       "      <td>327.906977</td>\n",
       "      <td>3</td>\n",
       "    </tr>\n",
       "  </tbody>\n",
       "</table>\n",
       "</div>"
      ],
      "text/plain": [
       "                                              weight      length  shark_count\n",
       "species                                                                      \n",
       "Tiger Shark  (Galeocerdo cuvier)          467.614831  119.147305           82\n",
       "White Shark (Carcharodon carcharias)     1554.920832  147.124877           74\n",
       "Blue Shark (Prionace glauca)              243.634091  106.028852           27\n",
       "Hammerhead Shark (Sphyrna)                126.592041   93.813838           18\n",
       "Mako Shark (Isurus oxyrinchus)            241.199527   82.496546           18\n",
       "Blacktip Shark (Carcharhinus limbatus)    138.378910   80.316209            9\n",
       "Bull Shark (Carcharhinus leucas)          290.400000   89.781022            4\n",
       "Silky Shark (Carcharhinus falciformis)    132.881671   76.965197            4\n",
       "Whale Shark (Rhincodon Typus)           25000.000000  327.906977            3"
      ]
     },
     "execution_count": 23,
     "metadata": {},
     "output_type": "execute_result"
    }
   ],
   "source": [
    "groups = df.groupby('species').agg({'weight' : 'mean', \n",
    "                                    'length' : 'mean', \n",
    "                                    'id' : 'nunique'})\n",
    "groups.rename(columns={'id' : 'shark_count'}).sort_values('shark_count', ascending=False)"
   ]
  },
  {
   "cell_type": "markdown",
   "metadata": {},
   "source": [
    "##### Biggest geographic box\n",
    "Which shark has the biggest geographic box (largest area calculated from min lat/lon to max lat/lon, not dist_traveled)?"
   ]
  },
  {
   "cell_type": "code",
   "execution_count": 24,
   "metadata": {
    "ExecuteTime": {
     "end_time": "2019-02-23T02:33:22.325111Z",
     "start_time": "2019-02-23T02:33:22.165108Z"
    }
   },
   "outputs": [
    {
     "data": {
      "text/html": [
       "<div>\n",
       "<style scoped>\n",
       "    .dataframe tbody tr th:only-of-type {\n",
       "        vertical-align: middle;\n",
       "    }\n",
       "\n",
       "    .dataframe tbody tr th {\n",
       "        vertical-align: top;\n",
       "    }\n",
       "\n",
       "    .dataframe thead th {\n",
       "        text-align: right;\n",
       "    }\n",
       "</style>\n",
       "<table border=\"1\" class=\"dataframe\">\n",
       "  <thead>\n",
       "    <tr style=\"text-align: right;\">\n",
       "      <th></th>\n",
       "      <th>id</th>\n",
       "      <th>min_lat</th>\n",
       "      <th>min_lon</th>\n",
       "      <th>max_lat</th>\n",
       "      <th>max_lon</th>\n",
       "      <th>name</th>\n",
       "      <th>species</th>\n",
       "    </tr>\n",
       "  </thead>\n",
       "  <tbody>\n",
       "    <tr>\n",
       "      <th>0</th>\n",
       "      <td>3</td>\n",
       "      <td>-34.88268</td>\n",
       "      <td>19.374590</td>\n",
       "      <td>-34.05394</td>\n",
       "      <td>22.64236</td>\n",
       "      <td>Oprah</td>\n",
       "      <td>White Shark (Carcharodon carcharias)</td>\n",
       "    </tr>\n",
       "    <tr>\n",
       "      <th>1</th>\n",
       "      <td>4</td>\n",
       "      <td>-36.70300</td>\n",
       "      <td>20.535038</td>\n",
       "      <td>-34.06300</td>\n",
       "      <td>22.74626</td>\n",
       "      <td>Albertina</td>\n",
       "      <td>White Shark (Carcharodon carcharias)</td>\n",
       "    </tr>\n",
       "    <tr>\n",
       "      <th>2</th>\n",
       "      <td>5</td>\n",
       "      <td>-37.23623</td>\n",
       "      <td>18.536350</td>\n",
       "      <td>-19.50057</td>\n",
       "      <td>37.84922</td>\n",
       "      <td>Helen</td>\n",
       "      <td>White Shark (Carcharodon carcharias)</td>\n",
       "    </tr>\n",
       "    <tr>\n",
       "      <th>3</th>\n",
       "      <td>6</td>\n",
       "      <td>-34.98600</td>\n",
       "      <td>19.061580</td>\n",
       "      <td>-24.77363</td>\n",
       "      <td>34.84301</td>\n",
       "      <td>Brenda</td>\n",
       "      <td>White Shark (Carcharodon carcharias)</td>\n",
       "    </tr>\n",
       "    <tr>\n",
       "      <th>4</th>\n",
       "      <td>7</td>\n",
       "      <td>-35.46100</td>\n",
       "      <td>17.916810</td>\n",
       "      <td>-32.74300</td>\n",
       "      <td>27.97646</td>\n",
       "      <td>Madiba</td>\n",
       "      <td>White Shark (Carcharodon carcharias)</td>\n",
       "    </tr>\n",
       "  </tbody>\n",
       "</table>\n",
       "</div>"
      ],
      "text/plain": [
       "   id   min_lat    min_lon   max_lat   max_lon        name  \\\n",
       "0   3 -34.88268  19.374590 -34.05394  22.64236       Oprah   \n",
       "1   4 -36.70300  20.535038 -34.06300  22.74626  Albertina    \n",
       "2   5 -37.23623  18.536350 -19.50057  37.84922      Helen    \n",
       "3   6 -34.98600  19.061580 -24.77363  34.84301     Brenda    \n",
       "4   7 -35.46100  17.916810 -32.74300  27.97646      Madiba   \n",
       "\n",
       "                                species  \n",
       "0  White Shark (Carcharodon carcharias)  \n",
       "1  White Shark (Carcharodon carcharias)  \n",
       "2  White Shark (Carcharodon carcharias)  \n",
       "3  White Shark (Carcharodon carcharias)  \n",
       "4  White Shark (Carcharodon carcharias)  "
      ]
     },
     "execution_count": 24,
     "metadata": {},
     "output_type": "execute_result"
    }
   ],
   "source": [
    "groups = df.groupby('id')\n",
    "combined = pd.concat([groups.latitude.min(), \n",
    "                      groups.longitude.min(), \n",
    "                      groups.latitude.max(), \n",
    "                      groups.longitude.max(), \n",
    "                      groups.name.first(), \n",
    "                      groups.species.first()], axis=1).reset_index()\n",
    "combined.columns = ['id', 'min_lat', 'min_lon', 'max_lat', 'max_lon', 'name', 'species']\n",
    "combined.head()"
   ]
  },
  {
   "cell_type": "code",
   "execution_count": 25,
   "metadata": {
    "ExecuteTime": {
     "end_time": "2019-02-23T02:33:22.435201Z",
     "start_time": "2019-02-23T02:33:22.327107Z"
    }
   },
   "outputs": [
    {
     "data": {
      "text/html": [
       "<div>\n",
       "<style scoped>\n",
       "    .dataframe tbody tr th:only-of-type {\n",
       "        vertical-align: middle;\n",
       "    }\n",
       "\n",
       "    .dataframe tbody tr th {\n",
       "        vertical-align: top;\n",
       "    }\n",
       "\n",
       "    .dataframe thead th {\n",
       "        text-align: right;\n",
       "    }\n",
       "</style>\n",
       "<table border=\"1\" class=\"dataframe\">\n",
       "  <thead>\n",
       "    <tr style=\"text-align: right;\">\n",
       "      <th></th>\n",
       "      <th>id</th>\n",
       "      <th>min_lat</th>\n",
       "      <th>min_lon</th>\n",
       "      <th>max_lat</th>\n",
       "      <th>max_lon</th>\n",
       "      <th>name</th>\n",
       "      <th>species</th>\n",
       "      <th>lat_diff</th>\n",
       "      <th>lon_diff</th>\n",
       "      <th>area</th>\n",
       "    </tr>\n",
       "  </thead>\n",
       "  <tbody>\n",
       "    <tr>\n",
       "      <th>29</th>\n",
       "      <td>35</td>\n",
       "      <td>-41.37174</td>\n",
       "      <td>18.51500</td>\n",
       "      <td>-6.15888</td>\n",
       "      <td>71.09830</td>\n",
       "      <td>Kathryn</td>\n",
       "      <td>White Shark (Carcharodon carcharias)</td>\n",
       "      <td>35.21286</td>\n",
       "      <td>52.58330</td>\n",
       "      <td>1851.608381</td>\n",
       "    </tr>\n",
       "    <tr>\n",
       "      <th>36</th>\n",
       "      <td>56</td>\n",
       "      <td>23.53902</td>\n",
       "      <td>-81.38180</td>\n",
       "      <td>53.65843</td>\n",
       "      <td>-27.48272</td>\n",
       "      <td>Lydia</td>\n",
       "      <td>White Shark (Carcharodon carcharias)</td>\n",
       "      <td>30.11941</td>\n",
       "      <td>53.89908</td>\n",
       "      <td>1623.408489</td>\n",
       "    </tr>\n",
       "    <tr>\n",
       "      <th>24</th>\n",
       "      <td>30</td>\n",
       "      <td>-43.21756</td>\n",
       "      <td>8.06196</td>\n",
       "      <td>-19.11709</td>\n",
       "      <td>66.72966</td>\n",
       "      <td>Vindication</td>\n",
       "      <td>White Shark (Carcharodon carcharias)</td>\n",
       "      <td>24.10047</td>\n",
       "      <td>58.66770</td>\n",
       "      <td>1413.919144</td>\n",
       "    </tr>\n",
       "    <tr>\n",
       "      <th>19</th>\n",
       "      <td>25</td>\n",
       "      <td>-45.61157</td>\n",
       "      <td>18.23305</td>\n",
       "      <td>-14.95129</td>\n",
       "      <td>61.87323</td>\n",
       "      <td>Cyndi</td>\n",
       "      <td>White Shark (Carcharodon carcharias)</td>\n",
       "      <td>30.66028</td>\n",
       "      <td>43.64018</td>\n",
       "      <td>1338.020138</td>\n",
       "    </tr>\n",
       "    <tr>\n",
       "      <th>30</th>\n",
       "      <td>36</td>\n",
       "      <td>-38.82461</td>\n",
       "      <td>17.47565</td>\n",
       "      <td>-10.52038</td>\n",
       "      <td>62.65514</td>\n",
       "      <td>Success</td>\n",
       "      <td>White Shark (Carcharodon carcharias)</td>\n",
       "      <td>28.30423</td>\n",
       "      <td>45.17949</td>\n",
       "      <td>1278.770676</td>\n",
       "    </tr>\n",
       "  </tbody>\n",
       "</table>\n",
       "</div>"
      ],
      "text/plain": [
       "    id   min_lat   min_lon   max_lat   max_lon         name  \\\n",
       "29  35 -41.37174  18.51500  -6.15888  71.09830      Kathryn   \n",
       "36  56  23.53902 -81.38180  53.65843 -27.48272        Lydia   \n",
       "24  30 -43.21756   8.06196 -19.11709  66.72966  Vindication   \n",
       "19  25 -45.61157  18.23305 -14.95129  61.87323        Cyndi   \n",
       "30  36 -38.82461  17.47565 -10.52038  62.65514      Success   \n",
       "\n",
       "                                 species  lat_diff  lon_diff         area  \n",
       "29  White Shark (Carcharodon carcharias)  35.21286  52.58330  1851.608381  \n",
       "36  White Shark (Carcharodon carcharias)  30.11941  53.89908  1623.408489  \n",
       "24  White Shark (Carcharodon carcharias)  24.10047  58.66770  1413.919144  \n",
       "19  White Shark (Carcharodon carcharias)  30.66028  43.64018  1338.020138  \n",
       "30  White Shark (Carcharodon carcharias)  28.30423  45.17949  1278.770676  "
      ]
     },
     "execution_count": 25,
     "metadata": {},
     "output_type": "execute_result"
    }
   ],
   "source": [
    "combined['lat_diff'] = combined.max_lat - combined.min_lat\n",
    "combined['lon_diff'] = combined.max_lon - combined.min_lon\n",
    "combined['area'] = combined['lat_diff'] * combined['lon_diff']\n",
    "combined.sort_values('area', ascending=False).head()"
   ]
  },
  {
   "cell_type": "markdown",
   "metadata": {},
   "source": [
    "#### Hard questions\n",
    "\n",
    " 1. Use folium to plot the first ping, last ping, and a line connecting each ping for the Tiger shark Emma.  Make the first ping marker a 'play' icon, and last ping icon a 'stop' icon.\n",
    " 2. Resample Emma data to have a daily lat/lon average, and interpolate missing results.  Plot a marker for each day, and color them blue for hard data, green for interpolated lat/lons\n",
    " 3. Resample all shark data for daily lat/lon averages, and interpolate missing results\n",
    " 4. Calculate distance between Emma and other sharks on a daily basis\n",
    " 5. Identify the shark that has the shortest average distance to Emma per day (minimum 50 days of pings with Emma)\n",
    " 6. Plot Emma and her closest buddy: interpolated results for each in green, Emma as circle icons and her buddy as square icons"
   ]
  },
  {
   "cell_type": "markdown",
   "metadata": {},
   "source": [
    "##### Plot Emma locations\n",
    "Plot the ping locations for the shark named Emma as a `PolyLine` in folium.  Include the first and last ping location as markers."
   ]
  },
  {
   "cell_type": "code",
   "execution_count": 26,
   "metadata": {
    "ExecuteTime": {
     "end_time": "2019-02-23T02:33:22.565497Z",
     "start_time": "2019-02-23T02:33:22.436186Z"
    }
   },
   "outputs": [
    {
     "data": {
      "text/html": [
       "<div>\n",
       "<style scoped>\n",
       "    .dataframe tbody tr th:only-of-type {\n",
       "        vertical-align: middle;\n",
       "    }\n",
       "\n",
       "    .dataframe tbody tr th {\n",
       "        vertical-align: top;\n",
       "    }\n",
       "\n",
       "    .dataframe thead th {\n",
       "        text-align: right;\n",
       "    }\n",
       "</style>\n",
       "<table border=\"1\" class=\"dataframe\">\n",
       "  <thead>\n",
       "    <tr style=\"text-align: right;\">\n",
       "      <th></th>\n",
       "      <th>active</th>\n",
       "      <th>datetime</th>\n",
       "      <th>id</th>\n",
       "      <th>latitude</th>\n",
       "      <th>longitude</th>\n",
       "      <th>name</th>\n",
       "      <th>gender</th>\n",
       "      <th>species</th>\n",
       "      <th>weight</th>\n",
       "      <th>length</th>\n",
       "      <th>tagDate</th>\n",
       "      <th>dist_total</th>\n",
       "    </tr>\n",
       "  </thead>\n",
       "  <tbody>\n",
       "    <tr>\n",
       "      <th>34080</th>\n",
       "      <td>1</td>\n",
       "      <td>2014-02-01 07:10:18+09:00</td>\n",
       "      <td>102</td>\n",
       "      <td>-0.466747</td>\n",
       "      <td>-90.300050</td>\n",
       "      <td>Emma</td>\n",
       "      <td>Female</td>\n",
       "      <td>Tiger Shark  (Galeocerdo cuvier)</td>\n",
       "      <td>NaN</td>\n",
       "      <td>99.0</td>\n",
       "      <td>20 January 2014</td>\n",
       "      <td>4368.906</td>\n",
       "    </tr>\n",
       "    <tr>\n",
       "      <th>34079</th>\n",
       "      <td>1</td>\n",
       "      <td>2014-02-01 07:51:31+09:00</td>\n",
       "      <td>102</td>\n",
       "      <td>-0.411010</td>\n",
       "      <td>-90.327830</td>\n",
       "      <td>Emma</td>\n",
       "      <td>Female</td>\n",
       "      <td>Tiger Shark  (Galeocerdo cuvier)</td>\n",
       "      <td>NaN</td>\n",
       "      <td>99.0</td>\n",
       "      <td>20 January 2014</td>\n",
       "      <td>4368.906</td>\n",
       "    </tr>\n",
       "    <tr>\n",
       "      <th>34078</th>\n",
       "      <td>1</td>\n",
       "      <td>2014-02-01 08:49:34+09:00</td>\n",
       "      <td>102</td>\n",
       "      <td>-0.478080</td>\n",
       "      <td>-90.368890</td>\n",
       "      <td>Emma</td>\n",
       "      <td>Female</td>\n",
       "      <td>Tiger Shark  (Galeocerdo cuvier)</td>\n",
       "      <td>NaN</td>\n",
       "      <td>99.0</td>\n",
       "      <td>20 January 2014</td>\n",
       "      <td>4368.906</td>\n",
       "    </tr>\n",
       "    <tr>\n",
       "      <th>34077</th>\n",
       "      <td>1</td>\n",
       "      <td>2014-02-01 09:25:07+09:00</td>\n",
       "      <td>102</td>\n",
       "      <td>-0.240960</td>\n",
       "      <td>-89.920682</td>\n",
       "      <td>Emma</td>\n",
       "      <td>Female</td>\n",
       "      <td>Tiger Shark  (Galeocerdo cuvier)</td>\n",
       "      <td>NaN</td>\n",
       "      <td>99.0</td>\n",
       "      <td>20 January 2014</td>\n",
       "      <td>4368.906</td>\n",
       "    </tr>\n",
       "    <tr>\n",
       "      <th>34076</th>\n",
       "      <td>1</td>\n",
       "      <td>2014-02-01 17:31:34+09:00</td>\n",
       "      <td>102</td>\n",
       "      <td>-0.429350</td>\n",
       "      <td>-89.649420</td>\n",
       "      <td>Emma</td>\n",
       "      <td>Female</td>\n",
       "      <td>Tiger Shark  (Galeocerdo cuvier)</td>\n",
       "      <td>NaN</td>\n",
       "      <td>99.0</td>\n",
       "      <td>20 January 2014</td>\n",
       "      <td>4368.906</td>\n",
       "    </tr>\n",
       "  </tbody>\n",
       "</table>\n",
       "</div>"
      ],
      "text/plain": [
       "      active                  datetime   id  latitude  longitude  name  \\\n",
       "34080      1 2014-02-01 07:10:18+09:00  102 -0.466747 -90.300050  Emma   \n",
       "34079      1 2014-02-01 07:51:31+09:00  102 -0.411010 -90.327830  Emma   \n",
       "34078      1 2014-02-01 08:49:34+09:00  102 -0.478080 -90.368890  Emma   \n",
       "34077      1 2014-02-01 09:25:07+09:00  102 -0.240960 -89.920682  Emma   \n",
       "34076      1 2014-02-01 17:31:34+09:00  102 -0.429350 -89.649420  Emma   \n",
       "\n",
       "       gender                           species  weight  length  \\\n",
       "34080  Female  Tiger Shark  (Galeocerdo cuvier)     NaN    99.0   \n",
       "34079  Female  Tiger Shark  (Galeocerdo cuvier)     NaN    99.0   \n",
       "34078  Female  Tiger Shark  (Galeocerdo cuvier)     NaN    99.0   \n",
       "34077  Female  Tiger Shark  (Galeocerdo cuvier)     NaN    99.0   \n",
       "34076  Female  Tiger Shark  (Galeocerdo cuvier)     NaN    99.0   \n",
       "\n",
       "               tagDate  dist_total  \n",
       "34080  20 January 2014    4368.906  \n",
       "34079  20 January 2014    4368.906  \n",
       "34078  20 January 2014    4368.906  \n",
       "34077  20 January 2014    4368.906  \n",
       "34076  20 January 2014    4368.906  "
      ]
     },
     "execution_count": 26,
     "metadata": {},
     "output_type": "execute_result"
    }
   ],
   "source": [
    "emma = df.query(\"name == 'Emma'\").sort_values('datetime')\n",
    "emma.head()"
   ]
  },
  {
   "cell_type": "code",
   "execution_count": 27,
   "metadata": {
    "ExecuteTime": {
     "end_time": "2019-02-23T02:33:22.724773Z",
     "start_time": "2019-02-23T02:33:22.566497Z"
    }
   },
   "outputs": [
    {
     "data": {
      "text/plain": [
       "[(-0.4667466227579547, -90.30004977783199),\n",
       " (-0.41101000000000004, -90.32783),\n",
       " (-0.47808, -90.36889000000001),\n",
       " (-0.24095957143994035, -89.92068179687499),\n",
       " (-0.42935, -89.64941999999999)]"
      ]
     },
     "execution_count": 27,
     "metadata": {},
     "output_type": "execute_result"
    }
   ],
   "source": [
    "latlons = list(zip(emma.latitude.values, emma.longitude.values))\n",
    "latlons[:5]"
   ]
  },
  {
   "cell_type": "code",
   "execution_count": 28,
   "metadata": {
    "ExecuteTime": {
     "end_time": "2019-02-23T02:33:23.276312Z",
     "start_time": "2019-02-23T02:33:22.728769Z"
    }
   },
   "outputs": [
    {
     "data": {
      "text/html": [
       "<div style=\"width:100%;\"><div style=\"position:relative;width:100%;height:0;padding-bottom:60%;\"><iframe src=\"data:text/html;charset=utf-8;base64,PCFET0NUWVBFIGh0bWw+CjxoZWFkPiAgICAKICAgIDxtZXRhIGh0dHAtZXF1aXY9ImNvbnRlbnQtdHlwZSIgY29udGVudD0idGV4dC9odG1sOyBjaGFyc2V0PVVURi04IiAvPgogICAgPHNjcmlwdD5MX1BSRUZFUl9DQU5WQVM9ZmFsc2U7IExfTk9fVE9VQ0g9ZmFsc2U7IExfRElTQUJMRV8zRD1mYWxzZTs8L3NjcmlwdD4KICAgIDxzY3JpcHQgc3JjPSJodHRwczovL2Nkbi5qc2RlbGl2ci5uZXQvbnBtL2xlYWZsZXRAMS4zLjQvZGlzdC9sZWFmbGV0LmpzIj48L3NjcmlwdD4KICAgIDxzY3JpcHQgc3JjPSJodHRwczovL2FqYXguZ29vZ2xlYXBpcy5jb20vYWpheC9saWJzL2pxdWVyeS8xLjExLjEvanF1ZXJ5Lm1pbi5qcyI+PC9zY3JpcHQ+CiAgICA8c2NyaXB0IHNyYz0iaHR0cHM6Ly9tYXhjZG4uYm9vdHN0cmFwY2RuLmNvbS9ib290c3RyYXAvMy4yLjAvanMvYm9vdHN0cmFwLm1pbi5qcyI+PC9zY3JpcHQ+CiAgICA8c2NyaXB0IHNyYz0iaHR0cHM6Ly9jZG5qcy5jbG91ZGZsYXJlLmNvbS9hamF4L2xpYnMvTGVhZmxldC5hd2Vzb21lLW1hcmtlcnMvMi4wLjIvbGVhZmxldC5hd2Vzb21lLW1hcmtlcnMuanMiPjwvc2NyaXB0PgogICAgPGxpbmsgcmVsPSJzdHlsZXNoZWV0IiBocmVmPSJodHRwczovL2Nkbi5qc2RlbGl2ci5uZXQvbnBtL2xlYWZsZXRAMS4zLjQvZGlzdC9sZWFmbGV0LmNzcyIvPgogICAgPGxpbmsgcmVsPSJzdHlsZXNoZWV0IiBocmVmPSJodHRwczovL21heGNkbi5ib290c3RyYXBjZG4uY29tL2Jvb3RzdHJhcC8zLjIuMC9jc3MvYm9vdHN0cmFwLm1pbi5jc3MiLz4KICAgIDxsaW5rIHJlbD0ic3R5bGVzaGVldCIgaHJlZj0iaHR0cHM6Ly9tYXhjZG4uYm9vdHN0cmFwY2RuLmNvbS9ib290c3RyYXAvMy4yLjAvY3NzL2Jvb3RzdHJhcC10aGVtZS5taW4uY3NzIi8+CiAgICA8bGluayByZWw9InN0eWxlc2hlZXQiIGhyZWY9Imh0dHBzOi8vbWF4Y2RuLmJvb3RzdHJhcGNkbi5jb20vZm9udC1hd2Vzb21lLzQuNi4zL2Nzcy9mb250LWF3ZXNvbWUubWluLmNzcyIvPgogICAgPGxpbmsgcmVsPSJzdHlsZXNoZWV0IiBocmVmPSJodHRwczovL2NkbmpzLmNsb3VkZmxhcmUuY29tL2FqYXgvbGlicy9MZWFmbGV0LmF3ZXNvbWUtbWFya2Vycy8yLjAuMi9sZWFmbGV0LmF3ZXNvbWUtbWFya2Vycy5jc3MiLz4KICAgIDxsaW5rIHJlbD0ic3R5bGVzaGVldCIgaHJlZj0iaHR0cHM6Ly9yYXdjZG4uZ2l0aGFjay5jb20vcHl0aG9uLXZpc3VhbGl6YXRpb24vZm9saXVtL21hc3Rlci9mb2xpdW0vdGVtcGxhdGVzL2xlYWZsZXQuYXdlc29tZS5yb3RhdGUuY3NzIi8+CiAgICA8c3R5bGU+aHRtbCwgYm9keSB7d2lkdGg6IDEwMCU7aGVpZ2h0OiAxMDAlO21hcmdpbjogMDtwYWRkaW5nOiAwO308L3N0eWxlPgogICAgPHN0eWxlPiNtYXAge3Bvc2l0aW9uOmFic29sdXRlO3RvcDowO2JvdHRvbTowO3JpZ2h0OjA7bGVmdDowO308L3N0eWxlPgogICAgCiAgICA8bWV0YSBuYW1lPSJ2aWV3cG9ydCIgY29udGVudD0id2lkdGg9ZGV2aWNlLXdpZHRoLAogICAgICAgIGluaXRpYWwtc2NhbGU9MS4wLCBtYXhpbXVtLXNjYWxlPTEuMCwgdXNlci1zY2FsYWJsZT1ubyIgLz4KICAgIDxzdHlsZT4jbWFwXzNhZjYxZTZlZmIwNTRkZjBiYjc4NWM1MTM0ZTE3ZDU3IHsKICAgICAgICBwb3NpdGlvbjogcmVsYXRpdmU7CiAgICAgICAgd2lkdGg6IDEwMC4wJTsKICAgICAgICBoZWlnaHQ6IDEwMC4wJTsKICAgICAgICBsZWZ0OiAwLjAlOwogICAgICAgIHRvcDogMC4wJTsKICAgICAgICB9CiAgICA8L3N0eWxlPgo8L2hlYWQ+Cjxib2R5PiAgICAKICAgIAogICAgPGRpdiBjbGFzcz0iZm9saXVtLW1hcCIgaWQ9Im1hcF8zYWY2MWU2ZWZiMDU0ZGYwYmI3ODVjNTEzNGUxN2Q1NyIgPjwvZGl2Pgo8L2JvZHk+CjxzY3JpcHQ+ICAgIAogICAgCiAgICAKICAgICAgICB2YXIgYm91bmRzID0gbnVsbDsKICAgIAoKICAgIHZhciBtYXBfM2FmNjFlNmVmYjA1NGRmMGJiNzg1YzUxMzRlMTdkNTcgPSBMLm1hcCgKICAgICAgICAnbWFwXzNhZjYxZTZlZmIwNTRkZjBiYjc4NWM1MTM0ZTE3ZDU3JywgewogICAgICAgIGNlbnRlcjogWzAuMzAwNTgzMjM5MjYzMTkyMTQsIC04Ny42MDczOTcxMTQ2NzM5XSwKICAgICAgICB6b29tOiA1LAogICAgICAgIG1heEJvdW5kczogYm91bmRzLAogICAgICAgIGxheWVyczogW10sCiAgICAgICAgd29ybGRDb3B5SnVtcDogZmFsc2UsCiAgICAgICAgY3JzOiBMLkNSUy5FUFNHMzg1NywKICAgICAgICB6b29tQ29udHJvbDogdHJ1ZSwKICAgICAgICB9KTsKCiAgICAKICAgIAogICAgdmFyIHRpbGVfbGF5ZXJfZDdjM2U2MWEyZjZhNDZiM2FiMzZjNTE1M2E1ZWZmNzEgPSBMLnRpbGVMYXllcigKICAgICAgICAnaHR0cHM6Ly97c30udGlsZS5vcGVuc3RyZWV0bWFwLm9yZy97en0ve3h9L3t5fS5wbmcnLAogICAgICAgIHsKICAgICAgICAiYXR0cmlidXRpb24iOiBudWxsLAogICAgICAgICJkZXRlY3RSZXRpbmEiOiBmYWxzZSwKICAgICAgICAibWF4TmF0aXZlWm9vbSI6IDE4LAogICAgICAgICJtYXhab29tIjogMTgsCiAgICAgICAgIm1pblpvb20iOiAwLAogICAgICAgICJub1dyYXAiOiBmYWxzZSwKICAgICAgICAib3BhY2l0eSI6IDEsCiAgICAgICAgInN1YmRvbWFpbnMiOiAiYWJjIiwKICAgICAgICAidG1zIjogZmFsc2UKfSkuYWRkVG8obWFwXzNhZjYxZTZlZmIwNTRkZjBiYjc4NWM1MTM0ZTE3ZDU3KTsKICAgIAogICAgICAgIHZhciBtYXJrZXJfN2Y1MmE2YTkxMmFjNDk5YWEzMjYxZTIxNTM5YmZiZmIgPSBMLm1hcmtlcigKICAgICAgICAgICAgWy0wLjQ2Njc0NjYyMjc1Nzk1NDcsIC05MC4zMDAwNDk3Nzc4MzE5OV0sCiAgICAgICAgICAgIHsKICAgICAgICAgICAgICAgIGljb246IG5ldyBMLkljb24uRGVmYXVsdCgpCiAgICAgICAgICAgICAgICB9CiAgICAgICAgICAgICkuYWRkVG8obWFwXzNhZjYxZTZlZmIwNTRkZjBiYjc4NWM1MTM0ZTE3ZDU3KTsKICAgICAgICAKICAgIAoKICAgICAgICAgICAgICAgIHZhciBpY29uX2YzNzMyNGM3ZDM3YTQ2NGRhMjhkNmY3N2VmOWM1MWRmID0gTC5Bd2Vzb21lTWFya2Vycy5pY29uKHsKICAgICAgICAgICAgICAgICAgICBpY29uOiAncGxheScsCiAgICAgICAgICAgICAgICAgICAgaWNvbkNvbG9yOiAnd2hpdGUnLAogICAgICAgICAgICAgICAgICAgIG1hcmtlckNvbG9yOiAnYmx1ZScsCiAgICAgICAgICAgICAgICAgICAgcHJlZml4OiAnZ2x5cGhpY29uJywKICAgICAgICAgICAgICAgICAgICBleHRyYUNsYXNzZXM6ICdmYS1yb3RhdGUtMCcKICAgICAgICAgICAgICAgICAgICB9KTsKICAgICAgICAgICAgICAgIG1hcmtlcl83ZjUyYTZhOTEyYWM0OTlhYTMyNjFlMjE1MzliZmJmYi5zZXRJY29uKGljb25fZjM3MzI0YzdkMzdhNDY0ZGEyOGQ2Zjc3ZWY5YzUxZGYpOwogICAgICAgICAgICAKICAgIAogICAgICAgICAgICB2YXIgcG9wdXBfZTU1ZDQ4ZWRjMzYwNDc0NTgzYzZiMDg2MzBjZmQwNmEgPSBMLnBvcHVwKHttYXhXaWR0aDogJzMwMCcKICAgICAgICAgICAgCiAgICAgICAgICAgIH0pOwoKICAgICAgICAgICAgCiAgICAgICAgICAgICAgICB2YXIgaHRtbF9kMGM2ZTlhM2FjYzE0Nzc4OGZhZjM0NzU0MzZiNGQ5ZCA9ICQoYDxkaXYgaWQ9Imh0bWxfZDBjNmU5YTNhY2MxNDc3ODhmYWYzNDc1NDM2YjRkOWQiIHN0eWxlPSJ3aWR0aDogMTAwLjAlOyBoZWlnaHQ6IDEwMC4wJTsiPkZpcnN0IHBpbmc8L2Rpdj5gKVswXTsKICAgICAgICAgICAgICAgIHBvcHVwX2U1NWQ0OGVkYzM2MDQ3NDU4M2M2YjA4NjMwY2ZkMDZhLnNldENvbnRlbnQoaHRtbF9kMGM2ZTlhM2FjYzE0Nzc4OGZhZjM0NzU0MzZiNGQ5ZCk7CiAgICAgICAgICAgIAoKICAgICAgICAgICAgbWFya2VyXzdmNTJhNmE5MTJhYzQ5OWFhMzI2MWUyMTUzOWJmYmZiLmJpbmRQb3B1cChwb3B1cF9lNTVkNDhlZGMzNjA0NzQ1ODNjNmIwODYzMGNmZDA2YSkKICAgICAgICAgICAgOwoKICAgICAgICAgICAgCiAgICAgICAgCiAgICAKICAgICAgICB2YXIgbWFya2VyX2MzN2ZjNjBkYjNlNDRiMDA4NTM5MWMzMGQwZWFkOGMxID0gTC5tYXJrZXIoCiAgICAgICAgICAgIFsyLjEwNTAyOTk5OTk5OTk5OTcsIC04MC44MTA4NTk5OTk5OTk5OV0sCiAgICAgICAgICAgIHsKICAgICAgICAgICAgICAgIGljb246IG5ldyBMLkljb24uRGVmYXVsdCgpCiAgICAgICAgICAgICAgICB9CiAgICAgICAgICAgICkuYWRkVG8obWFwXzNhZjYxZTZlZmIwNTRkZjBiYjc4NWM1MTM0ZTE3ZDU3KTsKICAgICAgICAKICAgIAoKICAgICAgICAgICAgICAgIHZhciBpY29uXzBhYTllNTk2YThjZDQ2MTI4M2QyMWM0NGQwYTFmMmM1ID0gTC5Bd2Vzb21lTWFya2Vycy5pY29uKHsKICAgICAgICAgICAgICAgICAgICBpY29uOiAnc3RvcCcsCiAgICAgICAgICAgICAgICAgICAgaWNvbkNvbG9yOiAnd2hpdGUnLAogICAgICAgICAgICAgICAgICAgIG1hcmtlckNvbG9yOiAnYmx1ZScsCiAgICAgICAgICAgICAgICAgICAgcHJlZml4OiAnZ2x5cGhpY29uJywKICAgICAgICAgICAgICAgICAgICBleHRyYUNsYXNzZXM6ICdmYS1yb3RhdGUtMCcKICAgICAgICAgICAgICAgICAgICB9KTsKICAgICAgICAgICAgICAgIG1hcmtlcl9jMzdmYzYwZGIzZTQ0YjAwODUzOTFjMzBkMGVhZDhjMS5zZXRJY29uKGljb25fMGFhOWU1OTZhOGNkNDYxMjgzZDIxYzQ0ZDBhMWYyYzUpOwogICAgICAgICAgICAKICAgIAogICAgICAgICAgICB2YXIgcG9wdXBfYzIyYjZhZTZjM2Y4NDY0MzkwYzI0ZDAwZDYwMDc0NDkgPSBMLnBvcHVwKHttYXhXaWR0aDogJzMwMCcKICAgICAgICAgICAgCiAgICAgICAgICAgIH0pOwoKICAgICAgICAgICAgCiAgICAgICAgICAgICAgICB2YXIgaHRtbF81N2YxOWM2MmRiMWE0NWU5YTY4YTcyYzgyMDdmMmM4YyA9ICQoYDxkaXYgaWQ9Imh0bWxfNTdmMTljNjJkYjFhNDVlOWE2OGE3MmM4MjA3ZjJjOGMiIHN0eWxlPSJ3aWR0aDogMTAwLjAlOyBoZWlnaHQ6IDEwMC4wJTsiPkxhc3QgcGluZzwvZGl2PmApWzBdOwogICAgICAgICAgICAgICAgcG9wdXBfYzIyYjZhZTZjM2Y4NDY0MzkwYzI0ZDAwZDYwMDc0NDkuc2V0Q29udGVudChodG1sXzU3ZjE5YzYyZGIxYTQ1ZTlhNjhhNzJjODIwN2YyYzhjKTsKICAgICAgICAgICAgCgogICAgICAgICAgICBtYXJrZXJfYzM3ZmM2MGRiM2U0NGIwMDg1MzkxYzMwZDBlYWQ4YzEuYmluZFBvcHVwKHBvcHVwX2MyMmI2YWU2YzNmODQ2NDM5MGMyNGQwMGQ2MDA3NDQ5KQogICAgICAgICAgICA7CgogICAgICAgICAgICAKICAgICAgICAKICAgIAogICAgICAgICAgICAgICAgdmFyIHBvbHlfbGluZV9hYmFiYmZhNTllNGM0N2JhYTViMGE1ZTUzOWM2NmI0MyA9IEwucG9seWxpbmUoCiAgICAgICAgICAgICAgICAgICAgW1stMC40NjY3NDY2MjI3NTc5NTQ3LCAtOTAuMzAwMDQ5Nzc3ODMxOTldLCBbLTAuNDExMDEwMDAwMDAwMDAwMDQsIC05MC4zMjc4M10sIFstMC40NzgwOCwgLTkwLjM2ODg5MDAwMDAwMDAxXSwgWy0wLjI0MDk1OTU3MTQzOTk0MDM1LCAtODkuOTIwNjgxNzk2ODc0OTldLCBbLTAuNDI5MzUsIC04OS42NDk0MTk5OTk5OTk5OV0sIFstMC40MDg1MiwgLTg5Ljc4MTIxOTk5OTk5OTk5XSwgWy0wLjQ2MzkzOTk5OTk5OTk5OTk2LCAtODkuOTYwNjddLCBbLTAuNDI0MTgsIC05MC40MDExNl0sIFstMC40NzY2NjAwMDAwMDAwMDAwMywgLTkwLjM4M10sIFstMC40ODk0MDU1MzQ4NjE5Njg3LCAtOTAuMjk5MDYzMDM3MTA5MzZdLCBbLTAuNDg1OTc3MzE1NTY3MzM2NCwgLTkwLjI4OTY5MzAwNTM3MTA4XSwgWy0wLjQ1MjY4LCAtOTAuMzI2MjMwMDAwMDAwMDFdLCBbLTAuNDQ5MTUsIC05MC4zMzI4M10sIFstMC40NDg2OCwgLTkwLjMyNzg2OTk5OTk5OTk5XSwgWy0wLjQ2MDc2MDAwMDAwMDAwMDA2LCAtOTAuMzMxMzFdLCBbLTAuNDY2ODMsIC05MC4zMzEwOV0sIFstMC40NTA3MTcwMDc5Nzk3MTQ1LCAtOTAuMjk2NDcyNTYxMDM1MTZdLCBbLTAuNDY5NCwgLTkwLjMxNDE2OTk5OTk5OTk5XSwgWy0wLjQ2ODUyLCAtOTAuMzEzNThdLCBbLTAuNDg0NTY5MTE1NTM4MDA4NCwgLTkwLjI5NzI1NjM5MTYwMTU1XSwgWy0wLjQ4NzU4NzUzMDE2NDcyMTcsIC05MC4yOTcyMTMwMzcxMDkzNl0sIFstMC4yODU1MDQxNTgxOTk3MTE2LCAtOTAuMjA5NjQyOTE5OTIxODZdLCBbLTAuNDQwMTYwMDAwMDAwMDAwMDUsIC05MC4zMzM0NF0sIFstMC40NjUwMiwgLTkwLjM0MDU1XSwgWy0wLjQ2NzczMDAwMDAwMDAwMDAzLCAtOTAuMzQwNjY5OTk5OTk5OTldLCBbLTAuNDc0NDMsIC05MC4zMTc3Ml0sIFstMC40NjMwMiwgLTkwLjM0NjA5XSwgWy0wLjQ1OTQsIC05MC4zNDA5OF0sIFstMC40NDc2ODg0NjIxNDgwMzI5LCAtOTAuMzk5MTEzMTc1NzgxNDFdLCBbLTAuNDc3MzEsIC05MC4zNTYzM10sIFstMC40NTc0NSwgLTkwLjM0Mjg5XSwgWy0wLjQ1NDQ3LCAtOTAuMzQxMDAwMDAwMDAwMDFdLCBbLTAuNDM3NzEwMDAwMDAwMDAwMDQsIC05MC4zNTU1M10sIFstMC40NTMzNywgLTkwLjM0MDE3XSwgWy0wLjQ2MDQ1LCAtOTAuMzM4MDFdLCBbLTAuNDc5NzcsIC05MC4zNjYwMTk5OTk5OTk5OV0sIFstMC40NjM5Mzk5OTk5OTk5OTk5NiwgLTkwLjMzMDU5XSwgWy0wLjQ2MTQzLCAtOTAuMzIzOTkwMDAwMDAwMDFdLCBbLTAuNDY3NjM5OTk5OTk5OTk5OTQsIC05MC4zMTgzN10sIFstMC40NzA4OSwgLTkwLjMxODA1XSwgWy0wLjQ2NTUyLCAtOTAuMTI4MzldLCBbLTAuNTA1NjI5MDcyMjUyNzUsIC05MC4zNjc0MDE1OTc5MDA0M10sIFstMC40NTI5NjAwMDAwMDAwMDAwMywgLTkwLjM1MjMxOTk5OTk5OTk5XSwgWy0wLjQ2MzY1LCAtOTAuMzM3MV0sIFstMC41MTQ2MiwgLTkwLjIxMzldLCBbLTAuNDY5MjMwMDAwMDAwMDAwMDQsIC05MC4zNDY4OF0sIFstMC40NjU4NCwgLTkwLjM0MjYzXSwgWy0wLjQ1OTEsIC05MC4zNDM0NF0sIFstMC40MTYzOSwgLTkwLjM1NTA0XSwgWy0wLjQ2MjIxOTk5OTk5OTk5OTk2LCAtOTAuMzY4MTFdLCBbLTAuNDkxNTE5OTk5OTk5OTk5OTYsIC05MC4zMzc3NV0sIFstMC40ODg2NywgLTkwLjMzMzE4XSwgWy0wLjUwODA3ODE2OTgyNTM3NTcsIC05MC4zODc3NjMzODYyMzA0NV0sIFstMC40ODEzNCwgLTkwLjM4NTQ0XSwgWy0wLjQ3MjM5LCAtOTAuMzg0ODFdLCBbLTAuNDY5ODUsIC05MC4zNTA2NF0sIFstMC40Mjg2MywgLTkwLjI3NzE2XSwgWy0wLjQ5MTg4NDE2NDAzMDY5NzUsIC05MC4yOTc2MDY4OTk0MTQwNl0sIFstMC40OTUxNzQxMDIyMzI3MDQ3LCAtOTAuMjk1MDQ4NTI5MDUyNzRdLCBbLTAuNTk3NTksIC04OS44MzY4MTk5OTk5OTk5OV0sIFstMC4zOTU3OTAwMDAwMDAwMDAwMywgLTkwLjM2MTk4XSwgWy0wLjQwMDYsIC05MC4yNzExMl0sIFstMC41MTI4ODc2NjM1NzQwMTc5LCAtOTAuMzYzOTY1NjkzMzU5MzhdLCBbLTAuNTExNzA3NjUyMzU0NjE0NywgLTkwLjM4ODg5Njc3MjQ2MDk1XSwgWy0wLjQ4ODAxMDAwMDAwMDAwMDA1LCAtOTAuMzgxNzZdLCBbLTAuNDgyMjcsIC05MC4zODk2MzAwMDAwMDAwMV0sIFstMC41MDE1MiwgLTkwLjQ5NDM1XSwgWy0wLjQ4NDczOTk5OTk5OTk5OTk1LCAtOTAuMzI3NjVdLCBbLTAuNDI3MTYzNDk0NzkyMDI0LCAtOTAuMjY2MDYwMjUzOTA2MTldLCBbLTAuNDIxMzk2ODY2MDc1MDYyNTUsIC05MC4yNjkzMzAwNjM0NzY1Nl0sIFstMC40NzY0MTk5OTk5OTk5OTk5NSwgLTkwLjM1ODMxOTk5OTk5OTk5XSwgWy0wLjQ3OTk1LCAtOTAuMzYxNTRdLCBbLTAuNDc3MjgwMDAwMDAwMDAwMDQsIC05MC4zNDg0ODAwMDAwMDAwMV0sIFstMC40Nzc5NjAwMDAwMDAwMDAwNSwgLTkwLjQxODQxXSwgWy0wLjQ3NjU1LCAtOTAuNDI0NjgwMDAwMDAwMDFdLCBbLTAuNTA4Njg3Mjc1MTYzOTYzNSwgLTkwLjQzOTAwMDEyNjk1MzA5XSwgWy0wLjQ3MjM4LCAtOTAuNDE0MzldLCBbLTAuNDY3OTUsIC05MC40MTk3N10sIFstMC40NDIxOCwgLTkwLjQxMTcxXSwgWy0wLjQ1NDI4LCAtOTAuNDU1NTldLCBbLTAuNTA5MTM5OTk5OTk5OTk5OSwgLTkwLjQ1MjM1XSwgWy0wLjQ4ODgsIC05MC41MDc5Nl0sIFstMC41MjQ2MSwgLTkwLjQ5MjIxXSwgWy0wLjUwMzY1LCAtOTAuNDQwODJdLCBbLTAuNDkzNiwgLTkwLjQ0MDQ2XSwgWy0wLjQ5MjgxLCAtOTAuNDEwMzZdLCBbLTAuNDk0NTMsIC05MC4zODI4NV0sIFstMC40OTQxMiwgLTkwLjM3OTldLCBbLTAuNDY5NjUsIC05MC40MDA2MV0sIFstMC40MDI1NywgLTg5Ljg2NjUwOTk5OTk5OTk5XSwgWy0wLjUzNjY0LCAtOTAuMzg3MTJdLCBbLTAuNTM2MTQsIC05MC4zODcxOV0sIFstMC41NDA5NSwgLTkwLjM5MV0sIFstMC40ODI2MiwgLTkwLjQyODQxXSwgWy0wLjUwODY5LCAtOTAuNDYxMjZdLCBbLTAuNTA5MywgLTkwLjQ2MTczXSwgWy0wLjU0NzgyLCAtOTAuMzMxNF0sIFstMC41MzA1OCwgLTkwLjU1NDgzMDAwMDAwMDAxXSwgWy0wLjU3NzgsIC05MC4zMjU2NV0sIFstMC41NzAyNSwgLTkwLjI4NjY1XSwgWy0wLjQ4ODU2MDAwMDAwMDAwMDA1LCAtOTAuMzEyNl0sIFstMC40ODg2OCwgLTkwLjMxMDI2XSwgWy0wLjUwOTQxLCAtOTAuNTMxOTkwMDAwMDAwMDFdLCBbLTAuNDg2NSwgLTkwLjUyMDc3XSwgWy0wLjQ3MDA4LCAtOTAuNDQ0NDMwMDAwMDAwMDFdLCBbLTAuNDc2MTcsIC05MC40NjI3MV0sIFstMC40ODQwNywgLTkwLjQwMDU5MDAwMDAwMDAxXSwgWy0wLjI2NzY2LCAtOTAuNjYwMzJdLCBbLTAuNDU1NTYsIC05MC40NzI0OF0sIFstMC40ODc3LCAtOTAuNTQ5MDldLCBbLTAuNTE5NTYsIC05MC40MTM4OTAwMDAwMDAwMV0sIFstMC41MDE2NSwgLTkwLjQ1NjgzMDAwMDAwMDAxXSwgWy0wLjQ4MjIyLCAtOTAuNDE4Ml0sIFstMC40ODIzMTk5OTk5OTk5OTk5NywgLTkwLjQwMzc5XSwgWy0wLjUyNzQ4MDAwMDAwMDAwMDEsIC05MC4xMjU0MzAwMDAwMDAwMV0sIFstMC41NTg5MSwgLTkwLjU0MTY3XSwgWy0wLjU0MzExLCAtOTAuNTY1NTU5OTk5OTk5OTldLCBbLTAuNTM5MDQsIC05MC41ODA0Njk5OTk5OTk5OV0sIFstMC40NjkxNSwgLTkwLjQ1Njg0XSwgWy0wLjU3MTg5LCAtOTAuMzA4MDZdLCBbLTAuNTYwMzgsIC05MC4zMDc0NTk5OTk5OTk5OV0sIFstMC40NjYwNjAwMDAwMDAwMDAwMywgLTkwLjMxOTA4XSwgWy0wLjQ5OTE3LCAtOTAuMzE2NjhdLCBbLTAuNDg5NTMsIC05MC4zMTU1ODAwMDAwMDAwMV0sIFstMC40Nzk5LCAtOTAuNDkyMDZdLCBbLTAuNDc1MywgLTkwLjUzMzA1XSwgWy0wLjI5NDEsIC05MC40OTcxOV0sIFstMC40ODg1ODk5OTk5OTk5OTk5NywgLTkwLjUyMTI0XSwgWy0wLjc4MzU4LCAtOTAuNDkwNl0sIFstMC45Mzg2NiwgLTkwLjQ2MDc1XSwgWy0wLjc5MjQ4MDAwMDAwMDAwMDEsIC05MC40NDcwOV0sIFstMC41OTUzMiwgLTkwLjM0NTA0XSwgWy0wLjU2MjMxMDAwMDAwMDAwMDEsIC05MC4zOTE2XSwgWy0wLjQ1OTE2OTk5OTk5OTk5OTk3LCAtOTAuMzUzXSwgWy0wLjQ3Mzk3LCAtOTAuMzM4MDRdLCBbLTAuNTQ0Mjg5OTk5OTk5OTk5OSwgLTkwLjM4NDMyXSwgWy0wLjQ5NTE4LCAtOTAuMzczMV0sIFstMC40ODQ2MiwgLTkwLjM5Mjk2OTk5OTk5OTk5XSwgWy0wLjQ2NjMxMDAwMDAwMDAwMDA2LCAtOTAuMzU3MzkwMDAwMDAwMDFdLCBbLTAuNDQ2ODg5OTk5OTk5OTk5OTUsIC05MC4zNDg3NF0sIFstMC40ODM2NSwgLTkwLjM0NDk2OTk5OTk5OTk5XSwgWy0wLjQwNjMzLCAtOTAuMzExMzddLCBbLTAuMzY3NzQsIC05MC4yNzI1OTAwMDAwMDAwMV0sIFstMC40NzM0MTAwMDAwMDAwMDAwNSwgLTkwLjMwODIxXSwgWy0wLjQ0OTkzLCAtOTAuMzAzODQwMDAwMDAwMDFdLCBbLTAuNDQ2NDg5OTk5OTk5OTk5OTQsIC05MC4zNDY0N10sIFstMC40MzIxNywgLTkwLjMzNDcxOTk5OTk5OTk5XSwgWy0wLjQ1NiwgLTkwLjMzNTldLCBbLTAuNDU0NDEwMDAwMDAwMDAwMDQsIC05MC4zMzIyNTk5OTk5OTk5OV0sIFstMC40NTIzMzk5OTk5OTk5OTk5NiwgLTkwLjMxNTIzXSwgWy0wLjQzNzUsIC05MC4yNDM1OV0sIFstMC40NDgwMzAwMDAwMDAwMDAwNCwgLTkwLjI5NjYxXSwgWy0wLjQ2MDI0LCAtOTAuMjk0MTE5OTk5OTk5OTldLCBbLTAuNTA3NzYsIC05MC4zOTU2XSwgWy0wLjU3OTgyLCAtOTAuNjIwNDZdLCBbLTAuNTU0MDksIC05MC41NDc4Njk5OTk5OTk5OV0sIFstMC40NjM3NSwgLTkwLjMyNTMxXSwgWy0wLjQ4ODkzMDAwMDAwMDAwMDAzLCAtOTAuMzI3MTddLCBbLTAuNDYxODYwMDAwMDAwMDAwMDUsIC05MC4zMTc1XSwgWy0wLjQ3ODc4OTk5OTk5OTk5OTk0LCAtOTAuMjk4NzFdLCBbLTAuNDY5MTg5OTk5OTk5OTk5OTQsIC05MC4zMjU3OV0sIFstMC40NzA4NCwgLTkwLjMwNjg2XSwgWy0wLjQ3MjgxMDAwMDAwMDAwMDA2LCAtOTAuMzA5NDVdLCBbLTAuNDEzODMwMDAwMDAwMDAwMDMsIC05MC4zMjY2ODAwMDAwMDAwMV0sIFstMC40MDAyNjk5OTk5OTk5OTk5NiwgLTkwLjMzNzM2OTk5OTk5OTk5XSwgWy0wLjQyMDc4OTk5OTk5OTk5OTk0LCAtOTAuMzM3MTldLCBbLTAuMzc0MTUsIC05MC40MjYzOV0sIFstMC40NDUxNCwgLTkwLjMxMDk0XSwgWy0wLjQ0NTEzLCAtOTAuMzEwOTRdLCBbLTAuNDU2NTgwMDAwMDAwMDAwMDQsIC05MC4yODY0MzAwMDAwMDAwMV0sIFstMC40MTU4MTk5OTk5OTk5OTk5NywgLTkwLjIyNTI1XSwgWy0wLjQ1OTM4LCAtOTAuMzIyMjZdLCBbLTAuNDY2OTIsIC05MC4yODI0MV0sIFstMC40NDY2MTk5OTk5OTk5OTk5NiwgLTkwLjI5ODc1XSwgWy0wLjQ2OTY1LCAtOTAuNDk2NDFdLCBbLTAuNTQwNTMwMDAwMDAwMDAwMSwgLTkwLjUxODEzXSwgWy0wLjQ2NDk3LCAtOTAuMzIzOTNdLCBbLTAuMzQyMDksIC04OS40ODAwM10sIFstMC4wODA4NzAwMDAwMDAwMDAwMSwgLTg5LjU2OTI5MDAwMDAwMDAxXSwgWy0wLjMwMDY2LCAtOTAuMzg3OF0sIFswLjAxNTE4LCAtODkuNjEwMDddLCBbLTAuNDU5OTg5OTk5OTk5OTk5OTUsIC05MC4zNDAxM10sIFstMC40NDg2OSwgLTkwLjM0MDYyXSwgWy0wLjQ1MjgyLCAtOTAuMzIwMzhdLCBbLTAuNDUxMDksIC05MC4zMTg1ODAwMDAwMDAwMV0sIFstMC40NjQzNSwgLTkwLjMxMjU3XSwgWy0wLjQ1MzU1LCAtOTAuMzA1ODRdLCBbLTAuNDYwNzgsIC05MC4zMDkyOF0sIFstMC40Njg4OCwgLTkwLjMxMDZdLCBbLTAuNDY3NTM5OTk5OTk5OTk5OTYsIC05MC4zMTc0NF0sIFstMC40ODMzMSwgLTkwLjMzMDMyXSwgWy0wLjQ0NjE5LCAtOTAuMzExMzddLCBbLTAuNDY3OTg5OTk5OTk5OTk5OTYsIC05MC4zNDEzN10sIFstMC40ODA5OSwgLTkwLjMzNTkxXSwgWy0wLjQ3OTg4MDAwMDAwMDAwMDAzLCAtOTAuMzQ0NjVdLCBbLTAuNTEzOTYwMDAwMDAwMDAwMSwgLTkwLjM2MDFdLCBbLTAuNDIzMTg5OTk5OTk5OTk5OTYsIC05MC4xMjQ0N10sIFstMC40Mjc5NCwgLTkwLjEzMjIzXSwgWy0wLjQ2ODkzOTk5OTk5OTk5OTk3LCAtOTAuMzE4NzFdLCBbLTAuNDczOTQsIC05MC4zMjQ4MTk5OTk5OTk5OV0sIFstMC40NjQzMTAwMDAwMDAwMDAwNiwgLTkwLjMxNjI0MDAwMDAwMDAxXSwgWy0wLjQ1MzMxMDAwMDAwMDAwMDA1LCAtOTAuMzM2MDZdLCBbLTAuNDcyMTM5OTk5OTk5OTk5OTUsIC05MC4zMzgwN10sIFstMC40NjM4NywgLTkwLjMzMTVdLCBbLTAuNDYzNiwgLTkwLjMyNTY5MDAwMDAwMDAxXSwgWy0wLjQ0MzI3LCAtOTAuMzQ5MDZdLCBbLTAuNDY0MjksIC05MC40MTU4Nl0sIFstMC40NjMxMzk5OTk5OTk5OTk5NCwgLTkwLjMwOTU0XSwgWy0wLjM3MDkzMDAwMDAwMDAwMDA0LCAtOTAuMjk4NTldLCBbLTAuNDIyNDksIC05MC42MjUwNV0sIFstMC40NTg3OSwgLTkwLjMxNjcxOTk5OTk5OTk5XSwgWy0wLjQ2MDY5LCAtOTAuMzA2MTMwMDAwMDAwMDFdLCBbLTAuNDY4NjMsIC05MC4yNzMxN10sIFstMC40NjExLCAtOTAuMzE2NTNdLCBbLTAuNDYwOTEwMDAwMDAwMDAwMDQsIC05MC4zMDE3XSwgWy0wLjQ3MzYxMDAwMDAwMDAwMDAzLCAtOTAuMzE2MDVdLCBbLTAuNDExOCwgLTkwLjMwMThdLCBbLTAuMzcyMzcsIC05MC4yNDgyXSwgWy0wLjQ1NzA4MDAwMDAwMDAwMDA0LCAtOTAuMjMwNzRdLCBbLTAuNDU2NiwgLTkwLjI0MjE0XSwgWy0wLjQ1NTQyLCAtOTAuMzA4Ml0sIFstMC40NjY4NSwgLTkwLjI5MDddLCBbLTAuNDg2MzY5OTk5OTk5OTk5OTcsIC05MC4yODM4MzAwMDAwMDAwMV0sIFstMC41MTY2NywgLTkwLjI2NjE4XSwgWy0wLjUwODc1LCAtOTAuMjgyNV0sIFstMC40OTg0MzAwMDAwMDAwMDAwNCwgLTkwLjM4MjAyXSwgWy0wLjQ0MzIsIC05MC40MTUwNV0sIFstMC41MjUyMzk5OTk5OTk5OTk5LCAtOTAuMjI0Ml0sIFstMC40OTE0MzAwMDAwMDAwMDAwMywgLTkwLjE5MjM1XSwgWy0wLjQ2OTYyLCAtOTAuMzA2MzVdLCBbLTAuNDY2MSwgLTkwLjMwODk2XSwgWy0wLjQ2MzI2MDAwMDAwMDAwMDA2LCAtOTAuMjg4NzRdLCBbLTAuNDcyNDMsIC05MC4zNTUyM10sIFstMC40MjU2MywgLTkwLjMxNTE3XSwgWy0wLjQyNjk0LCAtOTAuMzA1OTZdLCBbLTAuMzc0NjUsIC05MC4zNDg4NF0sIFstMC4zODg0MiwgLTkwLjMyNjM4XSwgWy0wLjQ1MDUyLCAtOTAuMjUxNDddLCBbLTAuNDcwMDMsIC05MC4yMzg2MV0sIFstMC40NTIzMiwgLTkwLjIzMDQzXSwgWy0wLjQyNjA4LCAtOTAuMjU0MjE5OTk5OTk5OTldLCBbLTAuNDcwNCwgLTkwLjI3MjAyXSwgWy0wLjQ1NjA4OTk5OTk5OTk5OTk0LCAtOTAuMzAzOTE5OTk5OTk5OTldLCBbLTAuNDE4MjEsIC05MC4zMjc1MzAwMDAwMDAwMV0sIFstMC40NDIxMywgLTkwLjMwOTk2OTk5OTk5OTk5XSwgWy0wLjQ3NTczMDAwMDAwMDAwMDA0LCAtOTAuMzE0NF0sIFstMC40ODE2NywgLTkwLjMzMDM3XSwgWy0wLjQ2NjkzOTk5OTk5OTk5OTk3LCAtOTAuMzA0NDMwMDAwMDAwMDFdLCBbLTAuNDU4OTgsIC05MC4zMDE5Ml0sIFstMC40NTg5NywgLTkwLjMwMTkzXSwgWy0wLjI5MTM5LCAtOTAuMzcyNzFdLCBbLTAuNDU2NjYsIC05MC4zMzYwNV0sIFstMC40NjU4MTk5OTk5OTk5OTk5NiwgLTkwLjM0NTU0XSwgWy0wLjQ2MTQ2MDAwMDAwMDAwMDA0LCAtOTAuNDU0MjMwMDAwMDAwMDFdLCBbLTAuNDY1NzksIC05MC40NzY2Ml0sIFstMC40MTcxMTAwMDAwMDAwMDAwNCwgLTkwLjQxODYzMDAwMDAwMDAxXSwgWy0wLjUzNDQzOTk5OTk5OTk5OTksIC05MC4zMzM1OV0sIFstMC44MzM5MywgLTkwLjUzNDQ5XSwgWy0wLjkxMjA0OTc3MzAzNzY2MiwgLTkwLjUwODczMTY2MDE1NjI5XSwgWzAuNzE4ODEwMDAwMDAwMDAwMSwgLTgzLjE2MzZdLCBbMC43MzUwMSwgLTgzLjE1MjA4XSwgWzAuNzcyMDEwMDAwMDAwMDAwMSwgLTgzLjA4OTU4XSwgWzAuODA1MjQsIC04My4wNTQzXSwgWzAuODI2MzYsIC04My4wMzQwOV0sIFswLjYxMjczLCAtODIuNzgyMl0sIFswLjk5NDU3OTk5OTk5OTk5OTksIC04Mi4yODMxOF0sIFsxLjA2MTMyOTk5OTk5OTk5OTksIC04Mi4yMDE2MzAwMDAwMDAwMV0sIFsxLjA1OTUsIC04Mi4yMTczNDAwMDAwMDAwMV0sIFsxLjA1MzcyLCAtODIuMTM1MzddLCBbMS4zOTU2MywgLTgxLjU5NTI0XSwgWzEuMzI1MDYwMDAwMDAwMDAwMSwgLTgxLjU5NzA2XSwgWzEuMzQzMDYwMDAwMDAwMDAwMSwgLTgxLjc2ODU4XSwgWzEuMjIxMTIsIC04MS43NjY4Ml0sIFsxLjIyMzk1LCAtODEuNjY4NDNdLCBbMS4yNjMxMjk5OTk5OTk5OTk5LCAtODEuNjQyNl0sIFsxLjMxNDg3OTk5OTk5OTk5OTgsIC04MC45MDQwOV0sIFsxLjI3MjY0LCAtODAuNzk1MzVdLCBbMS4xNjU1MjAwMDAwMDAwMDAxLCAtODAuODc1NjFdLCBbMS4wMzM4LCAtODAuODAyNTJdLCBbMC44Mjc4MywgLTgwLjQxMzc3XSwgWzAuOTE5OTYsIC04MC4zMDQ3NF0sIFsxLjg1MTQ5MjU4OTIyODYyNzEsIC03OC44Njk5NDc1ODc4OTA2NV0sIFsyLjUwNTI0LCAtNzkuMTYwOTFdLCBbMy44NDgxMTk5OTk5OTk5OTk4LCAtNzcuNDIyMjhdLCBbNC40NzA2NCwgLTc3LjcyODJdLCBbNC40NzcyOSwgLTc3LjcyMDY1XSwgWzUuMjExNzQsIC03Ni45MTk2OV0sIFs1LjIxNzE3MDQzMDc4MTM3MzUsIC03Ny41NjIyNjAxOTUzMTI1NV0sIFs1LjMzNDQyOTM5NzYwMzU1LCAtNzcuNTAyNDU1MzkwNjI1MDJdLCBbNS4yNDM0OSwgLTc3LjA3MTM4XSwgWzcuMzQ0NjcsIC03Ny4xNzYzODAwMDAwMDAwMV0sIFs2LjQzNDc2OTk5OTk5OTk5OSwgLTc3LjUxNDk1XSwgWzYuNDE4NDYsIC03Ny41MjAxOV0sIFs2LjcyODIxOTk5OTk5OTk5OSwgLTc3LjgyNTg0XSwgWzMuNDI1MSwgLTc4LjI1OTNdLCBbMy4zODA2NywgLTc4LjE4NjA1XSwgWzMuMzY2NzgwMDAwMDAwMDAwMywgLTc4LjE3NTczXSwgWzMuMDgyMjksIC03OC44MjMwMDAwMDAwMDAwMV0sIFsyLjk0OTI1LCAtNzguODMxNjZdLCBbMi44NzQ5OCwgLTc4Ljc1ODY3XSwgWzIuODk5MzkwMDAwMDAwMDAwNCwgLTc4Ljc1MjI5XSwgWzMuMTU3MTIsIC03OC41MjI3NF0sIFszLjE1Njg3LCAtNzguNTIwMzRdLCBbMy4yMDUyMiwgLTc4LjQ3MTI4MDAwMDAwMDAxXSwgWzMuMjM1NjQsIC03OC40NTA4OF0sIFszLjIxNjI1OTk5OTk5OTk5OTcsIC03OC4zMjIwNl0sIFszLjE1NDc5LCAtNzguMTM5NTVdLCBbMy4xMzE5MiwgLTc4LjA1NDQyXSwgWzMuMTEwMDQsIC03Ny43MzcwNV0sIFsyLjk3Mjg3LCAtNzguNDk1NzldLCBbMi45NzUzLCAtNzguNTA0NTJdLCBbMi44NzA2MiwgLTc4LjMxM10sIFsyLjg3MDk4LCAtNzguMzQwNTddLCBbMi44Njg1NiwgLTc4LjM2MTA1XSwgWzIuODMxMjQsIC03OC4yNjIyM10sIFsyLjkyNTU5LCAtNzguMzYwMzJdLCBbMi45NzIwMSwgLTc4LjQwNzFdLCBbMi43ODIxNSwgLTc4LjY0NzQ0XSwgWzIuNzcwNTQsIC03OC43MDI0OV0sIFsyLjc5MjY1OTk5OTk5OTk5OTcsIC03OC42Nzc2OV0sIFsyLjc2MjE0LCAtNzguOTI0NTJdLCBbMi44NjYyNywgLTc4LjY0MzM2XSwgWzIuODgwMTcsIC03OC42NzQzM10sIFsyLjg5MTg2LCAtNzguNzA3OThdLCBbMi45MTY2OSwgLTc4Ljg0MjY3XSwgWzIuNzk5Nzc5OTk5OTk5OTk5NywgLTc4LjU5ODI5XSwgWzIuODA5NjkwMDAwMDAwMDAwMiwgLTc4LjU1NzkwOTk5OTk5OTk5XSwgWzIuOTA0NjMsIC03OC4zNTg1N10sIFsyLjk1OTcxLCAtNzguMzE3ODZdLCBbMi45NTAyNSwgLTc4LjI4Njg3XSwgWzMuMTIwMzgsIC03OC41NzA5M10sIFszLjE0MTYzLCAtNzguNTYwMzMwMDAwMDAwMDFdLCBbMy4wODE4LCAtNzguNTI4MzddLCBbMy4wODU5OTAwMDAwMDAwMDAyLCAtNzguNTI2MjddLCBbMy4wODUwMiwgLTc4LjQ5OTM4XSwgWzMuMTQ4MDU5OTk5OTk5OTk5NiwgLTc4LjM5MTUzXSwgWzMuMTQ1NjYsIC03OC4zOTU3XSwgWzMuMjI1MDUsIC03OC4zNzg3NV0sIFsxLjM1NTQ0LCAtNzkuMzc2MjVdLCBbLTAuMjAwNDQyODM0OTQ0NTg5NDUsIC04MC41MzcwNDIxODc0OTk5OF0sIFstMC4zMzE3Nzg0ODQ4NzE0MDA4LCAtODAuNTcxODg4NTE1NjI1XSwgWzAuMTgzODYsIC04MC40OTk2MzAwMDAwMDAwMV0sIFswLjI3MzMyLCAtODAuOTA2M10sIFsxLjM1ODg2LCAtODEuNTUzMTU5OTk5OTk5OTldLCBbMi4xMDUwMjk5OTk5OTk5OTk3LCAtODAuODEwODU5OTk5OTk5OTldXSwKICAgICAgICAgICAgICAgICAgICB7CiAgImJ1YmJsaW5nTW91c2VFdmVudHMiOiB0cnVlLAogICJjb2xvciI6ICIjMzM4OGZmIiwKICAiZGFzaEFycmF5IjogbnVsbCwKICAiZGFzaE9mZnNldCI6IG51bGwsCiAgImZpbGwiOiBmYWxzZSwKICAiZmlsbENvbG9yIjogIiMzMzg4ZmYiLAogICJmaWxsT3BhY2l0eSI6IDAuMiwKICAiZmlsbFJ1bGUiOiAiZXZlbm9kZCIsCiAgImxpbmVDYXAiOiAicm91bmQiLAogICJsaW5lSm9pbiI6ICJyb3VuZCIsCiAgIm5vQ2xpcCI6IGZhbHNlLAogICJvcGFjaXR5IjogMS4wLAogICJzbW9vdGhGYWN0b3IiOiAxLjAsCiAgInN0cm9rZSI6IHRydWUsCiAgIndlaWdodCI6IDMKfQogICAgICAgICAgICAgICAgICAgICkKICAgICAgICAgICAgICAgICAgICAuYWRkVG8obWFwXzNhZjYxZTZlZmIwNTRkZjBiYjc4NWM1MTM0ZTE3ZDU3KTsKICAgICAgICAgICAgCjwvc2NyaXB0Pg==\" style=\"position:absolute;width:100%;height:100%;left:0;top:0;border:none !important;\" allowfullscreen webkitallowfullscreen mozallowfullscreen></iframe></div></div>"
      ],
      "text/plain": [
       "<folium.folium.Map at 0x1c2b3bd1518>"
      ]
     },
     "execution_count": 28,
     "metadata": {},
     "output_type": "execute_result"
    }
   ],
   "source": [
    "import folium\n",
    "\n",
    "avglat = emma.latitude.mean()\n",
    "avglon = emma.longitude.mean()\n",
    "\n",
    "m = folium.Map(location=(avglat, avglon), zoom_start=5)\n",
    "\n",
    "folium.Marker(latlons[0], popup=\"First ping\", icon=folium.Icon(icon=\"play\")).add_to(m)\n",
    "folium.Marker(latlons[-1], popup=\"Last ping\", icon=folium.Icon(icon=\"stop\")).add_to(m)\n",
    "\n",
    "folium.PolyLine(latlons).add_to(m)\n",
    "    \n",
    "m"
   ]
  },
  {
   "cell_type": "markdown",
   "metadata": {},
   "source": [
    "##### Plot interpolated locs\n",
    "Resample the Emma locations on a per-day basis and interpolate missing locations.  Then, plot the daily markes in folium along with a `PolyLine`."
   ]
  },
  {
   "cell_type": "code",
   "execution_count": 29,
   "metadata": {
    "ExecuteTime": {
     "end_time": "2019-02-23T02:33:23.286310Z",
     "start_time": "2019-02-23T02:33:23.277313Z"
    }
   },
   "outputs": [
    {
     "data": {
      "text/plain": [
       "DatetimeIndexResampler [freq=<Day>, axis=0, closed=left, label=left, convention=start, base=0]"
      ]
     },
     "execution_count": 29,
     "metadata": {},
     "output_type": "execute_result"
    }
   ],
   "source": [
    "resampler = emma.set_index('datetime').resample('1D')\n",
    "resampler"
   ]
  },
  {
   "cell_type": "code",
   "execution_count": 30,
   "metadata": {
    "ExecuteTime": {
     "end_time": "2019-02-23T02:33:23.387266Z",
     "start_time": "2019-02-23T02:33:23.287306Z"
    }
   },
   "outputs": [
    {
     "data": {
      "text/html": [
       "<div>\n",
       "<style scoped>\n",
       "    .dataframe tbody tr th:only-of-type {\n",
       "        vertical-align: middle;\n",
       "    }\n",
       "\n",
       "    .dataframe tbody tr th {\n",
       "        vertical-align: top;\n",
       "    }\n",
       "\n",
       "    .dataframe thead th {\n",
       "        text-align: right;\n",
       "    }\n",
       "</style>\n",
       "<table border=\"1\" class=\"dataframe\">\n",
       "  <thead>\n",
       "    <tr style=\"text-align: right;\">\n",
       "      <th></th>\n",
       "      <th>latitude</th>\n",
       "      <th>longitude</th>\n",
       "    </tr>\n",
       "    <tr>\n",
       "      <th>datetime</th>\n",
       "      <th></th>\n",
       "      <th></th>\n",
       "    </tr>\n",
       "  </thead>\n",
       "  <tbody>\n",
       "    <tr>\n",
       "      <th>2014-08-25 00:00:00+09:00</th>\n",
       "      <td>0.18386</td>\n",
       "      <td>-80.49963</td>\n",
       "    </tr>\n",
       "    <tr>\n",
       "      <th>2014-08-26 00:00:00+09:00</th>\n",
       "      <td>0.27332</td>\n",
       "      <td>-80.90630</td>\n",
       "    </tr>\n",
       "    <tr>\n",
       "      <th>2014-08-27 00:00:00+09:00</th>\n",
       "      <td>1.35886</td>\n",
       "      <td>-81.55316</td>\n",
       "    </tr>\n",
       "    <tr>\n",
       "      <th>2014-08-28 00:00:00+09:00</th>\n",
       "      <td>NaN</td>\n",
       "      <td>NaN</td>\n",
       "    </tr>\n",
       "    <tr>\n",
       "      <th>2014-08-29 00:00:00+09:00</th>\n",
       "      <td>2.10503</td>\n",
       "      <td>-80.81086</td>\n",
       "    </tr>\n",
       "  </tbody>\n",
       "</table>\n",
       "</div>"
      ],
      "text/plain": [
       "                           latitude  longitude\n",
       "datetime                                      \n",
       "2014-08-25 00:00:00+09:00   0.18386  -80.49963\n",
       "2014-08-26 00:00:00+09:00   0.27332  -80.90630\n",
       "2014-08-27 00:00:00+09:00   1.35886  -81.55316\n",
       "2014-08-28 00:00:00+09:00       NaN        NaN\n",
       "2014-08-29 00:00:00+09:00   2.10503  -80.81086"
      ]
     },
     "execution_count": 30,
     "metadata": {},
     "output_type": "execute_result"
    }
   ],
   "source": [
    "averages = resampler[['latitude', 'longitude']].mean()\n",
    "averages.tail()"
   ]
  },
  {
   "cell_type": "code",
   "execution_count": 31,
   "metadata": {
    "ExecuteTime": {
     "end_time": "2019-02-23T02:33:23.483433Z",
     "start_time": "2019-02-23T02:33:23.388277Z"
    }
   },
   "outputs": [
    {
     "data": {
      "text/html": [
       "<div>\n",
       "<style scoped>\n",
       "    .dataframe tbody tr th:only-of-type {\n",
       "        vertical-align: middle;\n",
       "    }\n",
       "\n",
       "    .dataframe tbody tr th {\n",
       "        vertical-align: top;\n",
       "    }\n",
       "\n",
       "    .dataframe thead th {\n",
       "        text-align: right;\n",
       "    }\n",
       "</style>\n",
       "<table border=\"1\" class=\"dataframe\">\n",
       "  <thead>\n",
       "    <tr style=\"text-align: right;\">\n",
       "      <th></th>\n",
       "      <th>latitude</th>\n",
       "      <th>longitude</th>\n",
       "      <th>interpolated</th>\n",
       "    </tr>\n",
       "    <tr>\n",
       "      <th>datetime</th>\n",
       "      <th></th>\n",
       "      <th></th>\n",
       "      <th></th>\n",
       "    </tr>\n",
       "  </thead>\n",
       "  <tbody>\n",
       "    <tr>\n",
       "      <th>2014-08-25 00:00:00+09:00</th>\n",
       "      <td>0.18386</td>\n",
       "      <td>-80.49963</td>\n",
       "      <td>False</td>\n",
       "    </tr>\n",
       "    <tr>\n",
       "      <th>2014-08-26 00:00:00+09:00</th>\n",
       "      <td>0.27332</td>\n",
       "      <td>-80.90630</td>\n",
       "      <td>False</td>\n",
       "    </tr>\n",
       "    <tr>\n",
       "      <th>2014-08-27 00:00:00+09:00</th>\n",
       "      <td>1.35886</td>\n",
       "      <td>-81.55316</td>\n",
       "      <td>False</td>\n",
       "    </tr>\n",
       "    <tr>\n",
       "      <th>2014-08-28 00:00:00+09:00</th>\n",
       "      <td>NaN</td>\n",
       "      <td>NaN</td>\n",
       "      <td>True</td>\n",
       "    </tr>\n",
       "    <tr>\n",
       "      <th>2014-08-29 00:00:00+09:00</th>\n",
       "      <td>2.10503</td>\n",
       "      <td>-80.81086</td>\n",
       "      <td>False</td>\n",
       "    </tr>\n",
       "  </tbody>\n",
       "</table>\n",
       "</div>"
      ],
      "text/plain": [
       "                           latitude  longitude  interpolated\n",
       "datetime                                                    \n",
       "2014-08-25 00:00:00+09:00   0.18386  -80.49963         False\n",
       "2014-08-26 00:00:00+09:00   0.27332  -80.90630         False\n",
       "2014-08-27 00:00:00+09:00   1.35886  -81.55316         False\n",
       "2014-08-28 00:00:00+09:00       NaN        NaN          True\n",
       "2014-08-29 00:00:00+09:00   2.10503  -80.81086         False"
      ]
     },
     "execution_count": 31,
     "metadata": {},
     "output_type": "execute_result"
    }
   ],
   "source": [
    "averages['interpolated'] = averages.latitude.isnull()\n",
    "averages.tail()"
   ]
  },
  {
   "cell_type": "code",
   "execution_count": 32,
   "metadata": {
    "ExecuteTime": {
     "end_time": "2019-02-23T02:33:23.589785Z",
     "start_time": "2019-02-23T02:33:23.485417Z"
    }
   },
   "outputs": [
    {
     "data": {
      "text/html": [
       "<div>\n",
       "<style scoped>\n",
       "    .dataframe tbody tr th:only-of-type {\n",
       "        vertical-align: middle;\n",
       "    }\n",
       "\n",
       "    .dataframe tbody tr th {\n",
       "        vertical-align: top;\n",
       "    }\n",
       "\n",
       "    .dataframe thead th {\n",
       "        text-align: right;\n",
       "    }\n",
       "</style>\n",
       "<table border=\"1\" class=\"dataframe\">\n",
       "  <thead>\n",
       "    <tr style=\"text-align: right;\">\n",
       "      <th></th>\n",
       "      <th>latitude</th>\n",
       "      <th>longitude</th>\n",
       "      <th>interpolated</th>\n",
       "    </tr>\n",
       "    <tr>\n",
       "      <th>datetime</th>\n",
       "      <th></th>\n",
       "      <th></th>\n",
       "      <th></th>\n",
       "    </tr>\n",
       "  </thead>\n",
       "  <tbody>\n",
       "    <tr>\n",
       "      <th>2014-08-25 00:00:00+09:00</th>\n",
       "      <td>0.183860</td>\n",
       "      <td>-80.49963</td>\n",
       "      <td>False</td>\n",
       "    </tr>\n",
       "    <tr>\n",
       "      <th>2014-08-26 00:00:00+09:00</th>\n",
       "      <td>0.273320</td>\n",
       "      <td>-80.90630</td>\n",
       "      <td>False</td>\n",
       "    </tr>\n",
       "    <tr>\n",
       "      <th>2014-08-27 00:00:00+09:00</th>\n",
       "      <td>1.358860</td>\n",
       "      <td>-81.55316</td>\n",
       "      <td>False</td>\n",
       "    </tr>\n",
       "    <tr>\n",
       "      <th>2014-08-28 00:00:00+09:00</th>\n",
       "      <td>1.731945</td>\n",
       "      <td>-81.18201</td>\n",
       "      <td>True</td>\n",
       "    </tr>\n",
       "    <tr>\n",
       "      <th>2014-08-29 00:00:00+09:00</th>\n",
       "      <td>2.105030</td>\n",
       "      <td>-80.81086</td>\n",
       "      <td>False</td>\n",
       "    </tr>\n",
       "  </tbody>\n",
       "</table>\n",
       "</div>"
      ],
      "text/plain": [
       "                           latitude  longitude  interpolated\n",
       "datetime                                                    \n",
       "2014-08-25 00:00:00+09:00  0.183860  -80.49963         False\n",
       "2014-08-26 00:00:00+09:00  0.273320  -80.90630         False\n",
       "2014-08-27 00:00:00+09:00  1.358860  -81.55316         False\n",
       "2014-08-28 00:00:00+09:00  1.731945  -81.18201          True\n",
       "2014-08-29 00:00:00+09:00  2.105030  -80.81086         False"
      ]
     },
     "execution_count": 32,
     "metadata": {},
     "output_type": "execute_result"
    }
   ],
   "source": [
    "averages.fillna(averages.interpolate(), inplace=True)\n",
    "averages.tail()"
   ]
  },
  {
   "cell_type": "code",
   "execution_count": 33,
   "metadata": {
    "ExecuteTime": {
     "end_time": "2019-02-23T02:33:23.912945Z",
     "start_time": "2019-02-23T02:33:23.591774Z"
    },
    "scrolled": true
   },
   "outputs": [
    {
     "data": {
      "text/html": [
       "<div style=\"width:100%;\"><div style=\"position:relative;width:100%;height:0;padding-bottom:60%;\"><iframe src=\"data:text/html;charset=utf-8;base64,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\" style=\"position:absolute;width:100%;height:100%;left:0;top:0;border:none !important;\" allowfullscreen webkitallowfullscreen mozallowfullscreen></iframe></div></div>"
      ],
      "text/plain": [
       "<folium.folium.Map at 0x1c2b4408d68>"
      ]
     },
     "execution_count": 33,
     "metadata": {},
     "output_type": "execute_result"
    }
   ],
   "source": [
    "avglat = averages.latitude.mean()\n",
    "avglon = averages.longitude.mean()\n",
    "\n",
    "m = folium.Map(location=(avglat, avglon), zoom_start=5)\n",
    "\n",
    "for row in averages.itertuples():\n",
    "    if row.interpolated:\n",
    "        color = 'green'\n",
    "    else:\n",
    "        color = 'blue'\n",
    "    folium.Marker([row.latitude, row.longitude], icon=folium.Icon(color=color)).add_to(m)\n",
    "\n",
    "m"
   ]
  },
  {
   "cell_type": "markdown",
   "metadata": {},
   "source": [
    "##### Resample all shark data\n",
    "Resample all shark data for daily lat/lon averages, and interpolate missing results"
   ]
  },
  {
   "cell_type": "code",
   "execution_count": 34,
   "metadata": {
    "ExecuteTime": {
     "end_time": "2019-02-23T02:33:26.298171Z",
     "start_time": "2019-02-23T02:33:23.913944Z"
    }
   },
   "outputs": [
    {
     "data": {
      "text/plain": [
       "(63734, 4)"
      ]
     },
     "execution_count": 34,
     "metadata": {},
     "output_type": "execute_result"
    }
   ],
   "source": [
    "data = []\n",
    "\n",
    "groups = df.groupby('name')\n",
    "for label, frame in groups:\n",
    "    resampler = frame.set_index('datetime').resample('1D')\n",
    "    averages = resampler[['latitude', 'longitude']].mean()\n",
    "    averages['interpolated'] = averages.latitude.isnull()\n",
    "    averages.fillna(averages.interpolate(), inplace=True)\n",
    "    averages['name'] = label\n",
    "    data.append(averages)\n",
    "    \n",
    "resampled = pd.concat(data)\n",
    "resampled.shape"
   ]
  },
  {
   "cell_type": "code",
   "execution_count": 35,
   "metadata": {
    "ExecuteTime": {
     "end_time": "2019-02-23T02:33:26.474122Z",
     "start_time": "2019-02-23T02:33:26.299188Z"
    }
   },
   "outputs": [
    {
     "data": {
      "text/html": [
       "<div>\n",
       "<style scoped>\n",
       "    .dataframe tbody tr th:only-of-type {\n",
       "        vertical-align: middle;\n",
       "    }\n",
       "\n",
       "    .dataframe tbody tr th {\n",
       "        vertical-align: top;\n",
       "    }\n",
       "\n",
       "    .dataframe thead th {\n",
       "        text-align: right;\n",
       "    }\n",
       "</style>\n",
       "<table border=\"1\" class=\"dataframe\">\n",
       "  <thead>\n",
       "    <tr style=\"text-align: right;\">\n",
       "      <th></th>\n",
       "      <th></th>\n",
       "      <th>latitude</th>\n",
       "      <th>longitude</th>\n",
       "      <th>interpolated</th>\n",
       "    </tr>\n",
       "    <tr>\n",
       "      <th>datetime</th>\n",
       "      <th>name</th>\n",
       "      <th></th>\n",
       "      <th></th>\n",
       "      <th></th>\n",
       "    </tr>\n",
       "  </thead>\n",
       "  <tbody>\n",
       "    <tr>\n",
       "      <th rowspan=\"3\" valign=\"top\">2012-03-10 00:00:00+09:00</th>\n",
       "      <th>Albertina</th>\n",
       "      <td>-34.230000</td>\n",
       "      <td>22.432667</td>\n",
       "      <td>False</td>\n",
       "    </tr>\n",
       "    <tr>\n",
       "      <th>Brenda</th>\n",
       "      <td>-34.430000</td>\n",
       "      <td>21.594000</td>\n",
       "      <td>False</td>\n",
       "    </tr>\n",
       "    <tr>\n",
       "      <th>Oprah</th>\n",
       "      <td>-34.147000</td>\n",
       "      <td>22.155333</td>\n",
       "      <td>False</td>\n",
       "    </tr>\n",
       "    <tr>\n",
       "      <th rowspan=\"5\" valign=\"top\">2012-03-11 00:00:00+09:00</th>\n",
       "      <th>Helen</th>\n",
       "      <td>-34.414667</td>\n",
       "      <td>22.416333</td>\n",
       "      <td>False</td>\n",
       "    </tr>\n",
       "    <tr>\n",
       "      <th>Oprah</th>\n",
       "      <td>-34.079000</td>\n",
       "      <td>22.269000</td>\n",
       "      <td>False</td>\n",
       "    </tr>\n",
       "    <tr>\n",
       "      <th>Madiba</th>\n",
       "      <td>-34.166500</td>\n",
       "      <td>23.120000</td>\n",
       "      <td>False</td>\n",
       "    </tr>\n",
       "    <tr>\n",
       "      <th>Brenda</th>\n",
       "      <td>-34.407167</td>\n",
       "      <td>21.043500</td>\n",
       "      <td>False</td>\n",
       "    </tr>\n",
       "    <tr>\n",
       "      <th>Albertina</th>\n",
       "      <td>-34.540400</td>\n",
       "      <td>22.398000</td>\n",
       "      <td>False</td>\n",
       "    </tr>\n",
       "    <tr>\n",
       "      <th rowspan=\"5\" valign=\"top\">2012-03-12 00:00:00+09:00</th>\n",
       "      <th>Oprah</th>\n",
       "      <td>-34.134000</td>\n",
       "      <td>22.191000</td>\n",
       "      <td>False</td>\n",
       "    </tr>\n",
       "    <tr>\n",
       "      <th>Madiba</th>\n",
       "      <td>-34.269500</td>\n",
       "      <td>23.319500</td>\n",
       "      <td>False</td>\n",
       "    </tr>\n",
       "    <tr>\n",
       "      <th>Brenda</th>\n",
       "      <td>-34.391000</td>\n",
       "      <td>20.997000</td>\n",
       "      <td>False</td>\n",
       "    </tr>\n",
       "    <tr>\n",
       "      <th>Helen</th>\n",
       "      <td>-34.396125</td>\n",
       "      <td>22.323125</td>\n",
       "      <td>False</td>\n",
       "    </tr>\n",
       "    <tr>\n",
       "      <th>Albertina</th>\n",
       "      <td>-35.685556</td>\n",
       "      <td>22.196778</td>\n",
       "      <td>False</td>\n",
       "    </tr>\n",
       "    <tr>\n",
       "      <th rowspan=\"5\" valign=\"top\">2012-03-13 00:00:00+09:00</th>\n",
       "      <th>Helen</th>\n",
       "      <td>-34.137667</td>\n",
       "      <td>22.167333</td>\n",
       "      <td>False</td>\n",
       "    </tr>\n",
       "    <tr>\n",
       "      <th>Oprah</th>\n",
       "      <td>-34.374667</td>\n",
       "      <td>21.807000</td>\n",
       "      <td>False</td>\n",
       "    </tr>\n",
       "    <tr>\n",
       "      <th>Madiba</th>\n",
       "      <td>-34.133667</td>\n",
       "      <td>23.827000</td>\n",
       "      <td>False</td>\n",
       "    </tr>\n",
       "    <tr>\n",
       "      <th>Albertina</th>\n",
       "      <td>-36.349400</td>\n",
       "      <td>21.521200</td>\n",
       "      <td>False</td>\n",
       "    </tr>\n",
       "    <tr>\n",
       "      <th>Brenda</th>\n",
       "      <td>-34.392000</td>\n",
       "      <td>20.990500</td>\n",
       "      <td>True</td>\n",
       "    </tr>\n",
       "    <tr>\n",
       "      <th rowspan=\"2\" valign=\"top\">2012-03-14 00:00:00+09:00</th>\n",
       "      <th>Oprah</th>\n",
       "      <td>-34.443000</td>\n",
       "      <td>21.303333</td>\n",
       "      <td>False</td>\n",
       "    </tr>\n",
       "    <tr>\n",
       "      <th>Albertina</th>\n",
       "      <td>-36.558750</td>\n",
       "      <td>20.814750</td>\n",
       "      <td>False</td>\n",
       "    </tr>\n",
       "  </tbody>\n",
       "</table>\n",
       "</div>"
      ],
      "text/plain": [
       "                                       latitude  longitude  interpolated\n",
       "datetime                  name                                          \n",
       "2012-03-10 00:00:00+09:00 Albertina  -34.230000  22.432667         False\n",
       "                          Brenda     -34.430000  21.594000         False\n",
       "                          Oprah      -34.147000  22.155333         False\n",
       "2012-03-11 00:00:00+09:00 Helen      -34.414667  22.416333         False\n",
       "                          Oprah      -34.079000  22.269000         False\n",
       "                          Madiba     -34.166500  23.120000         False\n",
       "                          Brenda     -34.407167  21.043500         False\n",
       "                          Albertina  -34.540400  22.398000         False\n",
       "2012-03-12 00:00:00+09:00 Oprah      -34.134000  22.191000         False\n",
       "                          Madiba     -34.269500  23.319500         False\n",
       "                          Brenda     -34.391000  20.997000         False\n",
       "                          Helen      -34.396125  22.323125         False\n",
       "                          Albertina  -35.685556  22.196778         False\n",
       "2012-03-13 00:00:00+09:00 Helen      -34.137667  22.167333         False\n",
       "                          Oprah      -34.374667  21.807000         False\n",
       "                          Madiba     -34.133667  23.827000         False\n",
       "                          Albertina  -36.349400  21.521200         False\n",
       "                          Brenda     -34.392000  20.990500          True\n",
       "2012-03-14 00:00:00+09:00 Oprah      -34.443000  21.303333         False\n",
       "                          Albertina  -36.558750  20.814750         False"
      ]
     },
     "execution_count": 35,
     "metadata": {},
     "output_type": "execute_result"
    }
   ],
   "source": [
    "resampled = resampled.set_index('name', append=True).sort_values('datetime')\n",
    "resampled.head(20)"
   ]
  },
  {
   "cell_type": "markdown",
   "metadata": {},
   "source": [
    "##### Distance to Emma\n",
    "Identify the shark that has the shortest average distance to Emma per day"
   ]
  },
  {
   "cell_type": "code",
   "execution_count": 36,
   "metadata": {
    "ExecuteTime": {
     "end_time": "2019-02-23T02:33:26.495109Z",
     "start_time": "2019-02-23T02:33:26.476115Z"
    }
   },
   "outputs": [
    {
     "name": "stderr",
     "output_type": "stream",
     "text": [
      "C:\\Users\\kafon\\Anaconda2\\envs\\py36\\lib\\site-packages\\pandas\\core\\generic.py:407: FutureWarning: The default of the 'keep_tz' keyword will change to True in a future release. You can set 'keep_tz=True' to obtain the future behaviour and silence this warning.\n",
      "  s = level_values.to_series()\n"
     ]
    },
    {
     "data": {
      "text/html": [
       "<div>\n",
       "<style scoped>\n",
       "    .dataframe tbody tr th:only-of-type {\n",
       "        vertical-align: middle;\n",
       "    }\n",
       "\n",
       "    .dataframe tbody tr th {\n",
       "        vertical-align: top;\n",
       "    }\n",
       "\n",
       "    .dataframe thead th {\n",
       "        text-align: right;\n",
       "    }\n",
       "</style>\n",
       "<table border=\"1\" class=\"dataframe\">\n",
       "  <thead>\n",
       "    <tr style=\"text-align: right;\">\n",
       "      <th></th>\n",
       "      <th></th>\n",
       "      <th>latitude</th>\n",
       "      <th>longitude</th>\n",
       "      <th>interpolated</th>\n",
       "    </tr>\n",
       "    <tr>\n",
       "      <th>datetime</th>\n",
       "      <th>name</th>\n",
       "      <th></th>\n",
       "      <th></th>\n",
       "      <th></th>\n",
       "    </tr>\n",
       "  </thead>\n",
       "  <tbody>\n",
       "    <tr>\n",
       "      <th>2014-02-01 00:00:00+09:00</th>\n",
       "      <th>Emma</th>\n",
       "      <td>-0.422161</td>\n",
       "      <td>-90.121436</td>\n",
       "      <td>False</td>\n",
       "    </tr>\n",
       "    <tr>\n",
       "      <th>2014-02-02 00:00:00+09:00</th>\n",
       "      <th>Emma</th>\n",
       "      <td>-0.487691</td>\n",
       "      <td>-90.294378</td>\n",
       "      <td>False</td>\n",
       "    </tr>\n",
       "    <tr>\n",
       "      <th>2014-02-03 00:00:00+09:00</th>\n",
       "      <th>Emma</th>\n",
       "      <td>-0.454803</td>\n",
       "      <td>-90.324300</td>\n",
       "      <td>False</td>\n",
       "    </tr>\n",
       "    <tr>\n",
       "      <th>2014-02-04 00:00:00+09:00</th>\n",
       "      <th>Emma</th>\n",
       "      <td>-0.439116</td>\n",
       "      <td>-90.286372</td>\n",
       "      <td>False</td>\n",
       "    </tr>\n",
       "    <tr>\n",
       "      <th>2014-02-05 00:00:00+09:00</th>\n",
       "      <th>Emma</th>\n",
       "      <td>-0.461627</td>\n",
       "      <td>-90.336575</td>\n",
       "      <td>False</td>\n",
       "    </tr>\n",
       "  </tbody>\n",
       "</table>\n",
       "</div>"
      ],
      "text/plain": [
       "                                latitude  longitude  interpolated\n",
       "datetime                  name                                   \n",
       "2014-02-01 00:00:00+09:00 Emma -0.422161 -90.121436         False\n",
       "2014-02-02 00:00:00+09:00 Emma -0.487691 -90.294378         False\n",
       "2014-02-03 00:00:00+09:00 Emma -0.454803 -90.324300         False\n",
       "2014-02-04 00:00:00+09:00 Emma -0.439116 -90.286372         False\n",
       "2014-02-05 00:00:00+09:00 Emma -0.461627 -90.336575         False"
      ]
     },
     "execution_count": 36,
     "metadata": {},
     "output_type": "execute_result"
    }
   ],
   "source": [
    "emma = resampled.query('name == \"Emma\"')\n",
    "emma.head()"
   ]
  },
  {
   "cell_type": "code",
   "execution_count": 37,
   "metadata": {
    "ExecuteTime": {
     "end_time": "2019-02-23T02:33:26.611257Z",
     "start_time": "2019-02-23T02:33:26.496108Z"
    }
   },
   "outputs": [
    {
     "data": {
      "text/html": [
       "<div>\n",
       "<style scoped>\n",
       "    .dataframe tbody tr th:only-of-type {\n",
       "        vertical-align: middle;\n",
       "    }\n",
       "\n",
       "    .dataframe tbody tr th {\n",
       "        vertical-align: top;\n",
       "    }\n",
       "\n",
       "    .dataframe thead th {\n",
       "        text-align: right;\n",
       "    }\n",
       "</style>\n",
       "<table border=\"1\" class=\"dataframe\">\n",
       "  <thead>\n",
       "    <tr style=\"text-align: right;\">\n",
       "      <th></th>\n",
       "      <th>name</th>\n",
       "      <th>latitude</th>\n",
       "      <th>longitude</th>\n",
       "      <th>interpolated</th>\n",
       "    </tr>\n",
       "    <tr>\n",
       "      <th>datetime</th>\n",
       "      <th></th>\n",
       "      <th></th>\n",
       "      <th></th>\n",
       "      <th></th>\n",
       "    </tr>\n",
       "  </thead>\n",
       "  <tbody>\n",
       "    <tr>\n",
       "      <th>2014-02-01 00:00:00+09:00</th>\n",
       "      <td>Emma</td>\n",
       "      <td>-0.422161</td>\n",
       "      <td>-90.121436</td>\n",
       "      <td>False</td>\n",
       "    </tr>\n",
       "    <tr>\n",
       "      <th>2014-02-02 00:00:00+09:00</th>\n",
       "      <td>Emma</td>\n",
       "      <td>-0.487691</td>\n",
       "      <td>-90.294378</td>\n",
       "      <td>False</td>\n",
       "    </tr>\n",
       "    <tr>\n",
       "      <th>2014-02-03 00:00:00+09:00</th>\n",
       "      <td>Emma</td>\n",
       "      <td>-0.454803</td>\n",
       "      <td>-90.324300</td>\n",
       "      <td>False</td>\n",
       "    </tr>\n",
       "    <tr>\n",
       "      <th>2014-02-04 00:00:00+09:00</th>\n",
       "      <td>Emma</td>\n",
       "      <td>-0.439116</td>\n",
       "      <td>-90.286372</td>\n",
       "      <td>False</td>\n",
       "    </tr>\n",
       "    <tr>\n",
       "      <th>2014-02-05 00:00:00+09:00</th>\n",
       "      <td>Emma</td>\n",
       "      <td>-0.461627</td>\n",
       "      <td>-90.336575</td>\n",
       "      <td>False</td>\n",
       "    </tr>\n",
       "  </tbody>\n",
       "</table>\n",
       "</div>"
      ],
      "text/plain": [
       "                           name  latitude  longitude  interpolated\n",
       "datetime                                                          \n",
       "2014-02-01 00:00:00+09:00  Emma -0.422161 -90.121436         False\n",
       "2014-02-02 00:00:00+09:00  Emma -0.487691 -90.294378         False\n",
       "2014-02-03 00:00:00+09:00  Emma -0.454803 -90.324300         False\n",
       "2014-02-04 00:00:00+09:00  Emma -0.439116 -90.286372         False\n",
       "2014-02-05 00:00:00+09:00  Emma -0.461627 -90.336575         False"
      ]
     },
     "execution_count": 37,
     "metadata": {},
     "output_type": "execute_result"
    }
   ],
   "source": [
    "emma_locs = emma.reset_index(level='name')\n",
    "emma_locs.head()"
   ]
  },
  {
   "cell_type": "code",
   "execution_count": 38,
   "metadata": {
    "ExecuteTime": {
     "end_time": "2019-02-23T02:33:26.722624Z",
     "start_time": "2019-02-23T02:33:26.612263Z"
    }
   },
   "outputs": [
    {
     "data": {
      "text/html": [
       "<div>\n",
       "<style scoped>\n",
       "    .dataframe tbody tr th:only-of-type {\n",
       "        vertical-align: middle;\n",
       "    }\n",
       "\n",
       "    .dataframe tbody tr th {\n",
       "        vertical-align: top;\n",
       "    }\n",
       "\n",
       "    .dataframe thead th {\n",
       "        text-align: right;\n",
       "    }\n",
       "</style>\n",
       "<table border=\"1\" class=\"dataframe\">\n",
       "  <thead>\n",
       "    <tr style=\"text-align: right;\">\n",
       "      <th></th>\n",
       "      <th>emma_lat</th>\n",
       "      <th>emma_lon</th>\n",
       "    </tr>\n",
       "    <tr>\n",
       "      <th>datetime</th>\n",
       "      <th></th>\n",
       "      <th></th>\n",
       "    </tr>\n",
       "  </thead>\n",
       "  <tbody>\n",
       "    <tr>\n",
       "      <th>2014-02-01 00:00:00+09:00</th>\n",
       "      <td>-0.422161</td>\n",
       "      <td>-90.121436</td>\n",
       "    </tr>\n",
       "    <tr>\n",
       "      <th>2014-02-02 00:00:00+09:00</th>\n",
       "      <td>-0.487691</td>\n",
       "      <td>-90.294378</td>\n",
       "    </tr>\n",
       "    <tr>\n",
       "      <th>2014-02-03 00:00:00+09:00</th>\n",
       "      <td>-0.454803</td>\n",
       "      <td>-90.324300</td>\n",
       "    </tr>\n",
       "    <tr>\n",
       "      <th>2014-02-04 00:00:00+09:00</th>\n",
       "      <td>-0.439116</td>\n",
       "      <td>-90.286372</td>\n",
       "    </tr>\n",
       "    <tr>\n",
       "      <th>2014-02-05 00:00:00+09:00</th>\n",
       "      <td>-0.461627</td>\n",
       "      <td>-90.336575</td>\n",
       "    </tr>\n",
       "  </tbody>\n",
       "</table>\n",
       "</div>"
      ],
      "text/plain": [
       "                           emma_lat   emma_lon\n",
       "datetime                                      \n",
       "2014-02-01 00:00:00+09:00 -0.422161 -90.121436\n",
       "2014-02-02 00:00:00+09:00 -0.487691 -90.294378\n",
       "2014-02-03 00:00:00+09:00 -0.454803 -90.324300\n",
       "2014-02-04 00:00:00+09:00 -0.439116 -90.286372\n",
       "2014-02-05 00:00:00+09:00 -0.461627 -90.336575"
      ]
     },
     "execution_count": 38,
     "metadata": {},
     "output_type": "execute_result"
    }
   ],
   "source": [
    "emma_locs = emma_locs.drop(columns=['name', 'interpolated'])\\\n",
    "                     .rename(columns={'latitude' : 'emma_lat', 'longitude' : 'emma_lon'})\n",
    "emma_locs.head()"
   ]
  },
  {
   "cell_type": "code",
   "execution_count": 39,
   "metadata": {
    "ExecuteTime": {
     "end_time": "2019-02-23T02:33:26.850884Z",
     "start_time": "2019-02-23T02:33:26.723607Z"
    }
   },
   "outputs": [
    {
     "data": {
      "text/html": [
       "<div>\n",
       "<style scoped>\n",
       "    .dataframe tbody tr th:only-of-type {\n",
       "        vertical-align: middle;\n",
       "    }\n",
       "\n",
       "    .dataframe tbody tr th {\n",
       "        vertical-align: top;\n",
       "    }\n",
       "\n",
       "    .dataframe thead th {\n",
       "        text-align: right;\n",
       "    }\n",
       "</style>\n",
       "<table border=\"1\" class=\"dataframe\">\n",
       "  <thead>\n",
       "    <tr style=\"text-align: right;\">\n",
       "      <th></th>\n",
       "      <th>name</th>\n",
       "      <th>latitude</th>\n",
       "      <th>longitude</th>\n",
       "      <th>interpolated</th>\n",
       "      <th>emma_lat</th>\n",
       "      <th>emma_lon</th>\n",
       "    </tr>\n",
       "    <tr>\n",
       "      <th>datetime</th>\n",
       "      <th></th>\n",
       "      <th></th>\n",
       "      <th></th>\n",
       "      <th></th>\n",
       "      <th></th>\n",
       "      <th></th>\n",
       "    </tr>\n",
       "  </thead>\n",
       "  <tbody>\n",
       "    <tr>\n",
       "      <th>2012-03-10 00:00:00+09:00</th>\n",
       "      <td>Albertina</td>\n",
       "      <td>-34.230000</td>\n",
       "      <td>22.432667</td>\n",
       "      <td>False</td>\n",
       "      <td>NaN</td>\n",
       "      <td>NaN</td>\n",
       "    </tr>\n",
       "    <tr>\n",
       "      <th>2012-03-10 00:00:00+09:00</th>\n",
       "      <td>Brenda</td>\n",
       "      <td>-34.430000</td>\n",
       "      <td>21.594000</td>\n",
       "      <td>False</td>\n",
       "      <td>NaN</td>\n",
       "      <td>NaN</td>\n",
       "    </tr>\n",
       "    <tr>\n",
       "      <th>2012-03-10 00:00:00+09:00</th>\n",
       "      <td>Oprah</td>\n",
       "      <td>-34.147000</td>\n",
       "      <td>22.155333</td>\n",
       "      <td>False</td>\n",
       "      <td>NaN</td>\n",
       "      <td>NaN</td>\n",
       "    </tr>\n",
       "    <tr>\n",
       "      <th>2012-03-11 00:00:00+09:00</th>\n",
       "      <td>Helen</td>\n",
       "      <td>-34.414667</td>\n",
       "      <td>22.416333</td>\n",
       "      <td>False</td>\n",
       "      <td>NaN</td>\n",
       "      <td>NaN</td>\n",
       "    </tr>\n",
       "    <tr>\n",
       "      <th>2012-03-11 00:00:00+09:00</th>\n",
       "      <td>Oprah</td>\n",
       "      <td>-34.079000</td>\n",
       "      <td>22.269000</td>\n",
       "      <td>False</td>\n",
       "      <td>NaN</td>\n",
       "      <td>NaN</td>\n",
       "    </tr>\n",
       "  </tbody>\n",
       "</table>\n",
       "</div>"
      ],
      "text/plain": [
       "                                 name   latitude  longitude  interpolated  \\\n",
       "datetime                                                                    \n",
       "2012-03-10 00:00:00+09:00  Albertina  -34.230000  22.432667         False   \n",
       "2012-03-10 00:00:00+09:00     Brenda  -34.430000  21.594000         False   \n",
       "2012-03-10 00:00:00+09:00       Oprah -34.147000  22.155333         False   \n",
       "2012-03-11 00:00:00+09:00      Helen  -34.414667  22.416333         False   \n",
       "2012-03-11 00:00:00+09:00       Oprah -34.079000  22.269000         False   \n",
       "\n",
       "                           emma_lat  emma_lon  \n",
       "datetime                                       \n",
       "2012-03-10 00:00:00+09:00       NaN       NaN  \n",
       "2012-03-10 00:00:00+09:00       NaN       NaN  \n",
       "2012-03-10 00:00:00+09:00       NaN       NaN  \n",
       "2012-03-11 00:00:00+09:00       NaN       NaN  \n",
       "2012-03-11 00:00:00+09:00       NaN       NaN  "
      ]
     },
     "execution_count": 39,
     "metadata": {},
     "output_type": "execute_result"
    }
   ],
   "source": [
    "joined = resampled.reset_index(level='name').join(emma_locs)\n",
    "joined.head()"
   ]
  },
  {
   "cell_type": "code",
   "execution_count": 40,
   "metadata": {
    "ExecuteTime": {
     "end_time": "2019-02-23T02:33:26.974850Z",
     "start_time": "2019-02-23T02:33:26.851879Z"
    }
   },
   "outputs": [
    {
     "data": {
      "text/html": [
       "<div>\n",
       "<style scoped>\n",
       "    .dataframe tbody tr th:only-of-type {\n",
       "        vertical-align: middle;\n",
       "    }\n",
       "\n",
       "    .dataframe tbody tr th {\n",
       "        vertical-align: top;\n",
       "    }\n",
       "\n",
       "    .dataframe thead th {\n",
       "        text-align: right;\n",
       "    }\n",
       "</style>\n",
       "<table border=\"1\" class=\"dataframe\">\n",
       "  <thead>\n",
       "    <tr style=\"text-align: right;\">\n",
       "      <th></th>\n",
       "      <th>name</th>\n",
       "      <th>latitude</th>\n",
       "      <th>longitude</th>\n",
       "      <th>interpolated</th>\n",
       "      <th>emma_lat</th>\n",
       "      <th>emma_lon</th>\n",
       "    </tr>\n",
       "    <tr>\n",
       "      <th>datetime</th>\n",
       "      <th></th>\n",
       "      <th></th>\n",
       "      <th></th>\n",
       "      <th></th>\n",
       "      <th></th>\n",
       "      <th></th>\n",
       "    </tr>\n",
       "  </thead>\n",
       "  <tbody>\n",
       "    <tr>\n",
       "      <th>2014-02-01 00:00:00+09:00</th>\n",
       "      <td>Beamer</td>\n",
       "      <td>11.340995</td>\n",
       "      <td>-76.061746</td>\n",
       "      <td>False</td>\n",
       "      <td>-0.422161</td>\n",
       "      <td>-90.121436</td>\n",
       "    </tr>\n",
       "    <tr>\n",
       "      <th>2014-02-01 00:00:00+09:00</th>\n",
       "      <td>Mary Lee</td>\n",
       "      <td>31.432270</td>\n",
       "      <td>-73.988629</td>\n",
       "      <td>True</td>\n",
       "      <td>-0.422161</td>\n",
       "      <td>-90.121436</td>\n",
       "    </tr>\n",
       "    <tr>\n",
       "      <th>2014-02-01 00:00:00+09:00</th>\n",
       "      <td>Cyndi</td>\n",
       "      <td>-35.102921</td>\n",
       "      <td>21.927046</td>\n",
       "      <td>True</td>\n",
       "      <td>-0.422161</td>\n",
       "      <td>-90.121436</td>\n",
       "    </tr>\n",
       "    <tr>\n",
       "      <th>2014-02-01 00:00:00+09:00</th>\n",
       "      <td>Rizzilient</td>\n",
       "      <td>34.368468</td>\n",
       "      <td>-42.617839</td>\n",
       "      <td>True</td>\n",
       "      <td>-0.422161</td>\n",
       "      <td>-90.121436</td>\n",
       "    </tr>\n",
       "    <tr>\n",
       "      <th>2014-02-01 00:00:00+09:00</th>\n",
       "      <td>Guayasamin</td>\n",
       "      <td>-0.476127</td>\n",
       "      <td>-90.243839</td>\n",
       "      <td>False</td>\n",
       "      <td>-0.422161</td>\n",
       "      <td>-90.121436</td>\n",
       "    </tr>\n",
       "  </tbody>\n",
       "</table>\n",
       "</div>"
      ],
      "text/plain": [
       "                                 name   latitude  longitude  interpolated  \\\n",
       "datetime                                                                    \n",
       "2014-02-01 00:00:00+09:00      Beamer  11.340995 -76.061746         False   \n",
       "2014-02-01 00:00:00+09:00    Mary Lee  31.432270 -73.988629          True   \n",
       "2014-02-01 00:00:00+09:00       Cyndi -35.102921  21.927046          True   \n",
       "2014-02-01 00:00:00+09:00  Rizzilient  34.368468 -42.617839          True   \n",
       "2014-02-01 00:00:00+09:00  Guayasamin  -0.476127 -90.243839         False   \n",
       "\n",
       "                           emma_lat   emma_lon  \n",
       "datetime                                        \n",
       "2014-02-01 00:00:00+09:00 -0.422161 -90.121436  \n",
       "2014-02-01 00:00:00+09:00 -0.422161 -90.121436  \n",
       "2014-02-01 00:00:00+09:00 -0.422161 -90.121436  \n",
       "2014-02-01 00:00:00+09:00 -0.422161 -90.121436  \n",
       "2014-02-01 00:00:00+09:00 -0.422161 -90.121436  "
      ]
     },
     "execution_count": 40,
     "metadata": {},
     "output_type": "execute_result"
    }
   ],
   "source": [
    "joined[joined.emma_lat.notnull()].head()"
   ]
  },
  {
   "cell_type": "code",
   "execution_count": 41,
   "metadata": {
    "ExecuteTime": {
     "end_time": "2019-02-23T02:33:27.048140Z",
     "start_time": "2019-02-23T02:33:26.977850Z"
    }
   },
   "outputs": [
    {
     "data": {
      "text/html": [
       "<div>\n",
       "<style scoped>\n",
       "    .dataframe tbody tr th:only-of-type {\n",
       "        vertical-align: middle;\n",
       "    }\n",
       "\n",
       "    .dataframe tbody tr th {\n",
       "        vertical-align: top;\n",
       "    }\n",
       "\n",
       "    .dataframe thead th {\n",
       "        text-align: right;\n",
       "    }\n",
       "</style>\n",
       "<table border=\"1\" class=\"dataframe\">\n",
       "  <thead>\n",
       "    <tr style=\"text-align: right;\">\n",
       "      <th></th>\n",
       "      <th>name</th>\n",
       "      <th>latitude</th>\n",
       "      <th>longitude</th>\n",
       "      <th>interpolated</th>\n",
       "      <th>emma_lat</th>\n",
       "      <th>emma_lon</th>\n",
       "      <th>diff_lat</th>\n",
       "      <th>diff_lon</th>\n",
       "      <th>distance</th>\n",
       "    </tr>\n",
       "    <tr>\n",
       "      <th>datetime</th>\n",
       "      <th></th>\n",
       "      <th></th>\n",
       "      <th></th>\n",
       "      <th></th>\n",
       "      <th></th>\n",
       "      <th></th>\n",
       "      <th></th>\n",
       "      <th></th>\n",
       "      <th></th>\n",
       "    </tr>\n",
       "  </thead>\n",
       "  <tbody>\n",
       "    <tr>\n",
       "      <th>2012-03-10 00:00:00+09:00</th>\n",
       "      <td>Albertina</td>\n",
       "      <td>-34.230000</td>\n",
       "      <td>22.432667</td>\n",
       "      <td>False</td>\n",
       "      <td>NaN</td>\n",
       "      <td>NaN</td>\n",
       "      <td>NaN</td>\n",
       "      <td>NaN</td>\n",
       "      <td>NaN</td>\n",
       "    </tr>\n",
       "    <tr>\n",
       "      <th>2012-03-10 00:00:00+09:00</th>\n",
       "      <td>Brenda</td>\n",
       "      <td>-34.430000</td>\n",
       "      <td>21.594000</td>\n",
       "      <td>False</td>\n",
       "      <td>NaN</td>\n",
       "      <td>NaN</td>\n",
       "      <td>NaN</td>\n",
       "      <td>NaN</td>\n",
       "      <td>NaN</td>\n",
       "    </tr>\n",
       "    <tr>\n",
       "      <th>2012-03-10 00:00:00+09:00</th>\n",
       "      <td>Oprah</td>\n",
       "      <td>-34.147000</td>\n",
       "      <td>22.155333</td>\n",
       "      <td>False</td>\n",
       "      <td>NaN</td>\n",
       "      <td>NaN</td>\n",
       "      <td>NaN</td>\n",
       "      <td>NaN</td>\n",
       "      <td>NaN</td>\n",
       "    </tr>\n",
       "    <tr>\n",
       "      <th>2012-03-11 00:00:00+09:00</th>\n",
       "      <td>Helen</td>\n",
       "      <td>-34.414667</td>\n",
       "      <td>22.416333</td>\n",
       "      <td>False</td>\n",
       "      <td>NaN</td>\n",
       "      <td>NaN</td>\n",
       "      <td>NaN</td>\n",
       "      <td>NaN</td>\n",
       "      <td>NaN</td>\n",
       "    </tr>\n",
       "    <tr>\n",
       "      <th>2012-03-11 00:00:00+09:00</th>\n",
       "      <td>Oprah</td>\n",
       "      <td>-34.079000</td>\n",
       "      <td>22.269000</td>\n",
       "      <td>False</td>\n",
       "      <td>NaN</td>\n",
       "      <td>NaN</td>\n",
       "      <td>NaN</td>\n",
       "      <td>NaN</td>\n",
       "      <td>NaN</td>\n",
       "    </tr>\n",
       "  </tbody>\n",
       "</table>\n",
       "</div>"
      ],
      "text/plain": [
       "                                 name   latitude  longitude  interpolated  \\\n",
       "datetime                                                                    \n",
       "2012-03-10 00:00:00+09:00  Albertina  -34.230000  22.432667         False   \n",
       "2012-03-10 00:00:00+09:00     Brenda  -34.430000  21.594000         False   \n",
       "2012-03-10 00:00:00+09:00       Oprah -34.147000  22.155333         False   \n",
       "2012-03-11 00:00:00+09:00      Helen  -34.414667  22.416333         False   \n",
       "2012-03-11 00:00:00+09:00       Oprah -34.079000  22.269000         False   \n",
       "\n",
       "                           emma_lat  emma_lon  diff_lat  diff_lon  distance  \n",
       "datetime                                                                     \n",
       "2012-03-10 00:00:00+09:00       NaN       NaN       NaN       NaN       NaN  \n",
       "2012-03-10 00:00:00+09:00       NaN       NaN       NaN       NaN       NaN  \n",
       "2012-03-10 00:00:00+09:00       NaN       NaN       NaN       NaN       NaN  \n",
       "2012-03-11 00:00:00+09:00       NaN       NaN       NaN       NaN       NaN  \n",
       "2012-03-11 00:00:00+09:00       NaN       NaN       NaN       NaN       NaN  "
      ]
     },
     "execution_count": 41,
     "metadata": {},
     "output_type": "execute_result"
    }
   ],
   "source": [
    "# calculate distance like a triangle hypotenuse, a**2 + b**2 = c**2\n",
    "joined['diff_lat'] = joined.latitude - joined.emma_lat\n",
    "joined['diff_lon'] = joined.longitude - joined.emma_lon\n",
    "joined['distance'] = (joined.diff_lat**2 + joined.diff_lon**2) ** .5\n",
    "joined.head()"
   ]
  },
  {
   "cell_type": "code",
   "execution_count": 42,
   "metadata": {
    "ExecuteTime": {
     "end_time": "2019-02-23T02:33:27.188078Z",
     "start_time": "2019-02-23T02:33:27.049123Z"
    }
   },
   "outputs": [
    {
     "data": {
      "text/html": [
       "<div>\n",
       "<style scoped>\n",
       "    .dataframe tbody tr th:only-of-type {\n",
       "        vertical-align: middle;\n",
       "    }\n",
       "\n",
       "    .dataframe tbody tr th {\n",
       "        vertical-align: top;\n",
       "    }\n",
       "\n",
       "    .dataframe thead th {\n",
       "        text-align: right;\n",
       "    }\n",
       "</style>\n",
       "<table border=\"1\" class=\"dataframe\">\n",
       "  <thead>\n",
       "    <tr style=\"text-align: right;\">\n",
       "      <th></th>\n",
       "      <th>name</th>\n",
       "      <th>latitude</th>\n",
       "      <th>longitude</th>\n",
       "      <th>interpolated</th>\n",
       "      <th>emma_lat</th>\n",
       "      <th>emma_lon</th>\n",
       "      <th>diff_lat</th>\n",
       "      <th>diff_lon</th>\n",
       "      <th>distance</th>\n",
       "    </tr>\n",
       "    <tr>\n",
       "      <th>datetime</th>\n",
       "      <th></th>\n",
       "      <th></th>\n",
       "      <th></th>\n",
       "      <th></th>\n",
       "      <th></th>\n",
       "      <th></th>\n",
       "      <th></th>\n",
       "      <th></th>\n",
       "      <th></th>\n",
       "    </tr>\n",
       "  </thead>\n",
       "  <tbody>\n",
       "    <tr>\n",
       "      <th>2014-02-01 00:00:00+09:00</th>\n",
       "      <td>Beamer</td>\n",
       "      <td>11.340995</td>\n",
       "      <td>-76.061746</td>\n",
       "      <td>False</td>\n",
       "      <td>-0.422161</td>\n",
       "      <td>-90.121436</td>\n",
       "      <td>11.763156</td>\n",
       "      <td>14.059689</td>\n",
       "      <td>18.331577</td>\n",
       "    </tr>\n",
       "    <tr>\n",
       "      <th>2014-02-01 00:00:00+09:00</th>\n",
       "      <td>Mary Lee</td>\n",
       "      <td>31.432270</td>\n",
       "      <td>-73.988629</td>\n",
       "      <td>True</td>\n",
       "      <td>-0.422161</td>\n",
       "      <td>-90.121436</td>\n",
       "      <td>31.854430</td>\n",
       "      <td>16.132807</td>\n",
       "      <td>35.706753</td>\n",
       "    </tr>\n",
       "    <tr>\n",
       "      <th>2014-02-01 00:00:00+09:00</th>\n",
       "      <td>Cyndi</td>\n",
       "      <td>-35.102921</td>\n",
       "      <td>21.927046</td>\n",
       "      <td>True</td>\n",
       "      <td>-0.422161</td>\n",
       "      <td>-90.121436</td>\n",
       "      <td>-34.680760</td>\n",
       "      <td>112.048481</td>\n",
       "      <td>117.292870</td>\n",
       "    </tr>\n",
       "    <tr>\n",
       "      <th>2014-02-01 00:00:00+09:00</th>\n",
       "      <td>Rizzilient</td>\n",
       "      <td>34.368468</td>\n",
       "      <td>-42.617839</td>\n",
       "      <td>True</td>\n",
       "      <td>-0.422161</td>\n",
       "      <td>-90.121436</td>\n",
       "      <td>34.790629</td>\n",
       "      <td>47.503597</td>\n",
       "      <td>58.881063</td>\n",
       "    </tr>\n",
       "    <tr>\n",
       "      <th>2014-02-01 00:00:00+09:00</th>\n",
       "      <td>Guayasamin</td>\n",
       "      <td>-0.476127</td>\n",
       "      <td>-90.243839</td>\n",
       "      <td>False</td>\n",
       "      <td>-0.422161</td>\n",
       "      <td>-90.121436</td>\n",
       "      <td>-0.053967</td>\n",
       "      <td>-0.122403</td>\n",
       "      <td>0.133772</td>\n",
       "    </tr>\n",
       "  </tbody>\n",
       "</table>\n",
       "</div>"
      ],
      "text/plain": [
       "                                 name   latitude  longitude  interpolated  \\\n",
       "datetime                                                                    \n",
       "2014-02-01 00:00:00+09:00      Beamer  11.340995 -76.061746         False   \n",
       "2014-02-01 00:00:00+09:00    Mary Lee  31.432270 -73.988629          True   \n",
       "2014-02-01 00:00:00+09:00       Cyndi -35.102921  21.927046          True   \n",
       "2014-02-01 00:00:00+09:00  Rizzilient  34.368468 -42.617839          True   \n",
       "2014-02-01 00:00:00+09:00  Guayasamin  -0.476127 -90.243839         False   \n",
       "\n",
       "                           emma_lat   emma_lon   diff_lat    diff_lon  \\\n",
       "datetime                                                                \n",
       "2014-02-01 00:00:00+09:00 -0.422161 -90.121436  11.763156   14.059689   \n",
       "2014-02-01 00:00:00+09:00 -0.422161 -90.121436  31.854430   16.132807   \n",
       "2014-02-01 00:00:00+09:00 -0.422161 -90.121436 -34.680760  112.048481   \n",
       "2014-02-01 00:00:00+09:00 -0.422161 -90.121436  34.790629   47.503597   \n",
       "2014-02-01 00:00:00+09:00 -0.422161 -90.121436  -0.053967   -0.122403   \n",
       "\n",
       "                             distance  \n",
       "datetime                               \n",
       "2014-02-01 00:00:00+09:00   18.331577  \n",
       "2014-02-01 00:00:00+09:00   35.706753  \n",
       "2014-02-01 00:00:00+09:00  117.292870  \n",
       "2014-02-01 00:00:00+09:00   58.881063  \n",
       "2014-02-01 00:00:00+09:00    0.133772  "
      ]
     },
     "execution_count": 42,
     "metadata": {},
     "output_type": "execute_result"
    }
   ],
   "source": [
    "joined[joined.distance.notnull()].head()"
   ]
  },
  {
   "cell_type": "markdown",
   "metadata": {},
   "source": [
    "##### Emma's buddy\n",
    "Identify the shark that has the shortest average distance to Emma per day (minimum 50 days of pings with Emma)"
   ]
  },
  {
   "cell_type": "code",
   "execution_count": 43,
   "metadata": {
    "ExecuteTime": {
     "end_time": "2019-02-23T02:33:27.338157Z",
     "start_time": "2019-02-23T02:33:27.189078Z"
    }
   },
   "outputs": [
    {
     "data": {
      "text/html": [
       "<div>\n",
       "<style scoped>\n",
       "    .dataframe tbody tr th:only-of-type {\n",
       "        vertical-align: middle;\n",
       "    }\n",
       "\n",
       "    .dataframe tbody tr th {\n",
       "        vertical-align: top;\n",
       "    }\n",
       "\n",
       "    .dataframe thead tr th {\n",
       "        text-align: left;\n",
       "    }\n",
       "\n",
       "    .dataframe thead tr:last-of-type th {\n",
       "        text-align: right;\n",
       "    }\n",
       "</style>\n",
       "<table border=\"1\" class=\"dataframe\">\n",
       "  <thead>\n",
       "    <tr>\n",
       "      <th></th>\n",
       "      <th colspan=\"2\" halign=\"left\">distance</th>\n",
       "    </tr>\n",
       "    <tr>\n",
       "      <th></th>\n",
       "      <th>size</th>\n",
       "      <th>mean</th>\n",
       "    </tr>\n",
       "    <tr>\n",
       "      <th>name</th>\n",
       "      <th></th>\n",
       "      <th></th>\n",
       "    </tr>\n",
       "  </thead>\n",
       "  <tbody>\n",
       "    <tr>\n",
       "      <th>Yolanda</th>\n",
       "      <td>210</td>\n",
       "      <td>8.510538</td>\n",
       "    </tr>\n",
       "    <tr>\n",
       "      <th>Cyndi</th>\n",
       "      <td>210</td>\n",
       "      <td>110.587290</td>\n",
       "    </tr>\n",
       "    <tr>\n",
       "      <th>Philip</th>\n",
       "      <td>210</td>\n",
       "      <td>111.980580</td>\n",
       "    </tr>\n",
       "    <tr>\n",
       "      <th>Andre</th>\n",
       "      <td>210</td>\n",
       "      <td>111.926180</td>\n",
       "    </tr>\n",
       "    <tr>\n",
       "      <th>Mary Lee</th>\n",
       "      <td>210</td>\n",
       "      <td>30.570177</td>\n",
       "    </tr>\n",
       "  </tbody>\n",
       "</table>\n",
       "</div>"
      ],
      "text/plain": [
       "         distance            \n",
       "             size        mean\n",
       "name                         \n",
       "Yolanda       210    8.510538\n",
       "Cyndi         210  110.587290\n",
       "Philip        210  111.980580\n",
       "Andre         210  111.926180\n",
       "Mary Lee      210   30.570177"
      ]
     },
     "execution_count": 43,
     "metadata": {},
     "output_type": "execute_result"
    }
   ],
   "source": [
    "groups = joined[joined.distance.notnull()].groupby('name').agg({'distance' : ['size', 'mean']})\n",
    "groups.sort_values(('distance', 'size'), ascending=False).head()"
   ]
  },
  {
   "cell_type": "code",
   "execution_count": 44,
   "metadata": {
    "ExecuteTime": {
     "end_time": "2019-02-23T02:33:27.409171Z",
     "start_time": "2019-02-23T02:33:27.339140Z"
    }
   },
   "outputs": [
    {
     "data": {
      "text/html": [
       "<div>\n",
       "<style scoped>\n",
       "    .dataframe tbody tr th:only-of-type {\n",
       "        vertical-align: middle;\n",
       "    }\n",
       "\n",
       "    .dataframe tbody tr th {\n",
       "        vertical-align: top;\n",
       "    }\n",
       "\n",
       "    .dataframe thead tr th {\n",
       "        text-align: left;\n",
       "    }\n",
       "\n",
       "    .dataframe thead tr:last-of-type th {\n",
       "        text-align: right;\n",
       "    }\n",
       "</style>\n",
       "<table border=\"1\" class=\"dataframe\">\n",
       "  <thead>\n",
       "    <tr>\n",
       "      <th></th>\n",
       "      <th colspan=\"2\" halign=\"left\">distance</th>\n",
       "    </tr>\n",
       "    <tr>\n",
       "      <th></th>\n",
       "      <th>size</th>\n",
       "      <th>mean</th>\n",
       "    </tr>\n",
       "    <tr>\n",
       "      <th>name</th>\n",
       "      <th></th>\n",
       "      <th></th>\n",
       "    </tr>\n",
       "  </thead>\n",
       "  <tbody>\n",
       "    <tr>\n",
       "      <th>Emma</th>\n",
       "      <td>210</td>\n",
       "      <td>0.000000</td>\n",
       "    </tr>\n",
       "    <tr>\n",
       "      <th>Gisela</th>\n",
       "      <td>59</td>\n",
       "      <td>0.125881</td>\n",
       "    </tr>\n",
       "    <tr>\n",
       "      <th>Berlanga</th>\n",
       "      <td>84</td>\n",
       "      <td>0.709297</td>\n",
       "    </tr>\n",
       "    <tr>\n",
       "      <th>Judy</th>\n",
       "      <td>100</td>\n",
       "      <td>2.018307</td>\n",
       "    </tr>\n",
       "    <tr>\n",
       "      <th>Encantada</th>\n",
       "      <td>78</td>\n",
       "      <td>2.749212</td>\n",
       "    </tr>\n",
       "  </tbody>\n",
       "</table>\n",
       "</div>"
      ],
      "text/plain": [
       "          distance          \n",
       "              size      mean\n",
       "name                        \n",
       "Emma           210  0.000000\n",
       "Gisela          59  0.125881\n",
       "Berlanga        84  0.709297\n",
       "Judy           100  2.018307\n",
       "Encantada       78  2.749212"
      ]
     },
     "execution_count": 44,
     "metadata": {},
     "output_type": "execute_result"
    }
   ],
   "source": [
    "buddies = groups[groups[('distance', 'size')] >= 50].sort_values(('distance', 'mean')).head()\n",
    "buddies"
   ]
  },
  {
   "cell_type": "code",
   "execution_count": 45,
   "metadata": {
    "ExecuteTime": {
     "end_time": "2019-02-23T02:33:27.552387Z",
     "start_time": "2019-02-23T02:33:27.412170Z"
    }
   },
   "outputs": [
    {
     "data": {
      "text/plain": [
       "Index(['Emma', 'Gisela', 'Berlanga ', 'Judy', 'Encantada'], dtype='object', name='name')"
      ]
     },
     "execution_count": 45,
     "metadata": {},
     "output_type": "execute_result"
    }
   ],
   "source": [
    "buddies.index"
   ]
  },
  {
   "cell_type": "markdown",
   "metadata": {},
   "source": [
    "##### Plot Emma and Buddy\n",
    "Plot Emma and her closest buddy on folium.  Emma should be blue/green (known/interpolated) and her buddy should be red/black (known/interpolated)."
   ]
  },
  {
   "cell_type": "code",
   "execution_count": 46,
   "metadata": {
    "ExecuteTime": {
     "end_time": "2019-02-23T02:33:27.685365Z",
     "start_time": "2019-02-23T02:33:27.558416Z"
    }
   },
   "outputs": [
    {
     "data": {
      "text/plain": [
       "'Gisela'"
      ]
     },
     "execution_count": 46,
     "metadata": {},
     "output_type": "execute_result"
    }
   ],
   "source": [
    "buddy = buddies.index[1]\n",
    "buddy"
   ]
  },
  {
   "cell_type": "code",
   "execution_count": 47,
   "metadata": {
    "ExecuteTime": {
     "end_time": "2019-02-23T02:33:27.836620Z",
     "start_time": "2019-02-23T02:33:27.688364Z"
    }
   },
   "outputs": [
    {
     "data": {
      "text/html": [
       "<div>\n",
       "<style scoped>\n",
       "    .dataframe tbody tr th:only-of-type {\n",
       "        vertical-align: middle;\n",
       "    }\n",
       "\n",
       "    .dataframe tbody tr th {\n",
       "        vertical-align: top;\n",
       "    }\n",
       "\n",
       "    .dataframe thead th {\n",
       "        text-align: right;\n",
       "    }\n",
       "</style>\n",
       "<table border=\"1\" class=\"dataframe\">\n",
       "  <thead>\n",
       "    <tr style=\"text-align: right;\">\n",
       "      <th></th>\n",
       "      <th></th>\n",
       "      <th>latitude</th>\n",
       "      <th>longitude</th>\n",
       "      <th>interpolated</th>\n",
       "    </tr>\n",
       "    <tr>\n",
       "      <th>datetime</th>\n",
       "      <th>name</th>\n",
       "      <th></th>\n",
       "      <th></th>\n",
       "      <th></th>\n",
       "    </tr>\n",
       "  </thead>\n",
       "  <tbody>\n",
       "    <tr>\n",
       "      <th>2014-02-01 00:00:00+09:00</th>\n",
       "      <th>Emma</th>\n",
       "      <td>-0.422161</td>\n",
       "      <td>-90.121436</td>\n",
       "      <td>False</td>\n",
       "    </tr>\n",
       "    <tr>\n",
       "      <th>2014-02-02 00:00:00+09:00</th>\n",
       "      <th>Emma</th>\n",
       "      <td>-0.487691</td>\n",
       "      <td>-90.294378</td>\n",
       "      <td>False</td>\n",
       "    </tr>\n",
       "    <tr>\n",
       "      <th>2014-02-03 00:00:00+09:00</th>\n",
       "      <th>Emma</th>\n",
       "      <td>-0.454803</td>\n",
       "      <td>-90.324300</td>\n",
       "      <td>False</td>\n",
       "    </tr>\n",
       "    <tr>\n",
       "      <th>2014-02-04 00:00:00+09:00</th>\n",
       "      <th>Emma</th>\n",
       "      <td>-0.439116</td>\n",
       "      <td>-90.286372</td>\n",
       "      <td>False</td>\n",
       "    </tr>\n",
       "    <tr>\n",
       "      <th>2014-02-05 00:00:00+09:00</th>\n",
       "      <th>Emma</th>\n",
       "      <td>-0.461627</td>\n",
       "      <td>-90.336575</td>\n",
       "      <td>False</td>\n",
       "    </tr>\n",
       "  </tbody>\n",
       "</table>\n",
       "</div>"
      ],
      "text/plain": [
       "                                latitude  longitude  interpolated\n",
       "datetime                  name                                   \n",
       "2014-02-01 00:00:00+09:00 Emma -0.422161 -90.121436         False\n",
       "2014-02-02 00:00:00+09:00 Emma -0.487691 -90.294378         False\n",
       "2014-02-03 00:00:00+09:00 Emma -0.454803 -90.324300         False\n",
       "2014-02-04 00:00:00+09:00 Emma -0.439116 -90.286372         False\n",
       "2014-02-05 00:00:00+09:00 Emma -0.461627 -90.336575         False"
      ]
     },
     "execution_count": 47,
     "metadata": {},
     "output_type": "execute_result"
    }
   ],
   "source": [
    "emma = resampled.query('name == \"Emma\"')\n",
    "emma.head()"
   ]
  },
  {
   "cell_type": "code",
   "execution_count": 48,
   "metadata": {
    "ExecuteTime": {
     "end_time": "2019-02-23T02:33:27.923722Z",
     "start_time": "2019-02-23T02:33:27.837616Z"
    }
   },
   "outputs": [
    {
     "data": {
      "text/html": [
       "<div>\n",
       "<style scoped>\n",
       "    .dataframe tbody tr th:only-of-type {\n",
       "        vertical-align: middle;\n",
       "    }\n",
       "\n",
       "    .dataframe tbody tr th {\n",
       "        vertical-align: top;\n",
       "    }\n",
       "\n",
       "    .dataframe thead th {\n",
       "        text-align: right;\n",
       "    }\n",
       "</style>\n",
       "<table border=\"1\" class=\"dataframe\">\n",
       "  <thead>\n",
       "    <tr style=\"text-align: right;\">\n",
       "      <th></th>\n",
       "      <th></th>\n",
       "      <th>latitude</th>\n",
       "      <th>longitude</th>\n",
       "      <th>interpolated</th>\n",
       "    </tr>\n",
       "    <tr>\n",
       "      <th>datetime</th>\n",
       "      <th>name</th>\n",
       "      <th></th>\n",
       "      <th></th>\n",
       "      <th></th>\n",
       "    </tr>\n",
       "  </thead>\n",
       "  <tbody>\n",
       "    <tr>\n",
       "      <th>2014-01-29 00:00:00+09:00</th>\n",
       "      <th>Gisela</th>\n",
       "      <td>-0.387178</td>\n",
       "      <td>-90.281583</td>\n",
       "      <td>False</td>\n",
       "    </tr>\n",
       "    <tr>\n",
       "      <th>2014-01-30 00:00:00+09:00</th>\n",
       "      <th>Gisela</th>\n",
       "      <td>-0.391372</td>\n",
       "      <td>-90.280224</td>\n",
       "      <td>True</td>\n",
       "    </tr>\n",
       "    <tr>\n",
       "      <th>2014-01-31 00:00:00+09:00</th>\n",
       "      <th>Gisela</th>\n",
       "      <td>-0.395567</td>\n",
       "      <td>-90.278865</td>\n",
       "      <td>True</td>\n",
       "    </tr>\n",
       "    <tr>\n",
       "      <th>2014-02-01 00:00:00+09:00</th>\n",
       "      <th>Gisela</th>\n",
       "      <td>-0.399761</td>\n",
       "      <td>-90.277506</td>\n",
       "      <td>True</td>\n",
       "    </tr>\n",
       "    <tr>\n",
       "      <th>2014-02-02 00:00:00+09:00</th>\n",
       "      <th>Gisela</th>\n",
       "      <td>-0.403955</td>\n",
       "      <td>-90.276147</td>\n",
       "      <td>True</td>\n",
       "    </tr>\n",
       "  </tbody>\n",
       "</table>\n",
       "</div>"
      ],
      "text/plain": [
       "                                  latitude  longitude  interpolated\n",
       "datetime                  name                                     \n",
       "2014-01-29 00:00:00+09:00 Gisela -0.387178 -90.281583         False\n",
       "2014-01-30 00:00:00+09:00 Gisela -0.391372 -90.280224          True\n",
       "2014-01-31 00:00:00+09:00 Gisela -0.395567 -90.278865          True\n",
       "2014-02-01 00:00:00+09:00 Gisela -0.399761 -90.277506          True\n",
       "2014-02-02 00:00:00+09:00 Gisela -0.403955 -90.276147          True"
      ]
     },
     "execution_count": 48,
     "metadata": {},
     "output_type": "execute_result"
    }
   ],
   "source": [
    "buddy = resampled.query('name == \"%s\"' % buddy)\n",
    "buddy.head()"
   ]
  },
  {
   "cell_type": "code",
   "execution_count": 49,
   "metadata": {
    "ExecuteTime": {
     "end_time": "2019-02-23T02:33:28.286789Z",
     "start_time": "2019-02-23T02:33:27.929719Z"
    }
   },
   "outputs": [
    {
     "data": {
      "text/html": [
       "<div style=\"width:100%;\"><div style=\"position:relative;width:100%;height:0;padding-bottom:60%;\"><iframe src=\"data:text/html;charset=utf-8;base64,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\" style=\"position:absolute;width:100%;height:100%;left:0;top:0;border:none !important;\" allowfullscreen webkitallowfullscreen mozallowfullscreen></iframe></div></div>"
      ],
      "text/plain": [
       "<folium.folium.Map at 0x1c2b3e51c50>"
      ]
     },
     "execution_count": 49,
     "metadata": {},
     "output_type": "execute_result"
    }
   ],
   "source": [
    "avglat = emma.latitude.mean()\n",
    "avglon = emma.longitude.mean()\n",
    "\n",
    "m = folium.Map(location=(avglat, avglon), zoom_start=5)\n",
    "\n",
    "for row in emma.itertuples():\n",
    "    if row.interpolated:\n",
    "        color = 'green'\n",
    "    else:\n",
    "        color = 'blue'\n",
    "    folium.Marker([row.latitude, row.longitude], icon=folium.Icon(color=color)).add_to(m)\n",
    "\n",
    "for row in buddy.itertuples():\n",
    "    if row.interpolated:\n",
    "        color = 'black'\n",
    "    else:\n",
    "        color = 'red'\n",
    "    folium.Marker([row.latitude, row.longitude], icon=folium.Icon(color=color)).add_to(m)\n",
    "    \n",
    "m"
   ]
  },
  {
   "cell_type": "code",
   "execution_count": null,
   "metadata": {},
   "outputs": [],
   "source": []
  }
 ],
 "metadata": {
  "kernelspec": {
   "display_name": "Python3.6",
   "language": "python",
   "name": "py36"
  },
  "language_info": {
   "codemirror_mode": {
    "name": "ipython",
    "version": 3
   },
   "file_extension": ".py",
   "mimetype": "text/x-python",
   "name": "python",
   "nbconvert_exporter": "python",
   "pygments_lexer": "ipython3",
   "version": "3.7.2"
  },
  "toc": {
   "base_numbering": 1,
   "nav_menu": {},
   "number_sections": true,
   "sideBar": true,
   "skip_h1_title": false,
   "title_cell": "Table of Contents",
   "title_sidebar": "Contents",
   "toc_cell": false,
   "toc_position": {
    "height": "calc(100% - 180px)",
    "left": "10px",
    "top": "150px",
    "width": "256px"
   },
   "toc_section_display": true,
   "toc_window_display": true
  }
 },
 "nbformat": 4,
 "nbformat_minor": 2
}
