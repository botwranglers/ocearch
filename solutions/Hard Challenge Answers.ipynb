{
 "cells": [
  {
   "cell_type": "markdown",
   "metadata": {},
   "source": [
    "### Challenge questions\n",
    "\n",
    "Easy questions:\n",
    "\n",
    " 1. How many total pings are in the Ocearch shark data?\n",
    " 2. How many unique species of sharks are in the data set?\n",
    " 3. What is the name, weight, and species of the heaviest shark(s)?\n",
    " 4. When and where was the very first ping?\n",
    " 5. Excluding results with 0 distance traveled: what's the minimum, average, and maximum travel distances?\n",
    " \n",
    "Intermediate questions:\n",
    "\n",
    " 1. Which shark had the most pings?\n",
    " 2. Which shark has been pinging the longest, and how long has that been?\n",
    " 3. Which shark species has the most individual sharks tagged?\n",
    " 4. What is the average length and weight of each shark species?\n",
    " 5. Which shark has the biggest geographic box (largest distance from min lat/lon to max lat/lon, not dist_traveled)?\n",
    " \n",
    "Hard questions:\n"
   ]
  },
  {
   "cell_type": "markdown",
   "metadata": {},
   "source": [
    "### Load data"
   ]
  },
  {
   "cell_type": "markdown",
   "metadata": {},
   "source": [
    "#### Query Ocearch API"
   ]
  },
  {
   "cell_type": "code",
   "execution_count": 26,
   "metadata": {
    "ExecuteTime": {
     "end_time": "2019-02-20T21:55:25.214248Z",
     "start_time": "2019-02-20T21:55:07.906651Z"
    }
   },
   "outputs": [
    {
     "data": {
      "text/plain": [
       "<Response [200]>"
      ]
     },
     "execution_count": 26,
     "metadata": {},
     "output_type": "execute_result"
    }
   ],
   "source": [
    "import requests\n",
    "url = 'http://www.ocearch.org/tracker/ajax/filter-sharks'\n",
    "\n",
    "resp = requests.get(url)\n",
    "resp"
   ]
  },
  {
   "cell_type": "markdown",
   "metadata": {},
   "source": [
    "##### Turn json into dataframe"
   ]
  },
  {
   "cell_type": "code",
   "execution_count": 27,
   "metadata": {
    "ExecuteTime": {
     "end_time": "2019-02-20T21:55:25.355202Z",
     "start_time": "2019-02-20T21:55:25.218246Z"
    }
   },
   "outputs": [
    {
     "data": {
      "text/html": [
       "<div>\n",
       "<style scoped>\n",
       "    .dataframe tbody tr th:only-of-type {\n",
       "        vertical-align: middle;\n",
       "    }\n",
       "\n",
       "    .dataframe tbody tr th {\n",
       "        vertical-align: top;\n",
       "    }\n",
       "\n",
       "    .dataframe thead th {\n",
       "        text-align: right;\n",
       "    }\n",
       "</style>\n",
       "<table border=\"1\" class=\"dataframe\">\n",
       "  <thead>\n",
       "    <tr style=\"text-align: right;\">\n",
       "      <th></th>\n",
       "      <th>id</th>\n",
       "      <th>name</th>\n",
       "      <th>gender</th>\n",
       "      <th>species</th>\n",
       "      <th>weight</th>\n",
       "      <th>length</th>\n",
       "      <th>tagDate</th>\n",
       "      <th>dist_total</th>\n",
       "    </tr>\n",
       "  </thead>\n",
       "  <tbody>\n",
       "    <tr>\n",
       "      <th>0</th>\n",
       "      <td>3</td>\n",
       "      <td>Oprah</td>\n",
       "      <td>Female</td>\n",
       "      <td>White Shark (Carcharodon carcharias)</td>\n",
       "      <td>686 lb</td>\n",
       "      <td>9 ft 10 in.</td>\n",
       "      <td>7 March 2012</td>\n",
       "      <td>2816.662</td>\n",
       "    </tr>\n",
       "    <tr>\n",
       "      <th>1</th>\n",
       "      <td>4</td>\n",
       "      <td>Albertina</td>\n",
       "      <td>Female</td>\n",
       "      <td>White Shark (Carcharodon carcharias)</td>\n",
       "      <td>1110 lb</td>\n",
       "      <td>11 ft 6 in.</td>\n",
       "      <td>8 March 2012</td>\n",
       "      <td>1830.593</td>\n",
       "    </tr>\n",
       "    <tr>\n",
       "      <th>2</th>\n",
       "      <td>5</td>\n",
       "      <td>Helen</td>\n",
       "      <td>Female</td>\n",
       "      <td>White Shark (Carcharodon carcharias)</td>\n",
       "      <td>765 lb</td>\n",
       "      <td>10 ft 2 in.</td>\n",
       "      <td>8 March 2012</td>\n",
       "      <td>4436.661</td>\n",
       "    </tr>\n",
       "    <tr>\n",
       "      <th>3</th>\n",
       "      <td>6</td>\n",
       "      <td>Brenda</td>\n",
       "      <td>Female</td>\n",
       "      <td>White Shark (Carcharodon carcharias)</td>\n",
       "      <td>1310 lb</td>\n",
       "      <td>12 ft 2 in.</td>\n",
       "      <td>8 March 2012</td>\n",
       "      <td>2966.902</td>\n",
       "    </tr>\n",
       "    <tr>\n",
       "      <th>4</th>\n",
       "      <td>7</td>\n",
       "      <td>Madiba</td>\n",
       "      <td>Male</td>\n",
       "      <td>White Shark (Carcharodon carcharias)</td>\n",
       "      <td>659 lb</td>\n",
       "      <td>9 ft 8 in.</td>\n",
       "      <td>8 March 2012</td>\n",
       "      <td>3537.423</td>\n",
       "    </tr>\n",
       "  </tbody>\n",
       "</table>\n",
       "</div>"
      ],
      "text/plain": [
       "   id        name  gender                               species   weight  \\\n",
       "0   3       Oprah  Female  White Shark (Carcharodon carcharias)   686 lb   \n",
       "1   4  Albertina   Female  White Shark (Carcharodon carcharias)  1110 lb   \n",
       "2   5      Helen   Female  White Shark (Carcharodon carcharias)   765 lb   \n",
       "3   6     Brenda   Female  White Shark (Carcharodon carcharias)  1310 lb   \n",
       "4   7      Madiba    Male  White Shark (Carcharodon carcharias)   659 lb   \n",
       "\n",
       "          length       tagDate dist_total  \n",
       "0    9 ft 10 in.  7 March 2012   2816.662  \n",
       "1   11 ft 6 in.   8 March 2012   1830.593  \n",
       "2    10 ft 2 in.  8 March 2012   4436.661  \n",
       "3  12 ft 2 in.    8 March 2012   2966.902  \n",
       "4    9 ft 8 in.   8 March 2012   3537.423  "
      ]
     },
     "execution_count": 27,
     "metadata": {},
     "output_type": "execute_result"
    }
   ],
   "source": [
    "import pandas as pd\n",
    "df = pd.DataFrame(resp.json())\n",
    "columns = ['id', 'name', 'gender', 'species', 'weight', 'length', 'tagDate', 'dist_total']\n",
    "df[columns].head()"
   ]
  },
  {
   "cell_type": "code",
   "execution_count": 28,
   "metadata": {
    "ExecuteTime": {
     "end_time": "2019-02-20T21:55:25.449216Z",
     "start_time": "2019-02-20T21:55:25.356202Z"
    }
   },
   "outputs": [
    {
     "data": {
      "text/plain": [
       "(275, 30)"
      ]
     },
     "execution_count": 28,
     "metadata": {},
     "output_type": "execute_result"
    }
   ],
   "source": [
    "df.shape"
   ]
  },
  {
   "cell_type": "markdown",
   "metadata": {},
   "source": [
    "##### Filter out non-shark data"
   ]
  },
  {
   "cell_type": "code",
   "execution_count": 29,
   "metadata": {
    "ExecuteTime": {
     "end_time": "2019-02-20T21:55:28.284224Z",
     "start_time": "2019-02-20T21:55:28.280243Z"
    }
   },
   "outputs": [
    {
     "data": {
      "text/plain": [
       "Tiger Shark  (Galeocerdo cuvier)                   82\n",
       "White Shark (Carcharodon carcharias)               74\n",
       "Blue Shark (Prionace glauca)                       27\n",
       "Mako Shark (Isurus oxyrinchus)                     18\n",
       "Hammerhead Shark (Sphyrna)                         18\n",
       "Olive Ridley Turtle (Lepidochelys olivacea)        16\n",
       "Loggerhead Sea Turtle (Caretta caretta)             9\n",
       "Blacktip Shark (Carcharhinus limbatus)              9\n",
       "Silky Shark (Carcharhinus falciformis)              4\n",
       "Guadalupe Fur Seals (Arctocephalus townsendi)       4\n",
       "Bull Shark (Carcharhinus leucas)                    4\n",
       "Whale Shark (Rhincodon Typus)                       3\n",
       "American alligator (Alligator mississippiensis)     2\n",
       "Pilot Whale (Globicephala)                          1\n",
       " Harbor Seal (Phoca vitulina)                       1\n",
       "Ship (Motor Vessel)                                 1\n",
       "Dolphin (Delphinus capensis)                        1\n",
       "Green Sea Turtle (Chelonia mydas)                   1\n",
       "Name: species, dtype: int64"
      ]
     },
     "execution_count": 29,
     "metadata": {},
     "output_type": "execute_result"
    }
   ],
   "source": [
    "df.species.value_counts()"
   ]
  },
  {
   "cell_type": "code",
   "execution_count": 30,
   "metadata": {
    "ExecuteTime": {
     "end_time": "2019-02-20T21:55:28.882917Z",
     "start_time": "2019-02-20T21:55:28.871930Z"
    }
   },
   "outputs": [
    {
     "data": {
      "text/plain": [
       "(239, 30)"
      ]
     },
     "execution_count": 30,
     "metadata": {},
     "output_type": "execute_result"
    }
   ],
   "source": [
    "df = df[df.species.fillna('').str.contains('shark', case=False)]\n",
    "df.shape"
   ]
  },
  {
   "cell_type": "markdown",
   "metadata": {},
   "source": [
    "##### Extract ping data"
   ]
  },
  {
   "cell_type": "code",
   "execution_count": 31,
   "metadata": {
    "ExecuteTime": {
     "end_time": "2019-02-20T21:55:31.703041Z",
     "start_time": "2019-02-20T21:55:31.375132Z"
    }
   },
   "outputs": [
    {
     "data": {
      "text/plain": [
       "239"
      ]
     },
     "execution_count": 31,
     "metadata": {},
     "output_type": "execute_result"
    }
   ],
   "source": [
    "ping_frames = []\n",
    "for row in df.itertuples():\n",
    "    ping_frame = pd.DataFrame(row.pings)\n",
    "    ping_frame['id'] = row.id\n",
    "    ping_frames.append(ping_frame)\n",
    "    \n",
    "len(ping_frames)"
   ]
  },
  {
   "cell_type": "markdown",
   "metadata": {},
   "source": [
    "##### Merge shark/ping data"
   ]
  },
  {
   "cell_type": "code",
   "execution_count": 32,
   "metadata": {
    "ExecuteTime": {
     "end_time": "2019-02-20T21:55:32.917491Z",
     "start_time": "2019-02-20T21:55:32.839501Z"
    }
   },
   "outputs": [
    {
     "data": {
      "text/plain": [
       "(65871, 6)"
      ]
     },
     "execution_count": 32,
     "metadata": {},
     "output_type": "execute_result"
    }
   ],
   "source": [
    "pings = pd.concat(ping_frames)\n",
    "pings.shape"
   ]
  },
  {
   "cell_type": "code",
   "execution_count": 10,
   "metadata": {
    "ExecuteTime": {
     "end_time": "2019-02-20T21:42:55.825264Z",
     "start_time": "2019-02-20T21:42:55.718906Z"
    }
   },
   "outputs": [
    {
     "data": {
      "text/plain": [
       "(65871, 13)"
      ]
     },
     "execution_count": 10,
     "metadata": {},
     "output_type": "execute_result"
    }
   ],
   "source": [
    "joined = pings.merge(df[columns], on='id')\n",
    "joined.shape"
   ]
  },
  {
   "cell_type": "code",
   "execution_count": 11,
   "metadata": {
    "ExecuteTime": {
     "end_time": "2019-02-20T21:42:55.978921Z",
     "start_time": "2019-02-20T21:42:55.826264Z"
    }
   },
   "outputs": [
    {
     "data": {
      "text/html": [
       "<div>\n",
       "<style scoped>\n",
       "    .dataframe tbody tr th:only-of-type {\n",
       "        vertical-align: middle;\n",
       "    }\n",
       "\n",
       "    .dataframe tbody tr th {\n",
       "        vertical-align: top;\n",
       "    }\n",
       "\n",
       "    .dataframe thead th {\n",
       "        text-align: right;\n",
       "    }\n",
       "</style>\n",
       "<table border=\"1\" class=\"dataframe\">\n",
       "  <thead>\n",
       "    <tr style=\"text-align: right;\">\n",
       "      <th></th>\n",
       "      <th>active</th>\n",
       "      <th>datetime</th>\n",
       "      <th>id</th>\n",
       "      <th>latitude</th>\n",
       "      <th>longitude</th>\n",
       "      <th>tz_datetime</th>\n",
       "      <th>name</th>\n",
       "      <th>gender</th>\n",
       "      <th>species</th>\n",
       "      <th>weight</th>\n",
       "      <th>length</th>\n",
       "      <th>tagDate</th>\n",
       "      <th>dist_total</th>\n",
       "    </tr>\n",
       "  </thead>\n",
       "  <tbody>\n",
       "    <tr>\n",
       "      <th>0</th>\n",
       "      <td>1</td>\n",
       "      <td>6 July 2014 1:57:28 PM</td>\n",
       "      <td>3</td>\n",
       "      <td>-34.60661</td>\n",
       "      <td>21.15244</td>\n",
       "      <td>6 July 2014 1:57:28 PM +0900</td>\n",
       "      <td>Oprah</td>\n",
       "      <td>Female</td>\n",
       "      <td>White Shark (Carcharodon carcharias)</td>\n",
       "      <td>686 lb</td>\n",
       "      <td>9 ft 10 in.</td>\n",
       "      <td>7 March 2012</td>\n",
       "      <td>2816.662</td>\n",
       "    </tr>\n",
       "    <tr>\n",
       "      <th>1</th>\n",
       "      <td>1</td>\n",
       "      <td>23 June 2014 11:40:09 AM</td>\n",
       "      <td>3</td>\n",
       "      <td>-34.78752</td>\n",
       "      <td>19.42479</td>\n",
       "      <td>23 June 2014 11:40:09 AM +0900</td>\n",
       "      <td>Oprah</td>\n",
       "      <td>Female</td>\n",
       "      <td>White Shark (Carcharodon carcharias)</td>\n",
       "      <td>686 lb</td>\n",
       "      <td>9 ft 10 in.</td>\n",
       "      <td>7 March 2012</td>\n",
       "      <td>2816.662</td>\n",
       "    </tr>\n",
       "    <tr>\n",
       "      <th>2</th>\n",
       "      <td>1</td>\n",
       "      <td>15 June 2014 10:15:44 PM</td>\n",
       "      <td>3</td>\n",
       "      <td>-34.42487</td>\n",
       "      <td>21.09754</td>\n",
       "      <td>15 June 2014 10:15:44 PM +0900</td>\n",
       "      <td>Oprah</td>\n",
       "      <td>Female</td>\n",
       "      <td>White Shark (Carcharodon carcharias)</td>\n",
       "      <td>686 lb</td>\n",
       "      <td>9 ft 10 in.</td>\n",
       "      <td>7 March 2012</td>\n",
       "      <td>2816.662</td>\n",
       "    </tr>\n",
       "    <tr>\n",
       "      <th>3</th>\n",
       "      <td>1</td>\n",
       "      <td>3 June 2014 11:23:57 AM</td>\n",
       "      <td>3</td>\n",
       "      <td>-34.70432271674724</td>\n",
       "      <td>20.21013441406251</td>\n",
       "      <td>3 June 2014 11:23:57 AM +0900</td>\n",
       "      <td>Oprah</td>\n",
       "      <td>Female</td>\n",
       "      <td>White Shark (Carcharodon carcharias)</td>\n",
       "      <td>686 lb</td>\n",
       "      <td>9 ft 10 in.</td>\n",
       "      <td>7 March 2012</td>\n",
       "      <td>2816.662</td>\n",
       "    </tr>\n",
       "    <tr>\n",
       "      <th>4</th>\n",
       "      <td>1</td>\n",
       "      <td>29 May 2014 4:53:57 AM</td>\n",
       "      <td>3</td>\n",
       "      <td>-34.65556</td>\n",
       "      <td>19.37459</td>\n",
       "      <td>29 May 2014 4:53:57 AM +0900</td>\n",
       "      <td>Oprah</td>\n",
       "      <td>Female</td>\n",
       "      <td>White Shark (Carcharodon carcharias)</td>\n",
       "      <td>686 lb</td>\n",
       "      <td>9 ft 10 in.</td>\n",
       "      <td>7 March 2012</td>\n",
       "      <td>2816.662</td>\n",
       "    </tr>\n",
       "  </tbody>\n",
       "</table>\n",
       "</div>"
      ],
      "text/plain": [
       "  active                  datetime  id            latitude          longitude  \\\n",
       "0      1    6 July 2014 1:57:28 PM   3           -34.60661           21.15244   \n",
       "1      1  23 June 2014 11:40:09 AM   3           -34.78752           19.42479   \n",
       "2      1  15 June 2014 10:15:44 PM   3           -34.42487           21.09754   \n",
       "3      1   3 June 2014 11:23:57 AM   3  -34.70432271674724  20.21013441406251   \n",
       "4      1    29 May 2014 4:53:57 AM   3           -34.65556           19.37459   \n",
       "\n",
       "                      tz_datetime   name  gender  \\\n",
       "0    6 July 2014 1:57:28 PM +0900  Oprah  Female   \n",
       "1  23 June 2014 11:40:09 AM +0900  Oprah  Female   \n",
       "2  15 June 2014 10:15:44 PM +0900  Oprah  Female   \n",
       "3   3 June 2014 11:23:57 AM +0900  Oprah  Female   \n",
       "4    29 May 2014 4:53:57 AM +0900  Oprah  Female   \n",
       "\n",
       "                                species  weight       length       tagDate  \\\n",
       "0  White Shark (Carcharodon carcharias)  686 lb  9 ft 10 in.  7 March 2012   \n",
       "1  White Shark (Carcharodon carcharias)  686 lb  9 ft 10 in.  7 March 2012   \n",
       "2  White Shark (Carcharodon carcharias)  686 lb  9 ft 10 in.  7 March 2012   \n",
       "3  White Shark (Carcharodon carcharias)  686 lb  9 ft 10 in.  7 March 2012   \n",
       "4  White Shark (Carcharodon carcharias)  686 lb  9 ft 10 in.  7 March 2012   \n",
       "\n",
       "  dist_total  \n",
       "0   2816.662  \n",
       "1   2816.662  \n",
       "2   2816.662  \n",
       "3   2816.662  \n",
       "4   2816.662  "
      ]
     },
     "execution_count": 11,
     "metadata": {},
     "output_type": "execute_result"
    }
   ],
   "source": [
    "joined.head()"
   ]
  },
  {
   "cell_type": "markdown",
   "metadata": {},
   "source": [
    "##### Clean data"
   ]
  },
  {
   "cell_type": "code",
   "execution_count": 38,
   "metadata": {
    "ExecuteTime": {
     "end_time": "2019-02-20T22:05:33.697011Z",
     "start_time": "2019-02-20T22:05:33.694001Z"
    }
   },
   "outputs": [
    {
     "data": {
      "text/plain": [
       "(65871, 13)"
      ]
     },
     "execution_count": 38,
     "metadata": {},
     "output_type": "execute_result"
    }
   ],
   "source": [
    "df = joined # don't need a reference to the original resp.json() df anymore\n",
    "df.shape"
   ]
  },
  {
   "cell_type": "code",
   "execution_count": 39,
   "metadata": {
    "ExecuteTime": {
     "end_time": "2019-02-20T22:05:48.252888Z",
     "start_time": "2019-02-20T22:05:34.039509Z"
    },
    "scrolled": true
   },
   "outputs": [
    {
     "data": {
      "text/html": [
       "<div>\n",
       "<style scoped>\n",
       "    .dataframe tbody tr th:only-of-type {\n",
       "        vertical-align: middle;\n",
       "    }\n",
       "\n",
       "    .dataframe tbody tr th {\n",
       "        vertical-align: top;\n",
       "    }\n",
       "\n",
       "    .dataframe thead th {\n",
       "        text-align: right;\n",
       "    }\n",
       "</style>\n",
       "<table border=\"1\" class=\"dataframe\">\n",
       "  <thead>\n",
       "    <tr style=\"text-align: right;\">\n",
       "      <th></th>\n",
       "      <th>active</th>\n",
       "      <th>datetime</th>\n",
       "      <th>id</th>\n",
       "      <th>latitude</th>\n",
       "      <th>longitude</th>\n",
       "      <th>name</th>\n",
       "      <th>gender</th>\n",
       "      <th>species</th>\n",
       "      <th>weight</th>\n",
       "      <th>length</th>\n",
       "      <th>tagDate</th>\n",
       "      <th>dist_total</th>\n",
       "    </tr>\n",
       "  </thead>\n",
       "  <tbody>\n",
       "    <tr>\n",
       "      <th>0</th>\n",
       "      <td>1</td>\n",
       "      <td>2014-07-06 13:57:28+09:00</td>\n",
       "      <td>3</td>\n",
       "      <td>-34.606610</td>\n",
       "      <td>21.152440</td>\n",
       "      <td>Oprah</td>\n",
       "      <td>Female</td>\n",
       "      <td>White Shark (Carcharodon carcharias)</td>\n",
       "      <td>686.0</td>\n",
       "      <td>118.0</td>\n",
       "      <td>7 March 2012</td>\n",
       "      <td>2816.662</td>\n",
       "    </tr>\n",
       "    <tr>\n",
       "      <th>1</th>\n",
       "      <td>1</td>\n",
       "      <td>2014-06-23 11:40:09+09:00</td>\n",
       "      <td>3</td>\n",
       "      <td>-34.787520</td>\n",
       "      <td>19.424790</td>\n",
       "      <td>Oprah</td>\n",
       "      <td>Female</td>\n",
       "      <td>White Shark (Carcharodon carcharias)</td>\n",
       "      <td>686.0</td>\n",
       "      <td>118.0</td>\n",
       "      <td>7 March 2012</td>\n",
       "      <td>2816.662</td>\n",
       "    </tr>\n",
       "    <tr>\n",
       "      <th>2</th>\n",
       "      <td>1</td>\n",
       "      <td>2014-06-15 22:15:44+09:00</td>\n",
       "      <td>3</td>\n",
       "      <td>-34.424870</td>\n",
       "      <td>21.097540</td>\n",
       "      <td>Oprah</td>\n",
       "      <td>Female</td>\n",
       "      <td>White Shark (Carcharodon carcharias)</td>\n",
       "      <td>686.0</td>\n",
       "      <td>118.0</td>\n",
       "      <td>7 March 2012</td>\n",
       "      <td>2816.662</td>\n",
       "    </tr>\n",
       "    <tr>\n",
       "      <th>3</th>\n",
       "      <td>1</td>\n",
       "      <td>2014-06-03 11:23:57+09:00</td>\n",
       "      <td>3</td>\n",
       "      <td>-34.704323</td>\n",
       "      <td>20.210134</td>\n",
       "      <td>Oprah</td>\n",
       "      <td>Female</td>\n",
       "      <td>White Shark (Carcharodon carcharias)</td>\n",
       "      <td>686.0</td>\n",
       "      <td>118.0</td>\n",
       "      <td>7 March 2012</td>\n",
       "      <td>2816.662</td>\n",
       "    </tr>\n",
       "    <tr>\n",
       "      <th>4</th>\n",
       "      <td>1</td>\n",
       "      <td>2014-05-29 04:53:57+09:00</td>\n",
       "      <td>3</td>\n",
       "      <td>-34.655560</td>\n",
       "      <td>19.374590</td>\n",
       "      <td>Oprah</td>\n",
       "      <td>Female</td>\n",
       "      <td>White Shark (Carcharodon carcharias)</td>\n",
       "      <td>686.0</td>\n",
       "      <td>118.0</td>\n",
       "      <td>7 March 2012</td>\n",
       "      <td>2816.662</td>\n",
       "    </tr>\n",
       "  </tbody>\n",
       "</table>\n",
       "</div>"
      ],
      "text/plain": [
       "  active                  datetime  id   latitude  longitude   name  gender  \\\n",
       "0      1 2014-07-06 13:57:28+09:00   3 -34.606610  21.152440  Oprah  Female   \n",
       "1      1 2014-06-23 11:40:09+09:00   3 -34.787520  19.424790  Oprah  Female   \n",
       "2      1 2014-06-15 22:15:44+09:00   3 -34.424870  21.097540  Oprah  Female   \n",
       "3      1 2014-06-03 11:23:57+09:00   3 -34.704323  20.210134  Oprah  Female   \n",
       "4      1 2014-05-29 04:53:57+09:00   3 -34.655560  19.374590  Oprah  Female   \n",
       "\n",
       "                                species  weight  length       tagDate  \\\n",
       "0  White Shark (Carcharodon carcharias)   686.0   118.0  7 March 2012   \n",
       "1  White Shark (Carcharodon carcharias)   686.0   118.0  7 March 2012   \n",
       "2  White Shark (Carcharodon carcharias)   686.0   118.0  7 March 2012   \n",
       "3  White Shark (Carcharodon carcharias)   686.0   118.0  7 March 2012   \n",
       "4  White Shark (Carcharodon carcharias)   686.0   118.0  7 March 2012   \n",
       "\n",
       "   dist_total  \n",
       "0    2816.662  \n",
       "1    2816.662  \n",
       "2    2816.662  \n",
       "3    2816.662  \n",
       "4    2816.662  "
      ]
     },
     "execution_count": 39,
     "metadata": {},
     "output_type": "execute_result"
    }
   ],
   "source": [
    "def clean_weight(value):\n",
    "    if not value:\n",
    "        return value\n",
    "    # most values are like \"123 lb\"\n",
    "    value = str(value)\n",
    "    for character in 'lbs,+':\n",
    "        value = value.replace(character, '')\n",
    "    return float(value)\n",
    "\n",
    "def clean_length(value):\n",
    "    if not value:\n",
    "        return value\n",
    "    # most length values are like '3 ft 4 in.'\n",
    "    value = str(value)\n",
    "    total = 0\n",
    "    if 'ft' in value:\n",
    "        ft, inches = value.split('ft')\n",
    "        total += int(ft.strip()) * 12\n",
    "    else:\n",
    "        inches = value\n",
    "    if inches.strip():\n",
    "        total += float(inches.strip().split()[0])\n",
    "    return total\n",
    "\n",
    "df['weight'] = df.weight.apply(clean_weight)\n",
    "df['length'] = df.length.apply(clean_length)\n",
    "df['datetime'] = pd.to_datetime(df.tz_datetime)\n",
    "\n",
    "numeric_cols = ['latitude', 'longitude', 'dist_total', 'weight', 'length']\n",
    "df[numeric_cols] = df[numeric_cols].apply(pd.to_numeric, axis=1)\n",
    "df = df.drop(columns=['tz_datetime'])\n",
    "df.head()"
   ]
  },
  {
   "cell_type": "code",
   "execution_count": null,
   "metadata": {},
   "outputs": [],
   "source": []
  },
  {
   "cell_type": "markdown",
   "metadata": {},
   "source": [
    "### Explore data"
   ]
  },
  {
   "cell_type": "code",
   "execution_count": 53,
   "metadata": {
    "ExecuteTime": {
     "end_time": "2019-02-20T22:11:08.211674Z",
     "start_time": "2019-02-20T22:11:08.197687Z"
    }
   },
   "outputs": [
    {
     "data": {
      "text/plain": [
       "name\n",
       "AB          1\n",
       "ANZAC       1\n",
       "Adelaide    1\n",
       "Al          1\n",
       "Albert      1\n",
       "Name: id, dtype: int64"
      ]
     },
     "execution_count": 53,
     "metadata": {},
     "output_type": "execute_result"
    }
   ],
   "source": [
    "# are all the names unique?\n",
    "counts = df.groupby('name').id.nunique()\n",
    "counts.head()"
   ]
  },
  {
   "cell_type": "code",
   "execution_count": 54,
   "metadata": {
    "ExecuteTime": {
     "end_time": "2019-02-20T22:11:19.915870Z",
     "start_time": "2019-02-20T22:11:19.908883Z"
    }
   },
   "outputs": [
    {
     "data": {
      "text/plain": [
       "Series([], Name: id, dtype: int64)"
      ]
     },
     "execution_count": 54,
     "metadata": {},
     "output_type": "execute_result"
    }
   ],
   "source": [
    "counts[counts > 1]"
   ]
  },
  {
   "cell_type": "markdown",
   "metadata": {},
   "source": [
    "### Challenge Questions"
   ]
  },
  {
   "cell_type": "markdown",
   "metadata": {},
   "source": [
    "#### Easy Questions\n",
    " 1. How many total pings are in the Ocearch shark data?\n",
    " 2. How many unique species of sharks are in the data set?\n",
    " 3. What is the name, weight, and species of the heaviest shark(s)?\n",
    " 4. When and where was the very first ping?\n",
    " 5. Excluding results with 0 distance traveled: what's the minimum, average, and maximum travel distances?"
   ]
  },
  {
   "cell_type": "markdown",
   "metadata": {},
   "source": [
    "##### Total pings\n",
    "How many total pings are in the Ocearch shark data?"
   ]
  },
  {
   "cell_type": "code",
   "execution_count": 40,
   "metadata": {
    "ExecuteTime": {
     "end_time": "2019-02-20T22:05:52.216560Z",
     "start_time": "2019-02-20T22:05:52.212562Z"
    }
   },
   "outputs": [
    {
     "data": {
      "text/plain": [
       "65871"
      ]
     },
     "execution_count": 40,
     "metadata": {},
     "output_type": "execute_result"
    }
   ],
   "source": [
    "len(df)"
   ]
  },
  {
   "cell_type": "markdown",
   "metadata": {},
   "source": [
    "##### Unique species\n",
    "How many unique species of sharks are in the data set?"
   ]
  },
  {
   "cell_type": "code",
   "execution_count": 41,
   "metadata": {
    "ExecuteTime": {
     "end_time": "2019-02-20T22:05:52.592815Z",
     "start_time": "2019-02-20T22:05:52.582819Z"
    }
   },
   "outputs": [
    {
     "data": {
      "text/plain": [
       "9"
      ]
     },
     "execution_count": 41,
     "metadata": {},
     "output_type": "execute_result"
    }
   ],
   "source": [
    "df.species.nunique()"
   ]
  },
  {
   "cell_type": "markdown",
   "metadata": {},
   "source": [
    "##### Heaviest shark(s)\n",
    "What is the name, weight, and species of the heaviest shark(s)?"
   ]
  },
  {
   "cell_type": "code",
   "execution_count": 42,
   "metadata": {
    "ExecuteTime": {
     "end_time": "2019-02-20T22:05:53.282593Z",
     "start_time": "2019-02-20T22:05:53.277582Z"
    }
   },
   "outputs": [
    {
     "data": {
      "text/plain": [
       "25000.0"
      ]
     },
     "execution_count": 42,
     "metadata": {},
     "output_type": "execute_result"
    }
   ],
   "source": [
    "max_weight = df.weight.max()\n",
    "max_weight"
   ]
  },
  {
   "cell_type": "code",
   "execution_count": 43,
   "metadata": {
    "ExecuteTime": {
     "end_time": "2019-02-20T22:05:53.972433Z",
     "start_time": "2019-02-20T22:05:53.958425Z"
    }
   },
   "outputs": [
    {
     "data": {
      "text/html": [
       "<div>\n",
       "<style scoped>\n",
       "    .dataframe tbody tr th:only-of-type {\n",
       "        vertical-align: middle;\n",
       "    }\n",
       "\n",
       "    .dataframe tbody tr th {\n",
       "        vertical-align: top;\n",
       "    }\n",
       "\n",
       "    .dataframe thead th {\n",
       "        text-align: right;\n",
       "    }\n",
       "</style>\n",
       "<table border=\"1\" class=\"dataframe\">\n",
       "  <thead>\n",
       "    <tr style=\"text-align: right;\">\n",
       "      <th></th>\n",
       "      <th>active</th>\n",
       "      <th>datetime</th>\n",
       "      <th>id</th>\n",
       "      <th>latitude</th>\n",
       "      <th>longitude</th>\n",
       "      <th>name</th>\n",
       "      <th>gender</th>\n",
       "      <th>species</th>\n",
       "      <th>weight</th>\n",
       "      <th>length</th>\n",
       "      <th>tagDate</th>\n",
       "      <th>dist_total</th>\n",
       "    </tr>\n",
       "  </thead>\n",
       "  <tbody>\n",
       "    <tr>\n",
       "      <th>56485</th>\n",
       "      <td>1</td>\n",
       "      <td>2016-10-24 12:12:24+09:00</td>\n",
       "      <td>233</td>\n",
       "      <td>38.53890</td>\n",
       "      <td>-68.82060</td>\n",
       "      <td>Rocky Mazzanti</td>\n",
       "      <td>Female</td>\n",
       "      <td>Whale Shark (Rhincodon Typus)</td>\n",
       "      <td>25000.0</td>\n",
       "      <td>300.0</td>\n",
       "      <td>24 August 2016</td>\n",
       "      <td>1753.524</td>\n",
       "    </tr>\n",
       "    <tr>\n",
       "      <th>59317</th>\n",
       "      <td>1</td>\n",
       "      <td>2017-11-01 09:11:15+09:00</td>\n",
       "      <td>253</td>\n",
       "      <td>40.97405</td>\n",
       "      <td>-69.55461</td>\n",
       "      <td>Canyon</td>\n",
       "      <td>Male</td>\n",
       "      <td>Whale Shark (Rhincodon Typus)</td>\n",
       "      <td>25000.0</td>\n",
       "      <td>360.0</td>\n",
       "      <td>9 August 2017</td>\n",
       "      <td>2093.576</td>\n",
       "    </tr>\n",
       "  </tbody>\n",
       "</table>\n",
       "</div>"
      ],
      "text/plain": [
       "      active                  datetime   id  latitude  longitude  \\\n",
       "56485      1 2016-10-24 12:12:24+09:00  233  38.53890  -68.82060   \n",
       "59317      1 2017-11-01 09:11:15+09:00  253  40.97405  -69.55461   \n",
       "\n",
       "                 name  gender                        species   weight  length  \\\n",
       "56485  Rocky Mazzanti  Female  Whale Shark (Rhincodon Typus)  25000.0   300.0   \n",
       "59317          Canyon    Male  Whale Shark (Rhincodon Typus)  25000.0   360.0   \n",
       "\n",
       "              tagDate  dist_total  \n",
       "56485  24 August 2016    1753.524  \n",
       "59317   9 August 2017    2093.576  "
      ]
     },
     "execution_count": 43,
     "metadata": {},
     "output_type": "execute_result"
    }
   ],
   "source": [
    "heavy_sharks = df[df.weight == df.weight.max()]\n",
    "heavy_sharks.drop_duplicates('name')"
   ]
  },
  {
   "cell_type": "markdown",
   "metadata": {},
   "source": [
    "##### First ping\n",
    "When and where was the very first ping?"
   ]
  },
  {
   "cell_type": "code",
   "execution_count": 46,
   "metadata": {
    "ExecuteTime": {
     "end_time": "2019-02-20T22:07:06.178335Z",
     "start_time": "2019-02-20T22:07:06.037373Z"
    }
   },
   "outputs": [
    {
     "data": {
      "text/html": [
       "<div>\n",
       "<style scoped>\n",
       "    .dataframe tbody tr th:only-of-type {\n",
       "        vertical-align: middle;\n",
       "    }\n",
       "\n",
       "    .dataframe tbody tr th {\n",
       "        vertical-align: top;\n",
       "    }\n",
       "\n",
       "    .dataframe thead th {\n",
       "        text-align: right;\n",
       "    }\n",
       "</style>\n",
       "<table border=\"1\" class=\"dataframe\">\n",
       "  <thead>\n",
       "    <tr style=\"text-align: right;\">\n",
       "      <th></th>\n",
       "      <th>name</th>\n",
       "      <th>datetime</th>\n",
       "      <th>latitude</th>\n",
       "      <th>longitude</th>\n",
       "    </tr>\n",
       "  </thead>\n",
       "  <tbody>\n",
       "    <tr>\n",
       "      <th>519</th>\n",
       "      <td>Oprah</td>\n",
       "      <td>2012-03-10 00:35:31+09:00</td>\n",
       "      <td>-34.132</td>\n",
       "      <td>22.123</td>\n",
       "    </tr>\n",
       "    <tr>\n",
       "      <th>518</th>\n",
       "      <td>Oprah</td>\n",
       "      <td>2012-03-10 06:30:24+09:00</td>\n",
       "      <td>-34.160</td>\n",
       "      <td>22.180</td>\n",
       "    </tr>\n",
       "    <tr>\n",
       "      <th>517</th>\n",
       "      <td>Oprah</td>\n",
       "      <td>2012-03-10 06:42:45+09:00</td>\n",
       "      <td>-34.158</td>\n",
       "      <td>22.182</td>\n",
       "    </tr>\n",
       "    <tr>\n",
       "      <th>516</th>\n",
       "      <td>Oprah</td>\n",
       "      <td>2012-03-10 10:53:02+09:00</td>\n",
       "      <td>-34.165</td>\n",
       "      <td>22.179</td>\n",
       "    </tr>\n",
       "    <tr>\n",
       "      <th>752</th>\n",
       "      <td>Albertina</td>\n",
       "      <td>2012-03-10 17:23:50+09:00</td>\n",
       "      <td>-34.179</td>\n",
       "      <td>22.417</td>\n",
       "    </tr>\n",
       "  </tbody>\n",
       "</table>\n",
       "</div>"
      ],
      "text/plain": [
       "           name                  datetime  latitude  longitude\n",
       "519       Oprah 2012-03-10 00:35:31+09:00   -34.132     22.123\n",
       "518       Oprah 2012-03-10 06:30:24+09:00   -34.160     22.180\n",
       "517       Oprah 2012-03-10 06:42:45+09:00   -34.158     22.182\n",
       "516       Oprah 2012-03-10 10:53:02+09:00   -34.165     22.179\n",
       "752  Albertina  2012-03-10 17:23:50+09:00   -34.179     22.417"
      ]
     },
     "execution_count": 46,
     "metadata": {},
     "output_type": "execute_result"
    }
   ],
   "source": [
    "first_pings = df.sort_values('datetime').head(5)\n",
    "first_pings[['name', 'datetime', 'latitude', 'longitude']]"
   ]
  },
  {
   "cell_type": "markdown",
   "metadata": {},
   "source": [
    "##### Distance travelled\n",
    "Excluding results with 0 distance traveled: what's the minimum, average, and maximum travel distances?"
   ]
  },
  {
   "cell_type": "code",
   "execution_count": 47,
   "metadata": {
    "ExecuteTime": {
     "end_time": "2019-02-20T22:07:18.464280Z",
     "start_time": "2019-02-20T22:07:18.453284Z"
    }
   },
   "outputs": [
    {
     "data": {
      "text/plain": [
       "count    65863.000000\n",
       "mean     12571.051412\n",
       "std      12751.112685\n",
       "min          8.127000\n",
       "25%       3048.274000\n",
       "50%       8177.352000\n",
       "75%      17811.853000\n",
       "max      46553.182000\n",
       "Name: dist_total, dtype: float64"
      ]
     },
     "execution_count": 47,
     "metadata": {},
     "output_type": "execute_result"
    }
   ],
   "source": [
    "df.dist_total[df.dist_total > 0].describe()"
   ]
  },
  {
   "cell_type": "markdown",
   "metadata": {},
   "source": [
    "#### Intermediate questions\n",
    "\n",
    " 1. Which shark had the most pings?\n",
    " 2. Which shark has been pinging the longest, and how long has that been?\n",
    " 3. Which shark species has the most individual sharks tagged?\n",
    " 4. What is the average length and weight of each shark species?\n",
    " 5. Which shark has the biggest geographic box (largest distance from min lat/lon to max lat/lon, not dist_traveled)?"
   ]
  },
  {
   "cell_type": "markdown",
   "metadata": {},
   "source": [
    "##### Most pings\n",
    "Which shark had the most pings?"
   ]
  },
  {
   "cell_type": "code",
   "execution_count": 19,
   "metadata": {
    "ExecuteTime": {
     "end_time": "2019-02-20T21:43:17.419679Z",
     "start_time": "2019-02-20T21:43:17.165387Z"
    }
   },
   "outputs": [
    {
     "data": {
      "text/html": [
       "<div>\n",
       "<style scoped>\n",
       "    .dataframe tbody tr th:only-of-type {\n",
       "        vertical-align: middle;\n",
       "    }\n",
       "\n",
       "    .dataframe tbody tr th {\n",
       "        vertical-align: top;\n",
       "    }\n",
       "\n",
       "    .dataframe thead th {\n",
       "        text-align: right;\n",
       "    }\n",
       "</style>\n",
       "<table border=\"1\" class=\"dataframe\">\n",
       "  <thead>\n",
       "    <tr style=\"text-align: right;\">\n",
       "      <th></th>\n",
       "      <th>id</th>\n",
       "      <th>ping_count</th>\n",
       "      <th>name</th>\n",
       "      <th>species</th>\n",
       "      <th>first_ping</th>\n",
       "      <th>last_ping</th>\n",
       "    </tr>\n",
       "  </thead>\n",
       "  <tbody>\n",
       "    <tr>\n",
       "      <th>35</th>\n",
       "      <td>41</td>\n",
       "      <td>3240</td>\n",
       "      <td>Mary Lee</td>\n",
       "      <td>White Shark (Carcharodon carcharias)</td>\n",
       "      <td>2012-09-18 18:34:28+09:00</td>\n",
       "      <td>2017-06-17 19:54:32+09:00</td>\n",
       "    </tr>\n",
       "    <tr>\n",
       "      <th>36</th>\n",
       "      <td>56</td>\n",
       "      <td>2946</td>\n",
       "      <td>Lydia</td>\n",
       "      <td>White Shark (Carcharodon carcharias)</td>\n",
       "      <td>2013-03-03 17:03:13+09:00</td>\n",
       "      <td>2017-03-15 11:31:34+09:00</td>\n",
       "    </tr>\n",
       "    <tr>\n",
       "      <th>154</th>\n",
       "      <td>202</td>\n",
       "      <td>2366</td>\n",
       "      <td>Oscar</td>\n",
       "      <td>Mako Shark (Isurus oxyrinchus)</td>\n",
       "      <td>2016-07-09 09:14:38+09:00</td>\n",
       "      <td>2019-01-30 05:32:35+09:00</td>\n",
       "    </tr>\n",
       "    <tr>\n",
       "      <th>40</th>\n",
       "      <td>60</td>\n",
       "      <td>2134</td>\n",
       "      <td>April</td>\n",
       "      <td>Mako Shark (Isurus oxyrinchus)</td>\n",
       "      <td>2013-07-29 02:00:04+09:00</td>\n",
       "      <td>2014-06-17 20:17:03+09:00</td>\n",
       "    </tr>\n",
       "    <tr>\n",
       "      <th>26</th>\n",
       "      <td>32</td>\n",
       "      <td>1851</td>\n",
       "      <td>Lisha</td>\n",
       "      <td>White Shark (Carcharodon carcharias)</td>\n",
       "      <td>2012-05-15 00:43:21+09:00</td>\n",
       "      <td>2014-04-03 21:48:57+09:00</td>\n",
       "    </tr>\n",
       "  </tbody>\n",
       "</table>\n",
       "</div>"
      ],
      "text/plain": [
       "      id  ping_count      name                               species  \\\n",
       "35    41        3240  Mary Lee  White Shark (Carcharodon carcharias)   \n",
       "36    56        2946     Lydia  White Shark (Carcharodon carcharias)   \n",
       "154  202        2366     Oscar        Mako Shark (Isurus oxyrinchus)   \n",
       "40    60        2134     April        Mako Shark (Isurus oxyrinchus)   \n",
       "26    32        1851     Lisha  White Shark (Carcharodon carcharias)   \n",
       "\n",
       "                   first_ping                 last_ping  \n",
       "35  2012-09-18 18:34:28+09:00 2017-06-17 19:54:32+09:00  \n",
       "36  2013-03-03 17:03:13+09:00 2017-03-15 11:31:34+09:00  \n",
       "154 2016-07-09 09:14:38+09:00 2019-01-30 05:32:35+09:00  \n",
       "40  2013-07-29 02:00:04+09:00 2014-06-17 20:17:03+09:00  \n",
       "26  2012-05-15 00:43:21+09:00 2014-04-03 21:48:57+09:00  "
      ]
     },
     "execution_count": 19,
     "metadata": {},
     "output_type": "execute_result"
    }
   ],
   "source": [
    "groups = df.groupby('id')\n",
    "sizes = groups.size()\n",
    "names = groups.name.first()\n",
    "species = groups.species.first()\n",
    "first_ping = groups.datetime.min()\n",
    "last_ping = groups.datetime.max()\n",
    "combined = pd.concat([sizes, names, species, first_ping, last_ping], axis=1).reset_index()\n",
    "combined.columns = ['id', 'ping_count', 'name', 'species', 'first_ping', 'last_ping']\n",
    "combined.sort_values('ping_count', ascending=False).head()"
   ]
  },
  {
   "cell_type": "markdown",
   "metadata": {},
   "source": [
    "##### Longest duration pinger\n",
    "Which shark has been pinging the longest, and how long has that been?"
   ]
  },
  {
   "cell_type": "code",
   "execution_count": 20,
   "metadata": {
    "ExecuteTime": {
     "end_time": "2019-02-20T21:43:17.715964Z",
     "start_time": "2019-02-20T21:43:17.420668Z"
    }
   },
   "outputs": [
    {
     "data": {
      "text/html": [
       "<div>\n",
       "<style scoped>\n",
       "    .dataframe tbody tr th:only-of-type {\n",
       "        vertical-align: middle;\n",
       "    }\n",
       "\n",
       "    .dataframe tbody tr th {\n",
       "        vertical-align: top;\n",
       "    }\n",
       "\n",
       "    .dataframe thead th {\n",
       "        text-align: right;\n",
       "    }\n",
       "</style>\n",
       "<table border=\"1\" class=\"dataframe\">\n",
       "  <thead>\n",
       "    <tr style=\"text-align: right;\">\n",
       "      <th></th>\n",
       "      <th>id</th>\n",
       "      <th>ping_count</th>\n",
       "      <th>name</th>\n",
       "      <th>species</th>\n",
       "      <th>first_ping</th>\n",
       "      <th>last_ping</th>\n",
       "      <th>duration</th>\n",
       "    </tr>\n",
       "  </thead>\n",
       "  <tbody>\n",
       "    <tr>\n",
       "      <th>45</th>\n",
       "      <td>65</td>\n",
       "      <td>1816</td>\n",
       "      <td>Katharine</td>\n",
       "      <td>White Shark (Carcharodon carcharias)</td>\n",
       "      <td>2013-08-21 13:42:26+09:00</td>\n",
       "      <td>2019-01-15 08:49:00+09:00</td>\n",
       "      <td>1972 days 19:06:34</td>\n",
       "    </tr>\n",
       "    <tr>\n",
       "      <th>2</th>\n",
       "      <td>5</td>\n",
       "      <td>204</td>\n",
       "      <td>Helen</td>\n",
       "      <td>White Shark (Carcharodon carcharias)</td>\n",
       "      <td>2012-03-11 00:15:10+09:00</td>\n",
       "      <td>2017-01-05 14:22:39+09:00</td>\n",
       "      <td>1761 days 14:07:29</td>\n",
       "    </tr>\n",
       "    <tr>\n",
       "      <th>35</th>\n",
       "      <td>41</td>\n",
       "      <td>3240</td>\n",
       "      <td>Mary Lee</td>\n",
       "      <td>White Shark (Carcharodon carcharias)</td>\n",
       "      <td>2012-09-18 18:34:28+09:00</td>\n",
       "      <td>2017-06-17 19:54:32+09:00</td>\n",
       "      <td>1733 days 01:20:04</td>\n",
       "    </tr>\n",
       "    <tr>\n",
       "      <th>36</th>\n",
       "      <td>56</td>\n",
       "      <td>2946</td>\n",
       "      <td>Lydia</td>\n",
       "      <td>White Shark (Carcharodon carcharias)</td>\n",
       "      <td>2013-03-03 17:03:13+09:00</td>\n",
       "      <td>2017-03-15 11:31:34+09:00</td>\n",
       "      <td>1472 days 18:28:21</td>\n",
       "    </tr>\n",
       "    <tr>\n",
       "      <th>19</th>\n",
       "      <td>25</td>\n",
       "      <td>1578</td>\n",
       "      <td>Cyndi</td>\n",
       "      <td>White Shark (Carcharodon carcharias)</td>\n",
       "      <td>2012-04-15 00:50:25+09:00</td>\n",
       "      <td>2015-09-22 00:00:43+09:00</td>\n",
       "      <td>1254 days 23:10:18</td>\n",
       "    </tr>\n",
       "  </tbody>\n",
       "</table>\n",
       "</div>"
      ],
      "text/plain": [
       "    id  ping_count       name                               species  \\\n",
       "45  65        1816  Katharine  White Shark (Carcharodon carcharias)   \n",
       "2    5         204     Helen   White Shark (Carcharodon carcharias)   \n",
       "35  41        3240   Mary Lee  White Shark (Carcharodon carcharias)   \n",
       "36  56        2946      Lydia  White Shark (Carcharodon carcharias)   \n",
       "19  25        1578      Cyndi  White Shark (Carcharodon carcharias)   \n",
       "\n",
       "                  first_ping                 last_ping           duration  \n",
       "45 2013-08-21 13:42:26+09:00 2019-01-15 08:49:00+09:00 1972 days 19:06:34  \n",
       "2  2012-03-11 00:15:10+09:00 2017-01-05 14:22:39+09:00 1761 days 14:07:29  \n",
       "35 2012-09-18 18:34:28+09:00 2017-06-17 19:54:32+09:00 1733 days 01:20:04  \n",
       "36 2013-03-03 17:03:13+09:00 2017-03-15 11:31:34+09:00 1472 days 18:28:21  \n",
       "19 2012-04-15 00:50:25+09:00 2015-09-22 00:00:43+09:00 1254 days 23:10:18  "
      ]
     },
     "execution_count": 20,
     "metadata": {},
     "output_type": "execute_result"
    }
   ],
   "source": [
    "combined['duration'] = combined.last_ping - combined.first_ping\n",
    "combined.sort_values('duration', ascending=False).head()"
   ]
  },
  {
   "cell_type": "markdown",
   "metadata": {},
   "source": [
    "##### Individual count by species\n",
    "Which shark species has the most individual sharks tagged?"
   ]
  },
  {
   "cell_type": "code",
   "execution_count": 21,
   "metadata": {
    "ExecuteTime": {
     "end_time": "2019-02-20T21:43:18.034718Z",
     "start_time": "2019-02-20T21:43:17.718952Z"
    }
   },
   "outputs": [
    {
     "data": {
      "text/plain": [
       "species\n",
       "Tiger Shark  (Galeocerdo cuvier)        82\n",
       "White Shark (Carcharodon carcharias)    74\n",
       "Blue Shark (Prionace glauca)            27\n",
       "Mako Shark (Isurus oxyrinchus)          18\n",
       "Hammerhead Shark (Sphyrna)              18\n",
       "Name: id, dtype: int64"
      ]
     },
     "execution_count": 21,
     "metadata": {},
     "output_type": "execute_result"
    }
   ],
   "source": [
    "df.groupby('species').id.nunique().sort_values(ascending=False).head()"
   ]
  },
  {
   "cell_type": "markdown",
   "metadata": {},
   "source": [
    "##### Average length/weight by species\n",
    "What is the average length and weight of each shark species?"
   ]
  },
  {
   "cell_type": "code",
   "execution_count": 70,
   "metadata": {
    "ExecuteTime": {
     "end_time": "2019-02-20T22:21:08.055919Z",
     "start_time": "2019-02-20T22:21:08.033925Z"
    }
   },
   "outputs": [
    {
     "data": {
      "text/html": [
       "<div>\n",
       "<style scoped>\n",
       "    .dataframe tbody tr th:only-of-type {\n",
       "        vertical-align: middle;\n",
       "    }\n",
       "\n",
       "    .dataframe tbody tr th {\n",
       "        vertical-align: top;\n",
       "    }\n",
       "\n",
       "    .dataframe thead th {\n",
       "        text-align: right;\n",
       "    }\n",
       "</style>\n",
       "<table border=\"1\" class=\"dataframe\">\n",
       "  <thead>\n",
       "    <tr style=\"text-align: right;\">\n",
       "      <th></th>\n",
       "      <th>weight</th>\n",
       "      <th>length</th>\n",
       "      <th>shark_count</th>\n",
       "    </tr>\n",
       "    <tr>\n",
       "      <th>species</th>\n",
       "      <th></th>\n",
       "      <th></th>\n",
       "      <th></th>\n",
       "    </tr>\n",
       "  </thead>\n",
       "  <tbody>\n",
       "    <tr>\n",
       "      <th>Tiger Shark  (Galeocerdo cuvier)</th>\n",
       "      <td>468.163203</td>\n",
       "      <td>119.183113</td>\n",
       "      <td>82</td>\n",
       "    </tr>\n",
       "    <tr>\n",
       "      <th>White Shark (Carcharodon carcharias)</th>\n",
       "      <td>1554.997406</td>\n",
       "      <td>147.128146</td>\n",
       "      <td>74</td>\n",
       "    </tr>\n",
       "    <tr>\n",
       "      <th>Blue Shark (Prionace glauca)</th>\n",
       "      <td>243.634091</td>\n",
       "      <td>106.028852</td>\n",
       "      <td>27</td>\n",
       "    </tr>\n",
       "    <tr>\n",
       "      <th>Hammerhead Shark (Sphyrna)</th>\n",
       "      <td>126.554715</td>\n",
       "      <td>93.813373</td>\n",
       "      <td>18</td>\n",
       "    </tr>\n",
       "    <tr>\n",
       "      <th>Mako Shark (Isurus oxyrinchus)</th>\n",
       "      <td>240.818318</td>\n",
       "      <td>82.472855</td>\n",
       "      <td>18</td>\n",
       "    </tr>\n",
       "    <tr>\n",
       "      <th>Blacktip Shark (Carcharhinus limbatus)</th>\n",
       "      <td>138.378910</td>\n",
       "      <td>80.316209</td>\n",
       "      <td>9</td>\n",
       "    </tr>\n",
       "    <tr>\n",
       "      <th>Bull Shark (Carcharhinus leucas)</th>\n",
       "      <td>290.400000</td>\n",
       "      <td>89.781022</td>\n",
       "      <td>4</td>\n",
       "    </tr>\n",
       "    <tr>\n",
       "      <th>Silky Shark (Carcharhinus falciformis)</th>\n",
       "      <td>132.881671</td>\n",
       "      <td>76.965197</td>\n",
       "      <td>4</td>\n",
       "    </tr>\n",
       "    <tr>\n",
       "      <th>Whale Shark (Rhincodon Typus)</th>\n",
       "      <td>25000.000000</td>\n",
       "      <td>327.906977</td>\n",
       "      <td>3</td>\n",
       "    </tr>\n",
       "  </tbody>\n",
       "</table>\n",
       "</div>"
      ],
      "text/plain": [
       "                                              weight      length  shark_count\n",
       "species                                                                      \n",
       "Tiger Shark  (Galeocerdo cuvier)          468.163203  119.183113           82\n",
       "White Shark (Carcharodon carcharias)     1554.997406  147.128146           74\n",
       "Blue Shark (Prionace glauca)              243.634091  106.028852           27\n",
       "Hammerhead Shark (Sphyrna)                126.554715   93.813373           18\n",
       "Mako Shark (Isurus oxyrinchus)            240.818318   82.472855           18\n",
       "Blacktip Shark (Carcharhinus limbatus)    138.378910   80.316209            9\n",
       "Bull Shark (Carcharhinus leucas)          290.400000   89.781022            4\n",
       "Silky Shark (Carcharhinus falciformis)    132.881671   76.965197            4\n",
       "Whale Shark (Rhincodon Typus)           25000.000000  327.906977            3"
      ]
     },
     "execution_count": 70,
     "metadata": {},
     "output_type": "execute_result"
    }
   ],
   "source": [
    "groups = df.groupby('species').agg({'weight' : 'mean', \n",
    "                                    'length' : 'mean', \n",
    "                                    'id' : 'nunique'})\n",
    "groups.rename(columns={'id' : 'shark_count'}).sort_values('shark_count', ascending=False)"
   ]
  },
  {
   "cell_type": "markdown",
   "metadata": {},
   "source": [
    "##### Biggest geographic box\n",
    "Which shark has the biggest geographic box (largest area calculated from min lat/lon to max lat/lon, not dist_traveled)?"
   ]
  },
  {
   "cell_type": "code",
   "execution_count": 23,
   "metadata": {
    "ExecuteTime": {
     "end_time": "2019-02-20T21:43:18.758352Z",
     "start_time": "2019-02-20T21:43:18.289250Z"
    }
   },
   "outputs": [
    {
     "data": {
      "text/html": [
       "<div>\n",
       "<style scoped>\n",
       "    .dataframe tbody tr th:only-of-type {\n",
       "        vertical-align: middle;\n",
       "    }\n",
       "\n",
       "    .dataframe tbody tr th {\n",
       "        vertical-align: top;\n",
       "    }\n",
       "\n",
       "    .dataframe thead th {\n",
       "        text-align: right;\n",
       "    }\n",
       "</style>\n",
       "<table border=\"1\" class=\"dataframe\">\n",
       "  <thead>\n",
       "    <tr style=\"text-align: right;\">\n",
       "      <th></th>\n",
       "      <th>id</th>\n",
       "      <th>min_lat</th>\n",
       "      <th>min_lon</th>\n",
       "      <th>max_lat</th>\n",
       "      <th>max_lon</th>\n",
       "      <th>name</th>\n",
       "      <th>species</th>\n",
       "    </tr>\n",
       "  </thead>\n",
       "  <tbody>\n",
       "    <tr>\n",
       "      <th>0</th>\n",
       "      <td>3</td>\n",
       "      <td>-34.88268</td>\n",
       "      <td>19.374590</td>\n",
       "      <td>-34.05394</td>\n",
       "      <td>22.64236</td>\n",
       "      <td>Oprah</td>\n",
       "      <td>White Shark (Carcharodon carcharias)</td>\n",
       "    </tr>\n",
       "    <tr>\n",
       "      <th>1</th>\n",
       "      <td>4</td>\n",
       "      <td>-36.70300</td>\n",
       "      <td>20.535038</td>\n",
       "      <td>-34.06300</td>\n",
       "      <td>22.74626</td>\n",
       "      <td>Albertina</td>\n",
       "      <td>White Shark (Carcharodon carcharias)</td>\n",
       "    </tr>\n",
       "    <tr>\n",
       "      <th>2</th>\n",
       "      <td>5</td>\n",
       "      <td>-37.23623</td>\n",
       "      <td>18.536350</td>\n",
       "      <td>-19.50057</td>\n",
       "      <td>37.84922</td>\n",
       "      <td>Helen</td>\n",
       "      <td>White Shark (Carcharodon carcharias)</td>\n",
       "    </tr>\n",
       "    <tr>\n",
       "      <th>3</th>\n",
       "      <td>6</td>\n",
       "      <td>-34.98600</td>\n",
       "      <td>19.061580</td>\n",
       "      <td>-24.77363</td>\n",
       "      <td>34.84301</td>\n",
       "      <td>Brenda</td>\n",
       "      <td>White Shark (Carcharodon carcharias)</td>\n",
       "    </tr>\n",
       "    <tr>\n",
       "      <th>4</th>\n",
       "      <td>7</td>\n",
       "      <td>-35.46100</td>\n",
       "      <td>17.916810</td>\n",
       "      <td>-32.74300</td>\n",
       "      <td>27.97646</td>\n",
       "      <td>Madiba</td>\n",
       "      <td>White Shark (Carcharodon carcharias)</td>\n",
       "    </tr>\n",
       "  </tbody>\n",
       "</table>\n",
       "</div>"
      ],
      "text/plain": [
       "   id   min_lat    min_lon   max_lat   max_lon        name  \\\n",
       "0   3 -34.88268  19.374590 -34.05394  22.64236       Oprah   \n",
       "1   4 -36.70300  20.535038 -34.06300  22.74626  Albertina    \n",
       "2   5 -37.23623  18.536350 -19.50057  37.84922      Helen    \n",
       "3   6 -34.98600  19.061580 -24.77363  34.84301     Brenda    \n",
       "4   7 -35.46100  17.916810 -32.74300  27.97646      Madiba   \n",
       "\n",
       "                                species  \n",
       "0  White Shark (Carcharodon carcharias)  \n",
       "1  White Shark (Carcharodon carcharias)  \n",
       "2  White Shark (Carcharodon carcharias)  \n",
       "3  White Shark (Carcharodon carcharias)  \n",
       "4  White Shark (Carcharodon carcharias)  "
      ]
     },
     "execution_count": 23,
     "metadata": {},
     "output_type": "execute_result"
    }
   ],
   "source": [
    "groups = df.groupby('id')\n",
    "combined = pd.concat([groups.latitude.min(), \n",
    "                      groups.longitude.min(), \n",
    "                      groups.latitude.max(), \n",
    "                      groups.longitude.max(), \n",
    "                      groups.name.first(), \n",
    "                      groups.species.first()], axis=1).reset_index()\n",
    "combined.columns = ['id', 'min_lat', 'min_lon', 'max_lat', 'max_lon', 'name', 'species']\n",
    "combined.head()"
   ]
  },
  {
   "cell_type": "code",
   "execution_count": 24,
   "metadata": {
    "ExecuteTime": {
     "end_time": "2019-02-20T21:43:18.927844Z",
     "start_time": "2019-02-20T21:43:18.759351Z"
    }
   },
   "outputs": [
    {
     "data": {
      "text/html": [
       "<div>\n",
       "<style scoped>\n",
       "    .dataframe tbody tr th:only-of-type {\n",
       "        vertical-align: middle;\n",
       "    }\n",
       "\n",
       "    .dataframe tbody tr th {\n",
       "        vertical-align: top;\n",
       "    }\n",
       "\n",
       "    .dataframe thead th {\n",
       "        text-align: right;\n",
       "    }\n",
       "</style>\n",
       "<table border=\"1\" class=\"dataframe\">\n",
       "  <thead>\n",
       "    <tr style=\"text-align: right;\">\n",
       "      <th></th>\n",
       "      <th>id</th>\n",
       "      <th>min_lat</th>\n",
       "      <th>min_lon</th>\n",
       "      <th>max_lat</th>\n",
       "      <th>max_lon</th>\n",
       "      <th>name</th>\n",
       "      <th>species</th>\n",
       "      <th>lat_diff</th>\n",
       "      <th>lon_diff</th>\n",
       "      <th>area</th>\n",
       "    </tr>\n",
       "  </thead>\n",
       "  <tbody>\n",
       "    <tr>\n",
       "      <th>29</th>\n",
       "      <td>35</td>\n",
       "      <td>-41.37174</td>\n",
       "      <td>18.51500</td>\n",
       "      <td>-6.15888</td>\n",
       "      <td>71.09830</td>\n",
       "      <td>Kathryn</td>\n",
       "      <td>White Shark (Carcharodon carcharias)</td>\n",
       "      <td>35.21286</td>\n",
       "      <td>52.58330</td>\n",
       "      <td>1851.608381</td>\n",
       "    </tr>\n",
       "    <tr>\n",
       "      <th>36</th>\n",
       "      <td>56</td>\n",
       "      <td>23.53902</td>\n",
       "      <td>-81.38180</td>\n",
       "      <td>53.65843</td>\n",
       "      <td>-27.48272</td>\n",
       "      <td>Lydia</td>\n",
       "      <td>White Shark (Carcharodon carcharias)</td>\n",
       "      <td>30.11941</td>\n",
       "      <td>53.89908</td>\n",
       "      <td>1623.408489</td>\n",
       "    </tr>\n",
       "    <tr>\n",
       "      <th>24</th>\n",
       "      <td>30</td>\n",
       "      <td>-43.21756</td>\n",
       "      <td>8.06196</td>\n",
       "      <td>-19.11709</td>\n",
       "      <td>66.72966</td>\n",
       "      <td>Vindication</td>\n",
       "      <td>White Shark (Carcharodon carcharias)</td>\n",
       "      <td>24.10047</td>\n",
       "      <td>58.66770</td>\n",
       "      <td>1413.919144</td>\n",
       "    </tr>\n",
       "    <tr>\n",
       "      <th>19</th>\n",
       "      <td>25</td>\n",
       "      <td>-45.61157</td>\n",
       "      <td>18.23305</td>\n",
       "      <td>-14.95129</td>\n",
       "      <td>61.87323</td>\n",
       "      <td>Cyndi</td>\n",
       "      <td>White Shark (Carcharodon carcharias)</td>\n",
       "      <td>30.66028</td>\n",
       "      <td>43.64018</td>\n",
       "      <td>1338.020138</td>\n",
       "    </tr>\n",
       "    <tr>\n",
       "      <th>30</th>\n",
       "      <td>36</td>\n",
       "      <td>-38.82461</td>\n",
       "      <td>17.47565</td>\n",
       "      <td>-10.52038</td>\n",
       "      <td>62.65514</td>\n",
       "      <td>Success</td>\n",
       "      <td>White Shark (Carcharodon carcharias)</td>\n",
       "      <td>28.30423</td>\n",
       "      <td>45.17949</td>\n",
       "      <td>1278.770676</td>\n",
       "    </tr>\n",
       "  </tbody>\n",
       "</table>\n",
       "</div>"
      ],
      "text/plain": [
       "    id   min_lat   min_lon   max_lat   max_lon         name  \\\n",
       "29  35 -41.37174  18.51500  -6.15888  71.09830      Kathryn   \n",
       "36  56  23.53902 -81.38180  53.65843 -27.48272        Lydia   \n",
       "24  30 -43.21756   8.06196 -19.11709  66.72966  Vindication   \n",
       "19  25 -45.61157  18.23305 -14.95129  61.87323        Cyndi   \n",
       "30  36 -38.82461  17.47565 -10.52038  62.65514      Success   \n",
       "\n",
       "                                 species  lat_diff  lon_diff         area  \n",
       "29  White Shark (Carcharodon carcharias)  35.21286  52.58330  1851.608381  \n",
       "36  White Shark (Carcharodon carcharias)  30.11941  53.89908  1623.408489  \n",
       "24  White Shark (Carcharodon carcharias)  24.10047  58.66770  1413.919144  \n",
       "19  White Shark (Carcharodon carcharias)  30.66028  43.64018  1338.020138  \n",
       "30  White Shark (Carcharodon carcharias)  28.30423  45.17949  1278.770676  "
      ]
     },
     "execution_count": 24,
     "metadata": {},
     "output_type": "execute_result"
    }
   ],
   "source": [
    "combined['lat_diff'] = combined.max_lat - combined.min_lat\n",
    "combined['lon_diff'] = combined.max_lon - combined.min_lon\n",
    "combined['area'] = combined['lat_diff'] * combined['lon_diff']\n",
    "combined.sort_values('area', ascending=False).head()"
   ]
  },
  {
   "cell_type": "markdown",
   "metadata": {},
   "source": [
    "#### Hard answers\n",
    "\n"
   ]
  },
  {
   "cell_type": "markdown",
   "metadata": {},
   "source": [
    "##### Plot Emma on folium\n",
    "Plot the ping locations for the shark named Emma as a `PolyLine` in folium.  Include the first and last ping location as markers."
   ]
  },
  {
   "cell_type": "code",
   "execution_count": 129,
   "metadata": {
    "ExecuteTime": {
     "end_time": "2019-02-21T00:10:48.569582Z",
     "start_time": "2019-02-21T00:10:48.550573Z"
    }
   },
   "outputs": [
    {
     "data": {
      "text/html": [
       "<div>\n",
       "<style scoped>\n",
       "    .dataframe tbody tr th:only-of-type {\n",
       "        vertical-align: middle;\n",
       "    }\n",
       "\n",
       "    .dataframe tbody tr th {\n",
       "        vertical-align: top;\n",
       "    }\n",
       "\n",
       "    .dataframe thead th {\n",
       "        text-align: right;\n",
       "    }\n",
       "</style>\n",
       "<table border=\"1\" class=\"dataframe\">\n",
       "  <thead>\n",
       "    <tr style=\"text-align: right;\">\n",
       "      <th></th>\n",
       "      <th>datetime</th>\n",
       "      <th>active</th>\n",
       "      <th>id</th>\n",
       "      <th>latitude</th>\n",
       "      <th>longitude</th>\n",
       "      <th>name</th>\n",
       "      <th>gender</th>\n",
       "      <th>species</th>\n",
       "      <th>weight</th>\n",
       "      <th>length</th>\n",
       "      <th>tagDate</th>\n",
       "      <th>dist_total</th>\n",
       "    </tr>\n",
       "  </thead>\n",
       "  <tbody>\n",
       "    <tr>\n",
       "      <th>34075</th>\n",
       "      <td>2014-02-01 07:10:18+09:00</td>\n",
       "      <td>1</td>\n",
       "      <td>102</td>\n",
       "      <td>-0.466747</td>\n",
       "      <td>-90.300050</td>\n",
       "      <td>Emma</td>\n",
       "      <td>Female</td>\n",
       "      <td>Tiger Shark  (Galeocerdo cuvier)</td>\n",
       "      <td>NaN</td>\n",
       "      <td>99.0</td>\n",
       "      <td>20 January 2014</td>\n",
       "      <td>4368.906</td>\n",
       "    </tr>\n",
       "    <tr>\n",
       "      <th>34074</th>\n",
       "      <td>2014-02-01 07:51:31+09:00</td>\n",
       "      <td>1</td>\n",
       "      <td>102</td>\n",
       "      <td>-0.411010</td>\n",
       "      <td>-90.327830</td>\n",
       "      <td>Emma</td>\n",
       "      <td>Female</td>\n",
       "      <td>Tiger Shark  (Galeocerdo cuvier)</td>\n",
       "      <td>NaN</td>\n",
       "      <td>99.0</td>\n",
       "      <td>20 January 2014</td>\n",
       "      <td>4368.906</td>\n",
       "    </tr>\n",
       "    <tr>\n",
       "      <th>34073</th>\n",
       "      <td>2014-02-01 08:49:34+09:00</td>\n",
       "      <td>1</td>\n",
       "      <td>102</td>\n",
       "      <td>-0.478080</td>\n",
       "      <td>-90.368890</td>\n",
       "      <td>Emma</td>\n",
       "      <td>Female</td>\n",
       "      <td>Tiger Shark  (Galeocerdo cuvier)</td>\n",
       "      <td>NaN</td>\n",
       "      <td>99.0</td>\n",
       "      <td>20 January 2014</td>\n",
       "      <td>4368.906</td>\n",
       "    </tr>\n",
       "    <tr>\n",
       "      <th>34072</th>\n",
       "      <td>2014-02-01 09:25:07+09:00</td>\n",
       "      <td>1</td>\n",
       "      <td>102</td>\n",
       "      <td>-0.240960</td>\n",
       "      <td>-89.920682</td>\n",
       "      <td>Emma</td>\n",
       "      <td>Female</td>\n",
       "      <td>Tiger Shark  (Galeocerdo cuvier)</td>\n",
       "      <td>NaN</td>\n",
       "      <td>99.0</td>\n",
       "      <td>20 January 2014</td>\n",
       "      <td>4368.906</td>\n",
       "    </tr>\n",
       "    <tr>\n",
       "      <th>34071</th>\n",
       "      <td>2014-02-01 17:31:34+09:00</td>\n",
       "      <td>1</td>\n",
       "      <td>102</td>\n",
       "      <td>-0.429350</td>\n",
       "      <td>-89.649420</td>\n",
       "      <td>Emma</td>\n",
       "      <td>Female</td>\n",
       "      <td>Tiger Shark  (Galeocerdo cuvier)</td>\n",
       "      <td>NaN</td>\n",
       "      <td>99.0</td>\n",
       "      <td>20 January 2014</td>\n",
       "      <td>4368.906</td>\n",
       "    </tr>\n",
       "  </tbody>\n",
       "</table>\n",
       "</div>"
      ],
      "text/plain": [
       "                       datetime active   id  latitude  longitude  name  \\\n",
       "34075 2014-02-01 07:10:18+09:00      1  102 -0.466747 -90.300050  Emma   \n",
       "34074 2014-02-01 07:51:31+09:00      1  102 -0.411010 -90.327830  Emma   \n",
       "34073 2014-02-01 08:49:34+09:00      1  102 -0.478080 -90.368890  Emma   \n",
       "34072 2014-02-01 09:25:07+09:00      1  102 -0.240960 -89.920682  Emma   \n",
       "34071 2014-02-01 17:31:34+09:00      1  102 -0.429350 -89.649420  Emma   \n",
       "\n",
       "       gender                           species  weight  length  \\\n",
       "34075  Female  Tiger Shark  (Galeocerdo cuvier)     NaN    99.0   \n",
       "34074  Female  Tiger Shark  (Galeocerdo cuvier)     NaN    99.0   \n",
       "34073  Female  Tiger Shark  (Galeocerdo cuvier)     NaN    99.0   \n",
       "34072  Female  Tiger Shark  (Galeocerdo cuvier)     NaN    99.0   \n",
       "34071  Female  Tiger Shark  (Galeocerdo cuvier)     NaN    99.0   \n",
       "\n",
       "               tagDate  dist_total  \n",
       "34075  20 January 2014    4368.906  \n",
       "34074  20 January 2014    4368.906  \n",
       "34073  20 January 2014    4368.906  \n",
       "34072  20 January 2014    4368.906  \n",
       "34071  20 January 2014    4368.906  "
      ]
     },
     "execution_count": 129,
     "metadata": {},
     "output_type": "execute_result"
    }
   ],
   "source": [
    "emma = df.query(\"name == 'Emma'\").sort_values('datetime')\n",
    "emma.head()"
   ]
  },
  {
   "cell_type": "code",
   "execution_count": 136,
   "metadata": {
    "ExecuteTime": {
     "end_time": "2019-02-21T00:50:10.392280Z",
     "start_time": "2019-02-21T00:50:10.388272Z"
    }
   },
   "outputs": [
    {
     "data": {
      "text/plain": [
       "[(-0.4667466227579547, -90.30004977783199),\n",
       " (-0.41101000000000004, -90.32783),\n",
       " (-0.47808, -90.36889000000001),\n",
       " (-0.24095957143994035, -89.92068179687499),\n",
       " (-0.42935, -89.64941999999999)]"
      ]
     },
     "execution_count": 136,
     "metadata": {},
     "output_type": "execute_result"
    }
   ],
   "source": [
    "latlons = list(zip(emma.latitude.values, emma.longitude.values))\n",
    "latlons[:5]"
   ]
  },
  {
   "cell_type": "code",
   "execution_count": 139,
   "metadata": {
    "ExecuteTime": {
     "end_time": "2019-02-21T00:55:12.758704Z",
     "start_time": "2019-02-21T00:55:12.740707Z"
    }
   },
   "outputs": [
    {
     "data": {
      "text/html": [
       "<div style=\"width:100%;\"><div style=\"position:relative;width:100%;height:0;padding-bottom:60%;\"><iframe src=\"data:text/html;charset=utf-8;base64,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\" style=\"position:absolute;width:100%;height:100%;left:0;top:0;border:none !important;\" allowfullscreen webkitallowfullscreen mozallowfullscreen></iframe></div></div>"
      ],
      "text/plain": [
       "<folium.folium.Map at 0x20d2abf6550>"
      ]
     },
     "execution_count": 139,
     "metadata": {},
     "output_type": "execute_result"
    }
   ],
   "source": [
    "import folium\n",
    "\n",
    "avglat = emma.latitude.mean()\n",
    "avglon = emma.longitude.mean()\n",
    "\n",
    "m = folium.Map(location=(avglat, avglon), zoom_start=5)\n",
    "\n",
    "folium.Marker(latlons[0], popup=\"First ping\").add_to(m)\n",
    "folium.Marker(latlons[-1], popup=\"Last ping\").add_to(m)\n",
    "\n",
    "folium.PolyLine(latlons).add_to(m)\n",
    "    \n",
    "m"
   ]
  },
  {
   "cell_type": "markdown",
   "metadata": {},
   "source": [
    "##### Resample pings by day\n",
    "Resample the Emma locations on a per-day basis and interpolate missing locations.  Then, plot the daily markes in folium along with a `PolyLine`."
   ]
  },
  {
   "cell_type": "code",
   "execution_count": 145,
   "metadata": {
    "ExecuteTime": {
     "end_time": "2019-02-21T00:57:43.222709Z",
     "start_time": "2019-02-21T00:57:43.217703Z"
    }
   },
   "outputs": [
    {
     "data": {
      "text/plain": [
       "DatetimeIndexResampler [freq=<Day>, axis=0, closed=left, label=left, convention=start, base=0]"
      ]
     },
     "execution_count": 145,
     "metadata": {},
     "output_type": "execute_result"
    }
   ],
   "source": [
    "resampled = emma.set_index('datetime').resample('1D')\n",
    "resampled"
   ]
  },
  {
   "cell_type": "code",
   "execution_count": 153,
   "metadata": {
    "ExecuteTime": {
     "end_time": "2019-02-21T00:59:21.220801Z",
     "start_time": "2019-02-21T00:59:21.210793Z"
    }
   },
   "outputs": [
    {
     "data": {
      "text/html": [
       "<div>\n",
       "<style scoped>\n",
       "    .dataframe tbody tr th:only-of-type {\n",
       "        vertical-align: middle;\n",
       "    }\n",
       "\n",
       "    .dataframe tbody tr th {\n",
       "        vertical-align: top;\n",
       "    }\n",
       "\n",
       "    .dataframe thead th {\n",
       "        text-align: right;\n",
       "    }\n",
       "</style>\n",
       "<table border=\"1\" class=\"dataframe\">\n",
       "  <thead>\n",
       "    <tr style=\"text-align: right;\">\n",
       "      <th></th>\n",
       "      <th>latitude</th>\n",
       "      <th>longitude</th>\n",
       "    </tr>\n",
       "    <tr>\n",
       "      <th>datetime</th>\n",
       "      <th></th>\n",
       "      <th></th>\n",
       "    </tr>\n",
       "  </thead>\n",
       "  <tbody>\n",
       "    <tr>\n",
       "      <th>2014-08-20 00:00:00+09:00</th>\n",
       "      <td>NaN</td>\n",
       "      <td>NaN</td>\n",
       "    </tr>\n",
       "    <tr>\n",
       "      <th>2014-08-21 00:00:00+09:00</th>\n",
       "      <td>-0.200443</td>\n",
       "      <td>-80.537042</td>\n",
       "    </tr>\n",
       "    <tr>\n",
       "      <th>2014-08-22 00:00:00+09:00</th>\n",
       "      <td>NaN</td>\n",
       "      <td>NaN</td>\n",
       "    </tr>\n",
       "    <tr>\n",
       "      <th>2014-08-23 00:00:00+09:00</th>\n",
       "      <td>NaN</td>\n",
       "      <td>NaN</td>\n",
       "    </tr>\n",
       "    <tr>\n",
       "      <th>2014-08-24 00:00:00+09:00</th>\n",
       "      <td>-0.331778</td>\n",
       "      <td>-80.571889</td>\n",
       "    </tr>\n",
       "    <tr>\n",
       "      <th>2014-08-25 00:00:00+09:00</th>\n",
       "      <td>0.183860</td>\n",
       "      <td>-80.499630</td>\n",
       "    </tr>\n",
       "    <tr>\n",
       "      <th>2014-08-26 00:00:00+09:00</th>\n",
       "      <td>0.273320</td>\n",
       "      <td>-80.906300</td>\n",
       "    </tr>\n",
       "    <tr>\n",
       "      <th>2014-08-27 00:00:00+09:00</th>\n",
       "      <td>1.358860</td>\n",
       "      <td>-81.553160</td>\n",
       "    </tr>\n",
       "    <tr>\n",
       "      <th>2014-08-28 00:00:00+09:00</th>\n",
       "      <td>NaN</td>\n",
       "      <td>NaN</td>\n",
       "    </tr>\n",
       "    <tr>\n",
       "      <th>2014-08-29 00:00:00+09:00</th>\n",
       "      <td>2.105030</td>\n",
       "      <td>-80.810860</td>\n",
       "    </tr>\n",
       "  </tbody>\n",
       "</table>\n",
       "</div>"
      ],
      "text/plain": [
       "                           latitude  longitude\n",
       "datetime                                      \n",
       "2014-08-20 00:00:00+09:00       NaN        NaN\n",
       "2014-08-21 00:00:00+09:00 -0.200443 -80.537042\n",
       "2014-08-22 00:00:00+09:00       NaN        NaN\n",
       "2014-08-23 00:00:00+09:00       NaN        NaN\n",
       "2014-08-24 00:00:00+09:00 -0.331778 -80.571889\n",
       "2014-08-25 00:00:00+09:00  0.183860 -80.499630\n",
       "2014-08-26 00:00:00+09:00  0.273320 -80.906300\n",
       "2014-08-27 00:00:00+09:00  1.358860 -81.553160\n",
       "2014-08-28 00:00:00+09:00       NaN        NaN\n",
       "2014-08-29 00:00:00+09:00  2.105030 -80.810860"
      ]
     },
     "execution_count": 153,
     "metadata": {},
     "output_type": "execute_result"
    }
   ],
   "source": [
    "averages = resampled[['latitude', 'longitude']].mean()\n",
    "averages.tail(10)"
   ]
  },
  {
   "cell_type": "code",
   "execution_count": 154,
   "metadata": {
    "ExecuteTime": {
     "end_time": "2019-02-21T00:59:21.677083Z",
     "start_time": "2019-02-21T00:59:21.667086Z"
    }
   },
   "outputs": [
    {
     "data": {
      "text/html": [
       "<div>\n",
       "<style scoped>\n",
       "    .dataframe tbody tr th:only-of-type {\n",
       "        vertical-align: middle;\n",
       "    }\n",
       "\n",
       "    .dataframe tbody tr th {\n",
       "        vertical-align: top;\n",
       "    }\n",
       "\n",
       "    .dataframe thead th {\n",
       "        text-align: right;\n",
       "    }\n",
       "</style>\n",
       "<table border=\"1\" class=\"dataframe\">\n",
       "  <thead>\n",
       "    <tr style=\"text-align: right;\">\n",
       "      <th></th>\n",
       "      <th>latitude</th>\n",
       "      <th>longitude</th>\n",
       "    </tr>\n",
       "    <tr>\n",
       "      <th>datetime</th>\n",
       "      <th></th>\n",
       "      <th></th>\n",
       "    </tr>\n",
       "  </thead>\n",
       "  <tbody>\n",
       "    <tr>\n",
       "      <th>2014-08-20 00:00:00+09:00</th>\n",
       "      <td>0.110734</td>\n",
       "      <td>-80.304884</td>\n",
       "    </tr>\n",
       "    <tr>\n",
       "      <th>2014-08-21 00:00:00+09:00</th>\n",
       "      <td>-0.200443</td>\n",
       "      <td>-80.537042</td>\n",
       "    </tr>\n",
       "    <tr>\n",
       "      <th>2014-08-22 00:00:00+09:00</th>\n",
       "      <td>-0.244221</td>\n",
       "      <td>-80.548658</td>\n",
       "    </tr>\n",
       "    <tr>\n",
       "      <th>2014-08-23 00:00:00+09:00</th>\n",
       "      <td>-0.288000</td>\n",
       "      <td>-80.560273</td>\n",
       "    </tr>\n",
       "    <tr>\n",
       "      <th>2014-08-24 00:00:00+09:00</th>\n",
       "      <td>-0.331778</td>\n",
       "      <td>-80.571889</td>\n",
       "    </tr>\n",
       "    <tr>\n",
       "      <th>2014-08-25 00:00:00+09:00</th>\n",
       "      <td>0.183860</td>\n",
       "      <td>-80.499630</td>\n",
       "    </tr>\n",
       "    <tr>\n",
       "      <th>2014-08-26 00:00:00+09:00</th>\n",
       "      <td>0.273320</td>\n",
       "      <td>-80.906300</td>\n",
       "    </tr>\n",
       "    <tr>\n",
       "      <th>2014-08-27 00:00:00+09:00</th>\n",
       "      <td>1.358860</td>\n",
       "      <td>-81.553160</td>\n",
       "    </tr>\n",
       "    <tr>\n",
       "      <th>2014-08-28 00:00:00+09:00</th>\n",
       "      <td>1.731945</td>\n",
       "      <td>-81.182010</td>\n",
       "    </tr>\n",
       "    <tr>\n",
       "      <th>2014-08-29 00:00:00+09:00</th>\n",
       "      <td>2.105030</td>\n",
       "      <td>-80.810860</td>\n",
       "    </tr>\n",
       "  </tbody>\n",
       "</table>\n",
       "</div>"
      ],
      "text/plain": [
       "                           latitude  longitude\n",
       "datetime                                      \n",
       "2014-08-20 00:00:00+09:00  0.110734 -80.304884\n",
       "2014-08-21 00:00:00+09:00 -0.200443 -80.537042\n",
       "2014-08-22 00:00:00+09:00 -0.244221 -80.548658\n",
       "2014-08-23 00:00:00+09:00 -0.288000 -80.560273\n",
       "2014-08-24 00:00:00+09:00 -0.331778 -80.571889\n",
       "2014-08-25 00:00:00+09:00  0.183860 -80.499630\n",
       "2014-08-26 00:00:00+09:00  0.273320 -80.906300\n",
       "2014-08-27 00:00:00+09:00  1.358860 -81.553160\n",
       "2014-08-28 00:00:00+09:00  1.731945 -81.182010\n",
       "2014-08-29 00:00:00+09:00  2.105030 -80.810860"
      ]
     },
     "execution_count": 154,
     "metadata": {},
     "output_type": "execute_result"
    }
   ],
   "source": [
    "averages.fillna(averages.interpolate(), inplace=True)\n",
    "averages.tail(10)"
   ]
  },
  {
   "cell_type": "code",
   "execution_count": 155,
   "metadata": {
    "ExecuteTime": {
     "end_time": "2019-02-21T01:01:18.046136Z",
     "start_time": "2019-02-21T01:01:18.042136Z"
    }
   },
   "outputs": [
    {
     "data": {
      "text/plain": [
       "[(-0.42216068824421055, -90.121435730523),\n",
       " (-0.4876914252146526, -90.29437802124022),\n",
       " (-0.4548028346632858, -90.3243004268392),\n",
       " (-0.4391161607804883, -90.28637246972656),\n",
       " (-0.4616266666666667, -90.336575)]"
      ]
     },
     "execution_count": 155,
     "metadata": {},
     "output_type": "execute_result"
    }
   ],
   "source": [
    "latlons = list(zip(averages.latitude.values, averages.longitude.values))\n",
    "latlons[:5]"
   ]
  },
  {
   "cell_type": "code",
   "execution_count": 157,
   "metadata": {
    "ExecuteTime": {
     "end_time": "2019-02-21T01:02:53.403357Z",
     "start_time": "2019-02-21T01:02:53.306398Z"
    },
    "scrolled": true
   },
   "outputs": [
    {
     "data": {
      "text/html": [
       "<div style=\"width:100%;\"><div style=\"position:relative;width:100%;height:0;padding-bottom:60%;\"><iframe src=\"data:text/html;charset=utf-8;base64,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\" style=\"position:absolute;width:100%;height:100%;left:0;top:0;border:none !important;\" allowfullscreen webkitallowfullscreen mozallowfullscreen></iframe></div></div>"
      ],
      "text/plain": [
       "<folium.folium.Map at 0x20d2d01cc50>"
      ]
     },
     "execution_count": 157,
     "metadata": {},
     "output_type": "execute_result"
    }
   ],
   "source": [
    "import folium\n",
    "\n",
    "avglat = averages.latitude.mean()\n",
    "avglon = averages.longitude.mean()\n",
    "\n",
    "m = folium.Map(location=(avglat, avglon), zoom_start=5)\n",
    "\n",
    "for loc in latlons:\n",
    "    folium.Marker(loc).add_to(m)\n",
    "\n",
    "folium.PolyLine(latlons).add_to(m)\n",
    "    \n",
    "m"
   ]
  },
  {
   "cell_type": "code",
   "execution_count": null,
   "metadata": {},
   "outputs": [],
   "source": []
  }
 ],
 "metadata": {
  "kernelspec": {
   "display_name": "Python3.6",
   "language": "python",
   "name": "py36"
  },
  "language_info": {
   "codemirror_mode": {
    "name": "ipython",
    "version": 3
   },
   "file_extension": ".py",
   "mimetype": "text/x-python",
   "name": "python",
   "nbconvert_exporter": "python",
   "pygments_lexer": "ipython3",
   "version": "3.7.2"
  },
  "toc": {
   "base_numbering": 1,
   "nav_menu": {},
   "number_sections": true,
   "sideBar": true,
   "skip_h1_title": false,
   "title_cell": "Table of Contents",
   "title_sidebar": "Contents",
   "toc_cell": false,
   "toc_position": {
    "height": "calc(100% - 180px)",
    "left": "10px",
    "top": "150px",
    "width": "256px"
   },
   "toc_section_display": true,
   "toc_window_display": true
  }
 },
 "nbformat": 4,
 "nbformat_minor": 2
}
