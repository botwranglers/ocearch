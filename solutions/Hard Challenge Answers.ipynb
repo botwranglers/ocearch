{
 "cells": [
  {
   "cell_type": "markdown",
   "metadata": {},
   "source": [
    "### Challenge questions\n",
    "\n",
    "Easy questions:\n",
    "\n",
    " 1. How many total pings are in the Ocearch shark data?\n",
    " 2. How many unique species of sharks are in the data set?\n",
    " 3. What is the name, weight, and species of the heaviest shark(s)?\n",
    " 4. When and where was the very first ping?\n",
    " 5. Excluding results with 0 distance traveled: what's the minimum, average, and maximum travel distances?\n",
    " \n",
    "Intermediate questions:\n",
    "\n",
    " 1. Which shark had the most pings?\n",
    " 2. Which shark has been pinging the longest, and how long has that been?\n",
    " 3. Which shark species has the most individual sharks tagged?\n",
    " 4. What is the average length and weight of each shark species?\n",
    " 5. Which shark has the biggest geographic box (largest distance from min lat/lon to max lat/lon, not dist_traveled)?\n",
    " \n",
    "Hard questions:\n"
   ]
  },
  {
   "cell_type": "markdown",
   "metadata": {},
   "source": [
    "### Load data"
   ]
  },
  {
   "cell_type": "markdown",
   "metadata": {},
   "source": [
    "#### Query Ocearch API"
   ]
  },
  {
   "cell_type": "code",
   "execution_count": null,
   "metadata": {
    "ExecuteTime": {
     "end_time": "2019-02-22T22:52:00.951167Z",
     "start_time": "2019-02-22T22:51:43.418101Z"
    }
   },
   "outputs": [],
   "source": [
    "import requests\n",
    "url = 'http://www.ocearch.org/tracker/ajax/filter-sharks'\n",
    "\n",
    "resp = requests.get(url)\n",
    "resp"
   ]
  },
  {
   "cell_type": "markdown",
   "metadata": {},
   "source": [
    "##### Turn json into dataframe"
   ]
  },
  {
   "cell_type": "code",
   "execution_count": null,
   "metadata": {
    "ExecuteTime": {
     "end_time": "2019-02-22T22:52:05.488980Z",
     "start_time": "2019-02-22T22:52:00.953167Z"
    }
   },
   "outputs": [],
   "source": [
    "import pandas as pd\n",
    "df = pd.DataFrame(resp.json())\n",
    "columns = ['id', 'name', 'gender', 'species', 'weight', 'length', 'tagDate', 'dist_total']\n",
    "df[columns].head()"
   ]
  },
  {
   "cell_type": "code",
   "execution_count": null,
   "metadata": {
    "ExecuteTime": {
     "end_time": "2019-02-22T22:52:05.493990Z",
     "start_time": "2019-02-22T22:52:05.489991Z"
    }
   },
   "outputs": [],
   "source": [
    "df.shape"
   ]
  },
  {
   "cell_type": "markdown",
   "metadata": {},
   "source": [
    "##### Filter out non-shark data"
   ]
  },
  {
   "cell_type": "code",
   "execution_count": null,
   "metadata": {
    "ExecuteTime": {
     "end_time": "2019-02-22T22:52:05.629979Z",
     "start_time": "2019-02-22T22:52:05.495978Z"
    }
   },
   "outputs": [],
   "source": [
    "df.species.value_counts()"
   ]
  },
  {
   "cell_type": "code",
   "execution_count": null,
   "metadata": {
    "ExecuteTime": {
     "end_time": "2019-02-22T22:52:05.752145Z",
     "start_time": "2019-02-22T22:52:05.631978Z"
    }
   },
   "outputs": [],
   "source": [
    "df = df[df.species.fillna('').str.contains('shark', case=False)]\n",
    "df.shape"
   ]
  },
  {
   "cell_type": "markdown",
   "metadata": {},
   "source": [
    "##### Extract ping data"
   ]
  },
  {
   "cell_type": "code",
   "execution_count": null,
   "metadata": {
    "ExecuteTime": {
     "end_time": "2019-02-22T22:52:06.170291Z",
     "start_time": "2019-02-22T22:52:05.755131Z"
    }
   },
   "outputs": [],
   "source": [
    "ping_frames = []\n",
    "for row in df.itertuples():\n",
    "    ping_frame = pd.DataFrame(row.pings)\n",
    "    ping_frame['id'] = row.id\n",
    "    ping_frames.append(ping_frame)\n",
    "    \n",
    "len(ping_frames)"
   ]
  },
  {
   "cell_type": "markdown",
   "metadata": {},
   "source": [
    "##### Merge shark/ping data"
   ]
  },
  {
   "cell_type": "code",
   "execution_count": null,
   "metadata": {
    "ExecuteTime": {
     "end_time": "2019-02-22T22:52:06.267260Z",
     "start_time": "2019-02-22T22:52:06.171289Z"
    }
   },
   "outputs": [],
   "source": [
    "pings = pd.concat(ping_frames)\n",
    "pings.shape"
   ]
  },
  {
   "cell_type": "code",
   "execution_count": null,
   "metadata": {
    "ExecuteTime": {
     "end_time": "2019-02-22T22:52:06.291261Z",
     "start_time": "2019-02-22T22:52:06.268260Z"
    }
   },
   "outputs": [],
   "source": [
    "joined = pings.merge(df[columns], on='id')\n",
    "joined.shape"
   ]
  },
  {
   "cell_type": "code",
   "execution_count": null,
   "metadata": {
    "ExecuteTime": {
     "end_time": "2019-02-22T22:52:06.394272Z",
     "start_time": "2019-02-22T22:52:06.292251Z"
    }
   },
   "outputs": [],
   "source": [
    "joined.head()"
   ]
  },
  {
   "cell_type": "markdown",
   "metadata": {},
   "source": [
    "##### Clean data"
   ]
  },
  {
   "cell_type": "code",
   "execution_count": null,
   "metadata": {
    "ExecuteTime": {
     "end_time": "2019-02-22T22:52:06.486303Z",
     "start_time": "2019-02-22T22:52:06.397271Z"
    }
   },
   "outputs": [],
   "source": [
    "df = joined # don't need a reference to the original resp.json() df anymore\n",
    "df.shape"
   ]
  },
  {
   "cell_type": "code",
   "execution_count": null,
   "metadata": {
    "ExecuteTime": {
     "end_time": "2019-02-22T22:52:23.924788Z",
     "start_time": "2019-02-22T22:52:06.487289Z"
    },
    "scrolled": true
   },
   "outputs": [],
   "source": [
    "def clean_weight(value):\n",
    "    if not value:\n",
    "        return value\n",
    "    # most values are like \"123 lb\"\n",
    "    value = str(value)\n",
    "    for character in 'lbs,+':\n",
    "        value = value.replace(character, '')\n",
    "    return float(value)\n",
    "\n",
    "def clean_length(value):\n",
    "    if not value:\n",
    "        return value\n",
    "    # most length values are like '3 ft 4 in.'\n",
    "    value = str(value)\n",
    "    total = 0\n",
    "    if 'ft' in value:\n",
    "        ft, inches = value.split('ft')\n",
    "        total += int(ft.strip()) * 12\n",
    "    else:\n",
    "        inches = value\n",
    "    if inches.strip():\n",
    "        total += float(inches.strip().split()[0])\n",
    "    return total\n",
    "\n",
    "df['weight'] = df.weight.apply(clean_weight)\n",
    "df['length'] = df.length.apply(clean_length)\n",
    "df['datetime'] = pd.to_datetime(df.tz_datetime)\n",
    "\n",
    "numeric_cols = ['latitude', 'longitude', 'dist_total', 'weight', 'length']\n",
    "df[numeric_cols] = df[numeric_cols].apply(pd.to_numeric, axis=1)\n",
    "df = df.drop(columns=['tz_datetime'])\n",
    "df.head()"
   ]
  },
  {
   "cell_type": "code",
   "execution_count": null,
   "metadata": {},
   "outputs": [],
   "source": []
  },
  {
   "cell_type": "markdown",
   "metadata": {},
   "source": [
    "### Explore data"
   ]
  },
  {
   "cell_type": "code",
   "execution_count": null,
   "metadata": {
    "ExecuteTime": {
     "end_time": "2019-02-22T22:52:23.941787Z",
     "start_time": "2019-02-22T22:52:23.925785Z"
    }
   },
   "outputs": [],
   "source": [
    "# are all the names unique?\n",
    "counts = df.groupby('name').id.nunique()\n",
    "counts.head()"
   ]
  },
  {
   "cell_type": "code",
   "execution_count": null,
   "metadata": {
    "ExecuteTime": {
     "end_time": "2019-02-22T22:52:23.999835Z",
     "start_time": "2019-02-22T22:52:23.942770Z"
    }
   },
   "outputs": [],
   "source": [
    "counts[counts > 1]"
   ]
  },
  {
   "cell_type": "markdown",
   "metadata": {},
   "source": [
    "### Challenge Questions"
   ]
  },
  {
   "cell_type": "markdown",
   "metadata": {},
   "source": [
    "#### Easy Questions\n",
    " 1. How many total pings are in the Ocearch shark data?\n",
    " 2. How many unique species of sharks are in the data set?\n",
    " 3. What is the name, weight, and species of the heaviest shark(s)?\n",
    " 4. When and where was the very first ping?\n",
    " 5. Excluding results with 0 distance traveled: what's the minimum, average, and maximum travel distances?"
   ]
  },
  {
   "cell_type": "markdown",
   "metadata": {},
   "source": [
    "##### Total pings\n",
    "How many total pings are in the Ocearch shark data?"
   ]
  },
  {
   "cell_type": "code",
   "execution_count": null,
   "metadata": {
    "ExecuteTime": {
     "end_time": "2019-02-22T22:52:24.167781Z",
     "start_time": "2019-02-22T22:52:24.000835Z"
    }
   },
   "outputs": [],
   "source": [
    "len(df)"
   ]
  },
  {
   "cell_type": "markdown",
   "metadata": {},
   "source": [
    "##### Unique species\n",
    "How many unique species of sharks are in the data set?"
   ]
  },
  {
   "cell_type": "code",
   "execution_count": null,
   "metadata": {
    "ExecuteTime": {
     "end_time": "2019-02-22T22:52:24.344881Z",
     "start_time": "2019-02-22T22:52:24.168780Z"
    }
   },
   "outputs": [],
   "source": [
    "df.species.nunique()"
   ]
  },
  {
   "cell_type": "markdown",
   "metadata": {},
   "source": [
    "##### Heaviest shark(s)\n",
    "What is the name, weight, and species of the heaviest shark(s)?"
   ]
  },
  {
   "cell_type": "code",
   "execution_count": null,
   "metadata": {
    "ExecuteTime": {
     "end_time": "2019-02-22T22:52:24.488905Z",
     "start_time": "2019-02-22T22:52:24.346880Z"
    }
   },
   "outputs": [],
   "source": [
    "max_weight = df.weight.max()\n",
    "max_weight"
   ]
  },
  {
   "cell_type": "code",
   "execution_count": null,
   "metadata": {
    "ExecuteTime": {
     "end_time": "2019-02-22T22:52:24.712936Z",
     "start_time": "2019-02-22T22:52:24.490905Z"
    }
   },
   "outputs": [],
   "source": [
    "heavy_sharks = df[df.weight == df.weight.max()]\n",
    "heavy_sharks.drop_duplicates('name')"
   ]
  },
  {
   "cell_type": "markdown",
   "metadata": {},
   "source": [
    "##### First ping\n",
    "When and where was the very first ping?"
   ]
  },
  {
   "cell_type": "code",
   "execution_count": null,
   "metadata": {
    "ExecuteTime": {
     "end_time": "2019-02-22T22:52:25.038804Z",
     "start_time": "2019-02-22T22:52:24.719907Z"
    }
   },
   "outputs": [],
   "source": [
    "first_pings = df.sort_values('datetime').head(5)\n",
    "first_pings[['name', 'datetime', 'latitude', 'longitude']]"
   ]
  },
  {
   "cell_type": "markdown",
   "metadata": {},
   "source": [
    "##### Distance travelled\n",
    "Excluding results with 0 distance traveled: what's the minimum, average, and maximum travel distances?"
   ]
  },
  {
   "cell_type": "code",
   "execution_count": null,
   "metadata": {
    "ExecuteTime": {
     "end_time": "2019-02-22T22:52:25.098808Z",
     "start_time": "2019-02-22T22:52:25.040803Z"
    }
   },
   "outputs": [],
   "source": [
    "df.dist_total[df.dist_total > 0].describe()"
   ]
  },
  {
   "cell_type": "markdown",
   "metadata": {},
   "source": [
    "#### Intermediate questions\n",
    "\n",
    " 1. Which shark had the most pings?\n",
    " 2. Which shark has been pinging the longest, and how long has that been?\n",
    " 3. Which shark species has the most individual sharks tagged?\n",
    " 4. What is the average length and weight of each shark species?\n",
    " 5. Which shark has the biggest geographic box (largest distance from min lat/lon to max lat/lon, not dist_traveled)?"
   ]
  },
  {
   "cell_type": "markdown",
   "metadata": {},
   "source": [
    "##### Most pings\n",
    "Which shark had the most pings?"
   ]
  },
  {
   "cell_type": "code",
   "execution_count": null,
   "metadata": {
    "ExecuteTime": {
     "end_time": "2019-02-22T22:52:25.299917Z",
     "start_time": "2019-02-22T22:52:25.099810Z"
    }
   },
   "outputs": [],
   "source": [
    "groups = df.groupby('id')\n",
    "sizes = groups.size()\n",
    "names = groups.name.first()\n",
    "species = groups.species.first()\n",
    "first_ping = groups.datetime.min()\n",
    "last_ping = groups.datetime.max()\n",
    "combined = pd.concat([sizes, names, species, first_ping, last_ping], axis=1).reset_index()\n",
    "combined.columns = ['id', 'ping_count', 'name', 'species', 'first_ping', 'last_ping']\n",
    "combined.sort_values('ping_count', ascending=False).head()"
   ]
  },
  {
   "cell_type": "markdown",
   "metadata": {},
   "source": [
    "##### Longest duration pinger\n",
    "Which shark has been pinging the longest, and how long has that been?"
   ]
  },
  {
   "cell_type": "code",
   "execution_count": null,
   "metadata": {
    "ExecuteTime": {
     "end_time": "2019-02-22T22:52:25.482164Z",
     "start_time": "2019-02-22T22:52:25.302915Z"
    }
   },
   "outputs": [],
   "source": [
    "combined['duration'] = combined.last_ping - combined.first_ping\n",
    "combined.sort_values('duration', ascending=False).head()"
   ]
  },
  {
   "cell_type": "markdown",
   "metadata": {},
   "source": [
    "##### Individual count by species\n",
    "Which shark species has the most individual sharks tagged?"
   ]
  },
  {
   "cell_type": "code",
   "execution_count": null,
   "metadata": {
    "ExecuteTime": {
     "end_time": "2019-02-22T22:52:25.618283Z",
     "start_time": "2019-02-22T22:52:25.483176Z"
    }
   },
   "outputs": [],
   "source": [
    "df.groupby('species').id.nunique().sort_values(ascending=False).head()"
   ]
  },
  {
   "cell_type": "markdown",
   "metadata": {},
   "source": [
    "##### Average length/weight by species\n",
    "What is the average length and weight of each shark species?"
   ]
  },
  {
   "cell_type": "code",
   "execution_count": null,
   "metadata": {
    "ExecuteTime": {
     "end_time": "2019-02-22T22:52:25.704393Z",
     "start_time": "2019-02-22T22:52:25.620267Z"
    }
   },
   "outputs": [],
   "source": [
    "groups = df.groupby('species').agg({'weight' : 'mean', \n",
    "                                    'length' : 'mean', \n",
    "                                    'id' : 'nunique'})\n",
    "groups.rename(columns={'id' : 'shark_count'}).sort_values('shark_count', ascending=False)"
   ]
  },
  {
   "cell_type": "markdown",
   "metadata": {},
   "source": [
    "##### Biggest geographic box\n",
    "Which shark has the biggest geographic box (largest area calculated from min lat/lon to max lat/lon, not dist_traveled)?"
   ]
  },
  {
   "cell_type": "code",
   "execution_count": null,
   "metadata": {
    "ExecuteTime": {
     "end_time": "2019-02-22T22:52:25.849569Z",
     "start_time": "2019-02-22T22:52:25.705377Z"
    }
   },
   "outputs": [],
   "source": [
    "groups = df.groupby('id')\n",
    "combined = pd.concat([groups.latitude.min(), \n",
    "                      groups.longitude.min(), \n",
    "                      groups.latitude.max(), \n",
    "                      groups.longitude.max(), \n",
    "                      groups.name.first(), \n",
    "                      groups.species.first()], axis=1).reset_index()\n",
    "combined.columns = ['id', 'min_lat', 'min_lon', 'max_lat', 'max_lon', 'name', 'species']\n",
    "combined.head()"
   ]
  },
  {
   "cell_type": "code",
   "execution_count": null,
   "metadata": {
    "ExecuteTime": {
     "end_time": "2019-02-22T22:52:25.960568Z",
     "start_time": "2019-02-22T22:52:25.851570Z"
    }
   },
   "outputs": [],
   "source": [
    "combined['lat_diff'] = combined.max_lat - combined.min_lat\n",
    "combined['lon_diff'] = combined.max_lon - combined.min_lon\n",
    "combined['area'] = combined['lat_diff'] * combined['lon_diff']\n",
    "combined.sort_values('area', ascending=False).head()"
   ]
  },
  {
   "cell_type": "markdown",
   "metadata": {},
   "source": [
    "#### Hard questions\n",
    "\n",
    " 1. Use folium to plot the first ping, last ping, and a line connecting each ping for the Tiger shark Emma.  Make the first ping marker a 'play' icon, and last ping icon a 'stop' icon.\n",
    " 2. Resample Emma data to have a daily lat/lon average, and interpolate missing results.  Plot a marker for each day, and color them blue for hard data, green for interpolated lat/lons\n",
    " 3. Resample all shark data for daily lat/lon averages, and interpolate missing results\n",
    " 4. Calculate distance between Emma and other sharks on a daily basis\n",
    " 5. Identify the shark that has the shortest average distance to Emma per day\n",
    " 6. Plot Emma and her closest buddy: interpolated results for each in green, Emma as circle icons and her buddy as square icons"
   ]
  },
  {
   "cell_type": "markdown",
   "metadata": {},
   "source": [
    "##### Plot Emma locations\n",
    "Plot the ping locations for the shark named Emma as a `PolyLine` in folium.  Include the first and last ping location as markers."
   ]
  },
  {
   "cell_type": "code",
   "execution_count": null,
   "metadata": {
    "ExecuteTime": {
     "end_time": "2019-02-22T22:52:26.117791Z",
     "start_time": "2019-02-22T22:52:25.962546Z"
    }
   },
   "outputs": [],
   "source": [
    "emma = df.query(\"name == 'Emma'\").sort_values('datetime')\n",
    "emma.head()"
   ]
  },
  {
   "cell_type": "code",
   "execution_count": null,
   "metadata": {
    "ExecuteTime": {
     "end_time": "2019-02-22T22:52:26.220904Z",
     "start_time": "2019-02-22T22:52:26.122812Z"
    }
   },
   "outputs": [],
   "source": [
    "latlons = list(zip(emma.latitude.values, emma.longitude.values))\n",
    "latlons[:5]"
   ]
  },
  {
   "cell_type": "code",
   "execution_count": null,
   "metadata": {
    "ExecuteTime": {
     "end_time": "2019-02-22T22:52:27.183948Z",
     "start_time": "2019-02-22T22:52:26.223885Z"
    }
   },
   "outputs": [],
   "source": [
    "import folium\n",
    "\n",
    "avglat = emma.latitude.mean()\n",
    "avglon = emma.longitude.mean()\n",
    "\n",
    "m = folium.Map(location=(avglat, avglon), zoom_start=5)\n",
    "\n",
    "folium.Marker(latlons[0], popup=\"First ping\", icon=folium.Icon(icon=\"play\")).add_to(m)\n",
    "folium.Marker(latlons[-1], popup=\"Last ping\", icon=folium.Icon(icon=\"stop\")).add_to(m)\n",
    "\n",
    "folium.PolyLine(latlons).add_to(m)\n",
    "    \n",
    "m"
   ]
  },
  {
   "cell_type": "markdown",
   "metadata": {},
   "source": [
    "##### Plot interpolated locs\n",
    "Resample the Emma locations on a per-day basis and interpolate missing locations.  Then, plot the daily markes in folium along with a `PolyLine`."
   ]
  },
  {
   "cell_type": "code",
   "execution_count": null,
   "metadata": {
    "ExecuteTime": {
     "end_time": "2019-02-22T22:52:27.199931Z",
     "start_time": "2019-02-22T22:52:27.184937Z"
    }
   },
   "outputs": [],
   "source": [
    "resampler = emma.set_index('datetime').resample('1D')\n",
    "resampler"
   ]
  },
  {
   "cell_type": "code",
   "execution_count": null,
   "metadata": {
    "ExecuteTime": {
     "end_time": "2019-02-22T22:52:27.303964Z",
     "start_time": "2019-02-22T22:52:27.201931Z"
    }
   },
   "outputs": [],
   "source": [
    "averages = resampler[['latitude', 'longitude']].mean()\n",
    "averages.tail()"
   ]
  },
  {
   "cell_type": "code",
   "execution_count": null,
   "metadata": {
    "ExecuteTime": {
     "end_time": "2019-02-22T22:52:27.437920Z",
     "start_time": "2019-02-22T22:52:27.304963Z"
    }
   },
   "outputs": [],
   "source": [
    "averages['interpolated'] = averages.latitude.isnull()\n",
    "averages.tail()"
   ]
  },
  {
   "cell_type": "code",
   "execution_count": null,
   "metadata": {
    "ExecuteTime": {
     "end_time": "2019-02-22T22:52:27.584872Z",
     "start_time": "2019-02-22T22:52:27.439927Z"
    }
   },
   "outputs": [],
   "source": [
    "averages.fillna(averages.interpolate(), inplace=True)\n",
    "averages.tail()"
   ]
  },
  {
   "cell_type": "code",
   "execution_count": null,
   "metadata": {
    "ExecuteTime": {
     "end_time": "2019-02-22T22:53:50.717390Z",
     "start_time": "2019-02-22T22:53:50.510458Z"
    },
    "scrolled": true
   },
   "outputs": [],
   "source": [
    "avglat = averages.latitude.mean()\n",
    "avglon = averages.longitude.mean()\n",
    "\n",
    "m = folium.Map(location=(avglat, avglon), zoom_start=5)\n",
    "\n",
    "for row in averages.itertuples():\n",
    "    if row.interpolated:\n",
    "        color = 'green'\n",
    "    else:\n",
    "        color = 'blue'\n",
    "    folium.Marker([row.latitude, row.longitude], icon=folium.Icon(color=color)).add_to(m)\n",
    "\n",
    "m"
   ]
  },
  {
   "cell_type": "markdown",
   "metadata": {},
   "source": [
    "##### Resample all shark data\n",
    "Resample all shark data for daily lat/lon averages, and interpolate missing results"
   ]
  },
  {
   "cell_type": "code",
   "execution_count": null,
   "metadata": {
    "ExecuteTime": {
     "end_time": "2019-02-22T22:53:57.867319Z",
     "start_time": "2019-02-22T22:53:55.876950Z"
    }
   },
   "outputs": [],
   "source": [
    "data = []\n",
    "\n",
    "groups = df.groupby('name')\n",
    "for label, frame in groups:\n",
    "    resampler = frame.set_index('datetime').resample('1D')\n",
    "    averages = resampler[['latitude', 'longitude']].mean()\n",
    "    averages['interpolated'] = averages.latitude.isnull()\n",
    "    averages.fillna(averages.interpolate(), inplace=True)\n",
    "    averages['name'] = label\n",
    "    data.append(averages)\n",
    "    \n",
    "resampled = pd.concat(data)\n",
    "resampled.shape"
   ]
  },
  {
   "cell_type": "code",
   "execution_count": null,
   "metadata": {
    "ExecuteTime": {
     "end_time": "2019-02-22T22:53:58.055242Z",
     "start_time": "2019-02-22T22:53:57.869303Z"
    }
   },
   "outputs": [],
   "source": [
    "resampled = resampled.set_index('name', append=True).sort_values('datetime')\n",
    "resampled.head(20)"
   ]
  },
  {
   "cell_type": "markdown",
   "metadata": {},
   "source": [
    "##### Distance to Emma\n",
    "Identify the shark that has the shortest average distance to Emma per day"
   ]
  },
  {
   "cell_type": "code",
   "execution_count": null,
   "metadata": {
    "ExecuteTime": {
     "end_time": "2019-02-22T22:54:58.282106Z",
     "start_time": "2019-02-22T22:54:58.269100Z"
    }
   },
   "outputs": [],
   "source": [
    "emma = resampled.query('name == \"Emma\"')\n",
    "emma.head()"
   ]
  },
  {
   "cell_type": "code",
   "execution_count": null,
   "metadata": {
    "ExecuteTime": {
     "end_time": "2019-02-22T23:49:40.416863Z",
     "start_time": "2019-02-22T23:49:40.406867Z"
    }
   },
   "outputs": [],
   "source": [
    "emma_locs = emma.reset_index(level='name')\n",
    "emma_locs.head()"
   ]
  },
  {
   "cell_type": "code",
   "execution_count": null,
   "metadata": {
    "ExecuteTime": {
     "end_time": "2019-02-22T23:49:41.072910Z",
     "start_time": "2019-02-22T23:49:41.063914Z"
    }
   },
   "outputs": [],
   "source": [
    "emma_locs = emma_locs.drop(columns=['name', 'interpolated'])\\\n",
    "                     .rename(columns={'latitude' : 'emma_lat', 'longitude' : 'emma_lon'})\n",
    "emma_locs.head()"
   ]
  },
  {
   "cell_type": "code",
   "execution_count": null,
   "metadata": {
    "ExecuteTime": {
     "end_time": "2019-02-22T23:49:43.095748Z",
     "start_time": "2019-02-22T23:49:43.063747Z"
    }
   },
   "outputs": [],
   "source": [
    "joined = resampled.reset_index(level='name').join(emma_locs)\n",
    "joined.head()"
   ]
  },
  {
   "cell_type": "code",
   "execution_count": null,
   "metadata": {
    "ExecuteTime": {
     "end_time": "2019-02-22T23:49:43.562761Z",
     "start_time": "2019-02-22T23:49:43.543779Z"
    }
   },
   "outputs": [],
   "source": [
    "joined[joined.emma_lat.notnull()].head()"
   ]
  },
  {
   "cell_type": "code",
   "execution_count": null,
   "metadata": {
    "ExecuteTime": {
     "end_time": "2019-02-22T23:49:43.994584Z",
     "start_time": "2019-02-22T23:49:43.976590Z"
    }
   },
   "outputs": [],
   "source": [
    "# calculate distance like a triangle hypotenuse, a**2 + b**2 = c**2\n",
    "joined['diff_lat'] = joined.latitude - joined.emma_lat\n",
    "joined['diff_lon'] = joined.longitude - joined.emma_lon\n",
    "joined['distance'] = (joined.diff_lat**2 + joined.diff_lon**2) ** .5\n",
    "joined.head()"
   ]
  },
  {
   "cell_type": "code",
   "execution_count": null,
   "metadata": {
    "ExecuteTime": {
     "end_time": "2019-02-23T00:01:21.776496Z",
     "start_time": "2019-02-23T00:01:21.765489Z"
    }
   },
   "outputs": [],
   "source": [
    "joined[joined.distance.notnull()].head()"
   ]
  },
  {
   "cell_type": "markdown",
   "metadata": {},
   "source": [
    "##### Emma's buddy\n",
    "Identify the shark that has the shortest average distance to Emma per day"
   ]
  },
  {
   "cell_type": "code",
   "execution_count": null,
   "metadata": {
    "ExecuteTime": {
     "end_time": "2019-02-23T00:03:33.371655Z",
     "start_time": "2019-02-23T00:03:33.364646Z"
    }
   },
   "outputs": [],
   "source": [
    "joined[joined.distance.notnull()].groupby('name').distance.mean().sort_values().head(10)"
   ]
  },
  {
   "cell_type": "code",
   "execution_count": null,
   "metadata": {
    "ExecuteTime": {
     "end_time": "2019-02-23T00:04:27.949081Z",
     "start_time": "2019-02-23T00:04:27.917079Z"
    }
   },
   "outputs": [],
   "source": [
    "joined[joined.name.str.contains('Sherril')]"
   ]
  },
  {
   "cell_type": "code",
   "execution_count": null,
   "metadata": {
    "ExecuteTime": {
     "end_time": "2019-02-23T00:02:41.677973Z",
     "start_time": "2019-02-23T00:02:41.651982Z"
    }
   },
   "outputs": [],
   "source": [
    "joined[joined.distance.notnull()]"
   ]
  },
  {
   "cell_type": "code",
   "execution_count": null,
   "metadata": {
    "ExecuteTime": {
     "end_time": "2019-02-23T00:01:45.610970Z",
     "start_time": "2019-02-23T00:01:45.588968Z"
    }
   },
   "outputs": [],
   "source": [
    "joined"
   ]
  },
  {
   "cell_type": "code",
   "execution_count": null,
   "metadata": {},
   "outputs": [],
   "source": []
  }
 ],
 "metadata": {
  "kernelspec": {
   "display_name": "Python3.6",
   "language": "python",
   "name": "py36"
  },
  "language_info": {
   "codemirror_mode": {
    "name": "ipython",
    "version": 3
   },
   "file_extension": ".py",
   "mimetype": "text/x-python",
   "name": "python",
   "nbconvert_exporter": "python",
   "pygments_lexer": "ipython3",
   "version": "3.7.2"
  },
  "toc": {
   "base_numbering": 1,
   "nav_menu": {},
   "number_sections": true,
   "sideBar": true,
   "skip_h1_title": false,
   "title_cell": "Table of Contents",
   "title_sidebar": "Contents",
   "toc_cell": false,
   "toc_position": {
    "height": "calc(100% - 180px)",
    "left": "10px",
    "top": "150px",
    "width": "256px"
   },
   "toc_section_display": true,
   "toc_window_display": true
  }
 },
 "nbformat": 4,
 "nbformat_minor": 2
}
