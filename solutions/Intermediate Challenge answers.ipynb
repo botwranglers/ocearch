{
 "cells": [
  {
   "cell_type": "markdown",
   "metadata": {},
   "source": [
    "### Challenge questions\n",
    "\n",
    "Easy questions:\n",
    "\n",
    " 1. How many total pings are in the Ocearch data?\n",
    " 2. How many unique species of sharks are in the data set?\n",
    " 3. What is the name of the heaviest shark, how heavy is it?\n",
    " 4. What is the name of the longest shark, how long is it?\n",
    " 5. When and where was the very first ping?\n",
    "\n",
    "Intermediate questions:\n",
    "\n",
    " 1. Which shark had the most pings?\n",
    " 2. Which shark has been pinging the longest, and how long has that been?\n",
    " 3. Which shark species has the most individual sharks tagged?\n",
    " 4. What is the average length and weight of each shark species?\n",
    " 5. Which shark has the biggest geographic box (largest distance from min lat/lon to max lat/lon, not dist_traveled)?"
   ]
  },
  {
   "cell_type": "markdown",
   "metadata": {},
   "source": [
    "### Answers"
   ]
  },
  {
   "cell_type": "markdown",
   "metadata": {},
   "source": [
    "#### Read and clean data"
   ]
  },
  {
   "cell_type": "code",
   "execution_count": 1,
   "metadata": {
    "ExecuteTime": {
     "end_time": "2019-02-17T19:51:48.348514Z",
     "start_time": "2019-02-17T19:51:45.942278Z"
    }
   },
   "outputs": [
    {
     "data": {
      "text/html": [
       "<div>\n",
       "<style scoped>\n",
       "    .dataframe tbody tr th:only-of-type {\n",
       "        vertical-align: middle;\n",
       "    }\n",
       "\n",
       "    .dataframe tbody tr th {\n",
       "        vertical-align: top;\n",
       "    }\n",
       "\n",
       "    .dataframe thead th {\n",
       "        text-align: right;\n",
       "    }\n",
       "</style>\n",
       "<table border=\"1\" class=\"dataframe\">\n",
       "  <thead>\n",
       "    <tr style=\"text-align: right;\">\n",
       "      <th></th>\n",
       "      <th>active</th>\n",
       "      <th>datetime</th>\n",
       "      <th>id</th>\n",
       "      <th>latitude</th>\n",
       "      <th>longitude</th>\n",
       "      <th>name</th>\n",
       "      <th>gender</th>\n",
       "      <th>species</th>\n",
       "      <th>weight</th>\n",
       "      <th>length</th>\n",
       "      <th>tagDate</th>\n",
       "      <th>dist_total</th>\n",
       "    </tr>\n",
       "  </thead>\n",
       "  <tbody>\n",
       "    <tr>\n",
       "      <th>0</th>\n",
       "      <td>1</td>\n",
       "      <td>2014-07-06 04:57:28</td>\n",
       "      <td>3</td>\n",
       "      <td>-34.606610</td>\n",
       "      <td>21.152440</td>\n",
       "      <td>Oprah</td>\n",
       "      <td>Female</td>\n",
       "      <td>White Shark (Carcharodon carcharias)</td>\n",
       "      <td>686 lb</td>\n",
       "      <td>9 ft 10 in.</td>\n",
       "      <td>7 March 2012</td>\n",
       "      <td>2816.662</td>\n",
       "    </tr>\n",
       "    <tr>\n",
       "      <th>1</th>\n",
       "      <td>1</td>\n",
       "      <td>2014-06-23 02:40:09</td>\n",
       "      <td>3</td>\n",
       "      <td>-34.787520</td>\n",
       "      <td>19.424790</td>\n",
       "      <td>Oprah</td>\n",
       "      <td>Female</td>\n",
       "      <td>White Shark (Carcharodon carcharias)</td>\n",
       "      <td>686 lb</td>\n",
       "      <td>9 ft 10 in.</td>\n",
       "      <td>7 March 2012</td>\n",
       "      <td>2816.662</td>\n",
       "    </tr>\n",
       "    <tr>\n",
       "      <th>2</th>\n",
       "      <td>1</td>\n",
       "      <td>2014-06-15 13:15:44</td>\n",
       "      <td>3</td>\n",
       "      <td>-34.424870</td>\n",
       "      <td>21.097540</td>\n",
       "      <td>Oprah</td>\n",
       "      <td>Female</td>\n",
       "      <td>White Shark (Carcharodon carcharias)</td>\n",
       "      <td>686 lb</td>\n",
       "      <td>9 ft 10 in.</td>\n",
       "      <td>7 March 2012</td>\n",
       "      <td>2816.662</td>\n",
       "    </tr>\n",
       "    <tr>\n",
       "      <th>3</th>\n",
       "      <td>1</td>\n",
       "      <td>2014-06-03 02:23:57</td>\n",
       "      <td>3</td>\n",
       "      <td>-34.704323</td>\n",
       "      <td>20.210134</td>\n",
       "      <td>Oprah</td>\n",
       "      <td>Female</td>\n",
       "      <td>White Shark (Carcharodon carcharias)</td>\n",
       "      <td>686 lb</td>\n",
       "      <td>9 ft 10 in.</td>\n",
       "      <td>7 March 2012</td>\n",
       "      <td>2816.662</td>\n",
       "    </tr>\n",
       "    <tr>\n",
       "      <th>4</th>\n",
       "      <td>1</td>\n",
       "      <td>2014-05-28 19:53:57</td>\n",
       "      <td>3</td>\n",
       "      <td>-34.655560</td>\n",
       "      <td>19.374590</td>\n",
       "      <td>Oprah</td>\n",
       "      <td>Female</td>\n",
       "      <td>White Shark (Carcharodon carcharias)</td>\n",
       "      <td>686 lb</td>\n",
       "      <td>9 ft 10 in.</td>\n",
       "      <td>7 March 2012</td>\n",
       "      <td>2816.662</td>\n",
       "    </tr>\n",
       "  </tbody>\n",
       "</table>\n",
       "</div>"
      ],
      "text/plain": [
       "   active             datetime  id   latitude  longitude   name  gender  \\\n",
       "0       1  2014-07-06 04:57:28   3 -34.606610  21.152440  Oprah  Female   \n",
       "1       1  2014-06-23 02:40:09   3 -34.787520  19.424790  Oprah  Female   \n",
       "2       1  2014-06-15 13:15:44   3 -34.424870  21.097540  Oprah  Female   \n",
       "3       1  2014-06-03 02:23:57   3 -34.704323  20.210134  Oprah  Female   \n",
       "4       1  2014-05-28 19:53:57   3 -34.655560  19.374590  Oprah  Female   \n",
       "\n",
       "                                species  weight       length       tagDate  \\\n",
       "0  White Shark (Carcharodon carcharias)  686 lb  9 ft 10 in.  7 March 2012   \n",
       "1  White Shark (Carcharodon carcharias)  686 lb  9 ft 10 in.  7 March 2012   \n",
       "2  White Shark (Carcharodon carcharias)  686 lb  9 ft 10 in.  7 March 2012   \n",
       "3  White Shark (Carcharodon carcharias)  686 lb  9 ft 10 in.  7 March 2012   \n",
       "4  White Shark (Carcharodon carcharias)  686 lb  9 ft 10 in.  7 March 2012   \n",
       "\n",
       "   dist_total  \n",
       "0    2816.662  \n",
       "1    2816.662  \n",
       "2    2816.662  \n",
       "3    2816.662  \n",
       "4    2816.662  "
      ]
     },
     "execution_count": 1,
     "metadata": {},
     "output_type": "execute_result"
    }
   ],
   "source": [
    "import pandas as pd\n",
    "df = pd.read_csv('../data/sharks.csv')\n",
    "df.head()"
   ]
  },
  {
   "cell_type": "markdown",
   "metadata": {},
   "source": [
    "##### Clean length/weight\n",
    "This is the only real difference between `sharks_cleaned.csv` and `sharks.csv`"
   ]
  },
  {
   "cell_type": "code",
   "execution_count": 2,
   "metadata": {
    "ExecuteTime": {
     "end_time": "2019-02-17T19:51:48.600416Z",
     "start_time": "2019-02-17T19:51:48.349515Z"
    }
   },
   "outputs": [
    {
     "data": {
      "text/html": [
       "<div>\n",
       "<style scoped>\n",
       "    .dataframe tbody tr th:only-of-type {\n",
       "        vertical-align: middle;\n",
       "    }\n",
       "\n",
       "    .dataframe tbody tr th {\n",
       "        vertical-align: top;\n",
       "    }\n",
       "\n",
       "    .dataframe thead th {\n",
       "        text-align: right;\n",
       "    }\n",
       "</style>\n",
       "<table border=\"1\" class=\"dataframe\">\n",
       "  <thead>\n",
       "    <tr style=\"text-align: right;\">\n",
       "      <th></th>\n",
       "      <th>active</th>\n",
       "      <th>datetime</th>\n",
       "      <th>id</th>\n",
       "      <th>latitude</th>\n",
       "      <th>longitude</th>\n",
       "      <th>name</th>\n",
       "      <th>gender</th>\n",
       "      <th>species</th>\n",
       "      <th>weight</th>\n",
       "      <th>length</th>\n",
       "      <th>tagDate</th>\n",
       "      <th>dist_total</th>\n",
       "    </tr>\n",
       "  </thead>\n",
       "  <tbody>\n",
       "    <tr>\n",
       "      <th>0</th>\n",
       "      <td>1</td>\n",
       "      <td>2014-07-06 04:57:28</td>\n",
       "      <td>3</td>\n",
       "      <td>-34.606610</td>\n",
       "      <td>21.152440</td>\n",
       "      <td>Oprah</td>\n",
       "      <td>Female</td>\n",
       "      <td>White Shark (Carcharodon carcharias)</td>\n",
       "      <td>686.0</td>\n",
       "      <td>118.0</td>\n",
       "      <td>7 March 2012</td>\n",
       "      <td>2816.662</td>\n",
       "    </tr>\n",
       "    <tr>\n",
       "      <th>1</th>\n",
       "      <td>1</td>\n",
       "      <td>2014-06-23 02:40:09</td>\n",
       "      <td>3</td>\n",
       "      <td>-34.787520</td>\n",
       "      <td>19.424790</td>\n",
       "      <td>Oprah</td>\n",
       "      <td>Female</td>\n",
       "      <td>White Shark (Carcharodon carcharias)</td>\n",
       "      <td>686.0</td>\n",
       "      <td>118.0</td>\n",
       "      <td>7 March 2012</td>\n",
       "      <td>2816.662</td>\n",
       "    </tr>\n",
       "    <tr>\n",
       "      <th>2</th>\n",
       "      <td>1</td>\n",
       "      <td>2014-06-15 13:15:44</td>\n",
       "      <td>3</td>\n",
       "      <td>-34.424870</td>\n",
       "      <td>21.097540</td>\n",
       "      <td>Oprah</td>\n",
       "      <td>Female</td>\n",
       "      <td>White Shark (Carcharodon carcharias)</td>\n",
       "      <td>686.0</td>\n",
       "      <td>118.0</td>\n",
       "      <td>7 March 2012</td>\n",
       "      <td>2816.662</td>\n",
       "    </tr>\n",
       "    <tr>\n",
       "      <th>3</th>\n",
       "      <td>1</td>\n",
       "      <td>2014-06-03 02:23:57</td>\n",
       "      <td>3</td>\n",
       "      <td>-34.704323</td>\n",
       "      <td>20.210134</td>\n",
       "      <td>Oprah</td>\n",
       "      <td>Female</td>\n",
       "      <td>White Shark (Carcharodon carcharias)</td>\n",
       "      <td>686.0</td>\n",
       "      <td>118.0</td>\n",
       "      <td>7 March 2012</td>\n",
       "      <td>2816.662</td>\n",
       "    </tr>\n",
       "    <tr>\n",
       "      <th>4</th>\n",
       "      <td>1</td>\n",
       "      <td>2014-05-28 19:53:57</td>\n",
       "      <td>3</td>\n",
       "      <td>-34.655560</td>\n",
       "      <td>19.374590</td>\n",
       "      <td>Oprah</td>\n",
       "      <td>Female</td>\n",
       "      <td>White Shark (Carcharodon carcharias)</td>\n",
       "      <td>686.0</td>\n",
       "      <td>118.0</td>\n",
       "      <td>7 March 2012</td>\n",
       "      <td>2816.662</td>\n",
       "    </tr>\n",
       "  </tbody>\n",
       "</table>\n",
       "</div>"
      ],
      "text/plain": [
       "   active            datetime  id   latitude  longitude   name  gender  \\\n",
       "0       1 2014-07-06 04:57:28   3 -34.606610  21.152440  Oprah  Female   \n",
       "1       1 2014-06-23 02:40:09   3 -34.787520  19.424790  Oprah  Female   \n",
       "2       1 2014-06-15 13:15:44   3 -34.424870  21.097540  Oprah  Female   \n",
       "3       1 2014-06-03 02:23:57   3 -34.704323  20.210134  Oprah  Female   \n",
       "4       1 2014-05-28 19:53:57   3 -34.655560  19.374590  Oprah  Female   \n",
       "\n",
       "                                species  weight  length       tagDate  \\\n",
       "0  White Shark (Carcharodon carcharias)   686.0   118.0  7 March 2012   \n",
       "1  White Shark (Carcharodon carcharias)   686.0   118.0  7 March 2012   \n",
       "2  White Shark (Carcharodon carcharias)   686.0   118.0  7 March 2012   \n",
       "3  White Shark (Carcharodon carcharias)   686.0   118.0  7 March 2012   \n",
       "4  White Shark (Carcharodon carcharias)   686.0   118.0  7 March 2012   \n",
       "\n",
       "   dist_total  \n",
       "0    2816.662  \n",
       "1    2816.662  \n",
       "2    2816.662  \n",
       "3    2816.662  \n",
       "4    2816.662  "
      ]
     },
     "execution_count": 2,
     "metadata": {},
     "output_type": "execute_result"
    }
   ],
   "source": [
    "def clean_weight(value):\n",
    "    if not value:\n",
    "        return value\n",
    "    # most values are like \"123 lb\"\n",
    "    value = str(value)\n",
    "    for character in 'lbs,+':\n",
    "        value = value.replace(character, '')\n",
    "    return float(value)\n",
    "\n",
    "def clean_length(value):\n",
    "    if not value:\n",
    "        return value\n",
    "    # most length values are like '3 ft 4 in.'\n",
    "    value = str(value)\n",
    "    total = 0\n",
    "    if 'ft' in value:\n",
    "        ft, inches = value.split('ft')\n",
    "        total += int(ft.strip()) * 12\n",
    "    else:\n",
    "        inches = value\n",
    "    if inches.strip():\n",
    "        total += float(inches.strip().split()[0])\n",
    "    return total\n",
    "\n",
    "df['weight'] = df.weight.apply(clean_weight)\n",
    "df['length'] = df.length.apply(clean_length)\n",
    "df['datetime'] = pd.to_datetime(df.datetime)\n",
    "df.head()"
   ]
  },
  {
   "cell_type": "markdown",
   "metadata": {},
   "source": [
    "#### Easy answers\n",
    "\n",
    " 1. How many total pings are in the Ocearch data?\n",
    " 2. How many unique species of sharks are in the data set?\n",
    " 3. What is the name of the heaviest shark, how heavy is it?\n",
    " 4. What is the name of the longest shark, how long is it?\n",
    " 5. When and where was the very first ping?"
   ]
  },
  {
   "cell_type": "code",
   "execution_count": 3,
   "metadata": {
    "ExecuteTime": {
     "end_time": "2019-02-17T19:51:48.604432Z",
     "start_time": "2019-02-17T19:51:48.601433Z"
    }
   },
   "outputs": [
    {
     "data": {
      "text/plain": [
       "65793"
      ]
     },
     "execution_count": 3,
     "metadata": {},
     "output_type": "execute_result"
    }
   ],
   "source": [
    "# total ping count\n",
    "len(df)"
   ]
  },
  {
   "cell_type": "code",
   "execution_count": 4,
   "metadata": {
    "ExecuteTime": {
     "end_time": "2019-02-17T19:51:48.710381Z",
     "start_time": "2019-02-17T19:51:48.605415Z"
    }
   },
   "outputs": [
    {
     "data": {
      "text/plain": [
       "9"
      ]
     },
     "execution_count": 4,
     "metadata": {},
     "output_type": "execute_result"
    }
   ],
   "source": [
    "# unique species\n",
    "df.species.nunique()"
   ]
  },
  {
   "cell_type": "code",
   "execution_count": 5,
   "metadata": {
    "ExecuteTime": {
     "end_time": "2019-02-17T19:51:48.799352Z",
     "start_time": "2019-02-17T19:51:48.711381Z"
    }
   },
   "outputs": [
    {
     "data": {
      "text/plain": [
       "active                                    1\n",
       "datetime                2016-10-24 03:12:24\n",
       "id                                      233\n",
       "latitude                            38.5389\n",
       "longitude                          -68.8206\n",
       "name                         Rocky Mazzanti\n",
       "gender                               Female\n",
       "species       Whale Shark (Rhincodon Typus)\n",
       "weight                                25000\n",
       "length                                  300\n",
       "tagDate                      24 August 2016\n",
       "dist_total                          1753.52\n",
       "Name: 56469, dtype: object"
      ]
     },
     "execution_count": 5,
     "metadata": {},
     "output_type": "execute_result"
    }
   ],
   "source": [
    "# heaviest shark\n",
    "df[df.weight == df.weight.max()].iloc[0]"
   ]
  },
  {
   "cell_type": "code",
   "execution_count": 6,
   "metadata": {
    "ExecuteTime": {
     "end_time": "2019-02-17T19:51:48.929309Z",
     "start_time": "2019-02-17T19:51:48.800360Z"
    }
   },
   "outputs": [
    {
     "data": {
      "text/plain": [
       "active                                           1\n",
       "datetime                       2012-03-09 15:35:31\n",
       "id                                               3\n",
       "latitude                                   -34.132\n",
       "longitude                                   22.123\n",
       "name                                         Oprah\n",
       "gender                                      Female\n",
       "species       White Shark (Carcharodon carcharias)\n",
       "weight                                         686\n",
       "length                                         118\n",
       "tagDate                               7 March 2012\n",
       "dist_total                                 2816.66\n",
       "Name: 519, dtype: object"
      ]
     },
     "execution_count": 6,
     "metadata": {},
     "output_type": "execute_result"
    }
   ],
   "source": [
    "# first ping\n",
    "df.sort_values('datetime').iloc[0]"
   ]
  },
  {
   "cell_type": "code",
   "execution_count": 7,
   "metadata": {
    "ExecuteTime": {
     "end_time": "2019-02-17T19:51:49.032276Z",
     "start_time": "2019-02-17T19:51:48.930309Z"
    }
   },
   "outputs": [
    {
     "data": {
      "text/plain": [
       "count    65785.000000\n",
       "mean     12569.310280\n",
       "std      12755.008316\n",
       "min          8.127000\n",
       "25%       3048.274000\n",
       "50%       8177.352000\n",
       "75%      17811.853000\n",
       "max      46553.182000\n",
       "Name: dist_total, dtype: float64"
      ]
     },
     "execution_count": 7,
     "metadata": {},
     "output_type": "execute_result"
    }
   ],
   "source": [
    "# max distance travelled\n",
    "df.dist_total[df.dist_total > 0].describe()"
   ]
  },
  {
   "cell_type": "markdown",
   "metadata": {},
   "source": [
    "#### Intermediate answers\n",
    "\n",
    "Intermediate questions:\n",
    "\n",
    " 1. Which shark had the most pings?\n",
    " 2. Which shark has been pinging the longest, and how long has that been?\n",
    " 3. Which shark species has the most individual sharks tagged?\n",
    " 4. What is the average length and weight of each shark species?\n",
    " 5. Which shark has the biggest geographic box (largest distance from min lat/lon to max lat/lon, not dist_traveled)?"
   ]
  },
  {
   "cell_type": "markdown",
   "metadata": {},
   "source": [
    "##### Most pings"
   ]
  },
  {
   "cell_type": "code",
   "execution_count": 8,
   "metadata": {
    "ExecuteTime": {
     "end_time": "2019-02-17T19:51:49.146241Z",
     "start_time": "2019-02-17T19:51:49.033275Z"
    }
   },
   "outputs": [
    {
     "data": {
      "text/html": [
       "<div>\n",
       "<style scoped>\n",
       "    .dataframe tbody tr th:only-of-type {\n",
       "        vertical-align: middle;\n",
       "    }\n",
       "\n",
       "    .dataframe tbody tr th {\n",
       "        vertical-align: top;\n",
       "    }\n",
       "\n",
       "    .dataframe thead th {\n",
       "        text-align: right;\n",
       "    }\n",
       "</style>\n",
       "<table border=\"1\" class=\"dataframe\">\n",
       "  <thead>\n",
       "    <tr style=\"text-align: right;\">\n",
       "      <th></th>\n",
       "      <th>id</th>\n",
       "      <th>ping_count</th>\n",
       "      <th>name</th>\n",
       "      <th>species</th>\n",
       "      <th>first_ping</th>\n",
       "      <th>last_ping</th>\n",
       "    </tr>\n",
       "  </thead>\n",
       "  <tbody>\n",
       "    <tr>\n",
       "      <th>35</th>\n",
       "      <td>41</td>\n",
       "      <td>3240</td>\n",
       "      <td>Mary Lee</td>\n",
       "      <td>White Shark (Carcharodon carcharias)</td>\n",
       "      <td>2012-09-18 09:34:28</td>\n",
       "      <td>2017-06-17 10:54:32</td>\n",
       "    </tr>\n",
       "    <tr>\n",
       "      <th>36</th>\n",
       "      <td>56</td>\n",
       "      <td>2946</td>\n",
       "      <td>Lydia</td>\n",
       "      <td>White Shark (Carcharodon carcharias)</td>\n",
       "      <td>2013-03-03 08:03:13</td>\n",
       "      <td>2017-03-15 02:31:34</td>\n",
       "    </tr>\n",
       "    <tr>\n",
       "      <th>154</th>\n",
       "      <td>202</td>\n",
       "      <td>2366</td>\n",
       "      <td>Oscar</td>\n",
       "      <td>Mako Shark (Isurus oxyrinchus)</td>\n",
       "      <td>2016-07-09 00:14:38</td>\n",
       "      <td>2019-01-29 20:32:35</td>\n",
       "    </tr>\n",
       "    <tr>\n",
       "      <th>40</th>\n",
       "      <td>60</td>\n",
       "      <td>2134</td>\n",
       "      <td>April</td>\n",
       "      <td>Mako Shark (Isurus oxyrinchus)</td>\n",
       "      <td>2013-07-28 17:00:04</td>\n",
       "      <td>2014-06-17 11:17:03</td>\n",
       "    </tr>\n",
       "    <tr>\n",
       "      <th>26</th>\n",
       "      <td>32</td>\n",
       "      <td>1851</td>\n",
       "      <td>Lisha</td>\n",
       "      <td>White Shark (Carcharodon carcharias)</td>\n",
       "      <td>2012-05-14 15:43:21</td>\n",
       "      <td>2014-04-03 12:48:57</td>\n",
       "    </tr>\n",
       "  </tbody>\n",
       "</table>\n",
       "</div>"
      ],
      "text/plain": [
       "      id  ping_count      name                               species  \\\n",
       "35    41        3240  Mary Lee  White Shark (Carcharodon carcharias)   \n",
       "36    56        2946     Lydia  White Shark (Carcharodon carcharias)   \n",
       "154  202        2366     Oscar        Mako Shark (Isurus oxyrinchus)   \n",
       "40    60        2134     April        Mako Shark (Isurus oxyrinchus)   \n",
       "26    32        1851     Lisha  White Shark (Carcharodon carcharias)   \n",
       "\n",
       "             first_ping           last_ping  \n",
       "35  2012-09-18 09:34:28 2017-06-17 10:54:32  \n",
       "36  2013-03-03 08:03:13 2017-03-15 02:31:34  \n",
       "154 2016-07-09 00:14:38 2019-01-29 20:32:35  \n",
       "40  2013-07-28 17:00:04 2014-06-17 11:17:03  \n",
       "26  2012-05-14 15:43:21 2014-04-03 12:48:57  "
      ]
     },
     "execution_count": 8,
     "metadata": {},
     "output_type": "execute_result"
    }
   ],
   "source": [
    "groups = df.groupby('id')\n",
    "sizes = groups.size()\n",
    "names = groups.name.first()\n",
    "species = groups.species.first()\n",
    "first_ping = groups.datetime.min()\n",
    "last_ping = groups.datetime.max()\n",
    "combined = pd.concat([sizes, names, species, first_ping, last_ping], axis=1).reset_index()\n",
    "combined.columns = ['id', 'ping_count', 'name', 'species', 'first_ping', 'last_ping']\n",
    "combined.sort_values('ping_count', ascending=False).head()"
   ]
  },
  {
   "cell_type": "markdown",
   "metadata": {},
   "source": [
    "##### Longest duration pinger"
   ]
  },
  {
   "cell_type": "code",
   "execution_count": 9,
   "metadata": {
    "ExecuteTime": {
     "end_time": "2019-02-17T19:51:49.229228Z",
     "start_time": "2019-02-17T19:51:49.147240Z"
    }
   },
   "outputs": [
    {
     "data": {
      "text/html": [
       "<div>\n",
       "<style scoped>\n",
       "    .dataframe tbody tr th:only-of-type {\n",
       "        vertical-align: middle;\n",
       "    }\n",
       "\n",
       "    .dataframe tbody tr th {\n",
       "        vertical-align: top;\n",
       "    }\n",
       "\n",
       "    .dataframe thead th {\n",
       "        text-align: right;\n",
       "    }\n",
       "</style>\n",
       "<table border=\"1\" class=\"dataframe\">\n",
       "  <thead>\n",
       "    <tr style=\"text-align: right;\">\n",
       "      <th></th>\n",
       "      <th>id</th>\n",
       "      <th>ping_count</th>\n",
       "      <th>name</th>\n",
       "      <th>species</th>\n",
       "      <th>first_ping</th>\n",
       "      <th>last_ping</th>\n",
       "      <th>duration</th>\n",
       "    </tr>\n",
       "  </thead>\n",
       "  <tbody>\n",
       "    <tr>\n",
       "      <th>45</th>\n",
       "      <td>65</td>\n",
       "      <td>1816</td>\n",
       "      <td>Katharine</td>\n",
       "      <td>White Shark (Carcharodon carcharias)</td>\n",
       "      <td>2013-08-21 04:42:26</td>\n",
       "      <td>2019-01-14 23:49:00</td>\n",
       "      <td>1972 days 19:06:34</td>\n",
       "    </tr>\n",
       "    <tr>\n",
       "      <th>2</th>\n",
       "      <td>5</td>\n",
       "      <td>204</td>\n",
       "      <td>Helen</td>\n",
       "      <td>White Shark (Carcharodon carcharias)</td>\n",
       "      <td>2012-03-10 15:15:10</td>\n",
       "      <td>2017-01-05 05:22:39</td>\n",
       "      <td>1761 days 14:07:29</td>\n",
       "    </tr>\n",
       "    <tr>\n",
       "      <th>35</th>\n",
       "      <td>41</td>\n",
       "      <td>3240</td>\n",
       "      <td>Mary Lee</td>\n",
       "      <td>White Shark (Carcharodon carcharias)</td>\n",
       "      <td>2012-09-18 09:34:28</td>\n",
       "      <td>2017-06-17 10:54:32</td>\n",
       "      <td>1733 days 01:20:04</td>\n",
       "    </tr>\n",
       "    <tr>\n",
       "      <th>36</th>\n",
       "      <td>56</td>\n",
       "      <td>2946</td>\n",
       "      <td>Lydia</td>\n",
       "      <td>White Shark (Carcharodon carcharias)</td>\n",
       "      <td>2013-03-03 08:03:13</td>\n",
       "      <td>2017-03-15 02:31:34</td>\n",
       "      <td>1472 days 18:28:21</td>\n",
       "    </tr>\n",
       "    <tr>\n",
       "      <th>19</th>\n",
       "      <td>25</td>\n",
       "      <td>1578</td>\n",
       "      <td>Cyndi</td>\n",
       "      <td>White Shark (Carcharodon carcharias)</td>\n",
       "      <td>2012-04-14 15:50:25</td>\n",
       "      <td>2015-09-21 15:00:43</td>\n",
       "      <td>1254 days 23:10:18</td>\n",
       "    </tr>\n",
       "  </tbody>\n",
       "</table>\n",
       "</div>"
      ],
      "text/plain": [
       "    id  ping_count       name                               species  \\\n",
       "45  65        1816  Katharine  White Shark (Carcharodon carcharias)   \n",
       "2    5         204     Helen   White Shark (Carcharodon carcharias)   \n",
       "35  41        3240   Mary Lee  White Shark (Carcharodon carcharias)   \n",
       "36  56        2946      Lydia  White Shark (Carcharodon carcharias)   \n",
       "19  25        1578      Cyndi  White Shark (Carcharodon carcharias)   \n",
       "\n",
       "            first_ping           last_ping           duration  \n",
       "45 2013-08-21 04:42:26 2019-01-14 23:49:00 1972 days 19:06:34  \n",
       "2  2012-03-10 15:15:10 2017-01-05 05:22:39 1761 days 14:07:29  \n",
       "35 2012-09-18 09:34:28 2017-06-17 10:54:32 1733 days 01:20:04  \n",
       "36 2013-03-03 08:03:13 2017-03-15 02:31:34 1472 days 18:28:21  \n",
       "19 2012-04-14 15:50:25 2015-09-21 15:00:43 1254 days 23:10:18  "
      ]
     },
     "execution_count": 9,
     "metadata": {},
     "output_type": "execute_result"
    }
   ],
   "source": [
    "combined['duration'] = combined.last_ping - combined.first_ping\n",
    "combined.sort_values('duration', ascending=False).head()"
   ]
  },
  {
   "cell_type": "markdown",
   "metadata": {},
   "source": [
    "##### Individual count by species"
   ]
  },
  {
   "cell_type": "code",
   "execution_count": 10,
   "metadata": {
    "ExecuteTime": {
     "end_time": "2019-02-17T19:51:49.319199Z",
     "start_time": "2019-02-17T19:51:49.230212Z"
    }
   },
   "outputs": [
    {
     "data": {
      "text/plain": [
       "species\n",
       "Tiger Shark  (Galeocerdo cuvier)        82\n",
       "White Shark (Carcharodon carcharias)    74\n",
       "Blue Shark (Prionace glauca)            27\n",
       "Mako Shark (Isurus oxyrinchus)          18\n",
       "Hammerhead Shark (Sphyrna)              18\n",
       "Name: id, dtype: int64"
      ]
     },
     "execution_count": 10,
     "metadata": {},
     "output_type": "execute_result"
    }
   ],
   "source": [
    "df.groupby('species').id.nunique().sort_values(ascending=False).head()"
   ]
  },
  {
   "cell_type": "markdown",
   "metadata": {},
   "source": [
    "##### Average length/weight by species"
   ]
  },
  {
   "cell_type": "code",
   "execution_count": 11,
   "metadata": {
    "ExecuteTime": {
     "end_time": "2019-02-17T19:51:49.425151Z",
     "start_time": "2019-02-17T19:51:49.320183Z"
    }
   },
   "outputs": [
    {
     "data": {
      "text/html": [
       "<div>\n",
       "<style scoped>\n",
       "    .dataframe tbody tr th:only-of-type {\n",
       "        vertical-align: middle;\n",
       "    }\n",
       "\n",
       "    .dataframe tbody tr th {\n",
       "        vertical-align: top;\n",
       "    }\n",
       "\n",
       "    .dataframe thead th {\n",
       "        text-align: right;\n",
       "    }\n",
       "</style>\n",
       "<table border=\"1\" class=\"dataframe\">\n",
       "  <thead>\n",
       "    <tr style=\"text-align: right;\">\n",
       "      <th></th>\n",
       "      <th>weight</th>\n",
       "      <th>length</th>\n",
       "      <th>id</th>\n",
       "    </tr>\n",
       "    <tr>\n",
       "      <th>species</th>\n",
       "      <th></th>\n",
       "      <th></th>\n",
       "      <th></th>\n",
       "    </tr>\n",
       "  </thead>\n",
       "  <tbody>\n",
       "    <tr>\n",
       "      <th>Whale Shark (Rhincodon Typus)</th>\n",
       "      <td>25000.000000</td>\n",
       "      <td>327.906977</td>\n",
       "      <td>3</td>\n",
       "    </tr>\n",
       "    <tr>\n",
       "      <th>Bull Shark (Carcharhinus leucas)</th>\n",
       "      <td>290.400000</td>\n",
       "      <td>89.781022</td>\n",
       "      <td>4</td>\n",
       "    </tr>\n",
       "    <tr>\n",
       "      <th>Silky Shark (Carcharhinus falciformis)</th>\n",
       "      <td>132.881671</td>\n",
       "      <td>76.965197</td>\n",
       "      <td>4</td>\n",
       "    </tr>\n",
       "    <tr>\n",
       "      <th>Blacktip Shark (Carcharhinus limbatus)</th>\n",
       "      <td>138.378910</td>\n",
       "      <td>80.316209</td>\n",
       "      <td>9</td>\n",
       "    </tr>\n",
       "    <tr>\n",
       "      <th>Hammerhead Shark (Sphyrna)</th>\n",
       "      <td>126.532226</td>\n",
       "      <td>93.813093</td>\n",
       "      <td>18</td>\n",
       "    </tr>\n",
       "    <tr>\n",
       "      <th>Mako Shark (Isurus oxyrinchus)</th>\n",
       "      <td>240.451871</td>\n",
       "      <td>82.446834</td>\n",
       "      <td>18</td>\n",
       "    </tr>\n",
       "    <tr>\n",
       "      <th>Blue Shark (Prionace glauca)</th>\n",
       "      <td>243.634091</td>\n",
       "      <td>106.028852</td>\n",
       "      <td>27</td>\n",
       "    </tr>\n",
       "    <tr>\n",
       "      <th>White Shark (Carcharodon carcharias)</th>\n",
       "      <td>1555.265789</td>\n",
       "      <td>147.144227</td>\n",
       "      <td>74</td>\n",
       "    </tr>\n",
       "    <tr>\n",
       "      <th>Tiger Shark  (Galeocerdo cuvier)</th>\n",
       "      <td>467.917390</td>\n",
       "      <td>119.175229</td>\n",
       "      <td>82</td>\n",
       "    </tr>\n",
       "  </tbody>\n",
       "</table>\n",
       "</div>"
      ],
      "text/plain": [
       "                                              weight      length  id\n",
       "species                                                             \n",
       "Whale Shark (Rhincodon Typus)           25000.000000  327.906977   3\n",
       "Bull Shark (Carcharhinus leucas)          290.400000   89.781022   4\n",
       "Silky Shark (Carcharhinus falciformis)    132.881671   76.965197   4\n",
       "Blacktip Shark (Carcharhinus limbatus)    138.378910   80.316209   9\n",
       "Hammerhead Shark (Sphyrna)                126.532226   93.813093  18\n",
       "Mako Shark (Isurus oxyrinchus)            240.451871   82.446834  18\n",
       "Blue Shark (Prionace glauca)              243.634091  106.028852  27\n",
       "White Shark (Carcharodon carcharias)     1555.265789  147.144227  74\n",
       "Tiger Shark  (Galeocerdo cuvier)          467.917390  119.175229  82"
      ]
     },
     "execution_count": 11,
     "metadata": {},
     "output_type": "execute_result"
    }
   ],
   "source": [
    "df.groupby('species').agg({'weight' : 'mean', 'length' : 'mean', 'id' : 'nunique'}).sort_values('id')"
   ]
  },
  {
   "cell_type": "markdown",
   "metadata": {},
   "source": [
    "##### Biggest geographic box"
   ]
  },
  {
   "cell_type": "code",
   "execution_count": 12,
   "metadata": {
    "ExecuteTime": {
     "end_time": "2019-02-17T19:51:49.549108Z",
     "start_time": "2019-02-17T19:51:49.426151Z"
    }
   },
   "outputs": [
    {
     "data": {
      "text/html": [
       "<div>\n",
       "<style scoped>\n",
       "    .dataframe tbody tr th:only-of-type {\n",
       "        vertical-align: middle;\n",
       "    }\n",
       "\n",
       "    .dataframe tbody tr th {\n",
       "        vertical-align: top;\n",
       "    }\n",
       "\n",
       "    .dataframe thead th {\n",
       "        text-align: right;\n",
       "    }\n",
       "</style>\n",
       "<table border=\"1\" class=\"dataframe\">\n",
       "  <thead>\n",
       "    <tr style=\"text-align: right;\">\n",
       "      <th></th>\n",
       "      <th>id</th>\n",
       "      <th>min_lat</th>\n",
       "      <th>min_lon</th>\n",
       "      <th>max_lat</th>\n",
       "      <th>max_lon</th>\n",
       "      <th>name</th>\n",
       "      <th>species</th>\n",
       "    </tr>\n",
       "  </thead>\n",
       "  <tbody>\n",
       "    <tr>\n",
       "      <th>0</th>\n",
       "      <td>3</td>\n",
       "      <td>-34.88268</td>\n",
       "      <td>19.374590</td>\n",
       "      <td>-34.05394</td>\n",
       "      <td>22.64236</td>\n",
       "      <td>Oprah</td>\n",
       "      <td>White Shark (Carcharodon carcharias)</td>\n",
       "    </tr>\n",
       "    <tr>\n",
       "      <th>1</th>\n",
       "      <td>4</td>\n",
       "      <td>-36.70300</td>\n",
       "      <td>20.535038</td>\n",
       "      <td>-34.06300</td>\n",
       "      <td>22.74626</td>\n",
       "      <td>Albertina</td>\n",
       "      <td>White Shark (Carcharodon carcharias)</td>\n",
       "    </tr>\n",
       "    <tr>\n",
       "      <th>2</th>\n",
       "      <td>5</td>\n",
       "      <td>-37.23623</td>\n",
       "      <td>18.536350</td>\n",
       "      <td>-19.50057</td>\n",
       "      <td>37.84922</td>\n",
       "      <td>Helen</td>\n",
       "      <td>White Shark (Carcharodon carcharias)</td>\n",
       "    </tr>\n",
       "    <tr>\n",
       "      <th>3</th>\n",
       "      <td>6</td>\n",
       "      <td>-34.98600</td>\n",
       "      <td>19.061580</td>\n",
       "      <td>-24.77363</td>\n",
       "      <td>34.84301</td>\n",
       "      <td>Brenda</td>\n",
       "      <td>White Shark (Carcharodon carcharias)</td>\n",
       "    </tr>\n",
       "    <tr>\n",
       "      <th>4</th>\n",
       "      <td>7</td>\n",
       "      <td>-35.46100</td>\n",
       "      <td>17.916810</td>\n",
       "      <td>-32.74300</td>\n",
       "      <td>27.97646</td>\n",
       "      <td>Madiba</td>\n",
       "      <td>White Shark (Carcharodon carcharias)</td>\n",
       "    </tr>\n",
       "  </tbody>\n",
       "</table>\n",
       "</div>"
      ],
      "text/plain": [
       "   id   min_lat    min_lon   max_lat   max_lon        name  \\\n",
       "0   3 -34.88268  19.374590 -34.05394  22.64236       Oprah   \n",
       "1   4 -36.70300  20.535038 -34.06300  22.74626  Albertina    \n",
       "2   5 -37.23623  18.536350 -19.50057  37.84922      Helen    \n",
       "3   6 -34.98600  19.061580 -24.77363  34.84301     Brenda    \n",
       "4   7 -35.46100  17.916810 -32.74300  27.97646      Madiba   \n",
       "\n",
       "                                species  \n",
       "0  White Shark (Carcharodon carcharias)  \n",
       "1  White Shark (Carcharodon carcharias)  \n",
       "2  White Shark (Carcharodon carcharias)  \n",
       "3  White Shark (Carcharodon carcharias)  \n",
       "4  White Shark (Carcharodon carcharias)  "
      ]
     },
     "execution_count": 12,
     "metadata": {},
     "output_type": "execute_result"
    }
   ],
   "source": [
    "groups = df.groupby('id')\n",
    "combined = pd.concat([groups.latitude.min(), \n",
    "                      groups.longitude.min(), \n",
    "                      groups.latitude.max(), \n",
    "                      groups.longitude.max(), \n",
    "                      groups.name.first(), \n",
    "                      groups.species.first()], axis=1).reset_index()\n",
    "combined.columns = ['id', 'min_lat', 'min_lon', 'max_lat', 'max_lon', 'name', 'species']\n",
    "combined.head()"
   ]
  },
  {
   "cell_type": "code",
   "execution_count": 13,
   "metadata": {
    "ExecuteTime": {
     "end_time": "2019-02-17T19:51:49.637097Z",
     "start_time": "2019-02-17T19:51:49.550110Z"
    }
   },
   "outputs": [
    {
     "data": {
      "text/html": [
       "<div>\n",
       "<style scoped>\n",
       "    .dataframe tbody tr th:only-of-type {\n",
       "        vertical-align: middle;\n",
       "    }\n",
       "\n",
       "    .dataframe tbody tr th {\n",
       "        vertical-align: top;\n",
       "    }\n",
       "\n",
       "    .dataframe thead th {\n",
       "        text-align: right;\n",
       "    }\n",
       "</style>\n",
       "<table border=\"1\" class=\"dataframe\">\n",
       "  <thead>\n",
       "    <tr style=\"text-align: right;\">\n",
       "      <th></th>\n",
       "      <th>id</th>\n",
       "      <th>min_lat</th>\n",
       "      <th>min_lon</th>\n",
       "      <th>max_lat</th>\n",
       "      <th>max_lon</th>\n",
       "      <th>name</th>\n",
       "      <th>species</th>\n",
       "      <th>lat_diff</th>\n",
       "      <th>lon_diff</th>\n",
       "      <th>area</th>\n",
       "    </tr>\n",
       "  </thead>\n",
       "  <tbody>\n",
       "    <tr>\n",
       "      <th>29</th>\n",
       "      <td>35</td>\n",
       "      <td>-41.37174</td>\n",
       "      <td>18.51500</td>\n",
       "      <td>-6.15888</td>\n",
       "      <td>71.09830</td>\n",
       "      <td>Kathryn</td>\n",
       "      <td>White Shark (Carcharodon carcharias)</td>\n",
       "      <td>35.21286</td>\n",
       "      <td>52.58330</td>\n",
       "      <td>1851.608381</td>\n",
       "    </tr>\n",
       "    <tr>\n",
       "      <th>36</th>\n",
       "      <td>56</td>\n",
       "      <td>23.53902</td>\n",
       "      <td>-81.38180</td>\n",
       "      <td>53.65843</td>\n",
       "      <td>-27.48272</td>\n",
       "      <td>Lydia</td>\n",
       "      <td>White Shark (Carcharodon carcharias)</td>\n",
       "      <td>30.11941</td>\n",
       "      <td>53.89908</td>\n",
       "      <td>1623.408489</td>\n",
       "    </tr>\n",
       "    <tr>\n",
       "      <th>24</th>\n",
       "      <td>30</td>\n",
       "      <td>-43.21756</td>\n",
       "      <td>8.06196</td>\n",
       "      <td>-19.11709</td>\n",
       "      <td>66.72966</td>\n",
       "      <td>Vindication</td>\n",
       "      <td>White Shark (Carcharodon carcharias)</td>\n",
       "      <td>24.10047</td>\n",
       "      <td>58.66770</td>\n",
       "      <td>1413.919144</td>\n",
       "    </tr>\n",
       "    <tr>\n",
       "      <th>19</th>\n",
       "      <td>25</td>\n",
       "      <td>-45.61157</td>\n",
       "      <td>18.23305</td>\n",
       "      <td>-14.95129</td>\n",
       "      <td>61.87323</td>\n",
       "      <td>Cyndi</td>\n",
       "      <td>White Shark (Carcharodon carcharias)</td>\n",
       "      <td>30.66028</td>\n",
       "      <td>43.64018</td>\n",
       "      <td>1338.020138</td>\n",
       "    </tr>\n",
       "    <tr>\n",
       "      <th>30</th>\n",
       "      <td>36</td>\n",
       "      <td>-38.82461</td>\n",
       "      <td>17.47565</td>\n",
       "      <td>-10.52038</td>\n",
       "      <td>62.65514</td>\n",
       "      <td>Success</td>\n",
       "      <td>White Shark (Carcharodon carcharias)</td>\n",
       "      <td>28.30423</td>\n",
       "      <td>45.17949</td>\n",
       "      <td>1278.770676</td>\n",
       "    </tr>\n",
       "  </tbody>\n",
       "</table>\n",
       "</div>"
      ],
      "text/plain": [
       "    id   min_lat   min_lon   max_lat   max_lon         name  \\\n",
       "29  35 -41.37174  18.51500  -6.15888  71.09830      Kathryn   \n",
       "36  56  23.53902 -81.38180  53.65843 -27.48272        Lydia   \n",
       "24  30 -43.21756   8.06196 -19.11709  66.72966  Vindication   \n",
       "19  25 -45.61157  18.23305 -14.95129  61.87323        Cyndi   \n",
       "30  36 -38.82461  17.47565 -10.52038  62.65514      Success   \n",
       "\n",
       "                                 species  lat_diff  lon_diff         area  \n",
       "29  White Shark (Carcharodon carcharias)  35.21286  52.58330  1851.608381  \n",
       "36  White Shark (Carcharodon carcharias)  30.11941  53.89908  1623.408489  \n",
       "24  White Shark (Carcharodon carcharias)  24.10047  58.66770  1413.919144  \n",
       "19  White Shark (Carcharodon carcharias)  30.66028  43.64018  1338.020138  \n",
       "30  White Shark (Carcharodon carcharias)  28.30423  45.17949  1278.770676  "
      ]
     },
     "execution_count": 13,
     "metadata": {},
     "output_type": "execute_result"
    }
   ],
   "source": [
    "combined['lat_diff'] = combined.max_lat - combined.min_lat\n",
    "combined['lon_diff'] = combined.max_lon - combined.min_lon\n",
    "combined['area'] = combined['lat_diff'] * combined['lon_diff']\n",
    "combined.sort_values('area', ascending=False).head()"
   ]
  },
  {
   "cell_type": "code",
   "execution_count": null,
   "metadata": {},
   "outputs": [],
   "source": []
  }
 ],
 "metadata": {
  "kernelspec": {
   "display_name": "Python3.6",
   "language": "python",
   "name": "py36"
  },
  "language_info": {
   "codemirror_mode": {
    "name": "ipython",
    "version": 3
   },
   "file_extension": ".py",
   "mimetype": "text/x-python",
   "name": "python",
   "nbconvert_exporter": "python",
   "pygments_lexer": "ipython3",
   "version": "3.6.2"
  },
  "toc": {
   "base_numbering": 1,
   "nav_menu": {},
   "number_sections": true,
   "sideBar": true,
   "skip_h1_title": false,
   "title_cell": "Table of Contents",
   "title_sidebar": "Contents",
   "toc_cell": false,
   "toc_position": {},
   "toc_section_display": true,
   "toc_window_display": true
  }
 },
 "nbformat": 4,
 "nbformat_minor": 2
}
