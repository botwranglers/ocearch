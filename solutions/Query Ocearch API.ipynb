{
 "cells": [
  {
   "cell_type": "markdown",
   "metadata": {},
   "source": [
    "### Introduction\n",
    "\n",
    "[Ocearch.org](https://www.ocearch.org/about/) is an organization that collects data on marine wildlife including Sharks.  This notebook will pull in data from the ocearch.org tracker and format it for follow on analysis"
   ]
  },
  {
   "cell_type": "markdown",
   "metadata": {},
   "source": [
    "### Code"
   ]
  },
  {
   "cell_type": "markdown",
   "metadata": {},
   "source": [
    "#### Pull data"
   ]
  },
  {
   "cell_type": "code",
   "execution_count": 1,
   "metadata": {
    "ExecuteTime": {
     "end_time": "2019-02-17T19:52:21.442769Z",
     "start_time": "2019-02-17T19:52:05.749873Z"
    }
   },
   "outputs": [
    {
     "data": {
      "text/plain": [
       "<Response [200]>"
      ]
     },
     "execution_count": 1,
     "metadata": {},
     "output_type": "execute_result"
    }
   ],
   "source": [
    "import requests\n",
    "url = \"http://www.ocearch.org/tracker/ajax/filter-sharks\"\n",
    "headers = {'Accept' : 'application/json'}\n",
    "resp = requests.get(url, headers=headers)\n",
    "resp"
   ]
  },
  {
   "cell_type": "markdown",
   "metadata": {},
   "source": [
    "#### Explore data"
   ]
  },
  {
   "cell_type": "code",
   "execution_count": 2,
   "metadata": {
    "ExecuteTime": {
     "end_time": "2019-02-17T19:52:21.626710Z",
     "start_time": "2019-02-17T19:52:21.443770Z"
    }
   },
   "outputs": [
    {
     "name": "stdout",
     "output_type": "stream",
     "text": [
      "active 1\n",
      "cnt_inactive_pings 0\n",
      "description <p>Oprah was named by expedition leader Chris Fischer. Fischer named her after Oprah Winfrey, one of America&#39;s great philanthropists who has done much with education in Africa.</p>\r\n",
      "\n",
      "dist_24_hours 0.000\n",
      "dist_72_hours 0.000\n",
      "dist_total 2816.662\n",
      "gender Female\n",
      "id 3\n",
      "images [{'id': '218', 'filename': 'Screen Shot 2013-06-20 at 11.15.57 AM.png', 'encrypted_name': '4ffefafc2f699e5837c56cb2043b9798', 'description': None, 'is_primary': True}, {'id': '188', 'filename': 'Scree\n",
      "isMobile False\n",
      "is_alive 1\n",
      "last_updated 1531850549\n",
      "latestPing 1404703826\n",
      "length 9 ft 10 in.\n",
      "name Oprah\n",
      "pingAge sharkmore30\n",
      "pingCriteria {'interval': '30 year'}\n",
      "pings [{'active': '1', 'id': '36902', 'datetime': '6 July 2014 1:57:28 PM', 'tz_datetime': '6 July 2014 1:57:28 PM +0900', 'latitude': '-34.60661', 'longitude': '21.15244'}, {'active': '1', 'id': '36666', '\n",
      "platform None\n",
      "profile_url http://dev.ocearch.org/profile/oprah/\n",
      "species White Shark (Carcharodon carcharias)\n",
      "species_icons {'web': {'blue': '', 'red': ''}, 'mobile': {'blue': 'http://dev.ocearch.org/tracker/images/mobile/blue.png', 'red': 'http://dev.ocearch.org/tracker/images/mobile/red.png'}}\n",
      "species_id 1\n",
      "stageOfLife Sub-Adult\n",
      "tagDate 7 March 2012\n",
      "tagIdNumber 117480\n",
      "tagLocation Mossel Bay, South Africa\n",
      "videos []\n",
      "weight 686 lb\n",
      "zping 7 July 2014 12:30:26 PM +0900\n"
     ]
    }
   ],
   "source": [
    "for k, v in sorted(resp.json()[0].items()):\n",
    "    print(k, str(v)[:200])"
   ]
  },
  {
   "cell_type": "markdown",
   "metadata": {},
   "source": [
    "#### Parse main json response"
   ]
  },
  {
   "cell_type": "code",
   "execution_count": 3,
   "metadata": {
    "ExecuteTime": {
     "end_time": "2019-02-17T19:52:22.142541Z",
     "start_time": "2019-02-17T19:52:21.627709Z"
    }
   },
   "outputs": [
    {
     "data": {
      "text/html": [
       "<div>\n",
       "<style scoped>\n",
       "    .dataframe tbody tr th:only-of-type {\n",
       "        vertical-align: middle;\n",
       "    }\n",
       "\n",
       "    .dataframe tbody tr th {\n",
       "        vertical-align: top;\n",
       "    }\n",
       "\n",
       "    .dataframe thead th {\n",
       "        text-align: right;\n",
       "    }\n",
       "</style>\n",
       "<table border=\"1\" class=\"dataframe\">\n",
       "  <thead>\n",
       "    <tr style=\"text-align: right;\">\n",
       "      <th></th>\n",
       "      <th>id</th>\n",
       "      <th>name</th>\n",
       "      <th>gender</th>\n",
       "      <th>species</th>\n",
       "      <th>weight</th>\n",
       "      <th>length</th>\n",
       "      <th>tagDate</th>\n",
       "      <th>dist_total</th>\n",
       "    </tr>\n",
       "  </thead>\n",
       "  <tbody>\n",
       "    <tr>\n",
       "      <th>0</th>\n",
       "      <td>3</td>\n",
       "      <td>Oprah</td>\n",
       "      <td>Female</td>\n",
       "      <td>White Shark (Carcharodon carcharias)</td>\n",
       "      <td>686 lb</td>\n",
       "      <td>9 ft 10 in.</td>\n",
       "      <td>7 March 2012</td>\n",
       "      <td>2816.662</td>\n",
       "    </tr>\n",
       "    <tr>\n",
       "      <th>1</th>\n",
       "      <td>4</td>\n",
       "      <td>Albertina</td>\n",
       "      <td>Female</td>\n",
       "      <td>White Shark (Carcharodon carcharias)</td>\n",
       "      <td>1110 lb</td>\n",
       "      <td>11 ft 6 in.</td>\n",
       "      <td>8 March 2012</td>\n",
       "      <td>1830.593</td>\n",
       "    </tr>\n",
       "    <tr>\n",
       "      <th>2</th>\n",
       "      <td>5</td>\n",
       "      <td>Helen</td>\n",
       "      <td>Female</td>\n",
       "      <td>White Shark (Carcharodon carcharias)</td>\n",
       "      <td>765 lb</td>\n",
       "      <td>10 ft 2 in.</td>\n",
       "      <td>8 March 2012</td>\n",
       "      <td>4436.661</td>\n",
       "    </tr>\n",
       "    <tr>\n",
       "      <th>3</th>\n",
       "      <td>6</td>\n",
       "      <td>Brenda</td>\n",
       "      <td>Female</td>\n",
       "      <td>White Shark (Carcharodon carcharias)</td>\n",
       "      <td>1310 lb</td>\n",
       "      <td>12 ft 2 in.</td>\n",
       "      <td>8 March 2012</td>\n",
       "      <td>2966.902</td>\n",
       "    </tr>\n",
       "    <tr>\n",
       "      <th>4</th>\n",
       "      <td>7</td>\n",
       "      <td>Madiba</td>\n",
       "      <td>Male</td>\n",
       "      <td>White Shark (Carcharodon carcharias)</td>\n",
       "      <td>659 lb</td>\n",
       "      <td>9 ft 8 in.</td>\n",
       "      <td>8 March 2012</td>\n",
       "      <td>3537.423</td>\n",
       "    </tr>\n",
       "  </tbody>\n",
       "</table>\n",
       "</div>"
      ],
      "text/plain": [
       "   id        name  gender                               species   weight  \\\n",
       "0   3       Oprah  Female  White Shark (Carcharodon carcharias)   686 lb   \n",
       "1   4  Albertina   Female  White Shark (Carcharodon carcharias)  1110 lb   \n",
       "2   5      Helen   Female  White Shark (Carcharodon carcharias)   765 lb   \n",
       "3   6     Brenda   Female  White Shark (Carcharodon carcharias)  1310 lb   \n",
       "4   7      Madiba    Male  White Shark (Carcharodon carcharias)   659 lb   \n",
       "\n",
       "          length       tagDate dist_total  \n",
       "0    9 ft 10 in.  7 March 2012   2816.662  \n",
       "1   11 ft 6 in.   8 March 2012   1830.593  \n",
       "2    10 ft 2 in.  8 March 2012   4436.661  \n",
       "3  12 ft 2 in.    8 March 2012   2966.902  \n",
       "4    9 ft 8 in.   8 March 2012   3537.423  "
      ]
     },
     "execution_count": 3,
     "metadata": {},
     "output_type": "execute_result"
    }
   ],
   "source": [
    "import pandas as pd\n",
    "df = pd.DataFrame(resp.json())\n",
    "columns = ['id', 'name', 'gender', 'species', 'weight', 'length', 'tagDate', 'dist_total']\n",
    "df[columns].head()"
   ]
  },
  {
   "cell_type": "markdown",
   "metadata": {},
   "source": [
    "#### Filter out non-shark data"
   ]
  },
  {
   "cell_type": "code",
   "execution_count": 4,
   "metadata": {
    "ExecuteTime": {
     "end_time": "2019-02-17T19:52:22.148540Z",
     "start_time": "2019-02-17T19:52:22.143541Z"
    }
   },
   "outputs": [
    {
     "data": {
      "text/plain": [
       "(275, 30)"
      ]
     },
     "execution_count": 4,
     "metadata": {},
     "output_type": "execute_result"
    }
   ],
   "source": [
    "df.shape"
   ]
  },
  {
   "cell_type": "code",
   "execution_count": 5,
   "metadata": {
    "ExecuteTime": {
     "end_time": "2019-02-17T19:52:22.209525Z",
     "start_time": "2019-02-17T19:52:22.149540Z"
    }
   },
   "outputs": [
    {
     "data": {
      "text/plain": [
       "(239, 30)"
      ]
     },
     "execution_count": 5,
     "metadata": {},
     "output_type": "execute_result"
    }
   ],
   "source": [
    "df = df[df.species.fillna('').str.contains('shark', case=False)]\n",
    "df.shape"
   ]
  },
  {
   "cell_type": "markdown",
   "metadata": {},
   "source": [
    "#### Extract ping data\n",
    "Each row in the dataframe represents an individual shark, but may have hundreds or thousands of 'pings' associated with that shark"
   ]
  },
  {
   "cell_type": "code",
   "execution_count": 6,
   "metadata": {
    "ExecuteTime": {
     "end_time": "2019-02-17T19:52:22.267518Z",
     "start_time": "2019-02-17T19:52:22.210520Z"
    }
   },
   "outputs": [
    {
     "data": {
      "text/plain": [
       "[{'active': '1',\n",
       "  'datetime': '6 July 2014 1:57:28 PM',\n",
       "  'id': '36902',\n",
       "  'latitude': '-34.60661',\n",
       "  'longitude': '21.15244',\n",
       "  'tz_datetime': '6 July 2014 1:57:28 PM +0900'},\n",
       " {'active': '1',\n",
       "  'datetime': '23 June 2014 11:40:09 AM',\n",
       "  'id': '36666',\n",
       "  'latitude': '-34.78752',\n",
       "  'longitude': '19.42479',\n",
       "  'tz_datetime': '23 June 2014 11:40:09 AM +0900'},\n",
       " {'active': '1',\n",
       "  'datetime': '15 June 2014 10:15:44 PM',\n",
       "  'id': '36500',\n",
       "  'latitude': '-34.42487',\n",
       "  'longitude': '21.09754',\n",
       "  'tz_datetime': '15 June 2014 10:15:44 PM +0900'}]"
      ]
     },
     "execution_count": 6,
     "metadata": {},
     "output_type": "execute_result"
    }
   ],
   "source": [
    "df.pings[0][:3]"
   ]
  },
  {
   "cell_type": "code",
   "execution_count": 7,
   "metadata": {
    "ExecuteTime": {
     "end_time": "2019-02-17T19:52:22.619388Z",
     "start_time": "2019-02-17T19:52:22.268503Z"
    }
   },
   "outputs": [
    {
     "data": {
      "text/plain": [
       "239"
      ]
     },
     "execution_count": 7,
     "metadata": {},
     "output_type": "execute_result"
    }
   ],
   "source": [
    "ping_frames = []\n",
    "for row in df.itertuples():\n",
    "    ping_frame = pd.DataFrame(row.pings)\n",
    "    ping_frame['id'] = row.id\n",
    "    ping_frames.append(ping_frame)\n",
    "    \n",
    "len(ping_frames)"
   ]
  },
  {
   "cell_type": "code",
   "execution_count": 8,
   "metadata": {
    "ExecuteTime": {
     "end_time": "2019-02-17T19:52:22.631383Z",
     "start_time": "2019-02-17T19:52:22.620387Z"
    }
   },
   "outputs": [
    {
     "data": {
      "text/html": [
       "<div>\n",
       "<style scoped>\n",
       "    .dataframe tbody tr th:only-of-type {\n",
       "        vertical-align: middle;\n",
       "    }\n",
       "\n",
       "    .dataframe tbody tr th {\n",
       "        vertical-align: top;\n",
       "    }\n",
       "\n",
       "    .dataframe thead th {\n",
       "        text-align: right;\n",
       "    }\n",
       "</style>\n",
       "<table border=\"1\" class=\"dataframe\">\n",
       "  <thead>\n",
       "    <tr style=\"text-align: right;\">\n",
       "      <th></th>\n",
       "      <th>active</th>\n",
       "      <th>datetime</th>\n",
       "      <th>id</th>\n",
       "      <th>latitude</th>\n",
       "      <th>longitude</th>\n",
       "      <th>tz_datetime</th>\n",
       "    </tr>\n",
       "  </thead>\n",
       "  <tbody>\n",
       "    <tr>\n",
       "      <th>0</th>\n",
       "      <td>1</td>\n",
       "      <td>6 July 2014 1:57:28 PM</td>\n",
       "      <td>3</td>\n",
       "      <td>-34.60661</td>\n",
       "      <td>21.15244</td>\n",
       "      <td>6 July 2014 1:57:28 PM +0900</td>\n",
       "    </tr>\n",
       "    <tr>\n",
       "      <th>1</th>\n",
       "      <td>1</td>\n",
       "      <td>23 June 2014 11:40:09 AM</td>\n",
       "      <td>3</td>\n",
       "      <td>-34.78752</td>\n",
       "      <td>19.42479</td>\n",
       "      <td>23 June 2014 11:40:09 AM +0900</td>\n",
       "    </tr>\n",
       "    <tr>\n",
       "      <th>2</th>\n",
       "      <td>1</td>\n",
       "      <td>15 June 2014 10:15:44 PM</td>\n",
       "      <td>3</td>\n",
       "      <td>-34.42487</td>\n",
       "      <td>21.09754</td>\n",
       "      <td>15 June 2014 10:15:44 PM +0900</td>\n",
       "    </tr>\n",
       "    <tr>\n",
       "      <th>3</th>\n",
       "      <td>1</td>\n",
       "      <td>3 June 2014 11:23:57 AM</td>\n",
       "      <td>3</td>\n",
       "      <td>-34.70432271674724</td>\n",
       "      <td>20.21013441406251</td>\n",
       "      <td>3 June 2014 11:23:57 AM +0900</td>\n",
       "    </tr>\n",
       "    <tr>\n",
       "      <th>4</th>\n",
       "      <td>1</td>\n",
       "      <td>29 May 2014 4:53:57 AM</td>\n",
       "      <td>3</td>\n",
       "      <td>-34.65556</td>\n",
       "      <td>19.37459</td>\n",
       "      <td>29 May 2014 4:53:57 AM +0900</td>\n",
       "    </tr>\n",
       "  </tbody>\n",
       "</table>\n",
       "</div>"
      ],
      "text/plain": [
       "  active                  datetime  id            latitude          longitude  \\\n",
       "0      1    6 July 2014 1:57:28 PM   3           -34.60661           21.15244   \n",
       "1      1  23 June 2014 11:40:09 AM   3           -34.78752           19.42479   \n",
       "2      1  15 June 2014 10:15:44 PM   3           -34.42487           21.09754   \n",
       "3      1   3 June 2014 11:23:57 AM   3  -34.70432271674724  20.21013441406251   \n",
       "4      1    29 May 2014 4:53:57 AM   3           -34.65556           19.37459   \n",
       "\n",
       "                      tz_datetime  \n",
       "0    6 July 2014 1:57:28 PM +0900  \n",
       "1  23 June 2014 11:40:09 AM +0900  \n",
       "2  15 June 2014 10:15:44 PM +0900  \n",
       "3   3 June 2014 11:23:57 AM +0900  \n",
       "4    29 May 2014 4:53:57 AM +0900  "
      ]
     },
     "execution_count": 8,
     "metadata": {},
     "output_type": "execute_result"
    }
   ],
   "source": [
    "ping_frames[0].head()"
   ]
  },
  {
   "cell_type": "markdown",
   "metadata": {},
   "source": [
    "#### Merge ping data"
   ]
  },
  {
   "cell_type": "code",
   "execution_count": 9,
   "metadata": {
    "ExecuteTime": {
     "end_time": "2019-02-17T19:52:22.791348Z",
     "start_time": "2019-02-17T19:52:22.632383Z"
    }
   },
   "outputs": [
    {
     "data": {
      "text/plain": [
       "(65793, 6)"
      ]
     },
     "execution_count": 9,
     "metadata": {},
     "output_type": "execute_result"
    }
   ],
   "source": [
    "pings = pd.concat(ping_frames)\n",
    "pings.shape"
   ]
  },
  {
   "cell_type": "code",
   "execution_count": 10,
   "metadata": {
    "ExecuteTime": {
     "end_time": "2019-02-17T19:52:22.812339Z",
     "start_time": "2019-02-17T19:52:22.792332Z"
    }
   },
   "outputs": [
    {
     "data": {
      "text/html": [
       "<div>\n",
       "<style scoped>\n",
       "    .dataframe tbody tr th:only-of-type {\n",
       "        vertical-align: middle;\n",
       "    }\n",
       "\n",
       "    .dataframe tbody tr th {\n",
       "        vertical-align: top;\n",
       "    }\n",
       "\n",
       "    .dataframe thead th {\n",
       "        text-align: right;\n",
       "    }\n",
       "</style>\n",
       "<table border=\"1\" class=\"dataframe\">\n",
       "  <thead>\n",
       "    <tr style=\"text-align: right;\">\n",
       "      <th></th>\n",
       "      <th>active</th>\n",
       "      <th>datetime</th>\n",
       "      <th>id</th>\n",
       "      <th>latitude</th>\n",
       "      <th>longitude</th>\n",
       "      <th>tz_datetime</th>\n",
       "    </tr>\n",
       "  </thead>\n",
       "  <tbody>\n",
       "    <tr>\n",
       "      <th>0</th>\n",
       "      <td>1</td>\n",
       "      <td>6 July 2014 1:57:28 PM</td>\n",
       "      <td>3</td>\n",
       "      <td>-34.60661</td>\n",
       "      <td>21.15244</td>\n",
       "      <td>6 July 2014 1:57:28 PM +0900</td>\n",
       "    </tr>\n",
       "    <tr>\n",
       "      <th>1</th>\n",
       "      <td>1</td>\n",
       "      <td>23 June 2014 11:40:09 AM</td>\n",
       "      <td>3</td>\n",
       "      <td>-34.78752</td>\n",
       "      <td>19.42479</td>\n",
       "      <td>23 June 2014 11:40:09 AM +0900</td>\n",
       "    </tr>\n",
       "    <tr>\n",
       "      <th>2</th>\n",
       "      <td>1</td>\n",
       "      <td>15 June 2014 10:15:44 PM</td>\n",
       "      <td>3</td>\n",
       "      <td>-34.42487</td>\n",
       "      <td>21.09754</td>\n",
       "      <td>15 June 2014 10:15:44 PM +0900</td>\n",
       "    </tr>\n",
       "    <tr>\n",
       "      <th>3</th>\n",
       "      <td>1</td>\n",
       "      <td>3 June 2014 11:23:57 AM</td>\n",
       "      <td>3</td>\n",
       "      <td>-34.70432271674724</td>\n",
       "      <td>20.21013441406251</td>\n",
       "      <td>3 June 2014 11:23:57 AM +0900</td>\n",
       "    </tr>\n",
       "    <tr>\n",
       "      <th>4</th>\n",
       "      <td>1</td>\n",
       "      <td>29 May 2014 4:53:57 AM</td>\n",
       "      <td>3</td>\n",
       "      <td>-34.65556</td>\n",
       "      <td>19.37459</td>\n",
       "      <td>29 May 2014 4:53:57 AM +0900</td>\n",
       "    </tr>\n",
       "  </tbody>\n",
       "</table>\n",
       "</div>"
      ],
      "text/plain": [
       "  active                  datetime  id            latitude          longitude  \\\n",
       "0      1    6 July 2014 1:57:28 PM   3           -34.60661           21.15244   \n",
       "1      1  23 June 2014 11:40:09 AM   3           -34.78752           19.42479   \n",
       "2      1  15 June 2014 10:15:44 PM   3           -34.42487           21.09754   \n",
       "3      1   3 June 2014 11:23:57 AM   3  -34.70432271674724  20.21013441406251   \n",
       "4      1    29 May 2014 4:53:57 AM   3           -34.65556           19.37459   \n",
       "\n",
       "                      tz_datetime  \n",
       "0    6 July 2014 1:57:28 PM +0900  \n",
       "1  23 June 2014 11:40:09 AM +0900  \n",
       "2  15 June 2014 10:15:44 PM +0900  \n",
       "3   3 June 2014 11:23:57 AM +0900  \n",
       "4    29 May 2014 4:53:57 AM +0900  "
      ]
     },
     "execution_count": 10,
     "metadata": {},
     "output_type": "execute_result"
    }
   ],
   "source": [
    "pings.head()"
   ]
  },
  {
   "cell_type": "code",
   "execution_count": 11,
   "metadata": {
    "ExecuteTime": {
     "end_time": "2019-02-17T19:52:34.136653Z",
     "start_time": "2019-02-17T19:52:22.813339Z"
    }
   },
   "outputs": [
    {
     "data": {
      "text/html": [
       "<div>\n",
       "<style scoped>\n",
       "    .dataframe tbody tr th:only-of-type {\n",
       "        vertical-align: middle;\n",
       "    }\n",
       "\n",
       "    .dataframe tbody tr th {\n",
       "        vertical-align: top;\n",
       "    }\n",
       "\n",
       "    .dataframe thead th {\n",
       "        text-align: right;\n",
       "    }\n",
       "</style>\n",
       "<table border=\"1\" class=\"dataframe\">\n",
       "  <thead>\n",
       "    <tr style=\"text-align: right;\">\n",
       "      <th></th>\n",
       "      <th>active</th>\n",
       "      <th>datetime</th>\n",
       "      <th>id</th>\n",
       "      <th>latitude</th>\n",
       "      <th>longitude</th>\n",
       "    </tr>\n",
       "  </thead>\n",
       "  <tbody>\n",
       "    <tr>\n",
       "      <th>0</th>\n",
       "      <td>1</td>\n",
       "      <td>2014-07-06 04:57:28</td>\n",
       "      <td>3</td>\n",
       "      <td>-34.60661</td>\n",
       "      <td>21.15244</td>\n",
       "    </tr>\n",
       "    <tr>\n",
       "      <th>1</th>\n",
       "      <td>1</td>\n",
       "      <td>2014-06-23 02:40:09</td>\n",
       "      <td>3</td>\n",
       "      <td>-34.78752</td>\n",
       "      <td>19.42479</td>\n",
       "    </tr>\n",
       "    <tr>\n",
       "      <th>2</th>\n",
       "      <td>1</td>\n",
       "      <td>2014-06-15 13:15:44</td>\n",
       "      <td>3</td>\n",
       "      <td>-34.42487</td>\n",
       "      <td>21.09754</td>\n",
       "    </tr>\n",
       "    <tr>\n",
       "      <th>3</th>\n",
       "      <td>1</td>\n",
       "      <td>2014-06-03 02:23:57</td>\n",
       "      <td>3</td>\n",
       "      <td>-34.70432271674724</td>\n",
       "      <td>20.21013441406251</td>\n",
       "    </tr>\n",
       "    <tr>\n",
       "      <th>4</th>\n",
       "      <td>1</td>\n",
       "      <td>2014-05-28 19:53:57</td>\n",
       "      <td>3</td>\n",
       "      <td>-34.65556</td>\n",
       "      <td>19.37459</td>\n",
       "    </tr>\n",
       "  </tbody>\n",
       "</table>\n",
       "</div>"
      ],
      "text/plain": [
       "  active            datetime  id            latitude          longitude\n",
       "0      1 2014-07-06 04:57:28   3           -34.60661           21.15244\n",
       "1      1 2014-06-23 02:40:09   3           -34.78752           19.42479\n",
       "2      1 2014-06-15 13:15:44   3           -34.42487           21.09754\n",
       "3      1 2014-06-03 02:23:57   3  -34.70432271674724  20.21013441406251\n",
       "4      1 2014-05-28 19:53:57   3           -34.65556           19.37459"
      ]
     },
     "execution_count": 11,
     "metadata": {},
     "output_type": "execute_result"
    }
   ],
   "source": [
    "# clean up datetime columns\n",
    "pings['datetime'] = pd.to_datetime(pings.tz_datetime)\n",
    "pings.drop(columns=['tz_datetime'], inplace=True)\n",
    "pings.head()"
   ]
  },
  {
   "cell_type": "code",
   "execution_count": 12,
   "metadata": {
    "ExecuteTime": {
     "end_time": "2019-02-17T19:52:34.149649Z",
     "start_time": "2019-02-17T19:52:34.137653Z"
    }
   },
   "outputs": [
    {
     "data": {
      "text/html": [
       "<div>\n",
       "<style scoped>\n",
       "    .dataframe tbody tr th:only-of-type {\n",
       "        vertical-align: middle;\n",
       "    }\n",
       "\n",
       "    .dataframe tbody tr th {\n",
       "        vertical-align: top;\n",
       "    }\n",
       "\n",
       "    .dataframe thead th {\n",
       "        text-align: right;\n",
       "    }\n",
       "</style>\n",
       "<table border=\"1\" class=\"dataframe\">\n",
       "  <thead>\n",
       "    <tr style=\"text-align: right;\">\n",
       "      <th></th>\n",
       "      <th>id</th>\n",
       "      <th>name</th>\n",
       "      <th>gender</th>\n",
       "      <th>species</th>\n",
       "      <th>weight</th>\n",
       "      <th>length</th>\n",
       "      <th>tagDate</th>\n",
       "      <th>dist_total</th>\n",
       "    </tr>\n",
       "  </thead>\n",
       "  <tbody>\n",
       "    <tr>\n",
       "      <th>0</th>\n",
       "      <td>3</td>\n",
       "      <td>Oprah</td>\n",
       "      <td>Female</td>\n",
       "      <td>White Shark (Carcharodon carcharias)</td>\n",
       "      <td>686 lb</td>\n",
       "      <td>9 ft 10 in.</td>\n",
       "      <td>7 March 2012</td>\n",
       "      <td>2816.662</td>\n",
       "    </tr>\n",
       "    <tr>\n",
       "      <th>1</th>\n",
       "      <td>4</td>\n",
       "      <td>Albertina</td>\n",
       "      <td>Female</td>\n",
       "      <td>White Shark (Carcharodon carcharias)</td>\n",
       "      <td>1110 lb</td>\n",
       "      <td>11 ft 6 in.</td>\n",
       "      <td>8 March 2012</td>\n",
       "      <td>1830.593</td>\n",
       "    </tr>\n",
       "    <tr>\n",
       "      <th>2</th>\n",
       "      <td>5</td>\n",
       "      <td>Helen</td>\n",
       "      <td>Female</td>\n",
       "      <td>White Shark (Carcharodon carcharias)</td>\n",
       "      <td>765 lb</td>\n",
       "      <td>10 ft 2 in.</td>\n",
       "      <td>8 March 2012</td>\n",
       "      <td>4436.661</td>\n",
       "    </tr>\n",
       "    <tr>\n",
       "      <th>3</th>\n",
       "      <td>6</td>\n",
       "      <td>Brenda</td>\n",
       "      <td>Female</td>\n",
       "      <td>White Shark (Carcharodon carcharias)</td>\n",
       "      <td>1310 lb</td>\n",
       "      <td>12 ft 2 in.</td>\n",
       "      <td>8 March 2012</td>\n",
       "      <td>2966.902</td>\n",
       "    </tr>\n",
       "    <tr>\n",
       "      <th>4</th>\n",
       "      <td>7</td>\n",
       "      <td>Madiba</td>\n",
       "      <td>Male</td>\n",
       "      <td>White Shark (Carcharodon carcharias)</td>\n",
       "      <td>659 lb</td>\n",
       "      <td>9 ft 8 in.</td>\n",
       "      <td>8 March 2012</td>\n",
       "      <td>3537.423</td>\n",
       "    </tr>\n",
       "  </tbody>\n",
       "</table>\n",
       "</div>"
      ],
      "text/plain": [
       "   id        name  gender                               species   weight  \\\n",
       "0   3       Oprah  Female  White Shark (Carcharodon carcharias)   686 lb   \n",
       "1   4  Albertina   Female  White Shark (Carcharodon carcharias)  1110 lb   \n",
       "2   5      Helen   Female  White Shark (Carcharodon carcharias)   765 lb   \n",
       "3   6     Brenda   Female  White Shark (Carcharodon carcharias)  1310 lb   \n",
       "4   7      Madiba    Male  White Shark (Carcharodon carcharias)   659 lb   \n",
       "\n",
       "          length       tagDate dist_total  \n",
       "0    9 ft 10 in.  7 March 2012   2816.662  \n",
       "1   11 ft 6 in.   8 March 2012   1830.593  \n",
       "2    10 ft 2 in.  8 March 2012   4436.661  \n",
       "3  12 ft 2 in.    8 March 2012   2966.902  \n",
       "4    9 ft 8 in.   8 March 2012   3537.423  "
      ]
     },
     "execution_count": 12,
     "metadata": {},
     "output_type": "execute_result"
    }
   ],
   "source": [
    "df[columns].head()"
   ]
  },
  {
   "cell_type": "code",
   "execution_count": 13,
   "metadata": {
    "ExecuteTime": {
     "end_time": "2019-02-17T19:52:34.273610Z",
     "start_time": "2019-02-17T19:52:34.151649Z"
    }
   },
   "outputs": [
    {
     "data": {
      "text/plain": [
       "(65793, 12)"
      ]
     },
     "execution_count": 13,
     "metadata": {},
     "output_type": "execute_result"
    }
   ],
   "source": [
    "joined = pings.merge(df[columns], on='id')\n",
    "joined.shape"
   ]
  },
  {
   "cell_type": "code",
   "execution_count": 14,
   "metadata": {
    "ExecuteTime": {
     "end_time": "2019-02-17T19:52:34.359581Z",
     "start_time": "2019-02-17T19:52:34.275609Z"
    }
   },
   "outputs": [
    {
     "data": {
      "text/html": [
       "<div>\n",
       "<style scoped>\n",
       "    .dataframe tbody tr th:only-of-type {\n",
       "        vertical-align: middle;\n",
       "    }\n",
       "\n",
       "    .dataframe tbody tr th {\n",
       "        vertical-align: top;\n",
       "    }\n",
       "\n",
       "    .dataframe thead th {\n",
       "        text-align: right;\n",
       "    }\n",
       "</style>\n",
       "<table border=\"1\" class=\"dataframe\">\n",
       "  <thead>\n",
       "    <tr style=\"text-align: right;\">\n",
       "      <th></th>\n",
       "      <th>active</th>\n",
       "      <th>datetime</th>\n",
       "      <th>id</th>\n",
       "      <th>latitude</th>\n",
       "      <th>longitude</th>\n",
       "      <th>name</th>\n",
       "      <th>gender</th>\n",
       "      <th>species</th>\n",
       "      <th>weight</th>\n",
       "      <th>length</th>\n",
       "      <th>tagDate</th>\n",
       "      <th>dist_total</th>\n",
       "    </tr>\n",
       "  </thead>\n",
       "  <tbody>\n",
       "    <tr>\n",
       "      <th>0</th>\n",
       "      <td>1</td>\n",
       "      <td>2014-07-06 04:57:28</td>\n",
       "      <td>3</td>\n",
       "      <td>-34.60661</td>\n",
       "      <td>21.15244</td>\n",
       "      <td>Oprah</td>\n",
       "      <td>Female</td>\n",
       "      <td>White Shark (Carcharodon carcharias)</td>\n",
       "      <td>686 lb</td>\n",
       "      <td>9 ft 10 in.</td>\n",
       "      <td>7 March 2012</td>\n",
       "      <td>2816.662</td>\n",
       "    </tr>\n",
       "    <tr>\n",
       "      <th>1</th>\n",
       "      <td>1</td>\n",
       "      <td>2014-06-23 02:40:09</td>\n",
       "      <td>3</td>\n",
       "      <td>-34.78752</td>\n",
       "      <td>19.42479</td>\n",
       "      <td>Oprah</td>\n",
       "      <td>Female</td>\n",
       "      <td>White Shark (Carcharodon carcharias)</td>\n",
       "      <td>686 lb</td>\n",
       "      <td>9 ft 10 in.</td>\n",
       "      <td>7 March 2012</td>\n",
       "      <td>2816.662</td>\n",
       "    </tr>\n",
       "    <tr>\n",
       "      <th>2</th>\n",
       "      <td>1</td>\n",
       "      <td>2014-06-15 13:15:44</td>\n",
       "      <td>3</td>\n",
       "      <td>-34.42487</td>\n",
       "      <td>21.09754</td>\n",
       "      <td>Oprah</td>\n",
       "      <td>Female</td>\n",
       "      <td>White Shark (Carcharodon carcharias)</td>\n",
       "      <td>686 lb</td>\n",
       "      <td>9 ft 10 in.</td>\n",
       "      <td>7 March 2012</td>\n",
       "      <td>2816.662</td>\n",
       "    </tr>\n",
       "    <tr>\n",
       "      <th>3</th>\n",
       "      <td>1</td>\n",
       "      <td>2014-06-03 02:23:57</td>\n",
       "      <td>3</td>\n",
       "      <td>-34.70432271674724</td>\n",
       "      <td>20.21013441406251</td>\n",
       "      <td>Oprah</td>\n",
       "      <td>Female</td>\n",
       "      <td>White Shark (Carcharodon carcharias)</td>\n",
       "      <td>686 lb</td>\n",
       "      <td>9 ft 10 in.</td>\n",
       "      <td>7 March 2012</td>\n",
       "      <td>2816.662</td>\n",
       "    </tr>\n",
       "    <tr>\n",
       "      <th>4</th>\n",
       "      <td>1</td>\n",
       "      <td>2014-05-28 19:53:57</td>\n",
       "      <td>3</td>\n",
       "      <td>-34.65556</td>\n",
       "      <td>19.37459</td>\n",
       "      <td>Oprah</td>\n",
       "      <td>Female</td>\n",
       "      <td>White Shark (Carcharodon carcharias)</td>\n",
       "      <td>686 lb</td>\n",
       "      <td>9 ft 10 in.</td>\n",
       "      <td>7 March 2012</td>\n",
       "      <td>2816.662</td>\n",
       "    </tr>\n",
       "  </tbody>\n",
       "</table>\n",
       "</div>"
      ],
      "text/plain": [
       "  active            datetime  id            latitude          longitude  \\\n",
       "0      1 2014-07-06 04:57:28   3           -34.60661           21.15244   \n",
       "1      1 2014-06-23 02:40:09   3           -34.78752           19.42479   \n",
       "2      1 2014-06-15 13:15:44   3           -34.42487           21.09754   \n",
       "3      1 2014-06-03 02:23:57   3  -34.70432271674724  20.21013441406251   \n",
       "4      1 2014-05-28 19:53:57   3           -34.65556           19.37459   \n",
       "\n",
       "    name  gender                               species  weight       length  \\\n",
       "0  Oprah  Female  White Shark (Carcharodon carcharias)  686 lb  9 ft 10 in.   \n",
       "1  Oprah  Female  White Shark (Carcharodon carcharias)  686 lb  9 ft 10 in.   \n",
       "2  Oprah  Female  White Shark (Carcharodon carcharias)  686 lb  9 ft 10 in.   \n",
       "3  Oprah  Female  White Shark (Carcharodon carcharias)  686 lb  9 ft 10 in.   \n",
       "4  Oprah  Female  White Shark (Carcharodon carcharias)  686 lb  9 ft 10 in.   \n",
       "\n",
       "        tagDate dist_total  \n",
       "0  7 March 2012   2816.662  \n",
       "1  7 March 2012   2816.662  \n",
       "2  7 March 2012   2816.662  \n",
       "3  7 March 2012   2816.662  \n",
       "4  7 March 2012   2816.662  "
      ]
     },
     "execution_count": 14,
     "metadata": {},
     "output_type": "execute_result"
    }
   ],
   "source": [
    "joined.head()"
   ]
  },
  {
   "cell_type": "markdown",
   "metadata": {},
   "source": [
    "### Write to disk"
   ]
  },
  {
   "cell_type": "markdown",
   "metadata": {},
   "source": [
    "#### Write semi-cleaned results to disk"
   ]
  },
  {
   "cell_type": "code",
   "execution_count": 15,
   "metadata": {
    "ExecuteTime": {
     "end_time": "2019-02-17T19:52:34.880424Z",
     "start_time": "2019-02-17T19:52:34.360582Z"
    }
   },
   "outputs": [
    {
     "data": {
      "text/html": [
       "<a href='../data/sharks.csv' target='_blank'>../data/sharks.csv</a><br>"
      ],
      "text/plain": [
       "C:\\Users\\kafon\\Desktop\\vast\\data\\sharks.csv"
      ]
     },
     "execution_count": 15,
     "metadata": {},
     "output_type": "execute_result"
    }
   ],
   "source": [
    "from IPython.display import FileLink\n",
    "\n",
    "fname = '../data/sharks.csv'\n",
    "joined.to_csv(fname, index=False)\n",
    "FileLink(fname)"
   ]
  },
  {
   "cell_type": "markdown",
   "metadata": {},
   "source": [
    "#### Clean length/weight columns"
   ]
  },
  {
   "cell_type": "code",
   "execution_count": 16,
   "metadata": {
    "ExecuteTime": {
     "end_time": "2019-02-17T19:52:34.991393Z",
     "start_time": "2019-02-17T19:52:34.881412Z"
    }
   },
   "outputs": [
    {
     "data": {
      "text/html": [
       "<div>\n",
       "<style scoped>\n",
       "    .dataframe tbody tr th:only-of-type {\n",
       "        vertical-align: middle;\n",
       "    }\n",
       "\n",
       "    .dataframe tbody tr th {\n",
       "        vertical-align: top;\n",
       "    }\n",
       "\n",
       "    .dataframe thead th {\n",
       "        text-align: right;\n",
       "    }\n",
       "</style>\n",
       "<table border=\"1\" class=\"dataframe\">\n",
       "  <thead>\n",
       "    <tr style=\"text-align: right;\">\n",
       "      <th></th>\n",
       "      <th>active</th>\n",
       "      <th>datetime</th>\n",
       "      <th>id</th>\n",
       "      <th>latitude</th>\n",
       "      <th>longitude</th>\n",
       "      <th>name</th>\n",
       "      <th>gender</th>\n",
       "      <th>species</th>\n",
       "      <th>weight</th>\n",
       "      <th>length</th>\n",
       "      <th>tagDate</th>\n",
       "      <th>dist_total</th>\n",
       "    </tr>\n",
       "  </thead>\n",
       "  <tbody>\n",
       "    <tr>\n",
       "      <th>0</th>\n",
       "      <td>1</td>\n",
       "      <td>2014-07-06 04:57:28</td>\n",
       "      <td>3</td>\n",
       "      <td>-34.60661</td>\n",
       "      <td>21.15244</td>\n",
       "      <td>Oprah</td>\n",
       "      <td>Female</td>\n",
       "      <td>White Shark (Carcharodon carcharias)</td>\n",
       "      <td>686.0</td>\n",
       "      <td>9 ft 10 in.</td>\n",
       "      <td>7 March 2012</td>\n",
       "      <td>2816.662</td>\n",
       "    </tr>\n",
       "    <tr>\n",
       "      <th>1</th>\n",
       "      <td>1</td>\n",
       "      <td>2014-06-23 02:40:09</td>\n",
       "      <td>3</td>\n",
       "      <td>-34.78752</td>\n",
       "      <td>19.42479</td>\n",
       "      <td>Oprah</td>\n",
       "      <td>Female</td>\n",
       "      <td>White Shark (Carcharodon carcharias)</td>\n",
       "      <td>686.0</td>\n",
       "      <td>9 ft 10 in.</td>\n",
       "      <td>7 March 2012</td>\n",
       "      <td>2816.662</td>\n",
       "    </tr>\n",
       "    <tr>\n",
       "      <th>2</th>\n",
       "      <td>1</td>\n",
       "      <td>2014-06-15 13:15:44</td>\n",
       "      <td>3</td>\n",
       "      <td>-34.42487</td>\n",
       "      <td>21.09754</td>\n",
       "      <td>Oprah</td>\n",
       "      <td>Female</td>\n",
       "      <td>White Shark (Carcharodon carcharias)</td>\n",
       "      <td>686.0</td>\n",
       "      <td>9 ft 10 in.</td>\n",
       "      <td>7 March 2012</td>\n",
       "      <td>2816.662</td>\n",
       "    </tr>\n",
       "    <tr>\n",
       "      <th>3</th>\n",
       "      <td>1</td>\n",
       "      <td>2014-06-03 02:23:57</td>\n",
       "      <td>3</td>\n",
       "      <td>-34.70432271674724</td>\n",
       "      <td>20.21013441406251</td>\n",
       "      <td>Oprah</td>\n",
       "      <td>Female</td>\n",
       "      <td>White Shark (Carcharodon carcharias)</td>\n",
       "      <td>686.0</td>\n",
       "      <td>9 ft 10 in.</td>\n",
       "      <td>7 March 2012</td>\n",
       "      <td>2816.662</td>\n",
       "    </tr>\n",
       "    <tr>\n",
       "      <th>4</th>\n",
       "      <td>1</td>\n",
       "      <td>2014-05-28 19:53:57</td>\n",
       "      <td>3</td>\n",
       "      <td>-34.65556</td>\n",
       "      <td>19.37459</td>\n",
       "      <td>Oprah</td>\n",
       "      <td>Female</td>\n",
       "      <td>White Shark (Carcharodon carcharias)</td>\n",
       "      <td>686.0</td>\n",
       "      <td>9 ft 10 in.</td>\n",
       "      <td>7 March 2012</td>\n",
       "      <td>2816.662</td>\n",
       "    </tr>\n",
       "  </tbody>\n",
       "</table>\n",
       "</div>"
      ],
      "text/plain": [
       "  active            datetime  id            latitude          longitude  \\\n",
       "0      1 2014-07-06 04:57:28   3           -34.60661           21.15244   \n",
       "1      1 2014-06-23 02:40:09   3           -34.78752           19.42479   \n",
       "2      1 2014-06-15 13:15:44   3           -34.42487           21.09754   \n",
       "3      1 2014-06-03 02:23:57   3  -34.70432271674724  20.21013441406251   \n",
       "4      1 2014-05-28 19:53:57   3           -34.65556           19.37459   \n",
       "\n",
       "    name  gender                               species  weight       length  \\\n",
       "0  Oprah  Female  White Shark (Carcharodon carcharias)   686.0  9 ft 10 in.   \n",
       "1  Oprah  Female  White Shark (Carcharodon carcharias)   686.0  9 ft 10 in.   \n",
       "2  Oprah  Female  White Shark (Carcharodon carcharias)   686.0  9 ft 10 in.   \n",
       "3  Oprah  Female  White Shark (Carcharodon carcharias)   686.0  9 ft 10 in.   \n",
       "4  Oprah  Female  White Shark (Carcharodon carcharias)   686.0  9 ft 10 in.   \n",
       "\n",
       "        tagDate dist_total  \n",
       "0  7 March 2012   2816.662  \n",
       "1  7 March 2012   2816.662  \n",
       "2  7 March 2012   2816.662  \n",
       "3  7 March 2012   2816.662  \n",
       "4  7 March 2012   2816.662  "
      ]
     },
     "execution_count": 16,
     "metadata": {},
     "output_type": "execute_result"
    }
   ],
   "source": [
    "def clean_weight(value):\n",
    "    if not value:\n",
    "        return value\n",
    "    # most values are like \"123 lb\"\n",
    "    for character in 'lbs,+':\n",
    "        value = value.replace(character, '')\n",
    "    return float(value)\n",
    "\n",
    "joined['weight'] = joined.weight.apply(clean_weight)\n",
    "joined.head()"
   ]
  },
  {
   "cell_type": "code",
   "execution_count": 17,
   "metadata": {
    "ExecuteTime": {
     "end_time": "2019-02-17T19:52:35.344278Z",
     "start_time": "2019-02-17T19:52:34.992376Z"
    }
   },
   "outputs": [
    {
     "data": {
      "text/html": [
       "<div>\n",
       "<style scoped>\n",
       "    .dataframe tbody tr th:only-of-type {\n",
       "        vertical-align: middle;\n",
       "    }\n",
       "\n",
       "    .dataframe tbody tr th {\n",
       "        vertical-align: top;\n",
       "    }\n",
       "\n",
       "    .dataframe thead th {\n",
       "        text-align: right;\n",
       "    }\n",
       "</style>\n",
       "<table border=\"1\" class=\"dataframe\">\n",
       "  <thead>\n",
       "    <tr style=\"text-align: right;\">\n",
       "      <th></th>\n",
       "      <th>active</th>\n",
       "      <th>datetime</th>\n",
       "      <th>id</th>\n",
       "      <th>latitude</th>\n",
       "      <th>longitude</th>\n",
       "      <th>name</th>\n",
       "      <th>gender</th>\n",
       "      <th>species</th>\n",
       "      <th>weight</th>\n",
       "      <th>length</th>\n",
       "      <th>tagDate</th>\n",
       "      <th>dist_total</th>\n",
       "    </tr>\n",
       "  </thead>\n",
       "  <tbody>\n",
       "    <tr>\n",
       "      <th>0</th>\n",
       "      <td>1</td>\n",
       "      <td>2014-07-06 04:57:28</td>\n",
       "      <td>3</td>\n",
       "      <td>-34.60661</td>\n",
       "      <td>21.15244</td>\n",
       "      <td>Oprah</td>\n",
       "      <td>Female</td>\n",
       "      <td>White Shark (Carcharodon carcharias)</td>\n",
       "      <td>686.0</td>\n",
       "      <td>118.0</td>\n",
       "      <td>7 March 2012</td>\n",
       "      <td>2816.662</td>\n",
       "    </tr>\n",
       "    <tr>\n",
       "      <th>1</th>\n",
       "      <td>1</td>\n",
       "      <td>2014-06-23 02:40:09</td>\n",
       "      <td>3</td>\n",
       "      <td>-34.78752</td>\n",
       "      <td>19.42479</td>\n",
       "      <td>Oprah</td>\n",
       "      <td>Female</td>\n",
       "      <td>White Shark (Carcharodon carcharias)</td>\n",
       "      <td>686.0</td>\n",
       "      <td>118.0</td>\n",
       "      <td>7 March 2012</td>\n",
       "      <td>2816.662</td>\n",
       "    </tr>\n",
       "    <tr>\n",
       "      <th>2</th>\n",
       "      <td>1</td>\n",
       "      <td>2014-06-15 13:15:44</td>\n",
       "      <td>3</td>\n",
       "      <td>-34.42487</td>\n",
       "      <td>21.09754</td>\n",
       "      <td>Oprah</td>\n",
       "      <td>Female</td>\n",
       "      <td>White Shark (Carcharodon carcharias)</td>\n",
       "      <td>686.0</td>\n",
       "      <td>118.0</td>\n",
       "      <td>7 March 2012</td>\n",
       "      <td>2816.662</td>\n",
       "    </tr>\n",
       "    <tr>\n",
       "      <th>3</th>\n",
       "      <td>1</td>\n",
       "      <td>2014-06-03 02:23:57</td>\n",
       "      <td>3</td>\n",
       "      <td>-34.70432271674724</td>\n",
       "      <td>20.21013441406251</td>\n",
       "      <td>Oprah</td>\n",
       "      <td>Female</td>\n",
       "      <td>White Shark (Carcharodon carcharias)</td>\n",
       "      <td>686.0</td>\n",
       "      <td>118.0</td>\n",
       "      <td>7 March 2012</td>\n",
       "      <td>2816.662</td>\n",
       "    </tr>\n",
       "    <tr>\n",
       "      <th>4</th>\n",
       "      <td>1</td>\n",
       "      <td>2014-05-28 19:53:57</td>\n",
       "      <td>3</td>\n",
       "      <td>-34.65556</td>\n",
       "      <td>19.37459</td>\n",
       "      <td>Oprah</td>\n",
       "      <td>Female</td>\n",
       "      <td>White Shark (Carcharodon carcharias)</td>\n",
       "      <td>686.0</td>\n",
       "      <td>118.0</td>\n",
       "      <td>7 March 2012</td>\n",
       "      <td>2816.662</td>\n",
       "    </tr>\n",
       "  </tbody>\n",
       "</table>\n",
       "</div>"
      ],
      "text/plain": [
       "  active            datetime  id            latitude          longitude  \\\n",
       "0      1 2014-07-06 04:57:28   3           -34.60661           21.15244   \n",
       "1      1 2014-06-23 02:40:09   3           -34.78752           19.42479   \n",
       "2      1 2014-06-15 13:15:44   3           -34.42487           21.09754   \n",
       "3      1 2014-06-03 02:23:57   3  -34.70432271674724  20.21013441406251   \n",
       "4      1 2014-05-28 19:53:57   3           -34.65556           19.37459   \n",
       "\n",
       "    name  gender                               species  weight  length  \\\n",
       "0  Oprah  Female  White Shark (Carcharodon carcharias)   686.0   118.0   \n",
       "1  Oprah  Female  White Shark (Carcharodon carcharias)   686.0   118.0   \n",
       "2  Oprah  Female  White Shark (Carcharodon carcharias)   686.0   118.0   \n",
       "3  Oprah  Female  White Shark (Carcharodon carcharias)   686.0   118.0   \n",
       "4  Oprah  Female  White Shark (Carcharodon carcharias)   686.0   118.0   \n",
       "\n",
       "        tagDate dist_total  \n",
       "0  7 March 2012   2816.662  \n",
       "1  7 March 2012   2816.662  \n",
       "2  7 March 2012   2816.662  \n",
       "3  7 March 2012   2816.662  \n",
       "4  7 March 2012   2816.662  "
      ]
     },
     "execution_count": 17,
     "metadata": {},
     "output_type": "execute_result"
    }
   ],
   "source": [
    "def clean_length(value):\n",
    "    if not value:\n",
    "        return value\n",
    "    # most length values are like '3 ft 4 in.'\n",
    "    total = 0\n",
    "    if 'ft' in value:\n",
    "        ft, inches = value.split('ft')\n",
    "        total += int(ft.strip()) * 12\n",
    "    else:\n",
    "        inches = value\n",
    "    if inches.strip():\n",
    "        total += float(inches.strip().split()[0])\n",
    "    return total\n",
    "\n",
    "joined['length'] = joined.length.apply(clean_length)\n",
    "joined.head()"
   ]
  },
  {
   "cell_type": "markdown",
   "metadata": {},
   "source": [
    "#### Write cleaned results to disk"
   ]
  },
  {
   "cell_type": "code",
   "execution_count": 18,
   "metadata": {
    "ExecuteTime": {
     "end_time": "2019-02-17T19:52:35.879088Z",
     "start_time": "2019-02-17T19:52:35.345263Z"
    }
   },
   "outputs": [
    {
     "data": {
      "text/html": [
       "<a href='../data/sharks_cleaned.csv' target='_blank'>../data/sharks_cleaned.csv</a><br>"
      ],
      "text/plain": [
       "C:\\Users\\kafon\\Desktop\\vast\\data\\sharks_cleaned.csv"
      ]
     },
     "execution_count": 18,
     "metadata": {},
     "output_type": "execute_result"
    }
   ],
   "source": [
    "fname = '../data/sharks_cleaned.csv'\n",
    "joined.to_csv(fname, index=False)\n",
    "FileLink(fname)"
   ]
  },
  {
   "cell_type": "code",
   "execution_count": null,
   "metadata": {},
   "outputs": [],
   "source": []
  }
 ],
 "metadata": {
  "kernelspec": {
   "display_name": "Python3.6",
   "language": "python",
   "name": "py36"
  },
  "language_info": {
   "codemirror_mode": {
    "name": "ipython",
    "version": 3
   },
   "file_extension": ".py",
   "mimetype": "text/x-python",
   "name": "python",
   "nbconvert_exporter": "python",
   "pygments_lexer": "ipython3",
   "version": "3.6.2"
  },
  "toc": {
   "base_numbering": 1,
   "nav_menu": {},
   "number_sections": true,
   "sideBar": true,
   "skip_h1_title": false,
   "title_cell": "Table of Contents",
   "title_sidebar": "Contents",
   "toc_cell": false,
   "toc_position": {},
   "toc_section_display": true,
   "toc_window_display": true
  }
 },
 "nbformat": 4,
 "nbformat_minor": 2
}
