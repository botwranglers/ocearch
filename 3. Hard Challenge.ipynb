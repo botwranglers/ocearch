{
 "cells": [
  {
   "cell_type": "markdown",
   "metadata": {},
   "source": [
    "### Challenge questions\n",
    "\n",
    "Easy questions:\n",
    "\n",
    " 1. How many total pings are in the Ocearch shark data?\n",
    " 2. How many unique species of sharks are in the data set?\n",
    " 3. What is the name, weight, and species of the heaviest shark(s)?\n",
    " 4. When and where was the very first ping?\n",
    " 5. Excluding results with 0 distance traveled: what's the minimum, average, and maximum travel distances?\n",
    " \n",
    "Intermediate questions:\n",
    "\n",
    " 1. Which shark had the most pings?\n",
    " 2. Which shark has been pinging the longest, and how long has that been?\n",
    " 3. Which shark species has the most individual sharks tagged?\n",
    " 4. What is the average length and weight of each shark species?\n",
    " 5. Which shark has the biggest geographic box (largest distance from min lat/lon to max lat/lon, not dist_traveled)?\n",
    " \n",
    "Hard questions:\n",
    " 1. Use folium to plot the first ping, last ping, and a line connecting each ping for the Tiger shark Emma.  Make the first ping marker a 'play' icon, and last ping icon a 'stop' icon.\n",
    " 2. Resample Emma data to have a daily lat/lon average, and interpolate missing results.  Plot a marker for each day, and color them blue for hard data, green for interpolated lat/lons\n",
    " 3. Resample all shark data for daily lat/lon averages, and interpolate missing results\n",
    " 4. Calculate distance between Emma and other sharks on a daily basis\n",
    " 5. Identify the shark that has the shortest average distance to Emma per day (minimum 50 days of pings with Emma)\n",
    " 6. Plot Emma and her closest buddy: interpolated results for each in green, Emma as circle icons and her buddy as square icons"
   ]
  },
  {
   "cell_type": "markdown",
   "metadata": {},
   "source": [
    "### Load data"
   ]
  },
  {
   "cell_type": "markdown",
   "metadata": {},
   "source": [
    "#### Query Ocearch API"
   ]
  },
  {
   "cell_type": "code",
   "execution_count": null,
   "metadata": {
    "ExecuteTime": {
     "end_time": "2019-02-23T02:33:00.784133Z",
     "start_time": "2019-02-23T02:32:56.020412Z"
    }
   },
   "outputs": [],
   "source": [
    "import requests\n",
    "url = 'http://www.ocearch.org/tracker/ajax/filter-sharks'\n",
    "\n",
    "resp = requests.get(url)\n",
    "resp"
   ]
  },
  {
   "cell_type": "markdown",
   "metadata": {},
   "source": [
    "#### Transform data"
   ]
  },
  {
   "cell_type": "code",
   "execution_count": null,
   "metadata": {},
   "outputs": [],
   "source": []
  },
  {
   "cell_type": "markdown",
   "metadata": {},
   "source": [
    "### Explore data"
   ]
  },
  {
   "cell_type": "code",
   "execution_count": null,
   "metadata": {},
   "outputs": [],
   "source": []
  },
  {
   "cell_type": "markdown",
   "metadata": {},
   "source": [
    "### Challenge Questions"
   ]
  },
  {
   "cell_type": "markdown",
   "metadata": {},
   "source": [
    "#### Easy Questions\n",
    " 1. How many total pings are in the Ocearch shark data?\n",
    " 2. How many unique species of sharks are in the data set?\n",
    " 3. What is the name, weight, and species of the heaviest shark(s)?\n",
    " 4. When and where was the very first ping?\n",
    " 5. Excluding results with 0 distance traveled: what's the minimum, average, and maximum travel distances?"
   ]
  },
  {
   "cell_type": "markdown",
   "metadata": {},
   "source": [
    "##### Total pings\n",
    "How many total pings are in the Ocearch shark data?"
   ]
  },
  {
   "cell_type": "code",
   "execution_count": null,
   "metadata": {
    "ExecuteTime": {
     "end_time": "2019-02-23T02:33:20.857761Z",
     "start_time": "2019-02-23T02:33:20.744835Z"
    }
   },
   "outputs": [],
   "source": []
  },
  {
   "cell_type": "markdown",
   "metadata": {},
   "source": [
    "##### Unique species\n",
    "How many unique species of sharks are in the data set?"
   ]
  },
  {
   "cell_type": "code",
   "execution_count": null,
   "metadata": {
    "ExecuteTime": {
     "end_time": "2019-02-23T02:33:20.985760Z",
     "start_time": "2019-02-23T02:33:20.862738Z"
    }
   },
   "outputs": [],
   "source": []
  },
  {
   "cell_type": "markdown",
   "metadata": {},
   "source": [
    "##### Heaviest shark(s)\n",
    "What is the name, weight, and species of the heaviest shark(s)?"
   ]
  },
  {
   "cell_type": "code",
   "execution_count": null,
   "metadata": {
    "ExecuteTime": {
     "end_time": "2019-02-23T02:33:21.107187Z",
     "start_time": "2019-02-23T02:33:20.986759Z"
    }
   },
   "outputs": [],
   "source": []
  },
  {
   "cell_type": "markdown",
   "metadata": {},
   "source": [
    "##### First ping\n",
    "When and where was the very first ping?"
   ]
  },
  {
   "cell_type": "code",
   "execution_count": null,
   "metadata": {
    "ExecuteTime": {
     "end_time": "2019-02-23T02:33:21.622987Z",
     "start_time": "2019-02-23T02:33:21.372026Z"
    }
   },
   "outputs": [],
   "source": []
  },
  {
   "cell_type": "markdown",
   "metadata": {},
   "source": [
    "##### Distance travelled\n",
    "Excluding results with 0 distance traveled: what's the minimum, average, and maximum travel distances?"
   ]
  },
  {
   "cell_type": "code",
   "execution_count": null,
   "metadata": {
    "ExecuteTime": {
     "end_time": "2019-02-23T02:33:21.637981Z",
     "start_time": "2019-02-23T02:33:21.624986Z"
    }
   },
   "outputs": [],
   "source": []
  },
  {
   "cell_type": "markdown",
   "metadata": {},
   "source": [
    "#### Intermediate questions\n",
    "\n",
    " 1. Which shark had the most pings?\n",
    " 2. Which shark has been pinging the longest, and how long has that been?\n",
    " 3. Which shark species has the most individual sharks tagged?\n",
    " 4. What is the average length and weight of each shark species?\n",
    " 5. Which shark has the biggest geographic box (largest distance from min lat/lon to max lat/lon, not dist_traveled)?"
   ]
  },
  {
   "cell_type": "markdown",
   "metadata": {},
   "source": [
    "##### Most pings\n",
    "Which shark had the most pings?"
   ]
  },
  {
   "cell_type": "code",
   "execution_count": null,
   "metadata": {
    "ExecuteTime": {
     "end_time": "2019-02-23T02:33:21.838513Z",
     "start_time": "2019-02-23T02:33:21.638982Z"
    }
   },
   "outputs": [],
   "source": []
  },
  {
   "cell_type": "markdown",
   "metadata": {},
   "source": [
    "##### Longest duration pinger\n",
    "Which shark has been pinging the longest, and how long has that been?"
   ]
  },
  {
   "cell_type": "code",
   "execution_count": null,
   "metadata": {
    "ExecuteTime": {
     "end_time": "2019-02-23T02:33:21.901753Z",
     "start_time": "2019-02-23T02:33:21.839513Z"
    }
   },
   "outputs": [],
   "source": []
  },
  {
   "cell_type": "markdown",
   "metadata": {},
   "source": [
    "##### Individual count by species\n",
    "Which shark species has the most individual sharks tagged?"
   ]
  },
  {
   "cell_type": "code",
   "execution_count": null,
   "metadata": {
    "ExecuteTime": {
     "end_time": "2019-02-23T02:33:22.063151Z",
     "start_time": "2019-02-23T02:33:21.902750Z"
    }
   },
   "outputs": [],
   "source": []
  },
  {
   "cell_type": "markdown",
   "metadata": {},
   "source": [
    "##### Average length/weight by species\n",
    "What is the average length and weight of each shark species?"
   ]
  },
  {
   "cell_type": "code",
   "execution_count": null,
   "metadata": {
    "ExecuteTime": {
     "end_time": "2019-02-23T02:33:22.164115Z",
     "start_time": "2019-02-23T02:33:22.065137Z"
    }
   },
   "outputs": [],
   "source": []
  },
  {
   "cell_type": "markdown",
   "metadata": {},
   "source": [
    "##### Biggest geographic box\n",
    "Which shark has the biggest geographic box (largest area calculated from min lat/lon to max lat/lon, not dist_traveled)?"
   ]
  },
  {
   "cell_type": "code",
   "execution_count": null,
   "metadata": {
    "ExecuteTime": {
     "end_time": "2019-02-23T02:33:22.325111Z",
     "start_time": "2019-02-23T02:33:22.165108Z"
    }
   },
   "outputs": [],
   "source": []
  },
  {
   "cell_type": "markdown",
   "metadata": {},
   "source": [
    "#### Hard questions\n",
    "\n",
    " 1. Use folium to plot the first ping, last ping, and a line connecting each ping for the Tiger shark Emma.  Make the first ping marker a 'play' icon, and last ping icon a 'stop' icon.\n",
    " 2. Resample Emma data to have a daily lat/lon average, and interpolate missing results.  Plot a marker for each day, and color them blue for hard data, green for interpolated lat/lons\n",
    " 3. Resample all shark data for daily lat/lon averages, and interpolate missing results\n",
    " 4. Calculate distance between Emma and other sharks on a daily basis\n",
    " 5. Identify the shark that has the shortest average distance to Emma per day (minimum 50 days of pings with Emma)\n",
    " 6. Plot Emma and her closest buddy: interpolated results for each in green, Emma as circle icons and her buddy as square icons"
   ]
  },
  {
   "cell_type": "markdown",
   "metadata": {},
   "source": [
    "##### Plot Emma locations\n",
    "Plot the ping locations for the shark named Emma as a `PolyLine` in folium.  Include the first and last ping location as markers."
   ]
  },
  {
   "cell_type": "code",
   "execution_count": null,
   "metadata": {
    "ExecuteTime": {
     "end_time": "2019-02-23T02:33:22.565497Z",
     "start_time": "2019-02-23T02:33:22.436186Z"
    }
   },
   "outputs": [],
   "source": []
  },
  {
   "cell_type": "markdown",
   "metadata": {},
   "source": [
    "##### Plot interpolated locs\n",
    "Resample the Emma locations on a per-day basis and interpolate missing locations.  Then, plot the daily markes in folium along with a `PolyLine`."
   ]
  },
  {
   "cell_type": "code",
   "execution_count": null,
   "metadata": {
    "ExecuteTime": {
     "end_time": "2019-02-23T02:33:23.286310Z",
     "start_time": "2019-02-23T02:33:23.277313Z"
    }
   },
   "outputs": [],
   "source": []
  },
  {
   "cell_type": "markdown",
   "metadata": {},
   "source": [
    "##### Resample all shark data\n",
    "Resample all shark data for daily lat/lon averages, and interpolate missing results"
   ]
  },
  {
   "cell_type": "code",
   "execution_count": null,
   "metadata": {
    "ExecuteTime": {
     "end_time": "2019-02-23T02:33:26.298171Z",
     "start_time": "2019-02-23T02:33:23.913944Z"
    }
   },
   "outputs": [],
   "source": []
  },
  {
   "cell_type": "markdown",
   "metadata": {},
   "source": [
    "##### Distance to Emma\n",
    "Identify the shark that has the shortest average distance to Emma per day"
   ]
  },
  {
   "cell_type": "code",
   "execution_count": null,
   "metadata": {
    "ExecuteTime": {
     "end_time": "2019-02-23T02:33:26.495109Z",
     "start_time": "2019-02-23T02:33:26.476115Z"
    }
   },
   "outputs": [],
   "source": []
  },
  {
   "cell_type": "markdown",
   "metadata": {},
   "source": [
    "##### Emma's buddy\n",
    "Identify the shark that has the shortest average distance to Emma per day (minimum 50 days of pings with Emma)"
   ]
  },
  {
   "cell_type": "code",
   "execution_count": null,
   "metadata": {
    "ExecuteTime": {
     "end_time": "2019-02-23T02:33:27.338157Z",
     "start_time": "2019-02-23T02:33:27.189078Z"
    }
   },
   "outputs": [],
   "source": []
  },
  {
   "cell_type": "markdown",
   "metadata": {},
   "source": [
    "##### Plot Emma and Buddy\n",
    "Plot Emma and her closest buddy on folium.  Emma should be blue/green (known/interpolated) and her buddy should be red/black (known/interpolated)."
   ]
  },
  {
   "cell_type": "code",
   "execution_count": null,
   "metadata": {
    "ExecuteTime": {
     "end_time": "2019-02-23T02:33:27.685365Z",
     "start_time": "2019-02-23T02:33:27.558416Z"
    }
   },
   "outputs": [],
   "source": []
  }
 ],
 "metadata": {
  "kernelspec": {
   "display_name": "Python3.6",
   "language": "python",
   "name": "py36"
  },
  "language_info": {
   "codemirror_mode": {
    "name": "ipython",
    "version": 3
   },
   "file_extension": ".py",
   "mimetype": "text/x-python",
   "name": "python",
   "nbconvert_exporter": "python",
   "pygments_lexer": "ipython3",
   "version": "3.7.2"
  },
  "toc": {
   "base_numbering": 1,
   "nav_menu": {},
   "number_sections": true,
   "sideBar": true,
   "skip_h1_title": false,
   "title_cell": "Table of Contents",
   "title_sidebar": "Contents",
   "toc_cell": false,
   "toc_position": {
    "height": "calc(100% - 180px)",
    "left": "10px",
    "top": "150px",
    "width": "256px"
   },
   "toc_section_display": true,
   "toc_window_display": true
  }
 },
 "nbformat": 4,
 "nbformat_minor": 2
}
